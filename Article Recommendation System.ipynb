{
 "cells": [
  {
   "cell_type": "code",
   "execution_count": 1,
   "id": "65da5022",
   "metadata": {},
   "outputs": [],
   "source": [
    "# Article Recommendation System"
   ]
  },
  {
   "cell_type": "code",
   "execution_count": 2,
   "id": "5f6017ae",
   "metadata": {},
   "outputs": [],
   "source": [
    "# https://thecleverprogrammer.com/2021/11/10/article-recommendation-system-with-machine-learning/"
   ]
  },
  {
   "cell_type": "code",
   "execution_count": 3,
   "id": "2e5132ab",
   "metadata": {},
   "outputs": [
    {
     "data": {
      "text/html": [
       "<div>\n",
       "<style scoped>\n",
       "    .dataframe tbody tr th:only-of-type {\n",
       "        vertical-align: middle;\n",
       "    }\n",
       "\n",
       "    .dataframe tbody tr th {\n",
       "        vertical-align: top;\n",
       "    }\n",
       "\n",
       "    .dataframe thead th {\n",
       "        text-align: right;\n",
       "    }\n",
       "</style>\n",
       "<table border=\"1\" class=\"dataframe\">\n",
       "  <thead>\n",
       "    <tr style=\"text-align: right;\">\n",
       "      <th></th>\n",
       "      <th>Article</th>\n",
       "      <th>Title</th>\n",
       "    </tr>\n",
       "  </thead>\n",
       "  <tbody>\n",
       "    <tr>\n",
       "      <th>0</th>\n",
       "      <td>Data analysis is the process of inspecting and...</td>\n",
       "      <td>Best Books to Learn Data Analysis</td>\n",
       "    </tr>\n",
       "    <tr>\n",
       "      <th>1</th>\n",
       "      <td>The performance of a machine learning algorith...</td>\n",
       "      <td>Assumptions of Machine Learning Algorithms</td>\n",
       "    </tr>\n",
       "    <tr>\n",
       "      <th>2</th>\n",
       "      <td>You must have seen the news divided into categ...</td>\n",
       "      <td>News Classification with Machine Learning</td>\n",
       "    </tr>\n",
       "    <tr>\n",
       "      <th>3</th>\n",
       "      <td>When there are only two classes in a classific...</td>\n",
       "      <td>Multiclass Classification Algorithms in Machin...</td>\n",
       "    </tr>\n",
       "    <tr>\n",
       "      <th>4</th>\n",
       "      <td>The Multinomial Naive Bayes is one of the vari...</td>\n",
       "      <td>Multinomial Naive Bayes in Machine Learning</td>\n",
       "    </tr>\n",
       "  </tbody>\n",
       "</table>\n",
       "</div>"
      ],
      "text/plain": [
       "                                             Article  \\\n",
       "0  Data analysis is the process of inspecting and...   \n",
       "1  The performance of a machine learning algorith...   \n",
       "2  You must have seen the news divided into categ...   \n",
       "3  When there are only two classes in a classific...   \n",
       "4  The Multinomial Naive Bayes is one of the vari...   \n",
       "\n",
       "                                               Title  \n",
       "0                  Best Books to Learn Data Analysis  \n",
       "1         Assumptions of Machine Learning Algorithms  \n",
       "2          News Classification with Machine Learning  \n",
       "3  Multiclass Classification Algorithms in Machin...  \n",
       "4        Multinomial Naive Bayes in Machine Learning  "
      ]
     },
     "execution_count": 3,
     "metadata": {},
     "output_type": "execute_result"
    }
   ],
   "source": [
    "import pandas as pd\n",
    "import numpy as np\n",
    "from sklearn.feature_extraction import text\n",
    "from sklearn.metrics.pairwise import cosine_similarity\n",
    "data = pd.read_csv(\"https://raw.githubusercontent.com/amankharwal/Website-data/master/articles.csv\", encoding='latin1')\n",
    "data.head()"
   ]
  },
  {
   "cell_type": "code",
   "execution_count": 4,
   "id": "4c12d82b",
   "metadata": {},
   "outputs": [
    {
     "data": {
      "text/plain": [
       "(34, 2)"
      ]
     },
     "execution_count": 4,
     "metadata": {},
     "output_type": "execute_result"
    }
   ],
   "source": [
    "data.shape"
   ]
  },
  {
   "cell_type": "code",
   "execution_count": 5,
   "id": "7f06f369",
   "metadata": {},
   "outputs": [
    {
     "data": {
      "text/plain": [
       "Article    object\n",
       "Title      object\n",
       "dtype: object"
      ]
     },
     "execution_count": 5,
     "metadata": {},
     "output_type": "execute_result"
    }
   ],
   "source": [
    "data.dtypes"
   ]
  },
  {
   "cell_type": "code",
   "execution_count": 6,
   "id": "c24a8740",
   "metadata": {},
   "outputs": [
    {
     "data": {
      "text/plain": [
       "Index(['Article', 'Title'], dtype='object')"
      ]
     },
     "execution_count": 6,
     "metadata": {},
     "output_type": "execute_result"
    }
   ],
   "source": [
    "data.columns"
   ]
  },
  {
   "cell_type": "code",
   "execution_count": 7,
   "id": "ee09de57",
   "metadata": {},
   "outputs": [
    {
     "data": {
      "text/plain": [
       "<bound method DataFrame.info of                                               Article  \\\n",
       "0   Data analysis is the process of inspecting and...   \n",
       "1   The performance of a machine learning algorith...   \n",
       "2   You must have seen the news divided into categ...   \n",
       "3   When there are only two classes in a classific...   \n",
       "4   The Multinomial Naive Bayes is one of the vari...   \n",
       "5   You must have seen the news divided into categ...   \n",
       "6   Natural language processing or NLP is a subfie...   \n",
       "7   By using a third-party application or API to m...   \n",
       "8   Twitter is one of the most popular social medi...   \n",
       "9   The squid game is currently one of the most tr...   \n",
       "10  Computer Vision is one of the fields of Artifi...   \n",
       "11  Python is one of the most popular programming ...   \n",
       "12  API stands for Application Programming Interfa...   \n",
       "13  A voice recorder is found in every smartphone ...   \n",
       "14  Language detection is a natural language proce...   \n",
       "15  A Multilayer Perceptron or MLP is one of the s...   \n",
       "16  A neural network is a subset of machine learni...   \n",
       "17  Clustering is the task of identifying similar ...   \n",
       "18  Dictionaries are one of the most useful data s...   \n",
       "19  Health Insurance is a type of insurance that c...   \n",
       "20  The mean shift algorithm is a nonparametric cl...   \n",
       "21  The BIRCH is a Clustering algorithm in machine...   \n",
       "22  Agglomerative clustering is based on hierarchi...   \n",
       "23  DBSCAN stands for Density-Based Spatial Cluste...   \n",
       "24  The K-Means Clustering is a clustering algorit...   \n",
       "25  A scatter plot is one of the most useful ways ...   \n",
       "26  Recently, we have seen an increase of more tha...   \n",
       "27  Apple has just announced the date of its Septe...   \n",
       "28  Deep learning is a subset of machine learning ...   \n",
       "29  Many machine learning algorithms can be used t...   \n",
       "30  Almost every app or website you visit today sh...   \n",
       "31  There are so many algorithms in machine learni...   \n",
       "32  In machine learning, the Naive Bayes algorithm...   \n",
       "33  Swapping elements of a Python list is very sim...   \n",
       "\n",
       "                                                Title  \n",
       "0                   Best Books to Learn Data Analysis  \n",
       "1          Assumptions of Machine Learning Algorithms  \n",
       "2           News Classification with Machine Learning  \n",
       "3   Multiclass Classification Algorithms in Machin...  \n",
       "4         Multinomial Naive Bayes in Machine Learning  \n",
       "5           News Classification with Machine Learning  \n",
       "6                             Best Books to Learn NLP  \n",
       "7                Send Instagram Messages using Python  \n",
       "8      Pfizer Vaccine Sentiment Analysis using Python  \n",
       "9          Squid Game Sentiment Analysis using Python  \n",
       "10                Best Books to Learn Computer Vision  \n",
       "11                     Best Resources to Learn Python  \n",
       "12               Best Python Frameworks to Build APIs  \n",
       "13                        Voice Recorder using Python  \n",
       "14           Language Detection with Machine Learning  \n",
       "15          Multilayer Perceptron in Machine Learning  \n",
       "16                           Types of Neural Networks  \n",
       "17          Clustering Algorithms in Machine Learning  \n",
       "18  For Loop Over Keys and Values in a Python Dict...  \n",
       "19  Health Insurance Premium Prediction with Machi...  \n",
       "20          Mean Shift Clustering in Machine Learning  \n",
       "21               BIRCH Clustering in Machine Learning  \n",
       "22       Agglomerative Clustering in Machine Learning  \n",
       "23              DBSCAN Clustering in Machine Learning  \n",
       "24             K-Means Clustering in Machine Learning  \n",
       "25                 Animated Scatter Plot using Python  \n",
       "26  Tata Motors Stock Price Prediction with Machin...  \n",
       "27  Apple Stock Price Prediction with Machine Lear...  \n",
       "28                  Best Books to Learn Deep Learning  \n",
       "29                      Applications of Deep Learning  \n",
       "30             Introduction to Recommendation Systems  \n",
       "31  Use Cases of Different Machine Learning Algori...  \n",
       "32          Naive Bayes Algorithm in Machine Learning  \n",
       "33                        Swap Items of a Python List  >"
      ]
     },
     "execution_count": 7,
     "metadata": {},
     "output_type": "execute_result"
    }
   ],
   "source": [
    "data.info"
   ]
  },
  {
   "cell_type": "code",
   "execution_count": 8,
   "id": "205dc946",
   "metadata": {},
   "outputs": [
    {
     "data": {
      "text/plain": [
       "<bound method NDFrame.describe of                                               Article  \\\n",
       "0   Data analysis is the process of inspecting and...   \n",
       "1   The performance of a machine learning algorith...   \n",
       "2   You must have seen the news divided into categ...   \n",
       "3   When there are only two classes in a classific...   \n",
       "4   The Multinomial Naive Bayes is one of the vari...   \n",
       "5   You must have seen the news divided into categ...   \n",
       "6   Natural language processing or NLP is a subfie...   \n",
       "7   By using a third-party application or API to m...   \n",
       "8   Twitter is one of the most popular social medi...   \n",
       "9   The squid game is currently one of the most tr...   \n",
       "10  Computer Vision is one of the fields of Artifi...   \n",
       "11  Python is one of the most popular programming ...   \n",
       "12  API stands for Application Programming Interfa...   \n",
       "13  A voice recorder is found in every smartphone ...   \n",
       "14  Language detection is a natural language proce...   \n",
       "15  A Multilayer Perceptron or MLP is one of the s...   \n",
       "16  A neural network is a subset of machine learni...   \n",
       "17  Clustering is the task of identifying similar ...   \n",
       "18  Dictionaries are one of the most useful data s...   \n",
       "19  Health Insurance is a type of insurance that c...   \n",
       "20  The mean shift algorithm is a nonparametric cl...   \n",
       "21  The BIRCH is a Clustering algorithm in machine...   \n",
       "22  Agglomerative clustering is based on hierarchi...   \n",
       "23  DBSCAN stands for Density-Based Spatial Cluste...   \n",
       "24  The K-Means Clustering is a clustering algorit...   \n",
       "25  A scatter plot is one of the most useful ways ...   \n",
       "26  Recently, we have seen an increase of more tha...   \n",
       "27  Apple has just announced the date of its Septe...   \n",
       "28  Deep learning is a subset of machine learning ...   \n",
       "29  Many machine learning algorithms can be used t...   \n",
       "30  Almost every app or website you visit today sh...   \n",
       "31  There are so many algorithms in machine learni...   \n",
       "32  In machine learning, the Naive Bayes algorithm...   \n",
       "33  Swapping elements of a Python list is very sim...   \n",
       "\n",
       "                                                Title  \n",
       "0                   Best Books to Learn Data Analysis  \n",
       "1          Assumptions of Machine Learning Algorithms  \n",
       "2           News Classification with Machine Learning  \n",
       "3   Multiclass Classification Algorithms in Machin...  \n",
       "4         Multinomial Naive Bayes in Machine Learning  \n",
       "5           News Classification with Machine Learning  \n",
       "6                             Best Books to Learn NLP  \n",
       "7                Send Instagram Messages using Python  \n",
       "8      Pfizer Vaccine Sentiment Analysis using Python  \n",
       "9          Squid Game Sentiment Analysis using Python  \n",
       "10                Best Books to Learn Computer Vision  \n",
       "11                     Best Resources to Learn Python  \n",
       "12               Best Python Frameworks to Build APIs  \n",
       "13                        Voice Recorder using Python  \n",
       "14           Language Detection with Machine Learning  \n",
       "15          Multilayer Perceptron in Machine Learning  \n",
       "16                           Types of Neural Networks  \n",
       "17          Clustering Algorithms in Machine Learning  \n",
       "18  For Loop Over Keys and Values in a Python Dict...  \n",
       "19  Health Insurance Premium Prediction with Machi...  \n",
       "20          Mean Shift Clustering in Machine Learning  \n",
       "21               BIRCH Clustering in Machine Learning  \n",
       "22       Agglomerative Clustering in Machine Learning  \n",
       "23              DBSCAN Clustering in Machine Learning  \n",
       "24             K-Means Clustering in Machine Learning  \n",
       "25                 Animated Scatter Plot using Python  \n",
       "26  Tata Motors Stock Price Prediction with Machin...  \n",
       "27  Apple Stock Price Prediction with Machine Lear...  \n",
       "28                  Best Books to Learn Deep Learning  \n",
       "29                      Applications of Deep Learning  \n",
       "30             Introduction to Recommendation Systems  \n",
       "31  Use Cases of Different Machine Learning Algori...  \n",
       "32          Naive Bayes Algorithm in Machine Learning  \n",
       "33                        Swap Items of a Python List  >"
      ]
     },
     "execution_count": 8,
     "metadata": {},
     "output_type": "execute_result"
    }
   ],
   "source": [
    "data.describe"
   ]
  },
  {
   "cell_type": "markdown",
   "id": "614f7cae",
   "metadata": {},
   "source": [
    "This dataset is completely ready to use to create a recommender system, so let’s use the cosine similarity algorithm and write a Python function to recommend articles:"
   ]
  },
  {
   "cell_type": "code",
   "execution_count": 10,
   "id": "6f145ac3",
   "metadata": {},
   "outputs": [
    {
     "ename": "InvalidParameterError",
     "evalue": "The 'input' parameter of TfidfVectorizer must be a str among {'content', 'file', 'filename'}. Got ['Data analysis is the process of inspecting and exploring data generated by a particular population to find the information needed to make decisions and draw conclusions. With the use of data in decision making, most businesses today need data analysts. So, if you want to know about the best books to learn data analysis, this article is for you. In this article, I will introduce you to some of the best books to learn data analysis.', 'The performance of a machine learning algorithm on a particular dataset often depends on whether the features of the dataset satisfies the assumptions of that machine learning algorithm. Not all machine learning algorithms have assumptions that differentiate them from each other. So, in this article, I will take you through the assumptions of machine learning algorithms.', \"You must have seen the news divided into categories when you go to a news website. Some of the popular categories that you'll see on almost any news website are tech, entertainment, and sports. If you want to know how to classify news categories using machine learning, this article is for you. In this article, I will walk you through the task of news classification with machine learning using Python.\", 'When there are only two classes in a classification problem, this is the problem of binary classification, just like that, classification with more than two classes is called multiclass classification. If you want to know the best machine learning algorithms for multiclass classification, this article is for you. In this article, I will introduce you to some of the best multiclass classification algorithms in machine learning.', 'The Multinomial Naive Bayes is one of the variants of the Naive Bayes algorithm in machine learning. It is very useful when the data is distributed in a multinomial way. This algorithm is especially preferred in classification tasks based on natural language processing. Spam detection is one of the applications where this algorithm can be used. If you have never used the Multinomial Naive Bayes algorithm before, this article is for you. In this article, I will take you through an introduction to the Multinomial Naive Bayes algorithm in machine learning and its implementation using Python.', \"You must have seen the news divided into categories when you go to a news website. Some of the popular categories that you'll see on almost any news website are tech, entertainment, and sports. If you want to know how to classify news categories using machine learning, this article is for you. In this article, I will walk you through the task of news classification with machine learning using Python.\", 'Natural language processing or NLP is a subfield of artificial intelligence where we build applications to interact with humans. One of the examples of NLP applications is a chatbot which is used by so many websites to solve some of the common issues people face when taking their services. So, if you are looking for some of the best books for learning NLP, this article is for you. In this article, I will introduce you to the best books for learning NLP.', 'By using a third-party application or API to manage the functionality of an application, you are automating the application. If you send messages, post photos or videos, or follow someone without opening your Instagram directly, that means you are automating Instagram. So, if you want to learn how to send Instagram messages automatically using Python, this article is for you. In this article, I will present a tutorial on how to send Instagram messages using Python.', 'Twitter is one of the most popular social media apps where people are free to share their opinions on any topic. There are so many tweets recorded about Pfizer vaccine awareness that can be used to analyze the sentiments of people about the Pfizer vaccine. So, if you want to learn how to use a Twitter dataset for sentiment analysis, this article is for you. In this article, I will walk you through the task of Pfizer vaccine sentiment analysis using Python.', 'The squid game is currently one of the most trending shows on NetFlix. It is so much trending that people who have never watched any web series before are also watching it. One of the reasons behind this is the reviews and opinions of viewers on social media. So if you want to learn how to analyze the sentiments of people about Squid Game, then this article is for you. In this article, I will take you through the task of Squid Game sentiment analysis using Python.', 'Computer Vision is one of the fields of Artificial Intelligence that enables a computer to find meaningful information from digital images, videos and other visual sources of data. The Face ID found in iPhones is one of the best examples of the applications of computer vision. If you are looking for the best books to learn computer vision, this article is for you. In this article, I will take you through some of the best books to learn computer vision.', \"Python is one of the most popular programming languages today. It is preferred by data scientists and web developers and is currently used by companies like Google, Netflix, Facebook, Uber, Goldman Sachs, Paypal, and many more. There is a great demand for data science professionals today, and Python is one of the most important skills any data scientist should have. So, if you are looking for the best resources to learn Python, this article is for you. In this article, I'm going to introduce you to some of the best resources for learning the Python programming language.\", 'API stands for Application Programming Interface, it is a way to connect computers or computer programs. Simply put, you can think of it as software that helps in the development of other software. Many companies are looking for API developers today, so if you want to become an API developer, you need to educate yourself about API development. Python has many frameworks for building APIs, if you want to know about the best Python frameworks to build APIs, this article is for you. In this article, I will introduce you to the best Python frameworks to build APIs.', 'A voice recorder is found in every smartphone and computer today. It is an application that is used to record sound and save it in a specific file format, which can be listened to and transferred to another device. If you want to know how to make a voice recorder using Python, this article is for you. In this article, I will walk you through how to make a voice recorder using Python.', 'Language detection is a natural language processing task where we need to identify the language of a text or document. Using machine learning for language detection was a difficult task a few years ago because there was not a lot of data on languages, but with the availability of data with ease, several powerful machine learning models are already available for language detection. So, if you want to learn how to train a machine learning model for language detection, then this article is for you. In this article, I will walk you through the task of language detection with machine learning using Python.', 'A Multilayer Perceptron or MLP is one of the simplest feed-forward neural networks. Multilayer Perceptrons are the types of neural networks which are bidirectional as they foreword propagation of the inputs and backward propagation of the weights. If you want to learn about Multiplayer Perceptron in machine learning, then this article is for you. In this article, I will take you through an introduction to Multilayer Perceptron and its implementation using Python.', \"A neural network is a subset of machine learning that mimics the workings of a human brain while solving a complex problem based on deep learning. Neural networks are inspired by neurons found in the human brain. In this article, I'm going to introduce you to the types of neural networks you need to know as a Data Scientist.\", 'Clustering is the task of identifying similar instances based on similar features and assigning them to clusters based on similar instances. It sounds like classification where each insurance is also assigned to a group, but unlike classification, clustering is based on unsupervised learning. Here the dataset you deal with doesn?t have labels, so we cannot use a classification algorithm on a dataset without labels, this is where clustering algorithms comes in. If you want to learn all the clustering algorithms that you should know about as a data scientist, this article is for you. In this article, I will take you through an introduction to all clustering algorithms in machine learning.', \"Dictionaries are one of the most useful data structures in the Python programming language. A Python dictionary is used to store data in the form of key and value pairs. Most Python newbies get confused when iterating through a dictionary because the data is stored in key and value pairs. So if you want to learn how to use a for loop on the keys and values of a Python dictionary, this article is for you. In this article, I'll show you a tutorial on using a for loop on keys and values in a Python dictionary.\", 'Health Insurance is a type of insurance that covers medical expenses. A person who has taken a health insurance policy gets health insurance cover by paying a particular premium amount. There are a lot of factors that determine the premium of health insurance. So if you want to learn how we can use machine learning for predicting the premium of health insurance, then this article is for you. In this article, I will take you through the task of health insurance premium prediction with machine learning using Python.', \"The mean shift algorithm is a nonparametric clustering algorithm that does not require prior knowledge of the number of clusters. If you've never used the Mean Shift clustering algorithm, this article is for you. In this article, I'll take you through an introduction to Mean Shift clustering in Machine Learning and its implementation using Python.\", 'The BIRCH is a Clustering algorithm in machine learning. It stands for Balanced Reducing and Clustering using Hierarchies. In this article, I will take you through the concept of BIRCH Clustering in Machine Learning and its implementation using Python.', \"Agglomerative clustering is based on hierarchical clustering which is used to form a hierarchy of clusters. It is one of the types of clustering algorithms in machine learning. Unlike the K-Means and DBSCAN clustering algorithms, it is not very common but it is very efficient to form a hierarchy of clusters. If you've never used the agglomerative clustering algorithm before, this article is for you. In this article, I'll give you an introduction to agglomerative clustering in machine learning and its implementation using Python.\", 'DBSCAN stands for Density-Based Spatial Clustering for Applications with Noise. This is an unsupervised clustering algorithm that is used to find high-density base samples to extend the clusters. In this article, I will introduce you to DBSCAN clustering in Machine Learning using Python.', 'The K-Means Clustering is a clustering algorithm capable of clustering an unlabeled dataset quickly and efficiently in just a very few iterations. In this article, I will take you through the K-Means clustering in machine learning using Python.', 'A scatter plot is one of the most useful ways to analyze the relationship between two features. You must have used a scatter plot before if you are learning data science but have you ever tried to create an animated scatter plot using Python? If you want to learn how to visualize an animated scatter plot, this article is for you. In this article, I will take you through a tutorial on visualizing animated scatter plot using Python.', \"Recently, we have seen an increase of more than 10 per cent in the stock price of Tata Motors. This has resulted in more attention to Tata Group stocks from all over India. But again today, we are witnessing a fall in the prices of Tata Motors' shares, which can be a negative signal for investors. So, if you want to learn how to analyze and predict the Tata Motors stock price, this article is for you. In this article, I will walk you through the task of Tata Motors stock price prediction with machine learning using Python.\", 'Apple has just announced the date of its September event when it is about to launch the new iPhone 13. It is currently the centre of attention on the stock market. Stock market analysis is one of the popular applications of machine learning because we can predict stock prices using machine learning. So if you want to learn how to predict the stock prices of Apple with machine learning, this article is for you. In this article, I will walk you through the task of Apple stock price prediction with machine learning using Python.', 'Deep learning is a subset of machine learning in which we use artificial neural networks to train models to solve complex problems where we need a large amount of data compared to other machine learning algorithms. If you want to become a machine learning engineer, you must learn deep learning. So, if you are looking for the best books for learning deep learning, this article is for you. In this article, I will introduce you to some of the best books to learn deep learning.', 'Many machine learning algorithms can be used to solve complex problems that require a large amount of data with a large number of features, but deep learning can outperform all algorithms. So to understand where we can use deep learning techniques, in this article, I will introduce you to the applications of deep learning.', \"Almost every app or website you visit today shows you what may interest you the most. For example, if you've been using YouTube for a long time, you must have seen content from your favourite creators or the type of videos you like to watch every time you visit YouTube. It is nothing more than a recommendation system. Recommendation systems are one of the most widely used applications in data science, and as a data scientist, you should know everything about recommender systems. In this article, I will therefore give you an introduction to recommendation systems in data science.\", 'There are so many algorithms in machine learning that you need to learn. Understanding the use cases of every machine learning algorithm is very difficult for every data science beginner, but it is very important as it helps you to choose the most suitable algorithm for your problem. So if you want to learn about the use cases of different machine learning algorithms, then this article is for you. In this article, I will take you through the use cases of some of the popular machine learning algorithms.', \"In machine learning, the Naive Bayes algorithm is based on Bayes' theorem with na\\x8bve assumptions. This makes it easier to train a model by assuming that the features are independent of each other. In this article, I will give you an introduction to the Naive Bayes algorithm in Machine Learning and its implementation using Python.\", \"Swapping elements of a Python list is very similar to swapping values of the variables in Python. We use the index of the items to swap the position of the items, just like variables in Python. So if you want to learn how to swap the position of items in a Python list, this article is for you. In this article, I'll show you a tutorial on how to swap items in a Python list.\"] instead.",
     "output_type": "error",
     "traceback": [
      "\u001b[1;31m---------------------------------------------------------------------------\u001b[0m",
      "\u001b[1;31mInvalidParameterError\u001b[0m                     Traceback (most recent call last)",
      "Cell \u001b[1;32mIn[10], line 3\u001b[0m\n\u001b[0;32m      1\u001b[0m articles \u001b[38;5;241m=\u001b[39m data[\u001b[38;5;124m\"\u001b[39m\u001b[38;5;124mArticle\u001b[39m\u001b[38;5;124m\"\u001b[39m]\u001b[38;5;241m.\u001b[39mtolist()\n\u001b[0;32m      2\u001b[0m uni_tfidf \u001b[38;5;241m=\u001b[39m text\u001b[38;5;241m.\u001b[39mTfidfVectorizer(\u001b[38;5;28minput\u001b[39m\u001b[38;5;241m=\u001b[39marticles, stop_words\u001b[38;5;241m=\u001b[39m\u001b[38;5;124m\"\u001b[39m\u001b[38;5;124menglish\u001b[39m\u001b[38;5;124m\"\u001b[39m)\n\u001b[1;32m----> 3\u001b[0m uni_matrix \u001b[38;5;241m=\u001b[39m \u001b[43muni_tfidf\u001b[49m\u001b[38;5;241;43m.\u001b[39;49m\u001b[43mfit_transform\u001b[49m\u001b[43m(\u001b[49m\u001b[43marticles\u001b[49m\u001b[43m)\u001b[49m\n\u001b[0;32m      4\u001b[0m uni_sim \u001b[38;5;241m=\u001b[39m cosine_similarity(uni_matrix)\n\u001b[0;32m      5\u001b[0m \u001b[38;5;28;01mdef\u001b[39;00m \u001b[38;5;21mrecommend_articles\u001b[39m(x):\n",
      "File \u001b[1;32m~\\anaconda3\\lib\\site-packages\\sklearn\\feature_extraction\\text.py:2126\u001b[0m, in \u001b[0;36mTfidfVectorizer.fit_transform\u001b[1;34m(self, raw_documents, y)\u001b[0m\n\u001b[0;32m   2119\u001b[0m \u001b[38;5;28mself\u001b[39m\u001b[38;5;241m.\u001b[39m_check_params()\n\u001b[0;32m   2120\u001b[0m \u001b[38;5;28mself\u001b[39m\u001b[38;5;241m.\u001b[39m_tfidf \u001b[38;5;241m=\u001b[39m TfidfTransformer(\n\u001b[0;32m   2121\u001b[0m     norm\u001b[38;5;241m=\u001b[39m\u001b[38;5;28mself\u001b[39m\u001b[38;5;241m.\u001b[39mnorm,\n\u001b[0;32m   2122\u001b[0m     use_idf\u001b[38;5;241m=\u001b[39m\u001b[38;5;28mself\u001b[39m\u001b[38;5;241m.\u001b[39muse_idf,\n\u001b[0;32m   2123\u001b[0m     smooth_idf\u001b[38;5;241m=\u001b[39m\u001b[38;5;28mself\u001b[39m\u001b[38;5;241m.\u001b[39msmooth_idf,\n\u001b[0;32m   2124\u001b[0m     sublinear_tf\u001b[38;5;241m=\u001b[39m\u001b[38;5;28mself\u001b[39m\u001b[38;5;241m.\u001b[39msublinear_tf,\n\u001b[0;32m   2125\u001b[0m )\n\u001b[1;32m-> 2126\u001b[0m X \u001b[38;5;241m=\u001b[39m \u001b[38;5;28;43msuper\u001b[39;49m\u001b[43m(\u001b[49m\u001b[43m)\u001b[49m\u001b[38;5;241;43m.\u001b[39;49m\u001b[43mfit_transform\u001b[49m\u001b[43m(\u001b[49m\u001b[43mraw_documents\u001b[49m\u001b[43m)\u001b[49m\n\u001b[0;32m   2127\u001b[0m \u001b[38;5;28mself\u001b[39m\u001b[38;5;241m.\u001b[39m_tfidf\u001b[38;5;241m.\u001b[39mfit(X)\n\u001b[0;32m   2128\u001b[0m \u001b[38;5;66;03m# X is already a transformed view of raw_documents so\u001b[39;00m\n\u001b[0;32m   2129\u001b[0m \u001b[38;5;66;03m# we set copy to False\u001b[39;00m\n",
      "File \u001b[1;32m~\\anaconda3\\lib\\site-packages\\sklearn\\base.py:1144\u001b[0m, in \u001b[0;36m_fit_context.<locals>.decorator.<locals>.wrapper\u001b[1;34m(estimator, *args, **kwargs)\u001b[0m\n\u001b[0;32m   1139\u001b[0m partial_fit_and_fitted \u001b[38;5;241m=\u001b[39m (\n\u001b[0;32m   1140\u001b[0m     fit_method\u001b[38;5;241m.\u001b[39m\u001b[38;5;18m__name__\u001b[39m \u001b[38;5;241m==\u001b[39m \u001b[38;5;124m\"\u001b[39m\u001b[38;5;124mpartial_fit\u001b[39m\u001b[38;5;124m\"\u001b[39m \u001b[38;5;129;01mand\u001b[39;00m _is_fitted(estimator)\n\u001b[0;32m   1141\u001b[0m )\n\u001b[0;32m   1143\u001b[0m \u001b[38;5;28;01mif\u001b[39;00m \u001b[38;5;129;01mnot\u001b[39;00m global_skip_validation \u001b[38;5;129;01mand\u001b[39;00m \u001b[38;5;129;01mnot\u001b[39;00m partial_fit_and_fitted:\n\u001b[1;32m-> 1144\u001b[0m     \u001b[43mestimator\u001b[49m\u001b[38;5;241;43m.\u001b[39;49m\u001b[43m_validate_params\u001b[49m\u001b[43m(\u001b[49m\u001b[43m)\u001b[49m\n\u001b[0;32m   1146\u001b[0m \u001b[38;5;28;01mwith\u001b[39;00m config_context(\n\u001b[0;32m   1147\u001b[0m     skip_parameter_validation\u001b[38;5;241m=\u001b[39m(\n\u001b[0;32m   1148\u001b[0m         prefer_skip_nested_validation \u001b[38;5;129;01mor\u001b[39;00m global_skip_validation\n\u001b[0;32m   1149\u001b[0m     )\n\u001b[0;32m   1150\u001b[0m ):\n\u001b[0;32m   1151\u001b[0m     \u001b[38;5;28;01mreturn\u001b[39;00m fit_method(estimator, \u001b[38;5;241m*\u001b[39margs, \u001b[38;5;241m*\u001b[39m\u001b[38;5;241m*\u001b[39mkwargs)\n",
      "File \u001b[1;32m~\\anaconda3\\lib\\site-packages\\sklearn\\base.py:637\u001b[0m, in \u001b[0;36mBaseEstimator._validate_params\u001b[1;34m(self)\u001b[0m\n\u001b[0;32m    629\u001b[0m \u001b[38;5;28;01mdef\u001b[39;00m \u001b[38;5;21m_validate_params\u001b[39m(\u001b[38;5;28mself\u001b[39m):\n\u001b[0;32m    630\u001b[0m     \u001b[38;5;124;03m\"\"\"Validate types and values of constructor parameters\u001b[39;00m\n\u001b[0;32m    631\u001b[0m \n\u001b[0;32m    632\u001b[0m \u001b[38;5;124;03m    The expected type and values must be defined in the `_parameter_constraints`\u001b[39;00m\n\u001b[1;32m   (...)\u001b[0m\n\u001b[0;32m    635\u001b[0m \u001b[38;5;124;03m    accepted constraints.\u001b[39;00m\n\u001b[0;32m    636\u001b[0m \u001b[38;5;124;03m    \"\"\"\u001b[39;00m\n\u001b[1;32m--> 637\u001b[0m     \u001b[43mvalidate_parameter_constraints\u001b[49m\u001b[43m(\u001b[49m\n\u001b[0;32m    638\u001b[0m \u001b[43m        \u001b[49m\u001b[38;5;28;43mself\u001b[39;49m\u001b[38;5;241;43m.\u001b[39;49m\u001b[43m_parameter_constraints\u001b[49m\u001b[43m,\u001b[49m\n\u001b[0;32m    639\u001b[0m \u001b[43m        \u001b[49m\u001b[38;5;28;43mself\u001b[39;49m\u001b[38;5;241;43m.\u001b[39;49m\u001b[43mget_params\u001b[49m\u001b[43m(\u001b[49m\u001b[43mdeep\u001b[49m\u001b[38;5;241;43m=\u001b[39;49m\u001b[38;5;28;43;01mFalse\u001b[39;49;00m\u001b[43m)\u001b[49m\u001b[43m,\u001b[49m\n\u001b[0;32m    640\u001b[0m \u001b[43m        \u001b[49m\u001b[43mcaller_name\u001b[49m\u001b[38;5;241;43m=\u001b[39;49m\u001b[38;5;28;43mself\u001b[39;49m\u001b[38;5;241;43m.\u001b[39;49m\u001b[38;5;18;43m__class__\u001b[39;49m\u001b[38;5;241;43m.\u001b[39;49m\u001b[38;5;18;43m__name__\u001b[39;49m\u001b[43m,\u001b[49m\n\u001b[0;32m    641\u001b[0m \u001b[43m    \u001b[49m\u001b[43m)\u001b[49m\n",
      "File \u001b[1;32m~\\anaconda3\\lib\\site-packages\\sklearn\\utils\\_param_validation.py:95\u001b[0m, in \u001b[0;36mvalidate_parameter_constraints\u001b[1;34m(parameter_constraints, params, caller_name)\u001b[0m\n\u001b[0;32m     89\u001b[0m \u001b[38;5;28;01melse\u001b[39;00m:\n\u001b[0;32m     90\u001b[0m     constraints_str \u001b[38;5;241m=\u001b[39m (\n\u001b[0;32m     91\u001b[0m         \u001b[38;5;124mf\u001b[39m\u001b[38;5;124m\"\u001b[39m\u001b[38;5;132;01m{\u001b[39;00m\u001b[38;5;124m'\u001b[39m\u001b[38;5;124m, \u001b[39m\u001b[38;5;124m'\u001b[39m\u001b[38;5;241m.\u001b[39mjoin([\u001b[38;5;28mstr\u001b[39m(c) \u001b[38;5;28;01mfor\u001b[39;00m c \u001b[38;5;129;01min\u001b[39;00m constraints[:\u001b[38;5;241m-\u001b[39m\u001b[38;5;241m1\u001b[39m]])\u001b[38;5;132;01m}\u001b[39;00m\u001b[38;5;124m or\u001b[39m\u001b[38;5;124m\"\u001b[39m\n\u001b[0;32m     92\u001b[0m         \u001b[38;5;124mf\u001b[39m\u001b[38;5;124m\"\u001b[39m\u001b[38;5;124m \u001b[39m\u001b[38;5;132;01m{\u001b[39;00mconstraints[\u001b[38;5;241m-\u001b[39m\u001b[38;5;241m1\u001b[39m]\u001b[38;5;132;01m}\u001b[39;00m\u001b[38;5;124m\"\u001b[39m\n\u001b[0;32m     93\u001b[0m     )\n\u001b[1;32m---> 95\u001b[0m \u001b[38;5;28;01mraise\u001b[39;00m InvalidParameterError(\n\u001b[0;32m     96\u001b[0m     \u001b[38;5;124mf\u001b[39m\u001b[38;5;124m\"\u001b[39m\u001b[38;5;124mThe \u001b[39m\u001b[38;5;132;01m{\u001b[39;00mparam_name\u001b[38;5;132;01m!r}\u001b[39;00m\u001b[38;5;124m parameter of \u001b[39m\u001b[38;5;132;01m{\u001b[39;00mcaller_name\u001b[38;5;132;01m}\u001b[39;00m\u001b[38;5;124m must be\u001b[39m\u001b[38;5;124m\"\u001b[39m\n\u001b[0;32m     97\u001b[0m     \u001b[38;5;124mf\u001b[39m\u001b[38;5;124m\"\u001b[39m\u001b[38;5;124m \u001b[39m\u001b[38;5;132;01m{\u001b[39;00mconstraints_str\u001b[38;5;132;01m}\u001b[39;00m\u001b[38;5;124m. Got \u001b[39m\u001b[38;5;132;01m{\u001b[39;00mparam_val\u001b[38;5;132;01m!r}\u001b[39;00m\u001b[38;5;124m instead.\u001b[39m\u001b[38;5;124m\"\u001b[39m\n\u001b[0;32m     98\u001b[0m )\n",
      "\u001b[1;31mInvalidParameterError\u001b[0m: The 'input' parameter of TfidfVectorizer must be a str among {'content', 'file', 'filename'}. Got ['Data analysis is the process of inspecting and exploring data generated by a particular population to find the information needed to make decisions and draw conclusions. With the use of data in decision making, most businesses today need data analysts. So, if you want to know about the best books to learn data analysis, this article is for you. In this article, I will introduce you to some of the best books to learn data analysis.', 'The performance of a machine learning algorithm on a particular dataset often depends on whether the features of the dataset satisfies the assumptions of that machine learning algorithm. Not all machine learning algorithms have assumptions that differentiate them from each other. So, in this article, I will take you through the assumptions of machine learning algorithms.', \"You must have seen the news divided into categories when you go to a news website. Some of the popular categories that you'll see on almost any news website are tech, entertainment, and sports. If you want to know how to classify news categories using machine learning, this article is for you. In this article, I will walk you through the task of news classification with machine learning using Python.\", 'When there are only two classes in a classification problem, this is the problem of binary classification, just like that, classification with more than two classes is called multiclass classification. If you want to know the best machine learning algorithms for multiclass classification, this article is for you. In this article, I will introduce you to some of the best multiclass classification algorithms in machine learning.', 'The Multinomial Naive Bayes is one of the variants of the Naive Bayes algorithm in machine learning. It is very useful when the data is distributed in a multinomial way. This algorithm is especially preferred in classification tasks based on natural language processing. Spam detection is one of the applications where this algorithm can be used. If you have never used the Multinomial Naive Bayes algorithm before, this article is for you. In this article, I will take you through an introduction to the Multinomial Naive Bayes algorithm in machine learning and its implementation using Python.', \"You must have seen the news divided into categories when you go to a news website. Some of the popular categories that you'll see on almost any news website are tech, entertainment, and sports. If you want to know how to classify news categories using machine learning, this article is for you. In this article, I will walk you through the task of news classification with machine learning using Python.\", 'Natural language processing or NLP is a subfield of artificial intelligence where we build applications to interact with humans. One of the examples of NLP applications is a chatbot which is used by so many websites to solve some of the common issues people face when taking their services. So, if you are looking for some of the best books for learning NLP, this article is for you. In this article, I will introduce you to the best books for learning NLP.', 'By using a third-party application or API to manage the functionality of an application, you are automating the application. If you send messages, post photos or videos, or follow someone without opening your Instagram directly, that means you are automating Instagram. So, if you want to learn how to send Instagram messages automatically using Python, this article is for you. In this article, I will present a tutorial on how to send Instagram messages using Python.', 'Twitter is one of the most popular social media apps where people are free to share their opinions on any topic. There are so many tweets recorded about Pfizer vaccine awareness that can be used to analyze the sentiments of people about the Pfizer vaccine. So, if you want to learn how to use a Twitter dataset for sentiment analysis, this article is for you. In this article, I will walk you through the task of Pfizer vaccine sentiment analysis using Python.', 'The squid game is currently one of the most trending shows on NetFlix. It is so much trending that people who have never watched any web series before are also watching it. One of the reasons behind this is the reviews and opinions of viewers on social media. So if you want to learn how to analyze the sentiments of people about Squid Game, then this article is for you. In this article, I will take you through the task of Squid Game sentiment analysis using Python.', 'Computer Vision is one of the fields of Artificial Intelligence that enables a computer to find meaningful information from digital images, videos and other visual sources of data. The Face ID found in iPhones is one of the best examples of the applications of computer vision. If you are looking for the best books to learn computer vision, this article is for you. In this article, I will take you through some of the best books to learn computer vision.', \"Python is one of the most popular programming languages today. It is preferred by data scientists and web developers and is currently used by companies like Google, Netflix, Facebook, Uber, Goldman Sachs, Paypal, and many more. There is a great demand for data science professionals today, and Python is one of the most important skills any data scientist should have. So, if you are looking for the best resources to learn Python, this article is for you. In this article, I'm going to introduce you to some of the best resources for learning the Python programming language.\", 'API stands for Application Programming Interface, it is a way to connect computers or computer programs. Simply put, you can think of it as software that helps in the development of other software. Many companies are looking for API developers today, so if you want to become an API developer, you need to educate yourself about API development. Python has many frameworks for building APIs, if you want to know about the best Python frameworks to build APIs, this article is for you. In this article, I will introduce you to the best Python frameworks to build APIs.', 'A voice recorder is found in every smartphone and computer today. It is an application that is used to record sound and save it in a specific file format, which can be listened to and transferred to another device. If you want to know how to make a voice recorder using Python, this article is for you. In this article, I will walk you through how to make a voice recorder using Python.', 'Language detection is a natural language processing task where we need to identify the language of a text or document. Using machine learning for language detection was a difficult task a few years ago because there was not a lot of data on languages, but with the availability of data with ease, several powerful machine learning models are already available for language detection. So, if you want to learn how to train a machine learning model for language detection, then this article is for you. In this article, I will walk you through the task of language detection with machine learning using Python.', 'A Multilayer Perceptron or MLP is one of the simplest feed-forward neural networks. Multilayer Perceptrons are the types of neural networks which are bidirectional as they foreword propagation of the inputs and backward propagation of the weights. If you want to learn about Multiplayer Perceptron in machine learning, then this article is for you. In this article, I will take you through an introduction to Multilayer Perceptron and its implementation using Python.', \"A neural network is a subset of machine learning that mimics the workings of a human brain while solving a complex problem based on deep learning. Neural networks are inspired by neurons found in the human brain. In this article, I'm going to introduce you to the types of neural networks you need to know as a Data Scientist.\", 'Clustering is the task of identifying similar instances based on similar features and assigning them to clusters based on similar instances. It sounds like classification where each insurance is also assigned to a group, but unlike classification, clustering is based on unsupervised learning. Here the dataset you deal with doesn?t have labels, so we cannot use a classification algorithm on a dataset without labels, this is where clustering algorithms comes in. If you want to learn all the clustering algorithms that you should know about as a data scientist, this article is for you. In this article, I will take you through an introduction to all clustering algorithms in machine learning.', \"Dictionaries are one of the most useful data structures in the Python programming language. A Python dictionary is used to store data in the form of key and value pairs. Most Python newbies get confused when iterating through a dictionary because the data is stored in key and value pairs. So if you want to learn how to use a for loop on the keys and values of a Python dictionary, this article is for you. In this article, I'll show you a tutorial on using a for loop on keys and values in a Python dictionary.\", 'Health Insurance is a type of insurance that covers medical expenses. A person who has taken a health insurance policy gets health insurance cover by paying a particular premium amount. There are a lot of factors that determine the premium of health insurance. So if you want to learn how we can use machine learning for predicting the premium of health insurance, then this article is for you. In this article, I will take you through the task of health insurance premium prediction with machine learning using Python.', \"The mean shift algorithm is a nonparametric clustering algorithm that does not require prior knowledge of the number of clusters. If you've never used the Mean Shift clustering algorithm, this article is for you. In this article, I'll take you through an introduction to Mean Shift clustering in Machine Learning and its implementation using Python.\", 'The BIRCH is a Clustering algorithm in machine learning. It stands for Balanced Reducing and Clustering using Hierarchies. In this article, I will take you through the concept of BIRCH Clustering in Machine Learning and its implementation using Python.', \"Agglomerative clustering is based on hierarchical clustering which is used to form a hierarchy of clusters. It is one of the types of clustering algorithms in machine learning. Unlike the K-Means and DBSCAN clustering algorithms, it is not very common but it is very efficient to form a hierarchy of clusters. If you've never used the agglomerative clustering algorithm before, this article is for you. In this article, I'll give you an introduction to agglomerative clustering in machine learning and its implementation using Python.\", 'DBSCAN stands for Density-Based Spatial Clustering for Applications with Noise. This is an unsupervised clustering algorithm that is used to find high-density base samples to extend the clusters. In this article, I will introduce you to DBSCAN clustering in Machine Learning using Python.', 'The K-Means Clustering is a clustering algorithm capable of clustering an unlabeled dataset quickly and efficiently in just a very few iterations. In this article, I will take you through the K-Means clustering in machine learning using Python.', 'A scatter plot is one of the most useful ways to analyze the relationship between two features. You must have used a scatter plot before if you are learning data science but have you ever tried to create an animated scatter plot using Python? If you want to learn how to visualize an animated scatter plot, this article is for you. In this article, I will take you through a tutorial on visualizing animated scatter plot using Python.', \"Recently, we have seen an increase of more than 10 per cent in the stock price of Tata Motors. This has resulted in more attention to Tata Group stocks from all over India. But again today, we are witnessing a fall in the prices of Tata Motors' shares, which can be a negative signal for investors. So, if you want to learn how to analyze and predict the Tata Motors stock price, this article is for you. In this article, I will walk you through the task of Tata Motors stock price prediction with machine learning using Python.\", 'Apple has just announced the date of its September event when it is about to launch the new iPhone 13. It is currently the centre of attention on the stock market. Stock market analysis is one of the popular applications of machine learning because we can predict stock prices using machine learning. So if you want to learn how to predict the stock prices of Apple with machine learning, this article is for you. In this article, I will walk you through the task of Apple stock price prediction with machine learning using Python.', 'Deep learning is a subset of machine learning in which we use artificial neural networks to train models to solve complex problems where we need a large amount of data compared to other machine learning algorithms. If you want to become a machine learning engineer, you must learn deep learning. So, if you are looking for the best books for learning deep learning, this article is for you. In this article, I will introduce you to some of the best books to learn deep learning.', 'Many machine learning algorithms can be used to solve complex problems that require a large amount of data with a large number of features, but deep learning can outperform all algorithms. So to understand where we can use deep learning techniques, in this article, I will introduce you to the applications of deep learning.', \"Almost every app or website you visit today shows you what may interest you the most. For example, if you've been using YouTube for a long time, you must have seen content from your favourite creators or the type of videos you like to watch every time you visit YouTube. It is nothing more than a recommendation system. Recommendation systems are one of the most widely used applications in data science, and as a data scientist, you should know everything about recommender systems. In this article, I will therefore give you an introduction to recommendation systems in data science.\", 'There are so many algorithms in machine learning that you need to learn. Understanding the use cases of every machine learning algorithm is very difficult for every data science beginner, but it is very important as it helps you to choose the most suitable algorithm for your problem. So if you want to learn about the use cases of different machine learning algorithms, then this article is for you. In this article, I will take you through the use cases of some of the popular machine learning algorithms.', \"In machine learning, the Naive Bayes algorithm is based on Bayes' theorem with na\\x8bve assumptions. This makes it easier to train a model by assuming that the features are independent of each other. In this article, I will give you an introduction to the Naive Bayes algorithm in Machine Learning and its implementation using Python.\", \"Swapping elements of a Python list is very similar to swapping values of the variables in Python. We use the index of the items to swap the position of the items, just like variables in Python. So if you want to learn how to swap the position of items in a Python list, this article is for you. In this article, I'll show you a tutorial on how to swap items in a Python list.\"] instead."
     ]
    }
   ],
   "source": [
    "articles = data[\"Article\"].tolist()\n",
    "uni_tfidf = text.TfidfVectorizer(input=articles, stop_words=\"english\")\n",
    "uni_matrix = uni_tfidf.fit_transform(articles)\n",
    "uni_sim = cosine_similarity(uni_matrix)\n",
    "def recommend_articles(x):\n",
    "    return \", \".join(data[\"Title\"].loc[x.argsort()[-5:-1]])    \n",
    "data[\"Recommended Articles\"] = [recommend_articles(x) for x in uni_sim]\n",
    "data.head()"
   ]
  },
  {
   "cell_type": "code",
   "execution_count": null,
   "id": "853df4ee",
   "metadata": {},
   "outputs": [],
   "source": []
  }
 ],
 "metadata": {
  "kernelspec": {
   "display_name": "Python 3 (ipykernel)",
   "language": "python",
   "name": "python3"
  },
  "language_info": {
   "codemirror_mode": {
    "name": "ipython",
    "version": 3
   },
   "file_extension": ".py",
   "mimetype": "text/x-python",
   "name": "python",
   "nbconvert_exporter": "python",
   "pygments_lexer": "ipython3",
   "version": "3.10.9"
  }
 },
 "nbformat": 4,
 "nbformat_minor": 5
}
