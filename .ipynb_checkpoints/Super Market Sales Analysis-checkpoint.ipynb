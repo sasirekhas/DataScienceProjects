{
 "cells": [
  {
   "cell_type": "code",
   "execution_count": 1,
   "id": "1ff59cfe",
   "metadata": {},
   "outputs": [],
   "source": [
    "# Super Market Sales Analysis"
   ]
  },
  {
   "cell_type": "code",
   "execution_count": 2,
   "id": "e9f185d2",
   "metadata": {},
   "outputs": [],
   "source": [
    "# https://www.kaggle.com/code/yogababu/super-market-sales-analysis"
   ]
  },
  {
   "cell_type": "code",
   "execution_count": 3,
   "id": "8181f853",
   "metadata": {},
   "outputs": [],
   "source": [
    "import numpy as np\n",
    "import pandas as pd\n",
    "import matplotlib.pyplot as plt"
   ]
  },
  {
   "cell_type": "code",
   "execution_count": 6,
   "id": "9cb90b1d",
   "metadata": {},
   "outputs": [
    {
     "data": {
      "text/html": [
       "<div>\n",
       "<style scoped>\n",
       "    .dataframe tbody tr th:only-of-type {\n",
       "        vertical-align: middle;\n",
       "    }\n",
       "\n",
       "    .dataframe tbody tr th {\n",
       "        vertical-align: top;\n",
       "    }\n",
       "\n",
       "    .dataframe thead th {\n",
       "        text-align: right;\n",
       "    }\n",
       "</style>\n",
       "<table border=\"1\" class=\"dataframe\">\n",
       "  <thead>\n",
       "    <tr style=\"text-align: right;\">\n",
       "      <th></th>\n",
       "      <th>Branch</th>\n",
       "      <th>City</th>\n",
       "      <th>Customer type</th>\n",
       "      <th>Gender</th>\n",
       "      <th>Product line</th>\n",
       "      <th>Unit price</th>\n",
       "      <th>Quantity</th>\n",
       "      <th>Tax 5%</th>\n",
       "      <th>Total</th>\n",
       "      <th>Date</th>\n",
       "      <th>Time</th>\n",
       "      <th>Payment</th>\n",
       "      <th>cogs</th>\n",
       "      <th>gross margin percentage</th>\n",
       "      <th>gross income</th>\n",
       "      <th>Rating</th>\n",
       "    </tr>\n",
       "    <tr>\n",
       "      <th>Invoice ID</th>\n",
       "      <th></th>\n",
       "      <th></th>\n",
       "      <th></th>\n",
       "      <th></th>\n",
       "      <th></th>\n",
       "      <th></th>\n",
       "      <th></th>\n",
       "      <th></th>\n",
       "      <th></th>\n",
       "      <th></th>\n",
       "      <th></th>\n",
       "      <th></th>\n",
       "      <th></th>\n",
       "      <th></th>\n",
       "      <th></th>\n",
       "      <th></th>\n",
       "    </tr>\n",
       "  </thead>\n",
       "  <tbody>\n",
       "    <tr>\n",
       "      <th>750-67-8428</th>\n",
       "      <td>A</td>\n",
       "      <td>Yangon</td>\n",
       "      <td>Member</td>\n",
       "      <td>Female</td>\n",
       "      <td>Health and beauty</td>\n",
       "      <td>74.69</td>\n",
       "      <td>7</td>\n",
       "      <td>26.1415</td>\n",
       "      <td>548.9715</td>\n",
       "      <td>1/5/2019</td>\n",
       "      <td>13:08</td>\n",
       "      <td>Ewallet</td>\n",
       "      <td>522.83</td>\n",
       "      <td>4.761905</td>\n",
       "      <td>26.1415</td>\n",
       "      <td>9.1</td>\n",
       "    </tr>\n",
       "    <tr>\n",
       "      <th>226-31-3081</th>\n",
       "      <td>C</td>\n",
       "      <td>Naypyitaw</td>\n",
       "      <td>Normal</td>\n",
       "      <td>Female</td>\n",
       "      <td>Electronic accessories</td>\n",
       "      <td>15.28</td>\n",
       "      <td>5</td>\n",
       "      <td>3.8200</td>\n",
       "      <td>80.2200</td>\n",
       "      <td>3/8/2019</td>\n",
       "      <td>10:29</td>\n",
       "      <td>Cash</td>\n",
       "      <td>76.40</td>\n",
       "      <td>4.761905</td>\n",
       "      <td>3.8200</td>\n",
       "      <td>9.6</td>\n",
       "    </tr>\n",
       "    <tr>\n",
       "      <th>631-41-3108</th>\n",
       "      <td>A</td>\n",
       "      <td>Yangon</td>\n",
       "      <td>Normal</td>\n",
       "      <td>Male</td>\n",
       "      <td>Home and lifestyle</td>\n",
       "      <td>46.33</td>\n",
       "      <td>7</td>\n",
       "      <td>16.2155</td>\n",
       "      <td>340.5255</td>\n",
       "      <td>3/3/2019</td>\n",
       "      <td>13:23</td>\n",
       "      <td>Credit card</td>\n",
       "      <td>324.31</td>\n",
       "      <td>4.761905</td>\n",
       "      <td>16.2155</td>\n",
       "      <td>7.4</td>\n",
       "    </tr>\n",
       "    <tr>\n",
       "      <th>123-19-1176</th>\n",
       "      <td>A</td>\n",
       "      <td>Yangon</td>\n",
       "      <td>Member</td>\n",
       "      <td>Male</td>\n",
       "      <td>Health and beauty</td>\n",
       "      <td>58.22</td>\n",
       "      <td>8</td>\n",
       "      <td>23.2880</td>\n",
       "      <td>489.0480</td>\n",
       "      <td>1/27/2019</td>\n",
       "      <td>20:33</td>\n",
       "      <td>Ewallet</td>\n",
       "      <td>465.76</td>\n",
       "      <td>4.761905</td>\n",
       "      <td>23.2880</td>\n",
       "      <td>8.4</td>\n",
       "    </tr>\n",
       "    <tr>\n",
       "      <th>373-73-7910</th>\n",
       "      <td>A</td>\n",
       "      <td>Yangon</td>\n",
       "      <td>Normal</td>\n",
       "      <td>Male</td>\n",
       "      <td>Sports and travel</td>\n",
       "      <td>86.31</td>\n",
       "      <td>7</td>\n",
       "      <td>30.2085</td>\n",
       "      <td>634.3785</td>\n",
       "      <td>2/8/2019</td>\n",
       "      <td>10:37</td>\n",
       "      <td>Ewallet</td>\n",
       "      <td>604.17</td>\n",
       "      <td>4.761905</td>\n",
       "      <td>30.2085</td>\n",
       "      <td>5.3</td>\n",
       "    </tr>\n",
       "    <tr>\n",
       "      <th>...</th>\n",
       "      <td>...</td>\n",
       "      <td>...</td>\n",
       "      <td>...</td>\n",
       "      <td>...</td>\n",
       "      <td>...</td>\n",
       "      <td>...</td>\n",
       "      <td>...</td>\n",
       "      <td>...</td>\n",
       "      <td>...</td>\n",
       "      <td>...</td>\n",
       "      <td>...</td>\n",
       "      <td>...</td>\n",
       "      <td>...</td>\n",
       "      <td>...</td>\n",
       "      <td>...</td>\n",
       "      <td>...</td>\n",
       "    </tr>\n",
       "    <tr>\n",
       "      <th>233-67-5758</th>\n",
       "      <td>C</td>\n",
       "      <td>Naypyitaw</td>\n",
       "      <td>Normal</td>\n",
       "      <td>Male</td>\n",
       "      <td>Health and beauty</td>\n",
       "      <td>40.35</td>\n",
       "      <td>1</td>\n",
       "      <td>2.0175</td>\n",
       "      <td>42.3675</td>\n",
       "      <td>1/29/2019</td>\n",
       "      <td>13:46</td>\n",
       "      <td>Ewallet</td>\n",
       "      <td>40.35</td>\n",
       "      <td>4.761905</td>\n",
       "      <td>2.0175</td>\n",
       "      <td>6.2</td>\n",
       "    </tr>\n",
       "    <tr>\n",
       "      <th>303-96-2227</th>\n",
       "      <td>B</td>\n",
       "      <td>Mandalay</td>\n",
       "      <td>Normal</td>\n",
       "      <td>Female</td>\n",
       "      <td>Home and lifestyle</td>\n",
       "      <td>97.38</td>\n",
       "      <td>10</td>\n",
       "      <td>48.6900</td>\n",
       "      <td>1022.4900</td>\n",
       "      <td>3/2/2019</td>\n",
       "      <td>17:16</td>\n",
       "      <td>Ewallet</td>\n",
       "      <td>973.80</td>\n",
       "      <td>4.761905</td>\n",
       "      <td>48.6900</td>\n",
       "      <td>4.4</td>\n",
       "    </tr>\n",
       "    <tr>\n",
       "      <th>727-02-1313</th>\n",
       "      <td>A</td>\n",
       "      <td>Yangon</td>\n",
       "      <td>Member</td>\n",
       "      <td>Male</td>\n",
       "      <td>Food and beverages</td>\n",
       "      <td>31.84</td>\n",
       "      <td>1</td>\n",
       "      <td>1.5920</td>\n",
       "      <td>33.4320</td>\n",
       "      <td>2/9/2019</td>\n",
       "      <td>13:22</td>\n",
       "      <td>Cash</td>\n",
       "      <td>31.84</td>\n",
       "      <td>4.761905</td>\n",
       "      <td>1.5920</td>\n",
       "      <td>7.7</td>\n",
       "    </tr>\n",
       "    <tr>\n",
       "      <th>347-56-2442</th>\n",
       "      <td>A</td>\n",
       "      <td>Yangon</td>\n",
       "      <td>Normal</td>\n",
       "      <td>Male</td>\n",
       "      <td>Home and lifestyle</td>\n",
       "      <td>65.82</td>\n",
       "      <td>1</td>\n",
       "      <td>3.2910</td>\n",
       "      <td>69.1110</td>\n",
       "      <td>2/22/2019</td>\n",
       "      <td>15:33</td>\n",
       "      <td>Cash</td>\n",
       "      <td>65.82</td>\n",
       "      <td>4.761905</td>\n",
       "      <td>3.2910</td>\n",
       "      <td>4.1</td>\n",
       "    </tr>\n",
       "    <tr>\n",
       "      <th>849-09-3807</th>\n",
       "      <td>A</td>\n",
       "      <td>Yangon</td>\n",
       "      <td>Member</td>\n",
       "      <td>Female</td>\n",
       "      <td>Fashion accessories</td>\n",
       "      <td>88.34</td>\n",
       "      <td>7</td>\n",
       "      <td>30.9190</td>\n",
       "      <td>649.2990</td>\n",
       "      <td>2/18/2019</td>\n",
       "      <td>13:28</td>\n",
       "      <td>Cash</td>\n",
       "      <td>618.38</td>\n",
       "      <td>4.761905</td>\n",
       "      <td>30.9190</td>\n",
       "      <td>6.6</td>\n",
       "    </tr>\n",
       "  </tbody>\n",
       "</table>\n",
       "<p>1000 rows × 16 columns</p>\n",
       "</div>"
      ],
      "text/plain": [
       "            Branch       City Customer type  Gender            Product line  \\\n",
       "Invoice ID                                                                    \n",
       "750-67-8428      A     Yangon        Member  Female       Health and beauty   \n",
       "226-31-3081      C  Naypyitaw        Normal  Female  Electronic accessories   \n",
       "631-41-3108      A     Yangon        Normal    Male      Home and lifestyle   \n",
       "123-19-1176      A     Yangon        Member    Male       Health and beauty   \n",
       "373-73-7910      A     Yangon        Normal    Male       Sports and travel   \n",
       "...            ...        ...           ...     ...                     ...   \n",
       "233-67-5758      C  Naypyitaw        Normal    Male       Health and beauty   \n",
       "303-96-2227      B   Mandalay        Normal  Female      Home and lifestyle   \n",
       "727-02-1313      A     Yangon        Member    Male      Food and beverages   \n",
       "347-56-2442      A     Yangon        Normal    Male      Home and lifestyle   \n",
       "849-09-3807      A     Yangon        Member  Female     Fashion accessories   \n",
       "\n",
       "             Unit price  Quantity   Tax 5%      Total       Date   Time  \\\n",
       "Invoice ID                                                                \n",
       "750-67-8428       74.69         7  26.1415   548.9715   1/5/2019  13:08   \n",
       "226-31-3081       15.28         5   3.8200    80.2200   3/8/2019  10:29   \n",
       "631-41-3108       46.33         7  16.2155   340.5255   3/3/2019  13:23   \n",
       "123-19-1176       58.22         8  23.2880   489.0480  1/27/2019  20:33   \n",
       "373-73-7910       86.31         7  30.2085   634.3785   2/8/2019  10:37   \n",
       "...                 ...       ...      ...        ...        ...    ...   \n",
       "233-67-5758       40.35         1   2.0175    42.3675  1/29/2019  13:46   \n",
       "303-96-2227       97.38        10  48.6900  1022.4900   3/2/2019  17:16   \n",
       "727-02-1313       31.84         1   1.5920    33.4320   2/9/2019  13:22   \n",
       "347-56-2442       65.82         1   3.2910    69.1110  2/22/2019  15:33   \n",
       "849-09-3807       88.34         7  30.9190   649.2990  2/18/2019  13:28   \n",
       "\n",
       "                 Payment    cogs  gross margin percentage  gross income  \\\n",
       "Invoice ID                                                                \n",
       "750-67-8428      Ewallet  522.83                 4.761905       26.1415   \n",
       "226-31-3081         Cash   76.40                 4.761905        3.8200   \n",
       "631-41-3108  Credit card  324.31                 4.761905       16.2155   \n",
       "123-19-1176      Ewallet  465.76                 4.761905       23.2880   \n",
       "373-73-7910      Ewallet  604.17                 4.761905       30.2085   \n",
       "...                  ...     ...                      ...           ...   \n",
       "233-67-5758      Ewallet   40.35                 4.761905        2.0175   \n",
       "303-96-2227      Ewallet  973.80                 4.761905       48.6900   \n",
       "727-02-1313         Cash   31.84                 4.761905        1.5920   \n",
       "347-56-2442         Cash   65.82                 4.761905        3.2910   \n",
       "849-09-3807         Cash  618.38                 4.761905       30.9190   \n",
       "\n",
       "             Rating  \n",
       "Invoice ID           \n",
       "750-67-8428     9.1  \n",
       "226-31-3081     9.6  \n",
       "631-41-3108     7.4  \n",
       "123-19-1176     8.4  \n",
       "373-73-7910     5.3  \n",
       "...             ...  \n",
       "233-67-5758     6.2  \n",
       "303-96-2227     4.4  \n",
       "727-02-1313     7.7  \n",
       "347-56-2442     4.1  \n",
       "849-09-3807     6.6  \n",
       "\n",
       "[1000 rows x 16 columns]"
      ]
     },
     "execution_count": 6,
     "metadata": {},
     "output_type": "execute_result"
    }
   ],
   "source": [
    "data = pd.read_csv(\"supermarket_sales - Sheet1.csv\",index_col=\"Invoice ID\")\n",
    "data"
   ]
  },
  {
   "cell_type": "code",
   "execution_count": 7,
   "id": "4c18f163",
   "metadata": {},
   "outputs": [
    {
     "data": {
      "text/plain": [
       "(1000, 16)"
      ]
     },
     "execution_count": 7,
     "metadata": {},
     "output_type": "execute_result"
    }
   ],
   "source": [
    "data.shape"
   ]
  },
  {
   "cell_type": "code",
   "execution_count": 8,
   "id": "0a7ceb63",
   "metadata": {},
   "outputs": [
    {
     "data": {
      "text/plain": [
       "Index(['Branch', 'City', 'Customer type', 'Gender', 'Product line',\n",
       "       'Unit price', 'Quantity', 'Tax 5%', 'Total', 'Date', 'Time', 'Payment',\n",
       "       'cogs', 'gross margin percentage', 'gross income', 'Rating'],\n",
       "      dtype='object')"
      ]
     },
     "execution_count": 8,
     "metadata": {},
     "output_type": "execute_result"
    }
   ],
   "source": [
    "data.columns"
   ]
  },
  {
   "cell_type": "code",
   "execution_count": 9,
   "id": "a8020dff",
   "metadata": {},
   "outputs": [
    {
     "data": {
      "text/plain": [
       "<bound method DataFrame.info of             Branch       City Customer type  Gender            Product line  \\\n",
       "Invoice ID                                                                    \n",
       "750-67-8428      A     Yangon        Member  Female       Health and beauty   \n",
       "226-31-3081      C  Naypyitaw        Normal  Female  Electronic accessories   \n",
       "631-41-3108      A     Yangon        Normal    Male      Home and lifestyle   \n",
       "123-19-1176      A     Yangon        Member    Male       Health and beauty   \n",
       "373-73-7910      A     Yangon        Normal    Male       Sports and travel   \n",
       "...            ...        ...           ...     ...                     ...   \n",
       "233-67-5758      C  Naypyitaw        Normal    Male       Health and beauty   \n",
       "303-96-2227      B   Mandalay        Normal  Female      Home and lifestyle   \n",
       "727-02-1313      A     Yangon        Member    Male      Food and beverages   \n",
       "347-56-2442      A     Yangon        Normal    Male      Home and lifestyle   \n",
       "849-09-3807      A     Yangon        Member  Female     Fashion accessories   \n",
       "\n",
       "             Unit price  Quantity   Tax 5%      Total       Date   Time  \\\n",
       "Invoice ID                                                                \n",
       "750-67-8428       74.69         7  26.1415   548.9715   1/5/2019  13:08   \n",
       "226-31-3081       15.28         5   3.8200    80.2200   3/8/2019  10:29   \n",
       "631-41-3108       46.33         7  16.2155   340.5255   3/3/2019  13:23   \n",
       "123-19-1176       58.22         8  23.2880   489.0480  1/27/2019  20:33   \n",
       "373-73-7910       86.31         7  30.2085   634.3785   2/8/2019  10:37   \n",
       "...                 ...       ...      ...        ...        ...    ...   \n",
       "233-67-5758       40.35         1   2.0175    42.3675  1/29/2019  13:46   \n",
       "303-96-2227       97.38        10  48.6900  1022.4900   3/2/2019  17:16   \n",
       "727-02-1313       31.84         1   1.5920    33.4320   2/9/2019  13:22   \n",
       "347-56-2442       65.82         1   3.2910    69.1110  2/22/2019  15:33   \n",
       "849-09-3807       88.34         7  30.9190   649.2990  2/18/2019  13:28   \n",
       "\n",
       "                 Payment    cogs  gross margin percentage  gross income  \\\n",
       "Invoice ID                                                                \n",
       "750-67-8428      Ewallet  522.83                 4.761905       26.1415   \n",
       "226-31-3081         Cash   76.40                 4.761905        3.8200   \n",
       "631-41-3108  Credit card  324.31                 4.761905       16.2155   \n",
       "123-19-1176      Ewallet  465.76                 4.761905       23.2880   \n",
       "373-73-7910      Ewallet  604.17                 4.761905       30.2085   \n",
       "...                  ...     ...                      ...           ...   \n",
       "233-67-5758      Ewallet   40.35                 4.761905        2.0175   \n",
       "303-96-2227      Ewallet  973.80                 4.761905       48.6900   \n",
       "727-02-1313         Cash   31.84                 4.761905        1.5920   \n",
       "347-56-2442         Cash   65.82                 4.761905        3.2910   \n",
       "849-09-3807         Cash  618.38                 4.761905       30.9190   \n",
       "\n",
       "             Rating  \n",
       "Invoice ID           \n",
       "750-67-8428     9.1  \n",
       "226-31-3081     9.6  \n",
       "631-41-3108     7.4  \n",
       "123-19-1176     8.4  \n",
       "373-73-7910     5.3  \n",
       "...             ...  \n",
       "233-67-5758     6.2  \n",
       "303-96-2227     4.4  \n",
       "727-02-1313     7.7  \n",
       "347-56-2442     4.1  \n",
       "849-09-3807     6.6  \n",
       "\n",
       "[1000 rows x 16 columns]>"
      ]
     },
     "execution_count": 9,
     "metadata": {},
     "output_type": "execute_result"
    }
   ],
   "source": [
    "data.info"
   ]
  },
  {
   "cell_type": "code",
   "execution_count": 16,
   "id": "bcf11173",
   "metadata": {},
   "outputs": [
    {
     "name": "stdout",
     "output_type": "stream",
     "text": [
      "<class 'pandas.core.frame.DataFrame'>\n",
      "Index: 1000 entries, 750-67-8428 to 849-09-3807\n",
      "Data columns (total 16 columns):\n",
      " #   Column                   Non-Null Count  Dtype  \n",
      "---  ------                   --------------  -----  \n",
      " 0   Branch                   1000 non-null   object \n",
      " 1   City                     1000 non-null   object \n",
      " 2   Customer type            1000 non-null   object \n",
      " 3   Gender                   1000 non-null   object \n",
      " 4   Product line             1000 non-null   object \n",
      " 5   Unit price               1000 non-null   float64\n",
      " 6   Quantity                 1000 non-null   int64  \n",
      " 7   Tax 5%                   1000 non-null   float64\n",
      " 8   Total                    1000 non-null   float64\n",
      " 9   Date                     1000 non-null   object \n",
      " 10  Time                     1000 non-null   object \n",
      " 11  Payment                  1000 non-null   object \n",
      " 12  cogs                     1000 non-null   float64\n",
      " 13  gross margin percentage  1000 non-null   float64\n",
      " 14  gross income             1000 non-null   float64\n",
      " 15  Rating                   1000 non-null   float64\n",
      "dtypes: float64(7), int64(1), object(8)\n",
      "memory usage: 132.8+ KB\n"
     ]
    }
   ],
   "source": [
    "data.info()"
   ]
  },
  {
   "cell_type": "code",
   "execution_count": 10,
   "id": "4e8f6b1c",
   "metadata": {},
   "outputs": [
    {
     "data": {
      "text/plain": [
       "<bound method NDFrame.describe of             Branch       City Customer type  Gender            Product line  \\\n",
       "Invoice ID                                                                    \n",
       "750-67-8428      A     Yangon        Member  Female       Health and beauty   \n",
       "226-31-3081      C  Naypyitaw        Normal  Female  Electronic accessories   \n",
       "631-41-3108      A     Yangon        Normal    Male      Home and lifestyle   \n",
       "123-19-1176      A     Yangon        Member    Male       Health and beauty   \n",
       "373-73-7910      A     Yangon        Normal    Male       Sports and travel   \n",
       "...            ...        ...           ...     ...                     ...   \n",
       "233-67-5758      C  Naypyitaw        Normal    Male       Health and beauty   \n",
       "303-96-2227      B   Mandalay        Normal  Female      Home and lifestyle   \n",
       "727-02-1313      A     Yangon        Member    Male      Food and beverages   \n",
       "347-56-2442      A     Yangon        Normal    Male      Home and lifestyle   \n",
       "849-09-3807      A     Yangon        Member  Female     Fashion accessories   \n",
       "\n",
       "             Unit price  Quantity   Tax 5%      Total       Date   Time  \\\n",
       "Invoice ID                                                                \n",
       "750-67-8428       74.69         7  26.1415   548.9715   1/5/2019  13:08   \n",
       "226-31-3081       15.28         5   3.8200    80.2200   3/8/2019  10:29   \n",
       "631-41-3108       46.33         7  16.2155   340.5255   3/3/2019  13:23   \n",
       "123-19-1176       58.22         8  23.2880   489.0480  1/27/2019  20:33   \n",
       "373-73-7910       86.31         7  30.2085   634.3785   2/8/2019  10:37   \n",
       "...                 ...       ...      ...        ...        ...    ...   \n",
       "233-67-5758       40.35         1   2.0175    42.3675  1/29/2019  13:46   \n",
       "303-96-2227       97.38        10  48.6900  1022.4900   3/2/2019  17:16   \n",
       "727-02-1313       31.84         1   1.5920    33.4320   2/9/2019  13:22   \n",
       "347-56-2442       65.82         1   3.2910    69.1110  2/22/2019  15:33   \n",
       "849-09-3807       88.34         7  30.9190   649.2990  2/18/2019  13:28   \n",
       "\n",
       "                 Payment    cogs  gross margin percentage  gross income  \\\n",
       "Invoice ID                                                                \n",
       "750-67-8428      Ewallet  522.83                 4.761905       26.1415   \n",
       "226-31-3081         Cash   76.40                 4.761905        3.8200   \n",
       "631-41-3108  Credit card  324.31                 4.761905       16.2155   \n",
       "123-19-1176      Ewallet  465.76                 4.761905       23.2880   \n",
       "373-73-7910      Ewallet  604.17                 4.761905       30.2085   \n",
       "...                  ...     ...                      ...           ...   \n",
       "233-67-5758      Ewallet   40.35                 4.761905        2.0175   \n",
       "303-96-2227      Ewallet  973.80                 4.761905       48.6900   \n",
       "727-02-1313         Cash   31.84                 4.761905        1.5920   \n",
       "347-56-2442         Cash   65.82                 4.761905        3.2910   \n",
       "849-09-3807         Cash  618.38                 4.761905       30.9190   \n",
       "\n",
       "             Rating  \n",
       "Invoice ID           \n",
       "750-67-8428     9.1  \n",
       "226-31-3081     9.6  \n",
       "631-41-3108     7.4  \n",
       "123-19-1176     8.4  \n",
       "373-73-7910     5.3  \n",
       "...             ...  \n",
       "233-67-5758     6.2  \n",
       "303-96-2227     4.4  \n",
       "727-02-1313     7.7  \n",
       "347-56-2442     4.1  \n",
       "849-09-3807     6.6  \n",
       "\n",
       "[1000 rows x 16 columns]>"
      ]
     },
     "execution_count": 10,
     "metadata": {},
     "output_type": "execute_result"
    }
   ],
   "source": [
    "data.describe"
   ]
  },
  {
   "cell_type": "code",
   "execution_count": 11,
   "id": "62802fe8",
   "metadata": {},
   "outputs": [
    {
     "name": "stdout",
     "output_type": "stream",
     "text": [
      "Branch                     0\n",
      "City                       0\n",
      "Customer type              0\n",
      "Gender                     0\n",
      "Product line               0\n",
      "Unit price                 0\n",
      "Quantity                   0\n",
      "Tax 5%                     0\n",
      "Total                      0\n",
      "Date                       0\n",
      "Time                       0\n",
      "Payment                    0\n",
      "cogs                       0\n",
      "gross margin percentage    0\n",
      "gross income               0\n",
      "Rating                     0\n",
      "dtype: int64\n"
     ]
    }
   ],
   "source": [
    "print(data.isnull().sum())"
   ]
  },
  {
   "cell_type": "code",
   "execution_count": 12,
   "id": "4efcd6dc",
   "metadata": {},
   "outputs": [
    {
     "data": {
      "image/png": "[encoded data removed]",
      "text/plain": [
       "<Figure size 640x480 with 1 Axes>"
      ]
     },
     "metadata": {},
     "output_type": "display_data"
    }
   ],
   "source": [
    "female=data.loc[data['Gender']=='Female'].count()[0]\n",
    "male=data.loc[data['Gender']=='Male'].count()[0]\n",
    "labels=['Female','Male']\n",
    "colors=(['#abcdef','#aabbcc'])\n",
    "plt.pie([female,male],labels=labels,autopct='%.2f')\n",
    "plt.title('Male vs Female Ratio',fontsize=24)\n",
    "\n",
    "\n",
    "plt.show()"
   ]
  },
  {
   "cell_type": "code",
   "execution_count": 13,
   "id": "55816ba9",
   "metadata": {},
   "outputs": [],
   "source": [
    "# As per above diagram we can observe male and female contribution is almost equalls\n",
    "\n",
    "# Now we are find out how much sales done in each city"
   ]
  },
  {
   "cell_type": "code",
   "execution_count": 17,
   "id": "5cc576d6",
   "metadata": {},
   "outputs": [
    {
     "name": "stdout",
     "output_type": "stream",
     "text": [
      "<class 'pandas.core.frame.DataFrame'>\n",
      "Index: 1000 entries, 750-67-8428 to 849-09-3807\n",
      "Data columns (total 16 columns):\n",
      " #   Column                   Non-Null Count  Dtype  \n",
      "---  ------                   --------------  -----  \n",
      " 0   Branch                   1000 non-null   object \n",
      " 1   City                     1000 non-null   object \n",
      " 2   Customer type            1000 non-null   object \n",
      " 3   Gender                   1000 non-null   object \n",
      " 4   Product line             1000 non-null   object \n",
      " 5   Unit price               1000 non-null   float64\n",
      " 6   Quantity                 1000 non-null   int64  \n",
      " 7   Tax 5%                   1000 non-null   float64\n",
      " 8   Total                    1000 non-null   float64\n",
      " 9   Date                     1000 non-null   object \n",
      " 10  Time                     1000 non-null   object \n",
      " 11  Payment                  1000 non-null   object \n",
      " 12  cogs                     1000 non-null   float64\n",
      " 13  gross margin percentage  1000 non-null   float64\n",
      " 14  gross income             1000 non-null   float64\n",
      " 15  Rating                   1000 non-null   float64\n",
      "dtypes: float64(7), int64(1), object(8)\n",
      "memory usage: 132.8+ KB\n"
     ]
    }
   ],
   "source": [
    "data.info()"
   ]
  },
  {
   "cell_type": "code",
   "execution_count": 18,
   "id": "8b32f61c",
   "metadata": {},
   "outputs": [
    {
     "data": {
      "image/png": "[encoded data removed]",
      "text/plain": [
       "<Figure size 640x480 with 1 Axes>"
      ]
     },
     "metadata": {},
     "output_type": "display_data"
    }
   ],
   "source": [
    "yangon=data.loc[data['City']=='Yangon'].count()[0]\n",
    "naypyitaw=data.loc[data['City']=='Naypyitaw'].count()[0]\n",
    "mandalay=data.loc[data['City']=='Mandalay'].count()[0]\n",
    "labels=['Yangon','Naypyitaw','Mandalay']\n",
    "plt.pie([yangon,naypyitaw,mandalay],labels=labels,autopct='%.2f')\n",
    "plt.title('Country wise Sales %',fontsize=20,color='Yellow')\n",
    "\n",
    "plt.show()"
   ]
  },
  {
   "cell_type": "markdown",
   "id": "99228d7b",
   "metadata": {},
   "source": [
    "As per above output diagram we can observe each city have a equal sales\n",
    "\n",
    "Now we will find out which payment method customers using widely"
   ]
  },
  {
   "cell_type": "code",
   "execution_count": 19,
   "id": "39147328",
   "metadata": {},
   "outputs": [
    {
     "data": {
      "image/png": "[encoded data removed]",
      "text/plain": [
       "<Figure size 640x480 with 1 Axes>"
      ]
     },
     "metadata": {},
     "output_type": "display_data"
    }
   ],
   "source": [
    "ewallet=data.loc[data['Payment']=='Ewallet'].count()[0]\n",
    "cash=data.loc[data['Payment']=='Cash'].count()[0]\n",
    "credit=data.loc[data['Payment']=='Credit card'].count()[0]\n",
    "labels=['Ewallet','Cash','Credit']\n",
    "colors=['pink','blue','yellow']\n",
    "plt.pie([ewallet,cash,credit],labels=labels,autopct='%.2f',colors=colors)\n",
    "plt.title('Payment mode',fontsize=25,color='green')\n",
    "\n",
    "plt.show()"
   ]
  },
  {
   "cell_type": "markdown",
   "id": "95d6e1f5",
   "metadata": {},
   "source": [
    "As usual customers using all payments methods [Ewallet,Cash,Credit] using equally\n",
    "\n",
    "Now we will find out how much profit grnerated ny each City"
   ]
  },
  {
   "cell_type": "code",
   "execution_count": 20,
   "id": "fe9dfac8",
   "metadata": {},
   "outputs": [
    {
     "data": {
      "image/png": "[encoded data removed]",
      "text/plain": [
       "<Figure size 1500x1000 with 1 Axes>"
      ]
     },
     "metadata": {},
     "output_type": "display_data"
    }
   ],
   "source": [
    "plt.figure(figsize=(15,10))\n",
    "plt.bar(data.City,data['gross income'],label='2x')\n",
    "plt.title('Gross Income by City',fontsize=40,color='green')\n",
    "\n",
    "\n",
    "plt.show()\n"
   ]
  },
  {
   "cell_type": "markdown",
   "id": "7198858e",
   "metadata": {},
   "source": [
    "As per above diagram profits also similler from all citys\n",
    "\n",
    "SUMMARY\n",
    "\n",
    "After completion of this python EDA (Exploratary Data Analysis) project we can improove our data analysing skills and visualization skills Super market data have all measures equally"
   ]
  }
 ],
 "metadata": {
  "kernelspec": {
   "display_name": "Python 3 (ipykernel)",
   "language": "python",
   "name": "python3"
  },
  "language_info": {
   "codemirror_mode": {
    "name": "ipython",
    "version": 3
   },
   "file_extension": ".py",
   "mimetype": "text/x-python",
   "name": "python",
   "nbconvert_exporter": "python",
   "pygments_lexer": "ipython3",
   "version": "3.10.9"
  }
 },
 "nbformat": 4,
 "nbformat_minor": 5
}
