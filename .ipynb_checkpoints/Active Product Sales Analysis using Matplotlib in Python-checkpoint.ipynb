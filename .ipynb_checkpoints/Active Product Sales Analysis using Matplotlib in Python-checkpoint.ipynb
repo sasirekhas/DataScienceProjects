{
 "cells": [
  {
   "cell_type": "code",
   "execution_count": 6,
   "id": "fd1ab95b",
   "metadata": {},
   "outputs": [
    {
     "name": "stdout",
     "output_type": "stream",
     "text": [
      "Requirement already satisfied: pip in c:\\users\\dell\\anaconda3\\lib\\site-packages (22.3.1)\n",
      "Collecting pip\n",
      "  Downloading pip-23.1.2-py3-none-any.whl (2.1 MB)\n",
      "     ---------------------------------------- 2.1/2.1 MB 7.7 MB/s eta 0:00:00\n",
      "Installing collected packages: pip\n",
      "  Attempting uninstall: pip\n",
      "    Found existing installation: pip 22.3.1\n",
      "    Uninstalling pip-22.3.1:\n",
      "      Successfully uninstalled pip-22.3.1\n",
      "Successfully installed pip-23.1.2\n",
      "Note: you may need to restart the kernel to use updated packages.\n"
     ]
    }
   ],
   "source": [
    "pip install --upgrade pip"
   ]
  },
  {
   "cell_type": "code",
   "execution_count": 3,
   "id": "694438db",
   "metadata": {},
   "outputs": [],
   "source": [
    "import numpy as np\n",
    "import pandas as pd\n",
    "import matplotlib.pyplot as plt\n",
    "  \n",
    "Order_Details = pd.read_csv('C:\\July-2023-PGP BIg Data & Machine Learning-Great Learning\\Project Practice\\Order_details(masked).csv')"
   ]
  },
  {
   "cell_type": "code",
   "execution_count": 10,
   "id": "87348e3a",
   "metadata": {},
   "outputs": [
    {
     "data": {
      "text/plain": [
       "581"
      ]
     },
     "execution_count": 10,
     "metadata": {},
     "output_type": "execute_result"
    }
   ],
   "source": [
    "len(Order_Details)"
   ]
  },
  {
   "cell_type": "code",
   "execution_count": 11,
   "id": "ec222294",
   "metadata": {},
   "outputs": [
    {
     "data": {
      "text/plain": [
       "(581, 4)"
      ]
     },
     "execution_count": 11,
     "metadata": {},
     "output_type": "execute_result"
    }
   ],
   "source": [
    "Order_Details.shape"
   ]
  },
  {
   "cell_type": "code",
   "execution_count": 12,
   "id": "1fb6fc32",
   "metadata": {},
   "outputs": [
    {
     "data": {
      "text/html": [
       "<div>\n",
       "<style scoped>\n",
       "    .dataframe tbody tr th:only-of-type {\n",
       "        vertical-align: middle;\n",
       "    }\n",
       "\n",
       "    .dataframe tbody tr th {\n",
       "        vertical-align: top;\n",
       "    }\n",
       "\n",
       "    .dataframe thead th {\n",
       "        text-align: right;\n",
       "    }\n",
       "</style>\n",
       "<table border=\"1\" class=\"dataframe\">\n",
       "  <thead>\n",
       "    <tr style=\"text-align: right;\">\n",
       "      <th></th>\n",
       "      <th>Name</th>\n",
       "      <th>Email</th>\n",
       "      <th>Product</th>\n",
       "      <th>Transaction Date</th>\n",
       "    </tr>\n",
       "  </thead>\n",
       "  <tbody>\n",
       "    <tr>\n",
       "      <th>0</th>\n",
       "      <td>PERSON_1</td>\n",
       "      <td>PERSON_1@gmail.com</td>\n",
       "      <td>PRODUCT_75</td>\n",
       "      <td>01/03/2021 00:47:26</td>\n",
       "    </tr>\n",
       "    <tr>\n",
       "      <th>1</th>\n",
       "      <td>PERSON_2</td>\n",
       "      <td>PERSON_2@tataprojects.com</td>\n",
       "      <td>PRODUCT_75</td>\n",
       "      <td>01/03/2021 02:04:07</td>\n",
       "    </tr>\n",
       "    <tr>\n",
       "      <th>2</th>\n",
       "      <td>PERSON_3</td>\n",
       "      <td>PERSON_3@gmail.com</td>\n",
       "      <td>PRODUCT_63</td>\n",
       "      <td>01/03/2021 09:10:43</td>\n",
       "    </tr>\n",
       "    <tr>\n",
       "      <th>3</th>\n",
       "      <td>PERSON_4</td>\n",
       "      <td>PERSON_4@gmail.com</td>\n",
       "      <td>PRODUCT_63</td>\n",
       "      <td>01/03/2021 09:49:48</td>\n",
       "    </tr>\n",
       "    <tr>\n",
       "      <th>4</th>\n",
       "      <td>PERSON_5</td>\n",
       "      <td>PERSON_5@gmail.com</td>\n",
       "      <td>PRODUCT_34,PRODUCT_86,PRODUCT_57,PRODUCT_89</td>\n",
       "      <td>01/03/2021 10:56:46</td>\n",
       "    </tr>\n",
       "  </tbody>\n",
       "</table>\n",
       "</div>"
      ],
      "text/plain": [
       "       Name                      Email  \\\n",
       "0  PERSON_1         PERSON_1@gmail.com   \n",
       "1  PERSON_2  PERSON_2@tataprojects.com   \n",
       "2  PERSON_3         PERSON_3@gmail.com   \n",
       "3  PERSON_4         PERSON_4@gmail.com   \n",
       "4  PERSON_5         PERSON_5@gmail.com   \n",
       "\n",
       "                                       Product     Transaction Date  \n",
       "0                                   PRODUCT_75  01/03/2021 00:47:26  \n",
       "1                                   PRODUCT_75  01/03/2021 02:04:07  \n",
       "2                                   PRODUCT_63  01/03/2021 09:10:43  \n",
       "3                                   PRODUCT_63  01/03/2021 09:49:48  \n",
       "4  PRODUCT_34,PRODUCT_86,PRODUCT_57,PRODUCT_89  01/03/2021 10:56:46  "
      ]
     },
     "execution_count": 12,
     "metadata": {},
     "output_type": "execute_result"
    }
   ],
   "source": [
    "Order_Details.head()"
   ]
  },
  {
   "cell_type": "code",
   "execution_count": 13,
   "id": "11665429",
   "metadata": {},
   "outputs": [
    {
     "data": {
      "text/html": [
       "<div>\n",
       "<style scoped>\n",
       "    .dataframe tbody tr th:only-of-type {\n",
       "        vertical-align: middle;\n",
       "    }\n",
       "\n",
       "    .dataframe tbody tr th {\n",
       "        vertical-align: top;\n",
       "    }\n",
       "\n",
       "    .dataframe thead th {\n",
       "        text-align: right;\n",
       "    }\n",
       "</style>\n",
       "<table border=\"1\" class=\"dataframe\">\n",
       "  <thead>\n",
       "    <tr style=\"text-align: right;\">\n",
       "      <th></th>\n",
       "      <th>Name</th>\n",
       "      <th>Email</th>\n",
       "      <th>Product</th>\n",
       "      <th>Transaction Date</th>\n",
       "    </tr>\n",
       "  </thead>\n",
       "  <tbody>\n",
       "    <tr>\n",
       "      <th>576</th>\n",
       "      <td>PERSON_522</td>\n",
       "      <td>PERSON_522@gmail.com</td>\n",
       "      <td>PRODUCT_48,PRODUCT_80,PRODUCT_71,PRODUCT_68,PR...</td>\n",
       "      <td>07/03/2021 23:53:03</td>\n",
       "    </tr>\n",
       "    <tr>\n",
       "      <th>577</th>\n",
       "      <td>PERSON_523</td>\n",
       "      <td>PERSON_523@gmail.com</td>\n",
       "      <td>PRODUCT_8</td>\n",
       "      <td>07/03/2021 23:55:01</td>\n",
       "    </tr>\n",
       "    <tr>\n",
       "      <th>578</th>\n",
       "      <td>PERSON_523</td>\n",
       "      <td>PERSON_523@gmail.com</td>\n",
       "      <td>PRODUCT_36,PRODUCT_14,PRODUCT_64,PRODUCT_28,PR...</td>\n",
       "      <td>07/03/2021 23:58:24</td>\n",
       "    </tr>\n",
       "    <tr>\n",
       "      <th>579</th>\n",
       "      <td>PERSON_524</td>\n",
       "      <td>PERSON_524@gmail.com</td>\n",
       "      <td>PRODUCT_75,PRODUCT_71,PRODUCT_86,PRODUCT_63,PR...</td>\n",
       "      <td>07/03/2021 23:59:26</td>\n",
       "    </tr>\n",
       "    <tr>\n",
       "      <th>580</th>\n",
       "      <td>PERSON_525</td>\n",
       "      <td>PERSON_525@gmail.com</td>\n",
       "      <td>PRODUCT_66,PRODUCT_34</td>\n",
       "      <td>07/03/2021 23:59:19</td>\n",
       "    </tr>\n",
       "  </tbody>\n",
       "</table>\n",
       "</div>"
      ],
      "text/plain": [
       "           Name                 Email  \\\n",
       "576  PERSON_522  PERSON_522@gmail.com   \n",
       "577  PERSON_523  PERSON_523@gmail.com   \n",
       "578  PERSON_523  PERSON_523@gmail.com   \n",
       "579  PERSON_524  PERSON_524@gmail.com   \n",
       "580  PERSON_525  PERSON_525@gmail.com   \n",
       "\n",
       "                                               Product     Transaction Date  \n",
       "576  PRODUCT_48,PRODUCT_80,PRODUCT_71,PRODUCT_68,PR...  07/03/2021 23:53:03  \n",
       "577                                          PRODUCT_8  07/03/2021 23:55:01  \n",
       "578  PRODUCT_36,PRODUCT_14,PRODUCT_64,PRODUCT_28,PR...  07/03/2021 23:58:24  \n",
       "579  PRODUCT_75,PRODUCT_71,PRODUCT_86,PRODUCT_63,PR...  07/03/2021 23:59:26  \n",
       "580                              PRODUCT_66,PRODUCT_34  07/03/2021 23:59:19  "
      ]
     },
     "execution_count": 13,
     "metadata": {},
     "output_type": "execute_result"
    }
   ],
   "source": [
    "Order_Details.tail()"
   ]
  },
  {
   "cell_type": "code",
   "execution_count": 14,
   "id": "2f6ae63e",
   "metadata": {},
   "outputs": [
    {
     "name": "stdout",
     "output_type": "stream",
     "text": [
      "<class 'pandas.core.frame.DataFrame'>\n",
      "RangeIndex: 581 entries, 0 to 580\n",
      "Data columns (total 4 columns):\n",
      " #   Column            Non-Null Count  Dtype \n",
      "---  ------            --------------  ----- \n",
      " 0   Name              581 non-null    object\n",
      " 1   Email             581 non-null    object\n",
      " 2   Product           581 non-null    object\n",
      " 3   Transaction Date  581 non-null    object\n",
      "dtypes: object(4)\n",
      "memory usage: 18.3+ KB\n"
     ]
    }
   ],
   "source": [
    "Order_Details.info()"
   ]
  },
  {
   "cell_type": "code",
   "execution_count": 15,
   "id": "c6596400",
   "metadata": {},
   "outputs": [
    {
     "data": {
      "text/html": [
       "<div>\n",
       "<style scoped>\n",
       "    .dataframe tbody tr th:only-of-type {\n",
       "        vertical-align: middle;\n",
       "    }\n",
       "\n",
       "    .dataframe tbody tr th {\n",
       "        vertical-align: top;\n",
       "    }\n",
       "\n",
       "    .dataframe thead th {\n",
       "        text-align: right;\n",
       "    }\n",
       "</style>\n",
       "<table border=\"1\" class=\"dataframe\">\n",
       "  <thead>\n",
       "    <tr style=\"text-align: right;\">\n",
       "      <th></th>\n",
       "      <th>Name</th>\n",
       "      <th>Email</th>\n",
       "      <th>Product</th>\n",
       "      <th>Transaction Date</th>\n",
       "    </tr>\n",
       "  </thead>\n",
       "  <tbody>\n",
       "    <tr>\n",
       "      <th>count</th>\n",
       "      <td>581</td>\n",
       "      <td>581</td>\n",
       "      <td>581</td>\n",
       "      <td>581</td>\n",
       "    </tr>\n",
       "    <tr>\n",
       "      <th>unique</th>\n",
       "      <td>525</td>\n",
       "      <td>525</td>\n",
       "      <td>252</td>\n",
       "      <td>581</td>\n",
       "    </tr>\n",
       "    <tr>\n",
       "      <th>top</th>\n",
       "      <td>PERSON_470</td>\n",
       "      <td>PERSON_470@gmail.com</td>\n",
       "      <td>PRODUCT_75</td>\n",
       "      <td>01/03/2021 00:47:26</td>\n",
       "    </tr>\n",
       "    <tr>\n",
       "      <th>freq</th>\n",
       "      <td>5</td>\n",
       "      <td>5</td>\n",
       "      <td>74</td>\n",
       "      <td>1</td>\n",
       "    </tr>\n",
       "  </tbody>\n",
       "</table>\n",
       "</div>"
      ],
      "text/plain": [
       "              Name                 Email     Product     Transaction Date\n",
       "count          581                   581         581                  581\n",
       "unique         525                   525         252                  581\n",
       "top     PERSON_470  PERSON_470@gmail.com  PRODUCT_75  01/03/2021 00:47:26\n",
       "freq             5                     5          74                    1"
      ]
     },
     "execution_count": 15,
     "metadata": {},
     "output_type": "execute_result"
    }
   ],
   "source": [
    "Order_Details.describe()"
   ]
  },
  {
   "cell_type": "code",
   "execution_count": 16,
   "id": "e4e851a5",
   "metadata": {},
   "outputs": [
    {
     "data": {
      "text/html": [
       "<div>\n",
       "<style scoped>\n",
       "    .dataframe tbody tr th:only-of-type {\n",
       "        vertical-align: middle;\n",
       "    }\n",
       "\n",
       "    .dataframe tbody tr th {\n",
       "        vertical-align: top;\n",
       "    }\n",
       "\n",
       "    .dataframe thead th {\n",
       "        text-align: right;\n",
       "    }\n",
       "</style>\n",
       "<table border=\"1\" class=\"dataframe\">\n",
       "  <thead>\n",
       "    <tr style=\"text-align: right;\">\n",
       "      <th></th>\n",
       "      <th>Name</th>\n",
       "      <th>Email</th>\n",
       "      <th>Product</th>\n",
       "      <th>Transaction Date</th>\n",
       "    </tr>\n",
       "  </thead>\n",
       "  <tbody>\n",
       "    <tr>\n",
       "      <th>count</th>\n",
       "      <td>581</td>\n",
       "      <td>581</td>\n",
       "      <td>581</td>\n",
       "      <td>581</td>\n",
       "    </tr>\n",
       "    <tr>\n",
       "      <th>unique</th>\n",
       "      <td>525</td>\n",
       "      <td>525</td>\n",
       "      <td>252</td>\n",
       "      <td>581</td>\n",
       "    </tr>\n",
       "    <tr>\n",
       "      <th>top</th>\n",
       "      <td>PERSON_470</td>\n",
       "      <td>PERSON_470@gmail.com</td>\n",
       "      <td>PRODUCT_75</td>\n",
       "      <td>01/03/2021 00:47:26</td>\n",
       "    </tr>\n",
       "    <tr>\n",
       "      <th>freq</th>\n",
       "      <td>5</td>\n",
       "      <td>5</td>\n",
       "      <td>74</td>\n",
       "      <td>1</td>\n",
       "    </tr>\n",
       "  </tbody>\n",
       "</table>\n",
       "</div>"
      ],
      "text/plain": [
       "              Name                 Email     Product     Transaction Date\n",
       "count          581                   581         581                  581\n",
       "unique         525                   525         252                  581\n",
       "top     PERSON_470  PERSON_470@gmail.com  PRODUCT_75  01/03/2021 00:47:26\n",
       "freq             5                     5          74                    1"
      ]
     },
     "execution_count": 16,
     "metadata": {},
     "output_type": "execute_result"
    }
   ],
   "source": [
    "import numpy as np\n",
    "Order_Details.describe(include=object)"
   ]
  },
  {
   "cell_type": "code",
   "execution_count": 18,
   "id": "42ddc1f8",
   "metadata": {},
   "outputs": [
    {
     "data": {
      "text/plain": [
       "PERSON_470    5\n",
       "PERSON_330    4\n",
       "PERSON_75     3\n",
       "PERSON_156    3\n",
       "PERSON_290    3\n",
       "             ..\n",
       "PERSON_187    1\n",
       "PERSON_186    1\n",
       "PERSON_185    1\n",
       "PERSON_184    1\n",
       "PERSON_525    1\n",
       "Name: Name, Length: 525, dtype: int64"
      ]
     },
     "execution_count": 18,
     "metadata": {},
     "output_type": "execute_result"
    }
   ],
   "source": [
    "Order_Details[\"Name\"].value_counts()"
   ]
  },
  {
   "cell_type": "code",
   "execution_count": 19,
   "id": "ac8ef16c",
   "metadata": {},
   "outputs": [
    {
     "data": {
      "text/plain": [
       "PRODUCT_75                                                74\n",
       "PRODUCT_63                                                46\n",
       "PRODUCT_25                                                31\n",
       "PRODUCT_74                                                28\n",
       "PRODUCT_27                                                23\n",
       "                                                          ..\n",
       "PRODUCT_37,PRODUCT_2,PRODUCT_25                            1\n",
       "PRODUCT_60,PRODUCT_38,PRODUCT_69,PRODUCT_80,PRODUCT_54     1\n",
       "PRODUCT_75,PRODUCT_26,PRODUCT_79                           1\n",
       "PRODUCT_25,PRODUCT_64,PRODUCT_8                            1\n",
       "PRODUCT_66,PRODUCT_34                                      1\n",
       "Name: Product, Length: 252, dtype: int64"
      ]
     },
     "execution_count": 19,
     "metadata": {},
     "output_type": "execute_result"
    }
   ],
   "source": [
    "Order_Details[\"Product\"].value_counts()"
   ]
  },
  {
   "cell_type": "code",
   "execution_count": null,
   "id": "1303f7cc",
   "metadata": {},
   "outputs": [],
   "source": []
  }
 ],
 "metadata": {
  "kernelspec": {
   "display_name": "Python 3 (ipykernel)",
   "language": "python",
   "name": "python3"
  },
  "language_info": {
   "codemirror_mode": {
    "name": "ipython",
    "version": 3
   },
   "file_extension": ".py",
   "mimetype": "text/x-python",
   "name": "python",
   "nbconvert_exporter": "python",
   "pygments_lexer": "ipython3",
   "version": "3.10.9"
  }
 },
 "nbformat": 4,
 "nbformat_minor": 5
}
