{
 "cells": [
  {
   "cell_type": "code",
   "execution_count": 1,
   "id": "b7ab3bee",
   "metadata": {},
   "outputs": [],
   "source": [
    "# How to Give Inputs to a Machine Learning Model"
   ]
  },
  {
   "cell_type": "code",
   "execution_count": 2,
   "id": "b7e60f69",
   "metadata": {},
   "outputs": [],
   "source": [
    "# https://thecleverprogrammer.com/2021/11/29/how-to-give-inputs-to-a-machine-learning-model/"
   ]
  },
  {
   "cell_type": "code",
   "execution_count": 4,
   "id": "6acf65ca",
   "metadata": {},
   "outputs": [],
   "source": [
    "import pandas as pd\n",
    "import numpy as np\n",
    "iris = pd.read_csv(\"https://raw.githubusercontent.com/amankharwal/Website-data/master/IRIS.csv\")\n",
    "# splitting the dataset\n",
    "x = iris.drop(\"species\", axis=1)\n",
    "y = iris[\"species\"]\n",
    "from sklearn.model_selection import train_test_split\n",
    "x_train, x_test, y_train, y_test = train_test_split(x, y, \n",
    "                                                    test_size=0.2, \n",
    "                                                    random_state=0)"
   ]
  },
  {
   "cell_type": "code",
   "execution_count": 5,
   "id": "f3581717",
   "metadata": {},
   "outputs": [
    {
     "name": "stdout",
     "output_type": "stream",
     "text": [
      "Prediction: ['Iris-setosa']\n"
     ]
    },
    {
     "name": "stderr",
     "output_type": "stream",
     "text": [
      "C:\\Users\\DELL\\anaconda3\\lib\\site-packages\\sklearn\\base.py:464: UserWarning: X does not have valid feature names, but KNeighborsClassifier was fitted with feature names\n",
      "  warnings.warn(\n"
     ]
    }
   ],
   "source": [
    "#  training the model\n",
    "from sklearn.neighbors import KNeighborsClassifier\n",
    "knn = KNeighborsClassifier(n_neighbors=1)\n",
    "knn.fit(x_train, y_train)\n",
    "# giving inputs to the machine learning model\n",
    "# features = [[sepal_length, sepal_width, petal_length, petal_width]]\n",
    "features = np.array([[5, 2.9, 1, 0.2]])\n",
    "# using inputs to predict the output\n",
    "prediction = knn.predict(features)\n",
    "print(\"Prediction: {}\".format(prediction))\n"
   ]
  },
  {
   "cell_type": "code",
   "execution_count": 6,
   "id": "4339d119",
   "metadata": {},
   "outputs": [],
   "source": [
    "# So this is how you can give inputs to a model to calculate the predicted value based on the input values."
   ]
  }
 ],
 "metadata": {
  "kernelspec": {
   "display_name": "Python 3 (ipykernel)",
   "language": "python",
   "name": "python3"
  },
  "language_info": {
   "codemirror_mode": {
    "name": "ipython",
    "version": 3
   },
   "file_extension": ".py",
   "mimetype": "text/x-python",
   "name": "python",
   "nbconvert_exporter": "python",
   "pygments_lexer": "ipython3",
   "version": "3.10.9"
  }
 },
 "nbformat": 4,
 "nbformat_minor": 5
}
