{
 "cells": [
  {
   "cell_type": "code",
   "execution_count": 1,
   "id": "c5bb787b",
   "metadata": {},
   "outputs": [],
   "source": [
    "# Top 5 Interview Questions on Missing Value Imputation"
   ]
  },
  {
   "cell_type": "code",
   "execution_count": 2,
   "id": "0abf2b17",
   "metadata": {},
   "outputs": [],
   "source": [
    "# https://www.analyticsvidhya.com/blog/2022/11/top-5-interview-questions-on-missing-value-imputation/?utm_source=related_WP&utm_medium=https://www.analyticsvidhya.com/blog/2016/01/guide-data-exploration/"
   ]
  },
  {
   "cell_type": "code",
   "execution_count": 5,
   "id": "b622a34c",
   "metadata": {},
   "outputs": [],
   "source": [
    "#importing required libraries\n",
    "import numpy as np\n",
    "import pandas as pd\n",
    "# importing the dataset\n",
    "df= pd.read_csv('iris.csv')"
   ]
  },
  {
   "cell_type": "code",
   "execution_count": 6,
   "id": "8e7695d7",
   "metadata": {},
   "outputs": [
    {
     "data": {
      "text/plain": [
       "(150, 5)"
      ]
     },
     "execution_count": 6,
     "metadata": {},
     "output_type": "execute_result"
    }
   ],
   "source": [
    "df.shape"
   ]
  },
  {
   "cell_type": "code",
   "execution_count": 7,
   "id": "63b0e8da",
   "metadata": {},
   "outputs": [
    {
     "name": "stdout",
     "output_type": "stream",
     "text": [
      "sepal_length    0\n",
      "sepal_width     0\n",
      "petal_length    0\n",
      "petal_width     0\n",
      "species         0\n",
      "dtype: int64\n"
     ]
    }
   ],
   "source": [
    "print(df.isnull().sum())"
   ]
  },
  {
   "cell_type": "code",
   "execution_count": 8,
   "id": "b4cbe1ed",
   "metadata": {},
   "outputs": [
    {
     "name": "stdout",
     "output_type": "stream",
     "text": [
      "sepal_length    0\n",
      "sepal_width     0\n",
      "petal_length    0\n",
      "petal_width     0\n",
      "species         0\n",
      "dtype: int64\n"
     ]
    }
   ],
   "source": [
    "print(df.isna().sum())"
   ]
  },
  {
   "cell_type": "code",
   "execution_count": 9,
   "id": "7ad8e17d",
   "metadata": {},
   "outputs": [],
   "source": [
    "# dropping the missing data\n",
    "df = df.dropna()"
   ]
  },
  {
   "cell_type": "code",
   "execution_count": 10,
   "id": "1cbe3557",
   "metadata": {},
   "outputs": [
    {
     "data": {
      "text/plain": [
       "(150, 5)"
      ]
     },
     "execution_count": 10,
     "metadata": {},
     "output_type": "execute_result"
    }
   ],
   "source": [
    "df.shape"
   ]
  },
  {
   "cell_type": "markdown",
   "id": "ce5a158a",
   "metadata": {},
   "source": [
    "Although, Complete case analysis is not the best solution for handling the missing data, as by dropping the missing data, we are also losing some of the information of the data, and also it might be possible that sometimes the dropped missing data could also contain a piece of important information that the other data does not. So in most cases, while handling the missing data, complete case analysis is not preferred unless and until there is not any other option.\n",
    "\n",
    "According to the researcher, these techniques should be considered when there is 5% or less than 5% of the data is missing from the dataset."
   ]
  },
  {
   "cell_type": "code",
   "execution_count": 11,
   "id": "28a358aa",
   "metadata": {},
   "outputs": [],
   "source": [
    "# Handling Missing Data with SimpleImputer"
   ]
  },
  {
   "cell_type": "code",
   "execution_count": 12,
   "id": "2c285af5",
   "metadata": {},
   "outputs": [],
   "source": [
    "# https://www.analyticsvidhya.com/blog/2022/10/handling-missing-data-with-simpleimputer/?utm_source=related_WP&utm_medium=https://www.analyticsvidhya.com/blog/2022/11/top-5-interview-questions-on-missing-value-imputation/"
   ]
  },
  {
   "cell_type": "code",
   "execution_count": 13,
   "id": "855839a7",
   "metadata": {},
   "outputs": [],
   "source": [
    "# importing simpleimputer\n",
    "from sklearn.impute import SimpleImputer"
   ]
  },
  {
   "cell_type": "code",
   "execution_count": 14,
   "id": "a2674ab4",
   "metadata": {},
   "outputs": [
    {
     "name": "stdout",
     "output_type": "stream",
     "text": [
      "[[ 7.   2.   3. ]\n",
      " [ 4.   3.5  6. ]\n",
      " [10.   3.5  9. ]]\n"
     ]
    }
   ],
   "source": [
    "# Example\n",
    "imp_mean = SimpleImputer(missing_values=np.nan, strategy='mean')\n",
    "imp_mean.fit([[7, 2, 3], [4, np.nan, 6], [10, 5, 9]])\n",
    "age = [[np.nan, 2, 3], [4, np.nan, 6], [10, np.nan, 9]]\n",
    "print(imp_mean.transform(age))"
   ]
  },
  {
   "cell_type": "markdown",
   "id": "41948c56",
   "metadata": {},
   "source": [
    "Performing “Most_frequent” Imputation\n",
    "Most frequent imputation is a technique that is used for handling categorical missing data. This technique is used when we have missing values in a categorical column.\n",
    "\n",
    "Using a most frequent imputation technique on the particular categorical column will allow us to fill the missing values bu the most frequent value from the column occurring in the dataset.\n",
    "\n",
    "Code:\n",
    "\n",
    "imputer = SimpleImputer(missing_values=np.nan, strategy='most_frequent')\n",
    "imputer.fit(df['category'])\n",
    "df['category']= imputer.fit_transform(df['category'])"
   ]
  },
  {
   "cell_type": "code",
   "execution_count": 16,
   "id": "781114c5",
   "metadata": {},
   "outputs": [
    {
     "name": "stdout",
     "output_type": "stream",
     "text": [
      "[['four' 'two' 'two']\n",
      " ['four' 'five' 'six']\n",
      " ['ten' 'five' 'nine']]\n"
     ]
    }
   ],
   "source": [
    "# Example:\n",
    "\n",
    "imp_mf = SimpleImputer(missing_values=np.nan, strategy='most_frequent')\n",
    "imp_mf.fit([['one', 'two', 'three'], ['four', np.nan, 'six'], ['two', 'five', 'two']])\n",
    "category = [[np.nan, 'two', 'two'], ['four', np.nan, 'six'], ['ten', np.nan, 'nine']]\n",
    "print(imp_mf.transform(category))"
   ]
  },
  {
   "cell_type": "markdown",
   "id": "749016ae",
   "metadata": {},
   "source": [
    "Performing “Constant” Imputation\n",
    "Constant imputation is a technique in simple imputer using which we can fill the missing value by any desired value we want. This can be used on strings and numerical datasets.\n",
    "\n",
    "Passing the desired value to the fill_value parameter, we can fill all the missing values present in the dataset by the value passed in the fill_value parameter."
   ]
  },
  {
   "cell_type": "code",
   "execution_count": 17,
   "id": "f96166e1",
   "metadata": {},
   "outputs": [
    {
     "name": "stdout",
     "output_type": "stream",
     "text": [
      "[[20.  2.  3.]\n",
      " [ 4. 20.  6.]\n",
      " [10. 20.  9.]]\n"
     ]
    }
   ],
   "source": [
    "# Example:\n",
    "\n",
    "imp_constant = SimpleImputer(missing_values=np.nan, strategy='constant',fill_value=20)\n",
    "imp_constant.fit([[7, 2, 3], [4, np.nan, 6], [10, 5, 9]])\n",
    "age = [[np.nan, 2, 3], [4, np.nan, 6], [10, np.nan, 9]]\n",
    "print(imp_constant.transform(age))"
   ]
  },
  {
   "cell_type": "markdown",
   "id": "b34fded4",
   "metadata": {},
   "source": [
    "Conclusion\n",
    "In this article, the handling of missing data with the class SimpleImputer is discussed in detail. A total of 4 strategies, mean median, most_frequent, and constant, can be used to fill in the missing value and are discussed in the code example above.\n",
    "\n",
    "Some Key Takeaways From this article are:\n",
    "    \n",
    "    1. We should consider an outlier scenario while working with a meaningful strategy, as outliers can impact the data imputed and may result in a less accurate model with unexpected behavior. (avoid using mean strategy in case of outliers).\n",
    "\n",
    "2. Mean and Median is a strategy that only can be used on numerical data, and the most frequent strategy can be used only on categorical data. They are one of the easiest and lower computational methods.\n",
    "\n",
    "3. Constant strategy can be used when we have a better understanding of the dataset, and we already know the impact of imputing the missing values by our desired number or string. It can be used on strings and numerical data."
   ]
  },
  {
   "cell_type": "code",
   "execution_count": 18,
   "id": "b90a1911",
   "metadata": {},
   "outputs": [],
   "source": [
    "# Effective Strategies for Handling Missing Values in Data Analysis (Updated 2023)"
   ]
  },
  {
   "cell_type": "code",
   "execution_count": 19,
   "id": "d9948fca",
   "metadata": {},
   "outputs": [],
   "source": [
    "# https://www.analyticsvidhya.com/blog/2021/10/handling-missing-value/?utm_source=related_WP&utm_medium=https://www.analyticsvidhya.com/blog/2022/10/handling-missing-data-with-simpleimputer/"
   ]
  },
  {
   "cell_type": "code",
   "execution_count": null,
   "id": "9cceb399",
   "metadata": {},
   "outputs": [],
   "source": [
    "#https://www.analyticsvidhya.com/blog/2015/06/tuning-random-forest-model/"
   ]
  },
  {
   "cell_type": "code",
   "execution_count": null,
   "id": "1e33df74",
   "metadata": {},
   "outputs": [],
   "source": [
    "# https://courses.analyticsvidhya.com/courses/take/loan-prediction-practice-problem-using-python/texts/6119370-hypothesis-generation"
   ]
  },
  {
   "cell_type": "code",
   "execution_count": null,
   "id": "14c37516",
   "metadata": {},
   "outputs": [],
   "source": [
    "# https://www.analyticsvidhya.com/blog/2016/01/guide-data-exploration/"
   ]
  },
  {
   "cell_type": "code",
   "execution_count": null,
   "id": "b8530d7e",
   "metadata": {},
   "outputs": [],
   "source": [
    "# https://www.analyticsvidhya.com/blog/2015/12/improve-machine-learning-results/"
   ]
  }
 ],
 "metadata": {
  "kernelspec": {
   "display_name": "Python 3 (ipykernel)",
   "language": "python",
   "name": "python3"
  },
  "language_info": {
   "codemirror_mode": {
    "name": "ipython",
    "version": 3
   },
   "file_extension": ".py",
   "mimetype": "text/x-python",
   "name": "python",
   "nbconvert_exporter": "python",
   "pygments_lexer": "ipython3",
   "version": "3.10.9"
  }
 },
 "nbformat": 4,
 "nbformat_minor": 5
}
