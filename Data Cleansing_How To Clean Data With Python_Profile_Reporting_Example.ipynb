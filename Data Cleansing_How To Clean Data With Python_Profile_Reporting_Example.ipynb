{
 "cells": [
  {
   "cell_type": "code",
   "execution_count": 1,
   "id": "b782847b",
   "metadata": {},
   "outputs": [],
   "source": [
    "# Data Cleansing: How To Clean Data With Python!"
   ]
  },
  {
   "cell_type": "code",
   "execution_count": 2,
   "id": "c361ddff",
   "metadata": {},
   "outputs": [],
   "source": [
    "# https://www.analyticsvidhya.com/blog/2021/06/data-cleansing-how-to-clean-data-with-python/?utm_source=related_WP&utm_medium=https://www.analyticsvidhya.com/blog/2022/10/handling-missing-data-with-simpleimputer/"
   ]
  },
  {
   "cell_type": "code",
   "execution_count": 3,
   "id": "3f5dc111",
   "metadata": {},
   "outputs": [],
   "source": [
    "import pandas as pd\n",
    "import numpy as np\n",
    "import matplotlib.pyplot as plt\n",
    "import seaborn as sns\n",
    "%matplotlib inline"
   ]
  },
  {
   "cell_type": "code",
   "execution_count": 4,
   "id": "4e9a8e24",
   "metadata": {},
   "outputs": [
    {
     "data": {
      "text/html": [
       "<div>\n",
       "<style scoped>\n",
       "    .dataframe tbody tr th:only-of-type {\n",
       "        vertical-align: middle;\n",
       "    }\n",
       "\n",
       "    .dataframe tbody tr th {\n",
       "        vertical-align: top;\n",
       "    }\n",
       "\n",
       "    .dataframe thead th {\n",
       "        text-align: right;\n",
       "    }\n",
       "</style>\n",
       "<table border=\"1\" class=\"dataframe\">\n",
       "  <thead>\n",
       "    <tr style=\"text-align: right;\">\n",
       "      <th></th>\n",
       "      <th>Loan_ID</th>\n",
       "      <th>Gender</th>\n",
       "      <th>Married</th>\n",
       "      <th>Dependents</th>\n",
       "      <th>Education</th>\n",
       "      <th>Self_Employed</th>\n",
       "      <th>ApplicantIncome</th>\n",
       "      <th>CoapplicantIncome</th>\n",
       "      <th>LoanAmount</th>\n",
       "      <th>Loan_Amount_Term</th>\n",
       "      <th>Credit_History</th>\n",
       "      <th>Property_Area</th>\n",
       "      <th>Loan_Status</th>\n",
       "    </tr>\n",
       "  </thead>\n",
       "  <tbody>\n",
       "    <tr>\n",
       "      <th>0</th>\n",
       "      <td>LP001002</td>\n",
       "      <td>Male</td>\n",
       "      <td>No</td>\n",
       "      <td>0</td>\n",
       "      <td>Graduate</td>\n",
       "      <td>No</td>\n",
       "      <td>5849</td>\n",
       "      <td>0.0</td>\n",
       "      <td>NaN</td>\n",
       "      <td>360.0</td>\n",
       "      <td>1.0</td>\n",
       "      <td>Urban</td>\n",
       "      <td>Y</td>\n",
       "    </tr>\n",
       "    <tr>\n",
       "      <th>1</th>\n",
       "      <td>LP001003</td>\n",
       "      <td>Male</td>\n",
       "      <td>Yes</td>\n",
       "      <td>1</td>\n",
       "      <td>Graduate</td>\n",
       "      <td>No</td>\n",
       "      <td>4583</td>\n",
       "      <td>1508.0</td>\n",
       "      <td>128.0</td>\n",
       "      <td>360.0</td>\n",
       "      <td>1.0</td>\n",
       "      <td>Rural</td>\n",
       "      <td>N</td>\n",
       "    </tr>\n",
       "    <tr>\n",
       "      <th>2</th>\n",
       "      <td>LP001005</td>\n",
       "      <td>Male</td>\n",
       "      <td>Yes</td>\n",
       "      <td>0</td>\n",
       "      <td>Graduate</td>\n",
       "      <td>Yes</td>\n",
       "      <td>3000</td>\n",
       "      <td>0.0</td>\n",
       "      <td>66.0</td>\n",
       "      <td>360.0</td>\n",
       "      <td>1.0</td>\n",
       "      <td>Urban</td>\n",
       "      <td>Y</td>\n",
       "    </tr>\n",
       "    <tr>\n",
       "      <th>3</th>\n",
       "      <td>LP001006</td>\n",
       "      <td>Male</td>\n",
       "      <td>Yes</td>\n",
       "      <td>0</td>\n",
       "      <td>Not Graduate</td>\n",
       "      <td>No</td>\n",
       "      <td>2583</td>\n",
       "      <td>2358.0</td>\n",
       "      <td>120.0</td>\n",
       "      <td>360.0</td>\n",
       "      <td>1.0</td>\n",
       "      <td>Urban</td>\n",
       "      <td>Y</td>\n",
       "    </tr>\n",
       "    <tr>\n",
       "      <th>4</th>\n",
       "      <td>LP001008</td>\n",
       "      <td>Male</td>\n",
       "      <td>No</td>\n",
       "      <td>0</td>\n",
       "      <td>Graduate</td>\n",
       "      <td>No</td>\n",
       "      <td>6000</td>\n",
       "      <td>0.0</td>\n",
       "      <td>141.0</td>\n",
       "      <td>360.0</td>\n",
       "      <td>1.0</td>\n",
       "      <td>Urban</td>\n",
       "      <td>Y</td>\n",
       "    </tr>\n",
       "  </tbody>\n",
       "</table>\n",
       "</div>"
      ],
      "text/plain": [
       "    Loan_ID Gender Married Dependents     Education Self_Employed  \\\n",
       "0  LP001002   Male      No          0      Graduate            No   \n",
       "1  LP001003   Male     Yes          1      Graduate            No   \n",
       "2  LP001005   Male     Yes          0      Graduate           Yes   \n",
       "3  LP001006   Male     Yes          0  Not Graduate            No   \n",
       "4  LP001008   Male      No          0      Graduate            No   \n",
       "\n",
       "   ApplicantIncome  CoapplicantIncome  LoanAmount  Loan_Amount_Term  \\\n",
       "0             5849                0.0         NaN             360.0   \n",
       "1             4583             1508.0       128.0             360.0   \n",
       "2             3000                0.0        66.0             360.0   \n",
       "3             2583             2358.0       120.0             360.0   \n",
       "4             6000                0.0       141.0             360.0   \n",
       "\n",
       "   Credit_History Property_Area Loan_Status  \n",
       "0             1.0         Urban           Y  \n",
       "1             1.0         Rural           N  \n",
       "2             1.0         Urban           Y  \n",
       "3             1.0         Urban           Y  \n",
       "4             1.0         Urban           Y  "
      ]
     },
     "execution_count": 4,
     "metadata": {},
     "output_type": "execute_result"
    }
   ],
   "source": [
    "#to read the dataset\n",
    "df=pd.read_csv(\"train_u6lujuX_CVtuZ9i.csv\")\n",
    "df.head()"
   ]
  },
  {
   "cell_type": "code",
   "execution_count": 6,
   "id": "ef9915da",
   "metadata": {},
   "outputs": [
    {
     "name": "stdout",
     "output_type": "stream",
     "text": [
      "Collecting pandas_profilingNote: you may need to restart the kernel to use updated packages.\n"
     ]
    },
    {
     "name": "stderr",
     "output_type": "stream",
     "text": [
      "\n",
      "[notice] A new release of pip is available: 23.1.2 -> 23.2.1\n",
      "[notice] To update, run: python.exe -m pip install --upgrade pip\n"
     ]
    },
    {
     "name": "stdout",
     "output_type": "stream",
     "text": [
      "\n",
      "  Downloading pandas_profiling-3.6.6-py2.py3-none-any.whl (324 kB)\n",
      "                                              0.0/324.4 kB ? eta -:--:--\n",
      "     -------------------------------------  317.4/324.4 kB 9.9 MB/s eta 0:00:01\n",
      "     -------------------------------------- 324.4/324.4 kB 4.0 MB/s eta 0:00:00\n",
      "Collecting ydata-profiling (from pandas_profiling)\n",
      "  Downloading ydata_profiling-4.5.1-py2.py3-none-any.whl (357 kB)\n",
      "                                              0.0/357.3 kB ? eta -:--:--\n",
      "     ------------------------------------  348.2/357.3 kB 21.1 MB/s eta 0:00:01\n",
      "     -------------------------------------- 357.3/357.3 kB 4.4 MB/s eta 0:00:00\n",
      "Requirement already satisfied: scipy<1.12,>=1.4.1 in c:\\users\\dell\\anaconda3\\lib\\site-packages (from ydata-profiling->pandas_profiling) (1.10.0)\n",
      "Requirement already satisfied: pandas!=1.4.0,<2.1,>1.1 in c:\\users\\dell\\anaconda3\\lib\\site-packages (from ydata-profiling->pandas_profiling) (1.5.3)\n",
      "Requirement already satisfied: matplotlib<4,>=3.2 in c:\\users\\dell\\anaconda3\\lib\\site-packages (from ydata-profiling->pandas_profiling) (3.7.0)\n",
      "Collecting pydantic<2,>=1.8.1 (from ydata-profiling->pandas_profiling)\n",
      "  Downloading pydantic-1.10.12-cp310-cp310-win_amd64.whl (2.1 MB)\n",
      "                                              0.0/2.1 MB ? eta -:--:--\n",
      "     -----------------                        1.0/2.1 MB 20.0 MB/s eta 0:00:01\n",
      "     ------------------------------           1.6/2.1 MB 14.6 MB/s eta 0:00:01\n",
      "     ---------------------------------------  2.1/2.1 MB 16.9 MB/s eta 0:00:01\n",
      "     ---------------------------------------  2.1/2.1 MB 16.9 MB/s eta 0:00:01\n",
      "     ---------------------------------------  2.1/2.1 MB 16.9 MB/s eta 0:00:01\n",
      "     ---------------------------------------  2.1/2.1 MB 16.9 MB/s eta 0:00:01\n",
      "     ---------------------------------------  2.1/2.1 MB 16.9 MB/s eta 0:00:01\n",
      "     ---------------------------------------  2.1/2.1 MB 16.9 MB/s eta 0:00:01\n",
      "     ---------------------------------------  2.1/2.1 MB 16.9 MB/s eta 0:00:01\n",
      "     ---------------------------------------  2.1/2.1 MB 16.9 MB/s eta 0:00:01\n",
      "     ---------------------------------------  2.1/2.1 MB 16.9 MB/s eta 0:00:01\n",
      "     ---------------------------------------  2.1/2.1 MB 16.9 MB/s eta 0:00:01\n",
      "     ---------------------------------------  2.1/2.1 MB 16.9 MB/s eta 0:00:01\n",
      "     ---------------------------------------  2.1/2.1 MB 16.9 MB/s eta 0:00:01\n",
      "     ---------------------------------------  2.1/2.1 MB 16.9 MB/s eta 0:00:01\n",
      "     ---------------------------------------  2.1/2.1 MB 16.9 MB/s eta 0:00:01\n",
      "     ---------------------------------------  2.1/2.1 MB 16.9 MB/s eta 0:00:01\n",
      "     ---------------------------------------  2.1/2.1 MB 16.9 MB/s eta 0:00:01\n",
      "     ---------------------------------------  2.1/2.1 MB 16.9 MB/s eta 0:00:01\n",
      "     ---------------------------------------  2.1/2.1 MB 16.9 MB/s eta 0:00:01\n",
      "     ---------------------------------------  2.1/2.1 MB 16.9 MB/s eta 0:00:01\n",
      "     ---------------------------------------  2.1/2.1 MB 16.9 MB/s eta 0:00:01\n",
      "     ---------------------------------------  2.1/2.1 MB 16.9 MB/s eta 0:00:01\n",
      "     ---------------------------------------- 2.1/2.1 MB 1.9 MB/s eta 0:00:00\n",
      "Requirement already satisfied: PyYAML<6.1,>=5.0.0 in c:\\users\\dell\\anaconda3\\lib\\site-packages (from ydata-profiling->pandas_profiling) (6.0)\n",
      "Requirement already satisfied: jinja2<3.2,>=2.11.1 in c:\\users\\dell\\anaconda3\\lib\\site-packages (from ydata-profiling->pandas_profiling) (3.1.2)\n",
      "Collecting visions[type_image_path]==0.7.5 (from ydata-profiling->pandas_profiling)\n",
      "  Downloading visions-0.7.5-py3-none-any.whl (102 kB)\n",
      "                                              0.0/102.7 kB ? eta -:--:--\n",
      "     ---------------------------------------  102.4/102.7 kB ? eta -:--:--\n",
      "     ---------------------------------------  102.4/102.7 kB ? eta -:--:--\n",
      "     ------------------------------------ 102.7/102.7 kB 739.5 kB/s eta 0:00:00\n",
      "Requirement already satisfied: numpy<1.24,>=1.16.0 in c:\\users\\dell\\anaconda3\\lib\\site-packages (from ydata-profiling->pandas_profiling) (1.23.5)\n",
      "Collecting htmlmin==0.1.12 (from ydata-profiling->pandas_profiling)\n",
      "  Downloading htmlmin-0.1.12.tar.gz (19 kB)\n",
      "  Preparing metadata (setup.py): started\n",
      "  Preparing metadata (setup.py): finished with status 'done'\n",
      "Collecting phik<0.13,>=0.11.1 (from ydata-profiling->pandas_profiling)\n",
      "  Downloading phik-0.12.3-cp310-cp310-win_amd64.whl (663 kB)\n",
      "                                              0.0/663.4 kB ? eta -:--:--\n",
      "     ------------------------------------  655.4/663.4 kB 20.2 MB/s eta 0:00:01\n",
      "     ------------------------------------- 663.4/663.4 kB 10.4 MB/s eta 0:00:00\n",
      "Requirement already satisfied: requests<3,>=2.24.0 in c:\\users\\dell\\anaconda3\\lib\\site-packages (from ydata-profiling->pandas_profiling) (2.31.0)\n",
      "Requirement already satisfied: tqdm<5,>=4.48.2 in c:\\users\\dell\\anaconda3\\lib\\site-packages (from ydata-profiling->pandas_profiling) (4.64.1)\n",
      "Requirement already satisfied: seaborn<0.13,>=0.10.1 in c:\\users\\dell\\anaconda3\\lib\\site-packages (from ydata-profiling->pandas_profiling) (0.12.2)\n",
      "Collecting multimethod<2,>=1.4 (from ydata-profiling->pandas_profiling)\n",
      "  Downloading multimethod-1.9.1-py3-none-any.whl (10 kB)\n",
      "Requirement already satisfied: statsmodels<1,>=0.13.2 in c:\\users\\dell\\anaconda3\\lib\\site-packages (from ydata-profiling->pandas_profiling) (0.13.5)\n",
      "Collecting typeguard<3,>=2.13.2 (from ydata-profiling->pandas_profiling)\n",
      "  Downloading typeguard-2.13.3-py3-none-any.whl (17 kB)\n",
      "Collecting imagehash==4.3.1 (from ydata-profiling->pandas_profiling)\n",
      "  Downloading ImageHash-4.3.1-py2.py3-none-any.whl (296 kB)\n",
      "                                              0.0/296.5 kB ? eta -:--:--\n",
      "     -------------------------------------- 296.5/296.5 kB 8.9 MB/s eta 0:00:00\n",
      "Requirement already satisfied: wordcloud>=1.9.1 in c:\\users\\dell\\anaconda3\\lib\\site-packages (from ydata-profiling->pandas_profiling) (1.9.2)\n",
      "Collecting dacite>=1.8 (from ydata-profiling->pandas_profiling)\n",
      "  Downloading dacite-1.8.1-py3-none-any.whl (14 kB)\n",
      "Requirement already satisfied: PyWavelets in c:\\users\\dell\\anaconda3\\lib\\site-packages (from imagehash==4.3.1->ydata-profiling->pandas_profiling) (1.4.1)\n",
      "Requirement already satisfied: pillow in c:\\users\\dell\\anaconda3\\lib\\site-packages (from imagehash==4.3.1->ydata-profiling->pandas_profiling) (9.4.0)\n",
      "Requirement already satisfied: attrs>=19.3.0 in c:\\users\\dell\\anaconda3\\lib\\site-packages (from visions[type_image_path]==0.7.5->ydata-profiling->pandas_profiling) (22.1.0)\n",
      "Requirement already satisfied: networkx>=2.4 in c:\\users\\dell\\anaconda3\\lib\\site-packages (from visions[type_image_path]==0.7.5->ydata-profiling->pandas_profiling) (2.8.4)\n",
      "Collecting tangled-up-in-unicode>=0.0.4 (from visions[type_image_path]==0.7.5->ydata-profiling->pandas_profiling)\n",
      "  Downloading tangled_up_in_unicode-0.2.0-py3-none-any.whl (4.7 MB)\n",
      "                                              0.0/4.7 MB ? eta -:--:--\n",
      "     -----------                              1.4/4.7 MB 44.9 MB/s eta 0:00:01\n",
      "     ------------------------                 2.8/4.7 MB 26.0 MB/s eta 0:00:01\n",
      "     -----------------------------------      4.2/4.7 MB 29.4 MB/s eta 0:00:01\n",
      "     ---------------------------------------  4.7/4.7 MB 27.4 MB/s eta 0:00:01\n",
      "     ---------------------------------------  4.7/4.7 MB 27.4 MB/s eta 0:00:01\n",
      "     ---------------------------------------  4.7/4.7 MB 27.4 MB/s eta 0:00:01\n",
      "     ---------------------------------------- 4.7/4.7 MB 15.1 MB/s eta 0:00:00\n",
      "Requirement already satisfied: MarkupSafe>=2.0 in c:\\users\\dell\\anaconda3\\lib\\site-packages (from jinja2<3.2,>=2.11.1->ydata-profiling->pandas_profiling) (2.1.1)\n",
      "Requirement already satisfied: contourpy>=1.0.1 in c:\\users\\dell\\anaconda3\\lib\\site-packages (from matplotlib<4,>=3.2->ydata-profiling->pandas_profiling) (1.0.5)\n",
      "Requirement already satisfied: cycler>=0.10 in c:\\users\\dell\\anaconda3\\lib\\site-packages (from matplotlib<4,>=3.2->ydata-profiling->pandas_profiling) (0.11.0)\n",
      "Requirement already satisfied: fonttools>=4.22.0 in c:\\users\\dell\\anaconda3\\lib\\site-packages (from matplotlib<4,>=3.2->ydata-profiling->pandas_profiling) (4.25.0)\n",
      "Requirement already satisfied: kiwisolver>=1.0.1 in c:\\users\\dell\\anaconda3\\lib\\site-packages (from matplotlib<4,>=3.2->ydata-profiling->pandas_profiling) (1.4.4)\n",
      "Requirement already satisfied: packaging>=20.0 in c:\\users\\dell\\anaconda3\\lib\\site-packages (from matplotlib<4,>=3.2->ydata-profiling->pandas_profiling) (22.0)\n",
      "Requirement already satisfied: pyparsing>=2.3.1 in c:\\users\\dell\\anaconda3\\lib\\site-packages (from matplotlib<4,>=3.2->ydata-profiling->pandas_profiling) (3.0.9)\n",
      "Requirement already satisfied: python-dateutil>=2.7 in c:\\users\\dell\\anaconda3\\lib\\site-packages (from matplotlib<4,>=3.2->ydata-profiling->pandas_profiling) (2.8.2)\n",
      "Requirement already satisfied: pytz>=2020.1 in c:\\users\\dell\\anaconda3\\lib\\site-packages (from pandas!=1.4.0,<2.1,>1.1->ydata-profiling->pandas_profiling) (2022.7)\n",
      "Requirement already satisfied: joblib>=0.14.1 in c:\\users\\dell\\anaconda3\\lib\\site-packages (from phik<0.13,>=0.11.1->ydata-profiling->pandas_profiling) (1.1.1)\n",
      "Requirement already satisfied: typing-extensions>=4.2.0 in c:\\users\\dell\\anaconda3\\lib\\site-packages (from pydantic<2,>=1.8.1->ydata-profiling->pandas_profiling) (4.4.0)\n",
      "Requirement already satisfied: charset-normalizer<4,>=2 in c:\\users\\dell\\anaconda3\\lib\\site-packages (from requests<3,>=2.24.0->ydata-profiling->pandas_profiling) (2.0.4)\n",
      "Requirement already satisfied: idna<4,>=2.5 in c:\\users\\dell\\anaconda3\\lib\\site-packages (from requests<3,>=2.24.0->ydata-profiling->pandas_profiling) (3.4)\n",
      "Requirement already satisfied: urllib3<3,>=1.21.1 in c:\\users\\dell\\anaconda3\\lib\\site-packages (from requests<3,>=2.24.0->ydata-profiling->pandas_profiling) (1.26.14)\n",
      "Requirement already satisfied: certifi>=2017.4.17 in c:\\users\\dell\\anaconda3\\lib\\site-packages (from requests<3,>=2.24.0->ydata-profiling->pandas_profiling) (2023.5.7)\n",
      "Requirement already satisfied: patsy>=0.5.2 in c:\\users\\dell\\anaconda3\\lib\\site-packages (from statsmodels<1,>=0.13.2->ydata-profiling->pandas_profiling) (0.5.3)\n",
      "Requirement already satisfied: colorama in c:\\users\\dell\\anaconda3\\lib\\site-packages (from tqdm<5,>=4.48.2->ydata-profiling->pandas_profiling) (0.4.6)\n",
      "Requirement already satisfied: six in c:\\users\\dell\\anaconda3\\lib\\site-packages (from patsy>=0.5.2->statsmodels<1,>=0.13.2->ydata-profiling->pandas_profiling) (1.16.0)\n",
      "Building wheels for collected packages: htmlmin\n",
      "  Building wheel for htmlmin (setup.py): started\n",
      "  Building wheel for htmlmin (setup.py): finished with status 'done'\n",
      "  Created wheel for htmlmin: filename=htmlmin-0.1.12-py3-none-any.whl size=27092 sha256=a7e9111f4021be48fbaff11cd9434616a4822f86d84be4cb4c050211c49b83b8\n",
      "  Stored in directory: c:\\users\\dell\\appdata\\local\\pip\\cache\\wheels\\dd\\91\\29\\a79cecb328d01739e64017b6fb9a1ab9d8cb1853098ec5966d\n",
      "Successfully built htmlmin\n",
      "Installing collected packages: htmlmin, typeguard, tangled-up-in-unicode, pydantic, multimethod, dacite, imagehash, visions, phik, ydata-profiling, pandas_profiling\n",
      "Successfully installed dacite-1.8.1 htmlmin-0.1.12 imagehash-4.3.1 multimethod-1.9.1 pandas_profiling-3.6.6 phik-0.12.3 pydantic-1.10.12 tangled-up-in-unicode-0.2.0 typeguard-2.13.3 visions-0.7.5 ydata-profiling-4.5.1\n"
     ]
    }
   ],
   "source": [
    "pip install pandas_profiling"
   ]
  },
  {
   "cell_type": "code",
   "execution_count": 14,
   "id": "13bd6ac4",
   "metadata": {},
   "outputs": [],
   "source": [
    "import pandas_profiling as Pp\n",
    "from pandas_profiling import ProfileReport"
   ]
  },
  {
   "cell_type": "code",
   "execution_count": 15,
   "id": "cc4d0c24",
   "metadata": {},
   "outputs": [
    {
     "data": {
      "application/vnd.jupyter.widget-view+json": {
       "model_id": "b9e2d616fa464f2684bb961cab02f241",
       "version_major": 2,
       "version_minor": 0
      },
      "text/plain": [
       "Summarize dataset:   0%|          | 0/5 [00:00<?, ?it/s]"
      ]
     },
     "metadata": {},
     "output_type": "display_data"
    },
    {
     "data": {
      "application/vnd.jupyter.widget-view+json": {
       "model_id": "7a7add70d3df4dcfbfe095ae2501bbec",
       "version_major": 2,
       "version_minor": 0
      },
      "text/plain": [
       "Generate report structure:   0%|          | 0/1 [00:00<?, ?it/s]"
      ]
     },
     "metadata": {},
     "output_type": "display_data"
    },
    {
     "data": {
      "application/vnd.jupyter.widget-view+json": {
       "model_id": "41714f1c87d54c5e9efbbf3c02542763",
       "version_major": 2,
       "version_minor": 0
      },
      "text/plain": [
       "Render HTML:   0%|          | 0/1 [00:00<?, ?it/s]"
      ]
     },
     "metadata": {},
     "output_type": "display_data"
    },
    {
     "data": {
      "application/vnd.jupyter.widget-view+json": {
       "model_id": "63e824962d4d4db896a5a2895b98aa2d",
       "version_major": 2,
       "version_minor": 0
      },
      "text/plain": [
       "Export report to file:   0%|          | 0/1 [00:00<?, ?it/s]"
      ]
     },
     "metadata": {},
     "output_type": "display_data"
    }
   ],
   "source": [
    "# Pp = ProfileReport(df,title= \"Cleaning of Data to get started\")\n",
    "profile = Pp.ProfileReport(df)\n",
    "profile.to_file(\"output.html\")"
   ]
  },
  {
   "cell_type": "code",
   "execution_count": null,
   "id": "a3f03dab",
   "metadata": {},
   "outputs": [],
   "source": []
  }
 ],
 "metadata": {
  "kernelspec": {
   "display_name": "Python 3 (ipykernel)",
   "language": "python",
   "name": "python3"
  },
  "language_info": {
   "codemirror_mode": {
    "name": "ipython",
    "version": 3
   },
   "file_extension": ".py",
   "mimetype": "text/x-python",
   "name": "python",
   "nbconvert_exporter": "python",
   "pygments_lexer": "ipython3",
   "version": "3.10.9"
  }
 },
 "nbformat": 4,
 "nbformat_minor": 5
}
