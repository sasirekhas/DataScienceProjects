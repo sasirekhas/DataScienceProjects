{
 "cells": [
  {
   "cell_type": "code",
   "execution_count": 2,
   "id": "6da199ca",
   "metadata": {},
   "outputs": [],
   "source": [
    "# Restaurant Recommendation System using ML"
   ]
  },
  {
   "cell_type": "code",
   "execution_count": 3,
   "id": "3435f167",
   "metadata": {},
   "outputs": [],
   "source": [
    "# https://www.freecodecamp.org/news/how-to-process-textual-data-using-tf-idf-in-python-cd2bbc0a94a3/"
   ]
  },
  {
   "cell_type": "code",
   "execution_count": 4,
   "id": "58e39d65",
   "metadata": {},
   "outputs": [],
   "source": [
    "# Can learn from the above URL "
   ]
  },
  {
   "cell_type": "code",
   "execution_count": 5,
   "id": "51927868",
   "metadata": {},
   "outputs": [],
   "source": [
    "# https://www.kaggle.com/code/midouazerty/restaurant-recommendation-system-using-ml/notebook"
   ]
  },
  {
   "cell_type": "code",
   "execution_count": 6,
   "id": "cfb2ef80",
   "metadata": {},
   "outputs": [],
   "source": [
    "import numpy as np\n",
    "import pandas as pd\n",
    "import seaborn as sb\n",
    "import matplotlib.pyplot as plt\n",
    "import seaborn as sns\n",
    "from sklearn.linear_model import LogisticRegression\n",
    "from sklearn.linear_model import LinearRegression\n",
    "from sklearn.model_selection import train_test_split\n",
    "from sklearn.metrics import classification_report\n",
    "from sklearn.metrics import confusion_matrix\n",
    "from sklearn.metrics import r2_score\n",
    "import warnings\n",
    "warnings.filterwarnings('always')\n",
    "warnings.filterwarnings('ignore')\n",
    "import re\n",
    "from nltk.corpus import stopwords\n",
    "from sklearn.metrics.pairwise import linear_kernel\n",
    "from sklearn.feature_extraction.text import CountVectorizer\n",
    "from sklearn.feature_extraction.text import TfidfVectorizer"
   ]
  },
  {
   "cell_type": "code",
   "execution_count": 7,
   "id": "d0d00196",
   "metadata": {},
   "outputs": [
    {
     "data": {
      "text/html": [
       "<div>\n",
       "<style scoped>\n",
       "    .dataframe tbody tr th:only-of-type {\n",
       "        vertical-align: middle;\n",
       "    }\n",
       "\n",
       "    .dataframe tbody tr th {\n",
       "        vertical-align: top;\n",
       "    }\n",
       "\n",
       "    .dataframe thead th {\n",
       "        text-align: right;\n",
       "    }\n",
       "</style>\n",
       "<table border=\"1\" class=\"dataframe\">\n",
       "  <thead>\n",
       "    <tr style=\"text-align: right;\">\n",
       "      <th></th>\n",
       "      <th>url</th>\n",
       "      <th>address</th>\n",
       "      <th>name</th>\n",
       "      <th>online_order</th>\n",
       "      <th>book_table</th>\n",
       "      <th>rate</th>\n",
       "      <th>votes</th>\n",
       "      <th>phone</th>\n",
       "      <th>location</th>\n",
       "      <th>rest_type</th>\n",
       "      <th>dish_liked</th>\n",
       "      <th>cuisines</th>\n",
       "      <th>approx_cost(for two people)</th>\n",
       "      <th>reviews_list</th>\n",
       "      <th>menu_item</th>\n",
       "      <th>listed_in(type)</th>\n",
       "      <th>listed_in(city)</th>\n",
       "    </tr>\n",
       "  </thead>\n",
       "  <tbody>\n",
       "    <tr>\n",
       "      <th>0</th>\n",
       "      <td>https://www.zomato.com/bangalore/jalsa-banasha...</td>\n",
       "      <td>942, 21st Main Road, 2nd Stage, Banashankari, ...</td>\n",
       "      <td>Jalsa</td>\n",
       "      <td>Yes</td>\n",
       "      <td>Yes</td>\n",
       "      <td>4.1/5</td>\n",
       "      <td>775</td>\n",
       "      <td>080 42297555\\r\\n+91 9743772233</td>\n",
       "      <td>Banashankari</td>\n",
       "      <td>Casual Dining</td>\n",
       "      <td>Pasta, Lunch Buffet, Masala Papad, Paneer Laja...</td>\n",
       "      <td>North Indian, Mughlai, Chinese</td>\n",
       "      <td>800</td>\n",
       "      <td>[('Rated 4.0', 'RATED\\n  A beautiful place to ...</td>\n",
       "      <td>[]</td>\n",
       "      <td>Buffet</td>\n",
       "      <td>Banashankari</td>\n",
       "    </tr>\n",
       "    <tr>\n",
       "      <th>1</th>\n",
       "      <td>https://www.zomato.com/bangalore/spice-elephan...</td>\n",
       "      <td>2nd Floor, 80 Feet Road, Near Big Bazaar, 6th ...</td>\n",
       "      <td>Spice Elephant</td>\n",
       "      <td>Yes</td>\n",
       "      <td>No</td>\n",
       "      <td>4.1/5</td>\n",
       "      <td>787</td>\n",
       "      <td>080 41714161</td>\n",
       "      <td>Banashankari</td>\n",
       "      <td>Casual Dining</td>\n",
       "      <td>Momos, Lunch Buffet, Chocolate Nirvana, Thai G...</td>\n",
       "      <td>Chinese, North Indian, Thai</td>\n",
       "      <td>800</td>\n",
       "      <td>[('Rated 4.0', 'RATED\\n  Had been here for din...</td>\n",
       "      <td>[]</td>\n",
       "      <td>Buffet</td>\n",
       "      <td>Banashankari</td>\n",
       "    </tr>\n",
       "    <tr>\n",
       "      <th>2</th>\n",
       "      <td>https://www.zomato.com/SanchurroBangalore?cont...</td>\n",
       "      <td>1112, Next to KIMS Medical College, 17th Cross...</td>\n",
       "      <td>San Churro Cafe</td>\n",
       "      <td>Yes</td>\n",
       "      <td>No</td>\n",
       "      <td>3.8/5</td>\n",
       "      <td>918</td>\n",
       "      <td>+91 9663487993</td>\n",
       "      <td>Banashankari</td>\n",
       "      <td>Cafe, Casual Dining</td>\n",
       "      <td>Churros, Cannelloni, Minestrone Soup, Hot Choc...</td>\n",
       "      <td>Cafe, Mexican, Italian</td>\n",
       "      <td>800</td>\n",
       "      <td>[('Rated 3.0', \"RATED\\n  Ambience is not that ...</td>\n",
       "      <td>[]</td>\n",
       "      <td>Buffet</td>\n",
       "      <td>Banashankari</td>\n",
       "    </tr>\n",
       "    <tr>\n",
       "      <th>3</th>\n",
       "      <td>https://www.zomato.com/bangalore/addhuri-udupi...</td>\n",
       "      <td>1st Floor, Annakuteera, 3rd Stage, Banashankar...</td>\n",
       "      <td>Addhuri Udupi Bhojana</td>\n",
       "      <td>No</td>\n",
       "      <td>No</td>\n",
       "      <td>3.7/5</td>\n",
       "      <td>88</td>\n",
       "      <td>+91 9620009302</td>\n",
       "      <td>Banashankari</td>\n",
       "      <td>Quick Bites</td>\n",
       "      <td>Masala Dosa</td>\n",
       "      <td>South Indian, North Indian</td>\n",
       "      <td>300</td>\n",
       "      <td>[('Rated 4.0', \"RATED\\n  Great food and proper...</td>\n",
       "      <td>[]</td>\n",
       "      <td>Buffet</td>\n",
       "      <td>Banashankari</td>\n",
       "    </tr>\n",
       "    <tr>\n",
       "      <th>4</th>\n",
       "      <td>https://www.zomato.com/bangalore/grand-village...</td>\n",
       "      <td>10, 3rd Floor, Lakshmi Associates, Gandhi Baza...</td>\n",
       "      <td>Grand Village</td>\n",
       "      <td>No</td>\n",
       "      <td>No</td>\n",
       "      <td>3.8/5</td>\n",
       "      <td>166</td>\n",
       "      <td>+91 8026612447\\r\\n+91 9901210005</td>\n",
       "      <td>Basavanagudi</td>\n",
       "      <td>Casual Dining</td>\n",
       "      <td>Panipuri, Gol Gappe</td>\n",
       "      <td>North Indian, Rajasthani</td>\n",
       "      <td>600</td>\n",
       "      <td>[('Rated 4.0', 'RATED\\n  Very good restaurant ...</td>\n",
       "      <td>[]</td>\n",
       "      <td>Buffet</td>\n",
       "      <td>Banashankari</td>\n",
       "    </tr>\n",
       "  </tbody>\n",
       "</table>\n",
       "</div>"
      ],
      "text/plain": [
       "                                                 url  \\\n",
       "0  https://www.zomato.com/bangalore/jalsa-banasha...   \n",
       "1  https://www.zomato.com/bangalore/spice-elephan...   \n",
       "2  https://www.zomato.com/SanchurroBangalore?cont...   \n",
       "3  https://www.zomato.com/bangalore/addhuri-udupi...   \n",
       "4  https://www.zomato.com/bangalore/grand-village...   \n",
       "\n",
       "                                             address                   name  \\\n",
       "0  942, 21st Main Road, 2nd Stage, Banashankari, ...                  Jalsa   \n",
       "1  2nd Floor, 80 Feet Road, Near Big Bazaar, 6th ...         Spice Elephant   \n",
       "2  1112, Next to KIMS Medical College, 17th Cross...        San Churro Cafe   \n",
       "3  1st Floor, Annakuteera, 3rd Stage, Banashankar...  Addhuri Udupi Bhojana   \n",
       "4  10, 3rd Floor, Lakshmi Associates, Gandhi Baza...          Grand Village   \n",
       "\n",
       "  online_order book_table   rate  votes                             phone  \\\n",
       "0          Yes        Yes  4.1/5    775    080 42297555\\r\\n+91 9743772233   \n",
       "1          Yes         No  4.1/5    787                      080 41714161   \n",
       "2          Yes         No  3.8/5    918                    +91 9663487993   \n",
       "3           No         No  3.7/5     88                    +91 9620009302   \n",
       "4           No         No  3.8/5    166  +91 8026612447\\r\\n+91 9901210005   \n",
       "\n",
       "       location            rest_type  \\\n",
       "0  Banashankari        Casual Dining   \n",
       "1  Banashankari        Casual Dining   \n",
       "2  Banashankari  Cafe, Casual Dining   \n",
       "3  Banashankari          Quick Bites   \n",
       "4  Basavanagudi        Casual Dining   \n",
       "\n",
       "                                          dish_liked  \\\n",
       "0  Pasta, Lunch Buffet, Masala Papad, Paneer Laja...   \n",
       "1  Momos, Lunch Buffet, Chocolate Nirvana, Thai G...   \n",
       "2  Churros, Cannelloni, Minestrone Soup, Hot Choc...   \n",
       "3                                        Masala Dosa   \n",
       "4                                Panipuri, Gol Gappe   \n",
       "\n",
       "                         cuisines approx_cost(for two people)  \\\n",
       "0  North Indian, Mughlai, Chinese                         800   \n",
       "1     Chinese, North Indian, Thai                         800   \n",
       "2          Cafe, Mexican, Italian                         800   \n",
       "3      South Indian, North Indian                         300   \n",
       "4        North Indian, Rajasthani                         600   \n",
       "\n",
       "                                        reviews_list menu_item  \\\n",
       "0  [('Rated 4.0', 'RATED\\n  A beautiful place to ...        []   \n",
       "1  [('Rated 4.0', 'RATED\\n  Had been here for din...        []   \n",
       "2  [('Rated 3.0', \"RATED\\n  Ambience is not that ...        []   \n",
       "3  [('Rated 4.0', \"RATED\\n  Great food and proper...        []   \n",
       "4  [('Rated 4.0', 'RATED\\n  Very good restaurant ...        []   \n",
       "\n",
       "  listed_in(type) listed_in(city)  \n",
       "0          Buffet    Banashankari  \n",
       "1          Buffet    Banashankari  \n",
       "2          Buffet    Banashankari  \n",
       "3          Buffet    Banashankari  \n",
       "4          Buffet    Banashankari  "
      ]
     },
     "execution_count": 7,
     "metadata": {},
     "output_type": "execute_result"
    }
   ],
   "source": [
    "zomato_real=pd.read_csv('zomato.csv')\n",
    "zomato_real.head() # prints the first 5 rows of the dataset"
   ]
  },
  {
   "cell_type": "code",
   "execution_count": 8,
   "id": "7e3d61e1",
   "metadata": {},
   "outputs": [
    {
     "data": {
      "text/plain": [
       "(51717, 17)"
      ]
     },
     "execution_count": 8,
     "metadata": {},
     "output_type": "execute_result"
    }
   ],
   "source": [
    "zomato_real.shape"
   ]
  },
  {
   "cell_type": "code",
   "execution_count": 9,
   "id": "bfaae91d",
   "metadata": {},
   "outputs": [
    {
     "data": {
      "text/plain": [
       "url                            object\n",
       "address                        object\n",
       "name                           object\n",
       "online_order                   object\n",
       "book_table                     object\n",
       "rate                           object\n",
       "votes                           int64\n",
       "phone                          object\n",
       "location                       object\n",
       "rest_type                      object\n",
       "dish_liked                     object\n",
       "cuisines                       object\n",
       "approx_cost(for two people)    object\n",
       "reviews_list                   object\n",
       "menu_item                      object\n",
       "listed_in(type)                object\n",
       "listed_in(city)                object\n",
       "dtype: object"
      ]
     },
     "execution_count": 9,
     "metadata": {},
     "output_type": "execute_result"
    }
   ],
   "source": [
    "zomato_real.dtypes"
   ]
  },
  {
   "cell_type": "code",
   "execution_count": 10,
   "id": "45b0e968",
   "metadata": {},
   "outputs": [
    {
     "name": "stdout",
     "output_type": "stream",
     "text": [
      "<class 'pandas.core.frame.DataFrame'>\n",
      "RangeIndex: 51717 entries, 0 to 51716\n",
      "Data columns (total 17 columns):\n",
      " #   Column                       Non-Null Count  Dtype \n",
      "---  ------                       --------------  ----- \n",
      " 0   url                          51717 non-null  object\n",
      " 1   address                      51717 non-null  object\n",
      " 2   name                         51717 non-null  object\n",
      " 3   online_order                 51717 non-null  object\n",
      " 4   book_table                   51717 non-null  object\n",
      " 5   rate                         43942 non-null  object\n",
      " 6   votes                        51717 non-null  int64 \n",
      " 7   phone                        50509 non-null  object\n",
      " 8   location                     51696 non-null  object\n",
      " 9   rest_type                    51490 non-null  object\n",
      " 10  dish_liked                   23639 non-null  object\n",
      " 11  cuisines                     51672 non-null  object\n",
      " 12  approx_cost(for two people)  51371 non-null  object\n",
      " 13  reviews_list                 51717 non-null  object\n",
      " 14  menu_item                    51717 non-null  object\n",
      " 15  listed_in(type)              51717 non-null  object\n",
      " 16  listed_in(city)              51717 non-null  object\n",
      "dtypes: int64(1), object(16)\n",
      "memory usage: 6.7+ MB\n"
     ]
    }
   ],
   "source": [
    "zomato_real.info()"
   ]
  },
  {
   "cell_type": "code",
   "execution_count": 11,
   "id": "c2bb2d43",
   "metadata": {},
   "outputs": [
    {
     "data": {
      "text/html": [
       "<div>\n",
       "<style scoped>\n",
       "    .dataframe tbody tr th:only-of-type {\n",
       "        vertical-align: middle;\n",
       "    }\n",
       "\n",
       "    .dataframe tbody tr th {\n",
       "        vertical-align: top;\n",
       "    }\n",
       "\n",
       "    .dataframe thead th {\n",
       "        text-align: right;\n",
       "    }\n",
       "</style>\n",
       "<table border=\"1\" class=\"dataframe\">\n",
       "  <thead>\n",
       "    <tr style=\"text-align: right;\">\n",
       "      <th></th>\n",
       "      <th>votes</th>\n",
       "    </tr>\n",
       "  </thead>\n",
       "  <tbody>\n",
       "    <tr>\n",
       "      <th>count</th>\n",
       "      <td>51717.000000</td>\n",
       "    </tr>\n",
       "    <tr>\n",
       "      <th>mean</th>\n",
       "      <td>283.697527</td>\n",
       "    </tr>\n",
       "    <tr>\n",
       "      <th>std</th>\n",
       "      <td>803.838853</td>\n",
       "    </tr>\n",
       "    <tr>\n",
       "      <th>min</th>\n",
       "      <td>0.000000</td>\n",
       "    </tr>\n",
       "    <tr>\n",
       "      <th>25%</th>\n",
       "      <td>7.000000</td>\n",
       "    </tr>\n",
       "    <tr>\n",
       "      <th>50%</th>\n",
       "      <td>41.000000</td>\n",
       "    </tr>\n",
       "    <tr>\n",
       "      <th>75%</th>\n",
       "      <td>198.000000</td>\n",
       "    </tr>\n",
       "    <tr>\n",
       "      <th>max</th>\n",
       "      <td>16832.000000</td>\n",
       "    </tr>\n",
       "  </tbody>\n",
       "</table>\n",
       "</div>"
      ],
      "text/plain": [
       "              votes\n",
       "count  51717.000000\n",
       "mean     283.697527\n",
       "std      803.838853\n",
       "min        0.000000\n",
       "25%        7.000000\n",
       "50%       41.000000\n",
       "75%      198.000000\n",
       "max    16832.000000"
      ]
     },
     "execution_count": 11,
     "metadata": {},
     "output_type": "execute_result"
    }
   ],
   "source": [
    "zomato_real.describe()"
   ]
  },
  {
   "cell_type": "code",
   "execution_count": 12,
   "id": "6add3196",
   "metadata": {},
   "outputs": [
    {
     "data": {
      "text/plain": [
       "Index(['url', 'address', 'name', 'online_order', 'book_table', 'rate', 'votes',\n",
       "       'phone', 'location', 'rest_type', 'dish_liked', 'cuisines',\n",
       "       'approx_cost(for two people)', 'reviews_list', 'menu_item',\n",
       "       'listed_in(type)', 'listed_in(city)'],\n",
       "      dtype='object')"
      ]
     },
     "execution_count": 12,
     "metadata": {},
     "output_type": "execute_result"
    }
   ],
   "source": [
    "zomato_real.columns"
   ]
  },
  {
   "cell_type": "markdown",
   "id": "c2106c03",
   "metadata": {},
   "source": [
    "Now the next step is data cleaning and feature engineering for this step we need to do a lot of stuff with the data such as:\n",
    "\n",
    "Deleting Unnecessary Columns\n",
    "Removing the Duplicates\n",
    "Remove the NaN values from the dataset\n",
    "Changing the column names\n",
    "Data Transformations\n",
    "Data Cleaning\n",
    "Adjust the column names Now, let’s perform all the above steps in our data:"
   ]
  },
  {
   "cell_type": "code",
   "execution_count": 13,
   "id": "995b0d92",
   "metadata": {},
   "outputs": [],
   "source": [
    "#Deleting Unnnecessary Columns\n",
    "zomato=zomato_real.drop(['url','dish_liked','phone'],axis=1) #Dropping the column \"dish_liked\", \"phone\", \"url\" and saving the new dataset as \"zomato\"\n",
    "\n",
    "#Removing the Duplicates\n",
    "zomato.duplicated().sum()\n",
    "zomato.drop_duplicates(inplace=True)\n",
    "\n",
    "#Remove the NaN values from the dataset\n",
    "zomato.isnull().sum()\n",
    "zomato.dropna(how='any',inplace=True)\n",
    "\n",
    "#Changing the column names\n",
    "zomato = zomato.rename(columns={'approx_cost(for two people)':'cost','listed_in(type)':'type', 'listed_in(city)':'city'})\n",
    "\n",
    "#Some Transformations\n",
    "zomato['cost'] = zomato['cost'].astype(str) #Changing the cost to string\n",
    "zomato['cost'] = zomato['cost'].apply(lambda x: x.replace(',','.')) #Using lambda function to replace ',' from cost\n",
    "zomato['cost'] = zomato['cost'].astype(float)\n",
    "#Removing '/5' from Rates\n",
    "zomato = zomato.loc[zomato.rate !='NEW']\n",
    "zomato = zomato.loc[zomato.rate !='-'].reset_index(drop=True)\n",
    "remove_slash = lambda x: x.replace('/5', '') if type(x) == np.str else x\n",
    "zomato.rate = zomato.rate.apply(remove_slash).str.strip().astype('float')\n",
    "\n",
    "# Adjust the column names\n",
    "zomato.name = zomato.name.apply(lambda x:x.title())\n",
    "zomato.online_order.replace(('Yes','No'),(True, False),inplace=True)\n",
    "zomato.book_table.replace(('Yes','No'),(True, False),inplace=True)\n",
    "\n",
    "## Computing Mean Rating\n",
    "restaurants = list(zomato['name'].unique())\n",
    "zomato['Mean Rating'] = 0\n",
    "\n",
    "for i in range(len(restaurants)):\n",
    "    zomato['Mean Rating'][zomato['name'] == restaurants[i]] = zomato['rate'][zomato['name'] == restaurants[i]].mean()\n",
    "    \n",
    "from sklearn.preprocessing import MinMaxScaler\n",
    "scaler = MinMaxScaler(feature_range = (1,5))\n",
    "zomato[['Mean Rating']] = scaler.fit_transform(zomato[['Mean Rating']]).round(2)\n"
   ]
  },
  {
   "cell_type": "code",
   "execution_count": 14,
   "id": "21921b81",
   "metadata": {},
   "outputs": [
    {
     "data": {
      "text/plain": [
       "Index(['address', 'name', 'online_order', 'book_table', 'rate', 'votes',\n",
       "       'location', 'rest_type', 'cuisines', 'cost', 'reviews_list',\n",
       "       'menu_item', 'type', 'city', 'Mean Rating'],\n",
       "      dtype='object')"
      ]
     },
     "execution_count": 14,
     "metadata": {},
     "output_type": "execute_result"
    }
   ],
   "source": [
    "zomato.columns"
   ]
  },
  {
   "cell_type": "markdown",
   "id": "71124be8",
   "metadata": {},
   "source": [
    "Now the next step is to perform some text preprocessing steps which include:\n",
    "\n",
    "Lower casing\n",
    "Removal of Punctuations\n",
    "Removal of Stopwords\n",
    "Removal of URLs\n",
    "Spelling correction\n",
    "Now let’s perform the above text preprocessing steps on the data:"
   ]
  },
  {
   "cell_type": "code",
   "execution_count": 15,
   "id": "e27c0b6e",
   "metadata": {},
   "outputs": [
    {
     "data": {
      "text/html": [
       "<div>\n",
       "<style scoped>\n",
       "    .dataframe tbody tr th:only-of-type {\n",
       "        vertical-align: middle;\n",
       "    }\n",
       "\n",
       "    .dataframe tbody tr th {\n",
       "        vertical-align: top;\n",
       "    }\n",
       "\n",
       "    .dataframe thead th {\n",
       "        text-align: right;\n",
       "    }\n",
       "</style>\n",
       "<table border=\"1\" class=\"dataframe\">\n",
       "  <thead>\n",
       "    <tr style=\"text-align: right;\">\n",
       "      <th></th>\n",
       "      <th>reviews_list</th>\n",
       "      <th>cuisines</th>\n",
       "    </tr>\n",
       "  </thead>\n",
       "  <tbody>\n",
       "    <tr>\n",
       "      <th>10202</th>\n",
       "      <td>rated 50 ratedn slightly priced good food welc...</td>\n",
       "      <td>South Indian, Biryani</td>\n",
       "    </tr>\n",
       "    <tr>\n",
       "      <th>18979</th>\n",
       "      <td>rated 30 ratedn tried dal makhani butter chick...</td>\n",
       "      <td>North Indian, Chinese</td>\n",
       "    </tr>\n",
       "    <tr>\n",
       "      <th>18067</th>\n",
       "      <td>rated 40 ratedn narmadhas hyderbad biryaninnta...</td>\n",
       "      <td>Biryani, North Indian, Andhra</td>\n",
       "    </tr>\n",
       "    <tr>\n",
       "      <th>29974</th>\n",
       "      <td>rated 40 ratedn walking towards trinity week b...</td>\n",
       "      <td>Cafe, Fast Food</td>\n",
       "    </tr>\n",
       "    <tr>\n",
       "      <th>17558</th>\n",
       "      <td>rated 10 ratedn pizza delivered till showing a...</td>\n",
       "      <td>Pizza, Fast Food</td>\n",
       "    </tr>\n",
       "  </tbody>\n",
       "</table>\n",
       "</div>"
      ],
      "text/plain": [
       "                                            reviews_list  \\\n",
       "10202  rated 50 ratedn slightly priced good food welc...   \n",
       "18979  rated 30 ratedn tried dal makhani butter chick...   \n",
       "18067  rated 40 ratedn narmadhas hyderbad biryaninnta...   \n",
       "29974  rated 40 ratedn walking towards trinity week b...   \n",
       "17558  rated 10 ratedn pizza delivered till showing a...   \n",
       "\n",
       "                            cuisines  \n",
       "10202          South Indian, Biryani  \n",
       "18979          North Indian, Chinese  \n",
       "18067  Biryani, North Indian, Andhra  \n",
       "29974                Cafe, Fast Food  \n",
       "17558               Pizza, Fast Food  "
      ]
     },
     "execution_count": 15,
     "metadata": {},
     "output_type": "execute_result"
    }
   ],
   "source": [
    "## Lower Casing\n",
    "zomato[\"reviews_list\"] = zomato[\"reviews_list\"].str.lower()\n",
    "\n",
    "## Removal of Puctuations\n",
    "import string\n",
    "PUNCT_TO_REMOVE = string.punctuation\n",
    "def remove_punctuation(text):\n",
    "    \"\"\"custom function to remove the punctuation\"\"\"\n",
    "    return text.translate(str.maketrans('', '', PUNCT_TO_REMOVE))\n",
    "\n",
    "zomato[\"reviews_list\"] = zomato[\"reviews_list\"].apply(lambda text: remove_punctuation(text))\n",
    "\n",
    "## Removal of Stopwords\n",
    "from nltk.corpus import stopwords\n",
    "STOPWORDS = set(stopwords.words('english'))\n",
    "def remove_stopwords(text):\n",
    "    \"\"\"custom function to remove the stopwords\"\"\"\n",
    "    return \" \".join([word for word in str(text).split() if word not in STOPWORDS])\n",
    "\n",
    "zomato[\"reviews_list\"] = zomato[\"reviews_list\"].apply(lambda text: remove_stopwords(text))\n",
    "\n",
    "## Removal of URLS\n",
    "def remove_urls(text):\n",
    "    url_pattern = re.compile(r'https?://\\S+|www\\.\\S+')\n",
    "    return url_pattern.sub(r'', text)\n",
    "\n",
    "zomato[\"reviews_list\"] = zomato[\"reviews_list\"].apply(lambda text: remove_urls(text))\n",
    "\n",
    "zomato[['reviews_list', 'cuisines']].sample(5)\n"
   ]
  },
  {
   "cell_type": "code",
   "execution_count": 16,
   "id": "64e99c4d",
   "metadata": {},
   "outputs": [
    {
     "data": {
      "text/plain": [
       "Index(['address', 'name', 'online_order', 'book_table', 'rate', 'votes',\n",
       "       'location', 'rest_type', 'cuisines', 'cost', 'reviews_list',\n",
       "       'menu_item', 'type', 'city', 'Mean Rating'],\n",
       "      dtype='object')"
      ]
     },
     "execution_count": 16,
     "metadata": {},
     "output_type": "execute_result"
    }
   ],
   "source": [
    "zomato.columns"
   ]
  },
  {
   "cell_type": "code",
   "execution_count": 17,
   "id": "7695a022",
   "metadata": {},
   "outputs": [
    {
     "name": "stdout",
     "output_type": "stream",
     "text": [
      "['Jalsa', 'Spice Elephant', 'San Churro Cafe', 'Addhuri Udupi Bhojana', 'Grand Village', 'Timepass Dinner', 'Rosewood International Hotel - Bar & Restaurant', 'Onesta', 'Penthouse Cafe', 'Smacznego', 'Cafã\\x83Â\\x83Ã\\x82Â\\x83Ã\\x83Â\\x82Ã\\x82Â\\x83Ã\\x83Â\\x83Ã\\x82Â\\x82Ã\\x83Â\\x82Ã\\x82Â© Down The Alley', 'Cafe Shuffle', 'The Coffee Shack', 'Caf-Eleven', 'Cafe Vivacity', 'Catch-Up-Ino', \"Kirthi'S Biryani\", 'T3H Cafe', '360 Atoms Restaurant And Cafe', 'The Vintage Cafe', 'Woodee Pizza', 'Cafe Coffee Day', 'My Tea House', 'Hide Out Cafe', 'Cafe Nova', 'Coffee Tindi', 'Sea Green Cafe', 'Cuppa', \"Srinathji'S Cafe\", 'Redberrys', 'Foodiction', 'Sweet Truth', 'Ovenstory Pizza', 'Faasos', 'Behrouz Biryani', 'Fast And Fresh', 'Szechuan Dragon', 'Empire Restaurant', 'Maruthi Davangere Benne Dosa', 'Chaatimes', 'Havyaka Mess', \"Mcdonald'S\", \"Domino'S Pizza\", 'Hotboxit', 'Kitchen Garden', 'Recipe', 'Beijing Bites', 'Tasty Bytes', 'Petoo', 'Shree Cool Point', 'Corner House Ice Cream', 'Biryanis And More', 'Roving Feast', 'Freshmenu', 'Banashankari Donne Biriyani', 'Wamama', 'Five Star Chicken', 'Xo Belgian Waffle', 'Peppy Peppers', 'Goa 0 Km', 'Chinese Kitchen', '1947', 'Cake Of The Day', 'Kabab Magic', \"Namma Brahmin'S Idli\", 'Gustoes Beer House', 'Sugar Rush', 'Burger King', 'The Good Bowl', 'The Biryani Cafe', 'Lsd Cafe', 'Rolls On Wheels', 'Sri Guru Kottureshwara Davangere Benne Dosa', 'Devanna Dum Biriyani Centre', 'Kolbeh', 'Upahar Sagar', 'Kadalu Sea Food Restaurant', 'Frozen Bottle', 'Parimala Sweets', 'Vaishali Deluxe', 'The Big O Bakes', 'Meghana Foods', 'Krishna Sagar', 'Dessert Rose', 'Chickpet Donne Biryani House', \"Thanco'S Natural Ice Creams\", 'Nandhini Deluxe', \"Vi Ra'S Bar And Restaurant\", 'Kaggis', 'Ayda Persian Kitchen', 'Chatar Patar', 'Polar Bear', \"Kidambi'S Kitchen\", 'Mane Thindi', 'Kotian Karavali Restaurant', 'Floured-Baked With Love', 'Cakes & Slices', 'Spice 9', 'Naveen Kabab & Biriyani Mane', 'Katriguppe Donne Biryani', 'Atithi Point Ande Ka Funda', 'Just Bake', 'K27 - The Pub', 'Bengaluru Coffee House', 'New Mangalore Lunch Home', 'Coffee Bytes', 'Parjanya Chat Zone', \"Kwality Wall'S Swirl'S Happiness Station\", 'Ruchi Maayaka', 'Anna Kuteera', 'Darbar', 'Vijayalakshmi', 'Sri Udupi Food Hub', 'Udupi Upahar', 'House Of Kebabs', 'Roll N Rock', 'Box8- Desi Meals', 'Kfc', 'Roll Over', 'Imperial Restaurant', 'Lassi Shop', 'The Fortuna', 'Wahab', 'Al Diwan Biryanis And More', \"New Gowda'S Fried Chicken\", 'Canton', 'Diabetics Dezire Sugarless Sweets And Bakes', 'The Blue Wagon - Kitchen', 'Hot Coffee', 'Patio 805', 'Lassi Corner', 'Sagar Deluxe', 'Kanti Sweets', 'Vegetalia', 'Aramane Donne Biryani', 'Ande Ka Funda', 'Cake Ghar', 'Energy Addaa', 'Bhattara Bhojana', 'Tandoori Knight', 'Dev Sagar - Food Street', 'Mitraa Da Pizza', 'Paradise Premium', 'Grazers', 'Shakes Theory', '@Italy', 'Chilli Flakes', 'Calcutta Cafe', 'Old Mumbai Ice Cream', 'Donne Biriyani House', 'By 2 Coffee', \"Kedia'S Fun Food\", 'Davangere Butter Dosa Hotel', 'Just Shawarma', 'Mini Punjabi Dhaba', 'Mulabagilu Dosa', 'Gokul Veg', 'Olive - Era', 'Udupi Ruchi', 'Madhappa Hindu Military Hotel', 'Gama Gama', 'Pizza Hut', 'Mangalore Pearl', 'Asha Sweets Centre', 'Twiststick House', 'Cool Corner', 'Pizza Mane', 'Dal Tadkaa', 'Chutney Chang', 'Mystique Palate', 'Thamboola', 'Castle Rock', 'Vietnamese Kitchen', 'C Corner', 'Paratha Merchant', 'North Rasoe', 'Toscano', 'Lord Of The Kitchen', 'Stoned Monkey', 'Central Jail Restaurant', 'Bella', 'Vennela Andhra Meals', 'New Prashanth Hotel', 'The Grillo', 'Re Malnad Nati Style Hotel', 'Karma Kaapi', \"Tiwari'S\", 'Pizza Stop', \"Biggies Burger 'N' More\", \"Kollapuri'S\", 'Kadamba Classic', 'Rs Shiv Sagar', 'Kholi Mane', 'Harshi Super Sandwich', 'Cake Yard', 'Sri Udupi Veg', 'Cake Art', 'Potato House', 'Matru Sagar', 'Ugadi', 'Sri Krishna Sweets', 'In Time Cane Juice', 'Subway', 'Daal Roti', 'The Lassi Park', 'A2B - Adyar Ananda Bhavan', 'Srikrishna Bhavan', 'Green Gardenia', 'J Spice', 'Karavali Family Restaurant', 'Karavali Lunch Home', 'Hatti Kaapi', \"Kolkata Kathi Roll'S\", 'Upahara Darshini', 'The Chaat Shop', 'Anda Ka Funda', 'Shri Vinayaka Ice N Juice', 'Ibaco', 'Jalaram Sweets', 'Samskruti - Sanman Gardenia', 'Bendakaluru Bytes', 'Cocoa Bakes', 'Chumma Delicious', 'Dwaraka Grand', 'Gufha - The President Hotel', \"Tanna'S Kitchen\", 'Shree Mandarathi Grand', 'Mojo Pizza - 2X Toppings', 'Iceberg Icecreams', 'South Kitchen', 'Chung Wah', 'Shanthi Sagar', 'Millet Mama', 'Bangarpet Chat Express', 'Prems Graama Bhojanam', 'Java City', 'Kamat Bugle Rock', 'Puliyogare Point', 'Bangalore Agarwal Bhavan', 'Rustic Stove', 'Udupi Ruchi Grand', 'De Thaali', 'Just Thindi', 'Vasanth Vihar - Since 1965', 'Sea Spice By 7 Star', 'Desi Dawat', 'Cafe Aira', 'Mast Punjabi', 'South Grand', 'The Pizzeria', 'Cafe Zone', 'Ruchis Point', 'Firangi Bake', 'The Royal Corner - Pai Viceroy', 'Hara Fine Dine', 'Chocoberry', 'Dakshin Grand', 'Sandwichwallas', 'Chai Mane', 'Slv Upachar', 'Waffle-A-Go Go', 'Cross Road Cafe', 'Anand Donne Biriyani', 'Seven Star', \"Stop 'N' Joy\", 'Sri Yaksha Shiv Sagar', 'Fudge', 'Just Bunny', 'Bakers Town', 'Shree Mahalakshmi Sweets', 'Kaapi Kendra', 'Ivy', 'The Airos', 'Chai Kraft', 'South Point Pub', 'The Trundle', 'The Krishna Grand Xpress', 'Sri Krishna Darshini', 'Shringar Sweets & Snacks', 'Udupi Grand', 'Ganesh Grand', 'Shreyas Upahar & Burger Point', 'Little Cafe', 'Mumbai Badam Milk & Lassi Center', 'Sri Krishna Sagar', 'Mylari Biryani Family Restaurant', '1980S Games Cafe', 'Kadala Tarangaa', 'Namma Biryani', \"Nandhanu'S Rasoi\", 'Hotel Pork Paradise', 'As On Fire', 'J K Fish Land', 'Curry Leaves', 'Magic Meals', 'Desi Cream Junction', 'Drunken Monkey', \"Ruchi'S Corner\", 'Tandoori Bytes', 'Bangalore Donne Biriyani', 'Sgs Non Veg - Gundu Pulav', 'Keventers', 'Navi Food Point', 'Shawarma Inc', 'The Cafe Nuts And Bolts', 'Am Wow', 'Lalbagh Grand', 'Funjabi Curries', 'Eat Repeat', 'Salut', 'Nammura Donne Biriyani', 'Lassi Stop', 'Dakshin Kitchen', 'Sri Sai Cafe', 'Sri Sai 99 Variety Dosa', 'Utsav Restaurant', 'Crunch And Munch', 'Food Geek', 'Sri Krishna Aramane', 'Great Indian Rolls', 'Chats Point', 'Food Point', 'Swarga Ruchi', 'Kolkata King', \"Sandwich Mama'S And Frozen Monster\", 'New Rajadhani Spicy', 'Big Mishra Pedha', 'Vegeatz', 'Foodizo', 'Food Springs', \"Chung'S Chinese Corner\", 'Eurasia Pasta And Barbeque By Little Italy', 'Goli Vada Pav No. 1', \"Ragoo'S\", 'Pure & Natural', 'Maiyas', 'Sip N Dine', 'Cafe Mondo', 'Jalpaan', \"Kataria'S Pakwan\", 'Juicy Momos', 'Amande Patisserie', 'Anand Sweets And Savouries', 'Chicken Hunt', 'Swadesh Tadka', 'Cane-O-La', 'New Biryani Mane', 'Karnataka Bhel House', 'Sreeraj Lassi Bar', 'Juice Junction Food Court', \"Bunt'S Biriyani Palace\", 'Chai Point', 'Janahaar', 'Utsav', 'Meat And Eat', 'Snacks Bite', 'The Spice Saga', 'Dakshin Cafe', 'Kaulige Millet Corner', 'Ifruit Ice Cream', 'Havmor', 'Grand Food', 'Dining Hut', 'Desi Swaad', 'Yummy Momos', 'Masale Daan', 'Grow Fit', 'Sandwich Hub', 'Udupi Sri Krishna Cafe', 'Starlite Bakery & Fastfood', 'Veganbreak24X7', 'Aadhya Hotel', 'Dodda Mane Baaduta', 'Swadd Kitchen', 'Happy Chopsticks', 'Udupi Upachar', 'Davanagere Benne Dose Hut', 'Subz', 'Mint And Mustard', 'Chinese Square', 'Punjabi Raswada', \"Vinny'S\", \"Chetty'S Corner\", \"Kapoor'S Cafe\", 'Donne Biryani & Kabab Corner', 'Sukh Sagar', 'S M V Snacks Corner', 'Andhra Ruchulu', 'Steaming Mugs', 'Rajathadri Food Fort', 'Brew Meister', 'Rasoi', 'Mr. Singh Da Dhaba', 'Kababs N Biryani', 'Ayodhya Upachar', 'Biriyani Mane', 'Cafe Ajfan', 'Brundhavana Food Point', 'Slv Corner Restaurant', 'Hotel New Karavali', 'The Krishna Grand', 'Roti Ghar', 'Kettle & Kegs', 'Baisakhi', 'Poonam Sweets', \"Amma'S Pastries\", 'The Lassi And Juice Park', 'Corner Stone', 'Arun Ice Cream', 'Sweet N Swirl', 'Sri Venkateshwara Sweet Meat Stall', 'Baskin Robbins', 'Srinivasa Brahmins Bakery', 'Jain Bakes', 'Kc Das - Sweet Spot', 'A2B Veg - Adyar Ananda Bhavan', 'Jcubez', 'Blue Wings Bar & Restaurant', 'New Imperial Restaurant', 'Karavali Fish Center', \"Iyer'S Tiffin Centre\", 'Kydz Adda', 'Food Box Cafe', 'Sri Ganesh Juice And Chats', 'Manifest Cafe', 'Taaza Thindi', 'Sri Laxmi Venkateshwara Coffee Bar', 'Messy Bowl', 'Brahmin Cafe', 'Hotel Mangala', 'Simple Thindies', 'Slv Swadishta', 'New Sagar Fast Food', 'Parama Ruchi', 'Thrilok Restaurant', 'Hanumanthanagar Biryani Junction', 'Slv Refreshment', 'Svkp Daily Fresh', 'Srinagar Kabab Corner', 'Sri Venkateshwara Chat Centre', 'Vinay Bhel Corner', 'Nandi Chats And Juice', 'Food Adda', 'Hotel Nisarga', 'Yo Roll Corner', 'New Quality Dum Biryani', 'Sri Lakshmi Kabab Center', 'Tasty Bites', 'Raams Chicken', 'Panchami', 'Kavali', 'Ranganna Military Hotel', 'Vidyarthi Bhavan', 'Bharjari Oota', 'Bridgeway', 'Soho Bar & Grill', 'Bhavani Restaurant', 'Zephyr', 'Hotel Dwarka', 'Nisarga Garden Restaurant', 'Ma-Arya Family Restaurant', 'Udupi Sri Krishna Bhavan', 'Ice Thunder', 'Mahalaxmi Tiffin Room', 'Basavanagudi Mylari', 'Shrinidhi Military Hotel', 'Pramukh Family Restaurant', 'Vybhava', 'Shree Venkateshwara North Karnataka Hotel', 'Anand Sagar Inn', 'Sangam Military Hotel', 'Belly Squad Food Truck', '50-50 Eating House', 'Om Shiva Shakthi Chats Centre', 'Rolls Corner', 'New Ambur Hot Dum Biryani', 'Deja Vu Resto Bar', 'Fattoush', 'Abhiruchi Hotel', 'Tulips', 'Barbeque Nation', 'Sattvam', '24Th Main', 'Zaitoon', 'Mango Greens', 'Oye Amritsar', 'Melt - Eden Park', 'Spice Code', 'The Onyx - The Hhi Select Bengaluru', 'The Pavillion', 'Sankranthi Veg Restaurant', 'Tisano Cafe', 'Cafe Kabana', 'Butterly', 'Black Mug Cafe', '#Refuel', 'Wafl', 'Vaho Kafe & Pressery', 'Dreamcatcher', 'Cafe Arabica', 'Starbucks', 'Smoor', 'Kalmane Koffees', 'Shee-Sha Cafe', 'Brews N Bites', 'D2V Cafe', 'Cafe Talk', 'Cafe Choco Craze', 'Slate Cafe', 'Dialogues', 'Mudpipe Cafe', 'Tab - Take A Break', 'Cafe Potpourri', 'De Oxford Cafe', 'Vinaya Coffee Moments', 'Brew Point', 'The Cravery', \"Anju'S Cafe\", 'Skytouch Le Cafe', 'Hearts Unlock Cafe', 'Eat.Fit', 'Sai Abhiruchi', 'Capsicum Family Restaurant', 'Box Magic', \"Maa'R Rannaghor\", 'Easy Bites', 'Hiyar Majhe Kolkata', 'Dabba Gosht', 'Punjabites', 'Sri Lakshmi Dhaba', 'Swadista Aahar', 'Vegetarea', 'Al-Bek', \"Aniram'S\", 'Punjabi Nawabi', 'Yummrajj', 'Swad Punjab Da', 'Roti Wala', 'Midnight Mania', 'Kitchens@Jp Nagar', 'Krishna Kuteera', 'Apna Punjab', 'Paratha Junction', 'Nellore Bhojanam', 'Momoz', 'Kalingas', 'Kanteen The Eatery', 'Kullad Cafe', 'Litti Twist', 'Cakebuy', 'Delight Food', 'Andhra Kitchen', 'Veg By Nature', 'Chicken Magic', 'Swathi Restaurant', 'Fresh Kitchen', 'Hind Ka Chulah', 'Kuttanad', 'New Mahesh Friends Food Corner', 'Bohra Bohra Cafã\\x83Â\\x83Ã\\x82Â\\x83Ã\\x83Â\\x82Ã\\x82Â\\x83Ã\\x83Â\\x83Ã\\x82Â\\x82Ã\\x83Â\\x82Ã\\x82Â©', 'Shree Krishna Sannidhi', 'Bingejoy!', 'Shiv Sai Hotel', 'Mra', 'Burj Hotel', 'Shaadi Ki Biryani', 'Madeena Hotel', 'Biryani Durbar', 'Mahesh Friends Food Center', 'Juice Shop', \"Dadi'S Dum Biryani\", 'Krishna Kuteera South', 'Alankrutha', 'Paradise', 'Kabab Mehal', 'Sri Punjabi Dhaba', 'Arabian Mexico', 'Cakezone', 'Fujian Express', 'Indian Food', 'Tandoori Paradise', 'Kolkata Kathi Rolls', 'Adithya', 'Cheesiano Pizza', 'Nati Palace', \"Dande'S Hyderabad Biryani\", 'Upahara Bhavan', 'Sher-E-Punjab', 'Shuddh Desi Khana', 'Karama Restaurant', 'Jaganath Hotel And Restaurant', 'Aramane Donne Biriyani', \"Mani'S Dum Biryani\", 'Amontron', 'A M Biryani Hotel', 'Birinz', 'Hyderabadi Bawarchi', 'Fish Chain', 'Prasiddhi Food Corner', 'Biriyani Bhatti', 'Hyderabad Biryaani House', \"Galito'S\", 'C. K. Mega Hot Food', 'Red Chilli Restaurant', 'Rss Donne Biryani', 'Rajdhani Thali Restaurant', 'Phew (Play Hard Eat Wild)', 'New Kabab Zone', 'Bawarchi Paradise', 'Shree Udupi Grand', 'Chicken County Grand', 'Darjeeling Momos & Fast Food Center', 'Veruthe Oru Thattukada', 'Savoury - Sea Shell Restaurant', 'Warm Oven', 'Kundana', 'Food Ka Masti', 'The Shawarma Shop', 'Momo Junction', 'Antilla Aromas', 'Punjabi Food Corner', 'Mealer.In', 'Pathaan Sir', 'Cold Stone Creamery', 'Hari Super Sandwich', 'Amritsari Kulcha Land', 'Chokha Chowka', 'Gorbandh', 'Grills & Rolls', 'Bathinda Junction', 'Stories', \"New Gongura'S\", 'Sagar Grand', 'Ubq By Barbeque Nation', 'Agarwal Food Service', \"Daniyal'S\", 'Seasons', 'Chef Delicacies', 'Indiana Burgers', 'Moksha', 'Marwa Restaurant', 'Shanghai Court', 'Akshaya Donne Biriyani', 'Bhojohori Manna', 'Richie Rich', 'Hunger Bee', 'Yum In My Tum', 'Maggi N Maggi House', 'Fresh Dinner', 'B.M.W Bhookh Mitaane Wala', 'Biryani Miya', 'Krispy Kreme', 'Paani Kum Chai', 'Chulha Chauki Da Dhaba', \"Magix'S Parattha Roll\", 'Elegant Dining', 'Aliensip', 'Waffle Head', 'Samruddhi Biryani', 'Basmati Delights', \"Charlee'S Chicken\", 'Samosa Singh', 'Cravings', 'Nagas', 'Matka', 'Punjabi Swag', 'Taco Bell', 'Ambur Star Dum Biryani', \"Mother'S Rasoi\", 'Dosa Bazaar', 'Babu Moshai', 'The Bong Palate', 'Gowdru Mane Oota', 'Banashankari Nati Style', \"Chandrima'S Kitchen\", 'Bikaner Jn', 'Crunch Pizzas', 'Lassi Berg', 'Kakal-Kai Ruchi', 'Manchu Cafe', 'Calorie Express', 'Bangalore Box', 'Hotel Khaaja', 'The Gujarat Express', 'Vishal Foods', 'Lassi Darbar', 'Chavadi', 'Nanna Munna Paratha House', 'Cucumber Town', 'Kolkata Famous Kati Roll', 'Nellore Ruchulu', 'Brewsky', 'Chefeana', 'Bangaliana', 'Gud Dhani', 'The Hunger Room', 'Parisar Veg Restaurant', 'Deejas Kitchen', 'Pancuzzi', \"Zhang'S - Chinese Restaurant\", 'Shagun Sweets & Foods', 'Eat Well', \"Dev'S Gugababa\", 'Oogway Express', 'Balaji Bombay Vada Pav Gujrati Dalebi', 'The Cake Ville', 'The Egg Factory', 'Chow San', 'New Udupi Grand', 'New Karawali Lunch Home', 'Sr Choco Station', 'Momo Jojo', 'Simply Indian', 'Delhi Biryani Cafe', \"Rithika'S Kitchen\", 'Punjabi Times', 'Cravy Wings', 'Funky Punjab', 'A1 Garam Masala', 'Punjabi Corner', 'Guru Palace', 'Zeeshan', 'Ambara Gardenia', 'Layerbite', 'Bhavani Chats', 'More Pizza', 'Crafted Plate', \"Shetty'S Kitchen\", 'Machali Port', 'Naati Manae', 'Mad Over Biryani', 'Garma Garam', 'Sambram Biriyani Paradise', 'Mr. Meetharam', 'The Coastal Crew By Fujian On 24Th', 'Bib - Breakfast In The Box', 'Angel Restaurant', 'Wow Momo', 'Pizza Da Dhaba', 'Kalpavruksha', 'Juice Land', 'Tandoor And Spice', 'Rock Stone Ice Cream Factory', 'Paratha Plaza', 'Krishna Vijayashree', 'Soup Station', 'Tasty Point', 'Natural Mumbai Kulfi', 'Namma Kudla', 'Triveni', 'Wangs Kitchen', 'Rk Fresh Food', 'Alif Restaurant', 'Dine One One Restaurant', 'Pallavas Veg Cuisine', 'The Food Cottage', 'Brundhavana Pure Veg', 'Spice Up', 'Suryawanshi', 'Tempteys', 'Delibox.In', 'Frybies', 'Crumb Together', 'The Foodyz', \"Bean D'Er Cafe\", 'Chaat Chatore', 'Taste Of Kolkata', 'Y Not Restaurant', '24/7 Food Service', 'Modern Restaurant', 'Burrito Boys', 'Trippy Paradise', 'Biryani Magic', 'Nagarjuna', 'Laddoos', 'Waffle Stories', 'Late Night', 'Waffle Walle', 'Shake It Off', 'Bombay Kulfi', 'Chaat Central', 'Two Friends Cauldron', 'Bun Town', 'Garden Fresh', 'Dhabeliwala', \"Rayaan'S Bbq\", 'Chaat Junction', 'Asharfilal', 'Street Foods By Punjab Grill', \"Tiwari'S Ghee Paratha And Chats\", 'Spurthi Foods', 'Melting Pot At Woodrose', 'Pot Biryani', \"Thanco'S Natural Ice Cream\", 'Mango Tree- The Beer Garden', 'Dessi Cuppa', 'Halli Mane Mudde Oota', 'Wow Vada Pav', 'The Jade Kitchen', 'Krishna Vaibhava', 'Nandhanus Rasoi', 'Donne Biriyani Mane', 'Fish And Dish', 'Miss Momo', 'Intalia', 'Chicken County Restaurant', 'Velvet Kitchen', 'Hotel Aradhana', 'The Chervil', 'Sri Rajasthani Foods', 'New Royal Treat', 'I Cool', 'Mahek Pizza', 'Kc Das- Sweet World', 'Panther Cafe', 'Roots N Fruits', 'Kaizen Wellness Kitchen', 'Mad Over Donuts', 'Kolkata Famous Kati Rolls', 'Vinaya Cafe', 'Rbp Greens Garden', 'Dazu Momoz', 'Desi Dhaba', 'World Of Waffles', \"Pika'S Kitchen\", 'Lassi Cafe', 'New Mogul Empire', 'Atithi Biryani Corner', 'Oottupura Family Restaurant', 'Yumme Veg', 'Shree Guru Raghavendra Chats Chintamani Special', 'Vyanjan', 'Sri Sankara Cafe', 'Bhaijaan Barbeques', 'Chatter Platter', 'Bikaneri Sweets', \"Watson'S\", 'Sri Nandi Grand', 'Chicken Man', \"Chef Baker'S\", 'Sree Ganesha Fruits & Juice', 'Nandhana Palace', 'Biryani Nights', 'Thejas Bhavan', 'Graffitea', 'Gappe', 'On The Nose', 'Juicy & Spicy', 'Eat Repeat Express', 'Tfi - The Fresh Ice Cream', 'Mirch Masala', 'Just Chill', \"Bengalooru Tiffany'S\", 'Udupi Thaja Thindi', 'Baba Ka Dhaba', 'Hot Burg', 'Northern Bites', 'Hotel Smile', 'Roll Wala', 'Natural Ice Cream', 'F3 Food Fun Fiesta', \"Churchill'S\", \"Kulkarni'S New Uttara Karnataka Food Speciality Stores\", 'The Hungers Zone', 'The Chocolate Room', 'Aramane Restaurant', 'Hunger2Eat', 'Bbq Ride 46', 'Bawarchi Inn', \"Ruh'S Cafe\", 'Eatery Have U Been', 'Upahar Banashree', 'Me And My Cake', 'Bhojon Tripti', 'New South Corner', 'Khana Khazana', 'China Tang', 'California Burrito', 'Tandoor Garden', 'Caffe Pascucci', 'Freeze It', 'Meal Square', 'Chaitanya Cafe', 'Tasty Jigarthanda', 'Berrylicious', 'Rcs Kitchen', 'Pappu Da Dhaba', 'Smoke - The Sizzler House', 'Sandwich Shop', 'Joon Restaurant', 'Snack Knack', 'Chung Wah Opus', 'Chef & Dine', 'Once In Nature', 'Manjushree Upahara', 'Hotel Annapoorna', 'Dream A Dozen', 'Bread Crumbs Bakery', 'Nite Out', 'Cupcake Bliss', 'Armaani Caffe', 'Muddhe Bytes', 'Bombay Kulfis', 'Willys Top Cafe', 'Mist N Creams', 'Papacream', \"Woody'S\", 'Jp Fish Land', 'Pepper Crown Restaurant', 'Pizza Paradise', 'The Curry Hut Plus', 'Malabar Mess', 'Malabar Cafe', 'Tangra Indo - Chinese Cuisine', 'Juice Junction', 'Xpress Chai', 'Zhangs Classic', 'Guru Greens', 'D View Cafe', 'The Cuboidal', 'Delifusion - Hunger Sorted', 'Flavour Of China', 'Gujrati Mess', 'Cake-O-Mania', 'The Park Inn Restaurant', 'Eagle Ridge', 'Vidya Cafe', 'Kabab Treat', 'Limra Hotel', 'Kafe Nook', 'Kumbha Bhojanam', 'Yummerica Fries', 'Casa Piccosa', 'Bake Addiction', 'Tongue Twisters', 'Hot Rolls & House Of Kebabs', 'Aami Kolkata', 'Vaathsalya Millet Cafe', 'Hungry Buddies', 'Thericebowl.In', 'Guru Garden', 'Cakes By M', 'Brewz Coffee', 'Fritz Haber', 'Athithi', 'Smooth Blender', 'Sri Bhagya Grand', \"Shree Guru Juice 'N' Ice\", 'Bhavya Military Hotel', 'Neals Cafe', 'Flavorsome Bakes', 'Bake-Ooh', 'The Yummy Tummy', 'Mast Kalandar', \"Sultan'S Biryani\", 'Halli Sogasu', 'Crepe Nation', 'Rice Bar', 'Kanika Biryani Paradise', 'Resto', 'New Tandoori Point', 'Shiv Sagar', 'Little Shangai', \"Nadella'S Kitchen\", \"Uncle'S Kitchen\", 'Coastal Inn', \"Mom'S Momos\", 'Aishwarya Parkland', 'Slice Of Spice', 'Bao And Rolls', 'Andhra Bhojanam', 'Kanchan Dhaba', 'Encyclofoodia', 'Bella?S Kitchen', 'Food Feast Multicusine Restaurant', 'Bangalir Rannaghar', 'Sai Samosa & Chat Corner', \"Lalchee'S Rasoi\", 'Kailash Parbat', \"Dream'S Kitchen\", 'Tandoor Hut', 'The Chocolatiers', 'Ballava', 'Zaika Take Away', 'Snackiey', 'Sandwich Mamas', 'The Shake Factory Originals', 'Hotel Lakshmi Paradise', 'Desi Bites', 'Shiv Sai', 'The Juicy', 'Feast And Burp', 'Zengi Pub & Restaurant', 'Cafe Indiana', 'Multi Cakes', 'Bhukkad', 'Malhar Maharashtrian Cuisine', 'Mandi', 'Pallavi North Indian Veg Restaurant', 'Restro Cafe', 'Idly Pidly', \"Vasudev Adiga'S\", 'Tgi Fridays', 'Earth Plate Express', 'Gharelu Zaika', 'Apsara Ice Cream', 'Jiyo Natural', 'Zyksha', 'Biryani Times', \"Targaryen'S Kitchen\", 'Sakshi', 'Mk Dabbawala', 'Desi Vibes', 'The French Loaf', 'Kulfi & More', 'Dal Roti', 'Jhasaa', 'Status', 'Juice Fresco & Pizza', 'Bmr Hyderabad Biryani', 'Dakshin Food Palace', 'Darjeeling Momo Adda', 'Bottle Breacher', 'Special Biriyani', 'The Tucck Box', 'Swad Plaza', 'Sweet Chariot', 'Kesariya', 'Swad Restaurant', 'Checkpost', 'Nandhini Paradise', 'New Kabab Plaza', 'Coastal Mama', 'Waah Biryani', 'Rara Avis', 'Chillz', 'Sri Lakshmi Curries & Pickles', 'Royal Chef Naati Oota', 'Cafe Hops', 'Flow - Terrace Bar & Grill', 'Ningi Family Restaurant', 'Advika Briyani Center', 'Sai Jagannath Food And Chats Point', \"Joey'S\", 'Sree Krishna Kafe', 'Dilish Kitchens', 'Daily Bread', 'Shanmukha', 'Jaganath Restaurant And Hotel', 'Thayee Touch', 'Eten', \"Owl'S Kitchen\", 'Kakal Kai Ruchi', 'Blue Berry Restaurant', 'Deccan Spice', 'Desi Wok', 'Namana Garden', 'Day N Night Kitchen', 'Andhra Grills', 'Appam Centre', 'Sea Horse', 'Sang Grail', 'Night Panda', 'E2 - Entrã\\x83Â\\x83Ã\\x82Â\\x83Ã\\x83Â\\x82Ã\\x82Â\\x83Ã\\x83Â\\x83Ã\\x82Â\\x82Ã\\x83Â\\x82Ã\\x82Â©E Envoy', 'Aha Juice Bar', 'Tandoori Spot', 'Night Hunger', 'Chicken Dera', \"Cocoa 'N' Crã\\x83Â\\x83Ã\\x82Â\\x83Ã\\x83Â\\x82Ã\\x82Â\\x83Ã\\x83Â\\x83Ã\\x82Â\\x82Ã\\x83Â\\x82Ã\\x82Â¨Me\", 'Thirsty Tiger', 'Bay Root', 'Btm Cakes', 'Spicy World', 'Kamat Swaad', 'Ishta Cafe', 'Combo Studio', 'Tastte!!', 'Kanhaiyas', 'Juice Lounge', 'Tandoor Nation', 'Indian Kitchen Eateries-Ike', 'The Little Kitchen', \"Diya'S Findish\", 'Laa Raiba Restaurant', 'Bhavani Upahara', 'Sampoorna', 'Cafe Mist', 'Fat Chef Biryani Wale', 'Kesar Restaurant', \"Chawla'S 2 Online.Com\", 'Namma Halli Jonne Biryani', 'The Biriyani Factory', 'Insta Cafe', 'World On A Swirl', 'L J Iyengar Bakery', 'Ice Bowl', 'K.C Das', 'Mr Gola', 'Frosty Creams', 'Squeez Juice Bars', 'Kulfi Adda', 'The Sandesh Factory', 'Cakes And Crumbs', 'Cream Stone', 'Venkateshwara Sweets And Restaurant', \"Calvin'S\", 'Mini Forest', 'Delhi Sweets', \"Whisk' N Creme'\", 'Thalassery Food Court', 'Guru Paradise', 'Diletto', 'Terrace Lounge', 'Fresh Lemon Soda', 'Purani Dilli By Anand Sweets', 'Ingu Tengu', 'Green Onion', 'Chaitanya Grand', 'Spar Refresh', 'Marhaba', 'Manjushree Veg', 'Sai Shiv Sagar', 'Thrupthi Restaurant', 'Panchami Garden', 'Santrupti Sagar', 'Slv Kabab Centre', 'Juicy Hut', 'Loca Moca - The Indian Grub', 'Shanghai Times', 'Cane Recipes', 'Food Memories', \"Naga'S\", 'Suchi Ruchi Veg & Non Veg Resturant', 'Ammachide Addukala', 'Hakuna Matata', 'Three Dots & A Dash', 'Hunger Camp', '55 Wall Street', 'Parkview', 'Danapani', 'Inchara', 'Chatori Gali', 'White Horse', 'Coconut Grove', 'Turquoise', 'Eagle Bar & Restaurant', 'Gopal Kabab Centre', 'Nandi Bidadi Thatte Idli', 'Gowdru Military Hotel', 'Zatar House', 'Biriyani Angadi', \"Mg'S Fine Dining & Bar - Springs Hotel & Spa\", 'Tree Top', 'The Sofraah Kebabs & Kurries - Eden Park Restaurants', 'The Yellow Chilli', 'Tea Villa Cafe', 'Cafe Cosy', 'Go Native', 'Alchemy Coffee Roasters', 'Rooftop Cafe', 'Enerjuvate Studio & Cafe', 'The Caramelts Cafe', 'Slimsins Cafe', 'Krazzy Folds', 'The Studio Cafe', 'La Grande Cafe', '36Th Cross Coffee Mane', '4Th Tea Block', 'Brew Bakes', 'Bread And Circus', 'Swati Cafe', 'Rustic Treats', 'People Tree Cafe', 'Leon Grill', 'Dr. Bubbles', 'Bhukkhad Baba', 'Mysuru Coffee Thindi', 'Smoke-A-Pot', 'The Biriyani Pedia', 'Sl Vadapav', \"Wazir'S\", 'Marenahalli Donne Biriyani', 'Namma Banashankari Donne Biryani', 'Tummy Fuel', 'Pani Kum Chai', 'Rajanna Military Hotel', 'Protein Grillhouse', 'Punjabi By Nature 2.0', 'Peace Restaurant', 'Pin Me Down', 'Swathi Deluxe Restaurant', 'Cakewala', 'The Belgian Waffle Co.', 'Up Style North Indian Food', 'Wat-A-Burger!', 'Classic Shop', 'Food And You', 'Iyengar Bakery', 'Vakulaa Veg Restaurant', 'Malabar Bay', \"Sahana'S (Nati Style)\", 'Turkish Shawarma', 'Ross Kitchen', 'Fanoos Xprss', 'Khan Saheb Grills And Rolls', 'Desi Vdesi', 'Bhavani Chats N Juice', 'Lit Gastro Pub', 'Karavali Kolimane', 'Durga Sagar', 'Jayanagara Donne Biryani', 'Ice Cream Works', 'Rahhams', \"Hushy'S Kitchen\", 'The Cake City', 'Bubblewrap Waffle Co.', 'Grillopia', 'Hotel Empark', 'Navami', 'Quench & Crunch', 'Karavali Grand', 'City Durbar', 'Chinese House', 'Marzipan @ The Bohemian House', 'Indori Chatorey', 'Mockaholic Restro Beer Cafe', '3 Spice', 'Ascharya Hotel', 'Mug N Bean', 'Bakers77', 'Chai Culture', 'Desi Inn', 'Black Cup Cafe', 'Pop Hop', 'Aramane Donne Briyani', 'Nandhi Andhra Style Family Restaurant', 'New Udupi Upahar', 'Ramji Chaiwale', '1441 Pizzeria', 'New Chickpete Donne Biryani', \"David'S Kitchen\", 'Navya Foods', 'Shyvan Restaurant', 'Mecaf Family Restaurant', 'Quench The Juice Lounge', 'Euki', 'Kalpavriksha Upahara', 'Bombay Talkies', 'Bakers Day', 'New Punjabi Hotel', 'Ice Land', 'Ice Stone Creamery', 'Arabian Bites', 'Bake And Juice', 'Rajvardhan Foods', 'Sri Krishna Veg', 'Cafe 221B', 'Desi Rasoi', 'Parathe Wali Gali', 'Red Onion', 'Baba Chatkora', 'Mainland China', 'Kamat Minerva', 'Davangere Benna Dose Hotel', 'New Banashankari Donne Biryani', 'B & B The Pub', 'Lumbini Snax', 'Garage Pizza', 'Night Restro', 'Chamrajpet Kabab Junction', 'Shake Tat Bottle', 'Gandharva Family Restaurant', 'Kudla - Hotel Ramanashree', 'Hotel Ruchi Priya', \"Anupam'S Coastal Express\", \"Polamma'S Mess\", 'Cable Car', 'Roofnic', 'Vindu Andhra Ruchulu', 'Tawa Sagara', 'The Lounge - Eden Park Restaurants', 'Mayuri', \"Bhandary'S Kitchen\", 'Parika Multicuisine Restaurant', 'Eshanya', 'Siddique Kabab Centre', 'Kickin Burger', \"Baker'S Glove\", 'Upahara Sagar', 'Clove Rooftop', 'Falafal', 'Heritage Cafe', 'Chef Master', 'Jayanagar Grill House', 'Mane Holige', 'Nagarjuna Chimney', \"Mishra'S Pedha Big Foods\", 'La Casa', 'Revoli Hotel', 'Al-Madina Restaurant', 'Alfa Family Restaurant', 'Trendz Corner', 'Fishland Deluxe', 'Hungry Lion', 'Adda', 'Big Bites', 'The Taj Hotel', 'Vijaya Sagar', 'Divina - Eden Park Restaurants', 'Juicemaker', 'Rakesh Kumar Pani Poori', 'Take A Break', 'Sihi Chocolaterie', 'Fitbakes', 'Mrs Paradise', 'Hotel Coronation', 'Kolkata Restaurant', 'Kamat Restaurant', 'Sk Grand Hotel', 'Parivar', 'Cakeport', 'Just Sandwiches', 'V B Bakery', 'Sri Ganesh Sweets', 'The Bakery World', 'Milano Ice Cream', 'Cool Joint', 'Durga Bikaner Sweets', 'Kulfreeze', 'The Rogue Elephant', 'Prakash Cafe', 'Beetle Juice Bar - Springs Hotel & Spa', 'The Upper Deck - Raaj Residency', 'Mavalli Tiffin Room (Mtr)', \"Brahmin'S Coffee Bar\", 'Chinese Corner', 'New Modern Hotel', 'The Sip Shop', 'Ganesh Chats', 'New Udupi Anand Bhavan', 'Hotel Janatha', 'New Shanthi Sagar', 'Kesar Rajasthani Parotha Point', 'Inchara Restaurant', 'Sri Idli Mane', 'Chamarajpet Non Veg Restaurant', 'Sri Vasavi Mane Thindi', 'Ganga Sagar', \"Joshi'S Mumbai Masala\", 'Uphara Kendra', 'Hotel Girish', 'Subzero Korner', 'Rajastani Rasoi', 'Once Upon A Rooftop', 'Thyme & Whisk', 'Fusion Theory', 'Saarangi Fine Dining', 'Golden Oak - La Marvella Sarovar Premiere Hotel', 'Halli Jonne Biriyani', 'Empark Inn Restaurant', 'Bengaluru Cafe', 'Nv Naidu Hotel', 'Taj Restaurant', 'Brahmin Tiffins & Coffee', 'Uphar Dharshni', 'English Channel', \"Sarvam'S\", \"Iyengar'S Inn\", 'Naidu Military Hotel', \"Adiga'S\", '21 C - La Marvella Sarovar Premiere Hotel', 'Hotel Anand Vihar', 'Pavithra Restaurant', 'Biryani Paradise', 'Shree Sagar', 'Shree Balaji Paratha House', 'Donne Biryani', 'Saarangi Express', 'Adithya Veg', 'Hotel Renowned', 'Hotel Kalpaka', 'Poornima Restaurant', 'Kava - Fairfield By Marriott', \"The Fisherman'S Wharf\", 'Momo Cafe - Courtyard By Marriott', 'Ruh', 'Tipsy Bull - The Bar Exchange', 'Nook - Aloft Bengaluru Cessna Business Park', 'Chaarcoal', 'Sharaab Factory', 'Skylit - Citrus Hotels', 'Flavors Of India', 'Monsoon', 'Biso - Citrus Hotels', \"Chef'S Gallery\", \"Palki'S\", 'W Xyz Bar - Aloft Bengaluru Cessna Business Park', 'The Black Pearl', 'Jalsa Gold', \"Ab'S - Absolute Barbecues\", 'The Hidden Home', 'Barbecoa', 'Opus Food Stories', 'Village - The Soul Of India', 'Little Italy', 'Xtreme Sports Bar', 'Rroyal Rajasthan', 'Flavours - Octave Hotel & Spa', 'Equinox Bar - Doubletree Suites By Hilton', 'Story Time', 'The Salad Studio', 'Mont Blanc Cafe', 'Cafe Jezve', 'Puro Gusto', 'Tata Cha', 'Tea Totallers', 'Delitz Creamvilla Cafe', 'The Brewing Bean', 'Costa Coffee', 'Cafe Olive', 'Cafe Thulp', 'Chai Resto', 'Stoner', \"Zoey'S\", 'Eating Love', 'Light House Cafe', 'Chaai Resto', 'Imperio Cafe', 'Rangla Punjab', 'Thiruvithamkoor Restaurant', 'The Paratha Company', 'Nu.Tree', 'Best Of Bengal', 'Kerala Panoor Restaurant', 'Odians', 'Pet Full @ 99', 'New Punjabi Dhaba', 'Punjabi Dawat', 'Kerala Mess Upahar', 'Phulke Ghar Ke', 'The Meal Story', 'Meghana Foods Grand', 'Murli', 'Barbeque Delight', 'Basmati Restaurant', \"Reddy'S Restaurant\", 'Sukhi Bhava', 'Fun Kitchen', 'Hyderabadi Biryani Hub', 'Moriz Restaurant', 'Blueberry Restaurant', 'Biryani Kitchen', 'Udupi Aatithya', 'Pepperwood', 'Biriyani House', 'Punjabi Khana', 'Al Daaz', 'Bihar Ki Shan', 'Sai Santhi Cafe', 'Sri Vishnu Veg', 'Shudh', 'Sri Vishnu Grand & Garden Restaurant', 'Potful', 'Bahar Cafe', 'Dinepost9', 'Thalassery Restaurant', 'Sri Vishnu Grand', 'Bathinda Dine', 'Wow! Momo', 'Sri Krishna Kitchen', 'Maa Bhook Lagi', 'Cake Town Cafe', 'Kairali Restaurant', 'Basaveshwara Khanavali', 'Punjabi Food Point', 'Punjabi Tadka', 'Costa Biryanis', 'Sri Udupi Park', 'The Punjabi Rasoi', 'Punjab Di Shaan', 'Punjabi Nukkad Pure Veg', 'Atithi Sambrama', \"Navya'S\", 'Mandya Gowdru Donne Biriyani', 'Marwari Basa', 'Indori Zaika', 'Kya Khaoge', 'Rayalaseema Chefs', 'Ambur Dum Biriyani', 'The Nosh House', 'Savoury Restaurant', 'Delhite Food', 'The Flying Cup', 'The Rasaganga', 'Udupi Nalapaka', 'Sarjapur Social', 'Konaseema Kitchen', \"Psv'S Andhra Paradise\", 'Maia - Eat | Bake | Mom', 'Punjab Zone', 'Yummy Punjabi', 'Happy Endings', 'Meghana Biryani', 'Spicy Khana Point', 'Hyderabad Chefs', 'Byg Brewski Brewing Company', 'Nutty Affair', 'Waffle Talesz', \"Chili'S American Grill & Bar\", 'Hyderabadi Zaiqa', 'Abhiruchi Restaurant', 'Pasta Twist Plus', 'Delite Chaat House', 'Hyderabadi Biriyani', 'Momo Rice Noodles', 'Bombay Sandwich Company', 'Hungry Bird', 'Veg Rasoi', 'Curry Flavours', 'Dhaba Estd 1986 Delhi', 'Inhouse Burger', 'Manchow', 'Andhra Vilaas', 'La Casa Brewery And Kitchen', 'Biriyani Zone', \"Soup'Ermanz Kitchen\", 'Map- My Appetite Place', 'Healthie', 'Sri Dalma', 'Chai World', \"Baker'S Home\", 'Paratha Treat', 'New Cool Joint', 'Al Khansah', 'Chullah Bhatti', 'Feel@Home', 'Mangala Hotel', 'The Kebab House', 'Poha On Wheels', 'Float', 'Makers Of Milkshakes', 'Udupi Savi Thindi', 'Karavali Kitchen', 'Innerchef', 'Rp Sweets', 'Broadway - The Gourmet Theatre', 'Appetite Workstation', 'Mango Tree Grand', 'Grigliato', 'Crunch Pizzas - Express Delivery', 'Parrattha Ssinghh', 'Atithi Aramane Veg', 'Yummy Tummy', 'Akshaya Biryani', 'Lungees Foods', \"Reddy'S Paradise\", 'Tarbouche', 'Bombay Brasserie', 'Ajwa Thalassery Biryani', 'Yumyumdilli', 'Folklore Restaurant', 'Napoli Italian Bistro', 'Uptown Sliders & Shakes', 'The Grub Central', 'Cold Smith Ice Creams', 'Thalis Of India', 'Singh Saheb Di Rasoi', 'Slurpy Shakes', 'The Milkshake Theory', 'Cake Box', 'Quick Bites Food Junction', 'Kidilum', 'World In A Bowl', 'Sintales', 'The Litti Company', 'Myrasoiya.Com', 'Vandana Andhra And Multi Cuisine', 'American Bites', 'Aashish Foods', 'Rusbury Fresh Sweets And Savouries', 'Shree Khana Khazana', 'Moti Mahal Delux', 'Shri Vishnu Grand', 'Andhra Paris', 'Annapurna Foods', 'Spicy Punjabi Pharatha', 'Kitchen On Table', 'Charcoal Eats', 'Zayakedar', 'S S Popular Frozen Stone', 'Park N Eat', 'Amrutha Grand Restaurant', 'Yumyumsouth', \"Nanda'S\", 'Supreme Biryani', 'Shahi Zaikha', \"Srinathji'S\", 'Sichuan', 'Bellandur Kitchen', 'Parathe Ghar Ke', 'Cakes Wagon', 'Sri Ganesh Juice Junction', 'Ooty Chocolates', 'Kanua', 'Foreign Cafã\\x83Â\\x83Ã\\x82Â\\x83Ã\\x83Â\\x82Ã\\x82Â\\x83Ã\\x83Â\\x83Ã\\x82Â\\x82Ã\\x83Â\\x82Ã\\x82Â©', 'Apna Veg Dhaba', \"Dad'S Cookhouse\", 'Abbabi Chicken', 'Azura Restaurant', 'Freshies Gourmet Salads', \"Ritomi'S Lov\", 'Southinn', 'Karachi Bakery', 'Mughal Treat', 'Le Charcoal Xpress', 'Foxtrot', 'Le Gateau - The Cake Shop', 'Deli Chats And Sweets', 'Eden Huts Restaurant', 'Shekhawati Restaurant', 'Baithak', 'Ice Treat', 'Mumbai Xpress', 'Filmy Kitchen', 'Samaroh', 'Fusion Tadka', 'Nh-1', 'Madurai Meenakshi Vilas', 'Rampyari Chaiwala Netaji Bhajiawala', 'Biryani House', 'Karavali Naati Mane', 'The Punjabi', 'Matinee Bar & Kitchen', 'Spicy Paratha House', 'Foodies Hub', 'The Modak', 'Delhi Restaurant', 'Chatorezz', 'Aapni Rasoi', 'Melting Melodies', 'Deccan Kitchen', 'Tapout Tavern', 'Shanghai Bistro', 'Hyderabad Biryaani Home', \"Pabrai'S Fresh & Naturelle Icecreams\", 'Kritunga Restaurant', 'Desi Chulha', 'Kabab Mandra', 'Hoot', 'Homifoo', 'Ghar Ki Rasoi', 'Ice N Fries Cafe', 'Nutty Squirrel', 'Cooking Mom', 'Indulge By Innerchef', 'Biriyani Bungalow', 'Absolute Shawarma', 'The Irish House', \"Gusto'S Pizza\", 'Mak N Vak - Fyn', 'Bawarchi Khaana', 'Carlos Cake Cafe', 'Mighty Paws', 'Cake Dilim', 'Raja Bhojaun', 'Mirchi Bites- Spice Heaven', 'Hotel Sapthagiri', \"Baker'S Cafe\", 'Oz Pies', 'Brimstone Cafe', 'Jashn', 'T.A.K - That Affordable Kitchen', 'Up Shawarma', 'Health Zingo', 'Corner Huts', 'Half & Half Food Box', 'Food Treat', 'Hotel Tanish', 'Royale Dine', 'Atithi Family Bar & Restaurant', 'Eatwell Restaurant', \"Angiie'S Cafe\", 'Muscat Restaurant', 'Rajtilak Sweets', 'Cake Delights', 'Lassi Shack', 'Kaka Singh', 'Soul Treat', 'Kadala Teera', 'Biryani Hut', 'Red Stone Kitchen', 'Second Wife Cafe', 'Asia In A Box', 'Ram Bhog', 'Silsila Restaurant', 'Keerthi Restaurant', 'Flying Cakes', 'The Vape', 'Indy Palate', 'Sri Vasavi Restaurant', 'Nukkad', 'Pita Pit', 'Milkyway Ice Creams', 'Take Eat Easy', 'Rasoiya', 'Dhaba Shaba', 'Ghar Ka Chulha', 'Cafe Daily Bread', 'The Zaika Of Banaras', 'Mishmash', 'T Square', 'Sri Sai Mango Tree Restaurant', 'Night Diaries', 'Carnival Cakes & Breads', 'Sai Ram Andhra Mess', 'Samosa Corner', 'Bhagini', 'Unico', 'Eat N Drinks', 'Dosa Time', \"Ammi'S Biryani\", 'Annalakshmi', 'Hotel Shreekshetra', 'Payohima Ice Creams', 'Readybowl', 'The Paratha Stories', 'Al Zaiqa Hotel', 'Tandurust', 'Kawaii', 'B.M.W - Bhookh Mitaane Wala', 'Hyderabad Biryaani Palace', 'Lucknow Central', 'Lovely Knights', \"Archana'S First Crush\", 'Telugu Velugu', 'Gowdaaa Mane Oota', 'Lazeez', 'Bonfooder', 'Cafe At The Atelier', 'Hotel Aahaa', 'Crack That', 'Yummy Punjabi Delight', 'Nandana Mess', 'Pots N Pans', \"Neetu'S Kitchen\", 'Chatorr', 'Flamin Grill', 'Eatsomnia', '#Feeltheroll', 'Mast Biryani - Fresh Indian Kitchen', 'Hotel Masthi Kabab', 'Al Khwaja', 'Spice Of Kolkata', 'Spicy Hub', \"Devi'S Cakes N Bakes\", 'Taste Of India', 'Piã\\x83Â\\x83Ã\\x82Â\\x83Ã\\x83Â\\x82Ã\\x82Â\\x83Ã\\x83Â\\x83Ã\\x82Â\\x82Ã\\x83Â\\x82Ã\\x82Â±Ata', 'Savi Sagar', 'Spice Garden By Dum Mast Biryani', 'Parathabox', 'La-Pizza', 'Kabab Ghar', 'Chicken Shawarma Hub', 'Spicy Andhra', 'Mughal Samraj', 'That Garage Cafe', 'Cupcake Noggins', 'Burger Crush', 'Juice Berg', \"Wang'S Xanadu Momo\", 'Chination', 'Chriz Cafe', 'Healthy Sapiens', 'Aaha Andhra', 'Mint Spice Cafã\\x83Â\\x83Ã\\x82Â\\x83Ã\\x83Â\\x82Ã\\x82Â\\x83Ã\\x83Â\\x83Ã\\x82Â\\x82Ã\\x83Â\\x82Ã\\x82Â© & Restaurant', 'Swathi Deluxe', 'Ultra Biriyani Paradise', 'The Rig', 'Butter Side Up', 'Just Delhiwala', 'Cafe Talkhouse', 'Foodzoo', 'Mumbai Kulfi', 'Tastebuds', 'Punjabi Chulla', 'Rolls Kitchen', 'Nayi Dilli By Anand Sweets', 'Cauvery Hyderabadi Biriyani', \"B'Town Cafe & Restaurant\", 'Good Food Kitchen', 'Sree Lakshmi Venkateshwara Andhra Mess', 'Baba Da Dhaba', 'Delice - Novotel', 'Fine Day', 'Heavenly Desserts', 'Kriti Dugar', 'Lluvia Bakery', 'Smokin Bites', 'Health Gourmet', 'Detox Kitchen', 'China On My Plate', 'Paratha King', \"Kakatiya'S\", 'Hangouts @ Kashish Caterers', 'Go Gharelu', 'Savours', 'Oven Fresh', 'Coffee Bike', 'Homemade Delite', 'Hokey Pokey Ice Creams', 'Minus 4', 'Chullah Chandigarh', 'Dalchini', \"Bg'S Poolside Bar & Grill\", 'Glassy', 'Andhra Spicy', 'White Horse Pulse Resto Bar', 'Palki Grand', 'Pathankot Punjabi Restaurant', 'Roll Junction', 'Noodles', 'Harvest Market', 'Trp -That Roll Place', 'Sri Krishna Upahar', 'Uttar Karnataka Lunch Home', 'Maa Vooru', 'Ambur Biriyani Centre', 'Opus Club', 'Vapour Brewpub And Diner', 'Blue Terrain - Novotel', 'Asia Alive - Doubletree Suites By Hilton', 'The Square - Novotel', 'Chez Nous - Novotel', 'Wimpie', 'Madurai Idly Shop', \"Bengaluru'S Biryanis Paradise\", 'Quiznos', 'Ambur Star Biryani', 'Ambur Biryani Point', 'Ebony', 'Panchavati Gaurav Thali', 'Saatvikk', '70 Brigade - Iris Hotel', 'Monarch', 'Olive Bar And Kitchen', 'Jw Kitchen - Jw Marriott Bengaluru', 'The Tao Terraces', 'Rim Naam - The Oberoi', 'Oh! Calcutta', 'Caraway Kitchen - Conrad Bengaluru', 'Rasovara', 'Cubbon Pavilion - Itc Gardenia', 'Le Jardin - The Oberoi', 'Bbq@52', 'Konark Vegetarian Restaurant', 'The Spice Bazaar', \"Bbq'D - Global Grill & Brewery\", 'The Market - The Ritz-Carlton', 'Welcomcafe Jacaranda - Welcomhotel Bengaluru', 'Season - Adarsh Hamilton', 'Puran Da Dhaba - The Pride Hotel', 'Cafe Mangii', 'Ithaca - The Chancery Pavilion', 'Tiger Trail - Ramada Hotel', 'Citrus Cafe - Lemon Tree Premier', 'The Oriental Spice - Ashraya Hotel', 'Pinxx - Royal Orchid Central', 'Monsoon - The Park Bangalore', 'Cafe Treat - The Pride Hotel', 'South Parade - The Chancery Hotel', 'Mint Masala', \"Curry With A 'K' - St. Mark'S Hotel\", 'Northern Gate- Gateway Hotel', 'Canopy', 'Cafe @ Elanza', 'The Hub - Ibis Hotel', 'Tiffanys', 'Nithyothsav - Hotel Ramanashree', 'Cafe Monarch Luxur', 'Sunehri', 'Bazaar- Zone By The Park', 'Vt Sindhur Veg', 'Spice It', 'Banjara Melting Pot', 'Zodiac - Fortune Select Jp Cosmos Hotel', 'One Atria Cafe', '24 Carats - The Capitol', 'Blow', 'Cafe Azzure', 'The Flying Squirrel', 'Trick Or Treat', \"Fatso'S\", 'Yomama!!', 'Hashtag Cafe', 'Smokie Brownie', 'Bon Sante', 'Brik Oven', 'Green Theory', 'Truffles', 'Cafã\\x83Â\\x83Ã\\x82Â\\x83Ã\\x83Â\\x82Ã\\x82Â\\x83Ã\\x83Â\\x83Ã\\x82Â\\x82Ã\\x83Â\\x82Ã\\x82Â© Felix', 'The White Room - Coffee & Kitchen', 'Matteo Coffea', \"Glen'S Bakehouse\", 'Cafe Mozaic - Taj Mg Road Bengaluru', \"Smally'S Resto Cafe\", 'Bengaluru Baking Company - Jw Marriott Bengaluru', 'Cafe Kaara', 'Japan Travel Cafe Azuki', 'Little Green Cafe', 'Fabcafe', \"Cafã\\x83Â\\x83Ã\\x82Â\\x83Ã\\x83Â\\x82Ã\\x82Â\\x83Ã\\x83Â\\x83Ã\\x82Â\\x82Ã\\x83Â\\x82Ã\\x82Â© Mor'Ish\", 'Skoolroom', 'Lakeview Milkbar', \"Wolf'Ish\", 'Urban Solace - Cafã\\x83Â\\x83Ã\\x82Â\\x83Ã\\x83Â\\x82Ã\\x82Â\\x83Ã\\x83Â\\x83Ã\\x82Â\\x82Ã\\x83Â\\x82Ã\\x82Â© For The Soul', 'Peppa Zzing', 'The Courtyard', 'Cafe Imroze', 'Kaara By The Lake', 'Happy Belly Bakes', 'Cafe Cassia& Deli', 'Cafã\\x83Â\\x83Ã\\x82Â\\x83Ã\\x83Â\\x82Ã\\x82Â\\x83Ã\\x83Â\\x83Ã\\x82Â\\x82Ã\\x83Â\\x82Ã\\x82Â© Mh-28', 'The Blackboard Bakery', 'Wafl Cafã\\x83Â\\x83Ã\\x82Â\\x83Ã\\x83Â\\x82Ã\\x82Â\\x83Ã\\x83Â\\x83Ã\\x82Â\\x82Ã\\x83Â\\x82Ã\\x82Â©', 'Fresh Pressery Cafe', 'The Cafã\\x83Â\\x83Ã\\x82Â\\x83Ã\\x83Â\\x82Ã\\x82Â\\x83Ã\\x83Â\\x83Ã\\x82Â\\x82Ã\\x83Â\\x82Ã\\x82Â© @ Saanchi', 'Moto Store & Cafã\\x83Â\\x83Ã\\x82Â\\x83Ã\\x83Â\\x82Ã\\x82Â\\x83Ã\\x83Â\\x83Ã\\x82Â\\x82Ã\\x83Â\\x82Ã\\x82Â©', 'Haji Ali Juice Centre', 'Driven Cafe', 'Soul Cafe', 'Barista', 'The Lobby Brew - Conrad Bengaluru', 'Cafe 22', 'Chai Ki Tapri', 'Cafe Aladdin', 'Cafe Cerrise', 'Savera Cafe', 'Norsha Caffe', 'Little Bites', 'Dasaprakash Cafe', 'The Bao Belly', 'The Coffee Bean & Tea Leaf', 'Berrylicious Cafe', 'Hammered', 'Dolci Desserts', 'The Culinarium', 'Infinitea Tea Room & Tea Store', 'Chels Cafe', 'Talk Ease', 'Tea And Wine Lounge', 'Kabab Souq', 'Kerala Pavilion', 'New Taj', 'Sandhya Veg', \"Dunkin' Donuts\", 'Shahi Family Restaurant', 'Punjabi Dhaba', 'Donne Biryani House', 'Tadkawala', 'Shawarma Time', 'Bangalore Shadi Biriyani', 'Roti Shotti', 'Indian Chicken Biryani Point', \"Nando'S\", 'Dakshin Restaurant', 'Kc Das', 'M.M.A Kababs Rolls & Biryani Center', 'Belgian Waffle Factory', 'No 10 Fort Cochin', \"The Mughal'S\", 'Kkr Foodies', 'Hotel Dil Coorg', 'Snack House', 'Xpress Biryani', 'New Alameen Restaurant', 'Soda Bottle Opener Wala', 'Smoke House Deli', 'Thai Chy', 'Donne Biryani Hatti', 'Ishta Upahar', 'Kaati Zone', 'Portland Steakhouse & Cafe', 'Utse Kitchen', 'Alampur Bar And Restaurant', 'Hotel Fanoos', 'Laughing Llama Gastropub', 'Oregano Pizzeria', 'The Good Grain', 'Pasta Street', \"Chetty'S Coffee\", 'Cita Pani', 'The Waffle Press', 'Delicacy', \"Kareem'S\", 'Mamagoto', 'Tayabbs', \"Atty'S Bakery\", 'Vijayalakshmi Veg', 'The Cake House', 'Eden Park', 'Marzipan Cafe & Bakery', \"Bozo'S Yum Yums\", 'Pind Balluchi', 'Cream Chemistry', 'The Brekkie Shop', 'Maravanthe', \"Haldiram'S Express\", 'Hotel Ramprasad', 'Indian Spice Food', 'Kitchen Of Joy', 'Mama Mia!', 'Taste Of Nepal', 'Shiro', 'Thai House', 'Roll Er Dokaan', 'Nh7 Refuel', 'Church Street Social', 'Sheesh Kebab', 'Bangalore Masala House', 'Classic Lassi Shop', 'Fruit Face', 'Srinidhi Sagar Food Line', 'Jars', 'Hungerbreak 24X7', 'Firewood Biryani', 'Venus Biryani', 'Sangam Sweets', \"Kartik'S Mithai Shoppe\", 'Desi Deck', 'Ubcr', 'Hoppipola', 'Mount View Fast Food', \"Chichaba'S Taj\", '99 Pancakes', 'Kabab Korner', 'Oh My Chaat', 'Foodhall', 'Ciclo Cafe', 'Alibaba Cafe And Restaurant', 'Arya Bhavan Sweets', 'Qissa Khawani', 'Tewari Bros Mithai Shoppie', 'Kolkatta Famous Chat', 'Cookie Man', 'Sagar Delicacy', 'Platter', 'The Adukkala Restaurant', 'Carnival De Goa', 'Northern Route', 'The Open Box', 'Double Decker', 'Dakshin Biryani & Tiffin', \"Chocolate D'Luxe\", 'Chilli Chicken', 'Nolimmits Lounge And Club', 'Hotel Rangoon', 'Mangalore Pearl - Seafood Restaurant', 'The Wok Shop', 'Chaitanya Veg', '20 Feet High', 'Bean Flickers', '7 Plates', 'Munchies', 'Kenz Karam', 'Kobe Sizzlers', 'Cafe Idly', 'Al Swaad Take Away', 'Ambur Star Briyani', 'Airlines Hotel', 'Pai Vihar', 'Eat At Nite', \"Height'S Cafe - Hotel Bangalore International\", 'Yauatcha Pã\\x83Â\\x83Ã\\x82Â\\x83Ã\\x83Â\\x82Ã\\x82Â\\x83Ã\\x83Â\\x83Ã\\x82Â\\x82Ã\\x83Â\\x82Ã\\x82Â¢Tisserie', 'Gelato Italiano', 'Chantilly', 'Ghar Ka Bhojan', 'Cafe Terra', 'Charminar Kabab Paradise', 'Eatwater', \"Sherlock'S Cafe\", 'Step Right Up', 'Zaks Mediterranean Cuisine', 'Paratha Xpress', 'The Thickshake Factory', 'The Chariot', 'The J', 'Zoroy Luxury Chocolate', 'Kanteen 038', 'Le Rock', 'Bangalore Bytes', 'Milk N Shakes', 'Siridhanya Upahara Darshini', 'Hotel Chandrika', 'Gowdru Hotel', 'Cafe Braqa', \"Naachiyar'S\", 'Cobaja', 'Brownie Heaven', 'Kadamba Foodline', 'The Bundle Co.', 'Tea Break Lounge', 'The Grill House', 'Mountain Spice', 'Kabab Nation Corner', 'The Grand Taj', 'Kumbakonam Degree Coffee', 'C Sharp Kitchen', 'Nossa Goa', 'Red Lantern', \"Royce' Chocolate\", 'Chung Wah Express', 'Ujwal Restaurant', 'Gmt - Gelateria Montecatini Terme', 'Gokul Kuteera', 'The Souk', 'Caffe Maven', 'Bubbles', 'Popat', 'Tea Journey', 'Ging - Royal Orchid Central', 'Masala Central', 'Daily Bite', 'All Saints Bakery', \"Ta'Aam\", 'Coastal Delight', 'Little White Kitchen', 'Taipan', 'Penta Cafe', 'Ideal Kitchen', 'Tibbs Frankie', 'Ocea Hotel', \"L'Inoui\", 'Troll', 'Bhavani Sri', 'Meaza Ginger Multi Cuisine Restaurant', 'Mamma Mexicana', 'The Jungle Terrace', 'Amritsari Kulcha Bite', 'Delices', 'Meenu Oota Da Maane', 'Gobble Up Churros Cafe', 'Tempura Restaurant', 'Choi Choi Momos', 'Shalimar', 'Deshi Fusion Pizza', 'Indira Darshini', 'Aagaman Veg', 'Salt Mango Tree', 'Misu', 'Rocksalt', 'The Rice Bowl', 'South Inn', \"Pathy'S Kitchen\", 'Happy Fillings', 'Rotti Mane', 'Shezan', 'Croons', 'Minimelts', 'Tandoor', 'Feast India Co.', 'Hotel Green Tara', 'The Biere Club', 'Bangalore Mandarin', 'Mahesh Lunch Home', \"Bheema'S\", 'Hatti Punjab Di', 'Dine In', 'Danny Lambas Punjabi Dhaba', 'Shiv Sager', 'The Charcoal Factory', \"Kenny'S Restaurant\", 'Fat Buddha', 'Teppan Japanese Grill & Sushi Bar', 'Midnight Eats', 'The Only Place', \"Anupam'S Coast Ii Coast\", \"Babayaga'S\", 'Venkateshwara Foods', \"Ramana'S\", 'Mcleans Italian Pizzeria', 'The Konkan - Seafood Restaurant', \"Hotel Tom'S Restaurant\", 'The Bong', 'Fujan', 'Raaga', 'The Food Dude', 'Lazio Steaks & More', 'The Humming Tree', 'Woodstok', 'Asean - On The Edge', 'Chung Shan Chinese Restaurant', 'Monsoon Express', 'Friends Night Kitchen', \"Navab'S\", 'Marathi Biriyani House', 'Retro Lounge Bar', 'Kick Out The Jams', 'Xian', 'Kulfi Point', '8 Slice', 'Crescent Avenue - Hotel Bangalore International', 'New Kudla Family Resturant', 'Mummy Dhaba', 'Benjarong', 'Midnight Hunger Solutions 24/7', 'Ente Keralam', 'Donne Biryani Mane', \"Sunny'S\", 'Little Chef', 'Rawal Jalebi', 'Gundappa Donne Biryani', 'Aathithya', \"Nagashree'S\", 'Express Food Delivery', 'Gowdara Naati Mane', \"Kamat'S Palate Korner\", 'Bhagini Icon Boutique Hotel', 'Ice & Spice', 'Homemade Food', 'In Wok', 'Aromas Of South', 'Allana Kabab', 'Home Treat', 'Manjit Da Dhaba', 'Halli Mane', 'Taj Hotel', \"Foody'S\", 'Masala Oota', 'Kadai Crust - Amma Veetu Samayal', 'Fava', 'Amber Rush Restobar', 'Bootlegger', 'Throwback - Pub & Dine', 'Shaken & Stirred', 'Sri Ayodhya Veg', 'Hotel Fine', 'The Bangalore Cafe', 'Sakae Japanese Restaurant', 'Art Of Delight', 'Khazana Food Paradise', 'Mandarin Box', 'Pashto', 'Somilan Steak House', 'Icebreakers', 'Sugarberryz Cakery', 'The Biryani Paradise', \"Stars 'N' Stripes\", 'New Prashanth Naati Style', \"Mel'S Korner\", \"Iyengars' Bakery\", \"Sidewalk Cafe - Nahar'S Heritage Hotel\", 'Halli Oota', \"Pop'Z Kitchen\", 'Chocolate Junction', 'Stir Fry', 'New Arya Bhavan', 'Mughals Restaurant', 'Sri Krishna Foodline', \"Indy'S Comfort Food\", 'Chaithanya Andhra Style Family Restaurant', 'The Sugar Therapy', 'Al Sadique Restaurant', 'Shake N Snack', 'New Kohinoor Hotel', 'Rr Catering', 'Ambur Hot Dum Biryani', 'Kanis Kitchen', 'Hit And Run', 'Bhaiyajees', 'Le Chã\\x83Â\\x83Ã\\x82Â\\x83Ã\\x83Â\\x82Ã\\x82Â\\x83Ã\\x83Â\\x83Ã\\x82Â\\x82Ã\\x83Â\\x82Ã\\x82Â©Ri', 'The Donut Baker', 'Bhaiya Ji Food Court', 'Zaiqa', 'Rescafe', 'Bhaiyaji Food Court', 'Tandoor Da Funda', 'Batter Splatter', 'Malabar Kitchen', 'Skyline Family Restaurant', 'Casa Express', 'Pappu Chaiwalla', 'Akshaya Sambrama Veg Restaurant', \"Nawab'S Kolkatta Roll\", 'Royal Restaurant', 'Shree Sadguru Refreshment', 'Shan Restaurant', 'Hotel Nisarga Grand', 'Baahubelly', 'Kerala Kitchen', 'Cool Corner Arun Ice Cream', 'Deccan Spices', 'Sri Rama', 'Pooja Veg', 'Magic Box', 'Hungry Birds', 'Funjabi', 'Eatato Snack Bar', 'Snow Gola', 'Alchemy - The Chancery Pavilion', 'Fabelle Chocolate Boutique - Itc Gardenia', 'Bhagatram Sweets', 'The Bengaluru Brasserie - Hyatt Centric Mg Road', \"Koshy'S\", 'Sugar & Spice - Taj Mg Road Bengaluru', 'Fatima Bakery', 'Bowring Kulfi', 'Santhanam Sweets & Savouries', 'Shilpa Veg', 'Sri Jayalakshmi Bakery', 'Excelsior Bakery', 'Surya Bakery', 'Up Bhavan', 'Ice N Spice', 'Mishra Pedha', 'Delhi Bhavan', 'S R & Sons Bakery', 'Deli Counter - Gateway Hotel', 'Brea', 'Ganache - The Ritz-Carlton', \"Thom'S Bakery\", 'Hae Kum Gang', 'Arbor Brewing Company', 'The Permit Room', 'Shakesbierre', 'The Barn - Bar & Kitchen', 'Plan B', 'Pecos Classic', 'Guzzlers Inn', 'Fusion Lounge', \"Yak'S Kitchen\", 'Moxa Bistro', 'Flame Pub & Restaurant - Brigade Garden', 'Hotel Shangrila', 'The Chevron Brigade', 'Taste Of Tibet', 'The 13Th Floor', 'Communiti', 'Skyye', 'Kazã\\x83Â\\x83Ã\\x82Â\\x83Ã\\x83Â\\x82Ã\\x82Â\\x83Ã\\x83Â\\x83Ã\\x82Â\\x82Ã\\x83Â\\x82Ã\\x82Â©', 'Yauatcha', 'Farzi Cafe', 'Hard Rock Cafe', 'Karavalli - The Gateway Hotel', 'Bangalore Brew Works', 'Toast & Tonic', 'The Bar Stock Exchange', 'Samarkand', 'Spice Terrace - Jw Marriott', 'Carnatic', \"Skydeck By Sherlock'S\", 'Sanchez', '1Q1', 'Harima', 'Caperberry', 'Dindigul Thalappakatti', 'Sotally Tober', 'Tiamo - Conrad Bengaluru', 'Tree Tops Bar & Kitchen', 'Chianti', 'Alba - Jw Marriott Bengaluru', 'Bang - The Ritz-Carlton', 'Easy Tiger', 'Capri Gastrobar', 'Salvadores', 'Cafe Noir', 'Bangalore Pub Exchange', 'Sriracha', 'Russh Gastropub', 'Republic Of Noodles - Lemon Tree Premier', 'Mahjong Room - Welcomhotel Bengaluru', 'Mikusu - Conrad Bengaluru', 'Kebabs & Kurries - Itc Gardenia', 'Smaaash', 'Edo Restaurant & Bar - Itc Gardenia', 'Hamza', 'Roomali', 'Riwaz - The Ritz-Carlton', \"Slo' Food Co.2\", 'My Space - Welcomehotel Bengaluru', 'Chin Lung Resto Bar', 'Indian Durbar - Conrad Bengaluru', 'Memories Of China - Taj Mg Road Bengaluru', 'Fuel Resto Bar', 'The Lantern Restaurant & Bar - The Ritz-Carlton...', 'Matsuri - The Chancery Hotel', 'Ice - Taj Mg Road Bengaluru', 'I-Bar - The Park Bangalore', 'Fort Kochi', 'Lotus Pavilion - Itc Gardenia', 'Chugg', 'New Hilal Restaurant', 'Scottish Pub', 'Palmgrove', 'Tasting Room - Bengaluru Oota Company', 'Wyt Restropub', 'Mtr 1924', 'Al Noor', 'Kamat Hotel', 'Downtown', 'The Lobby Lounge - The Ritz-Carlton', 'The Ritz-Carlton Bar - The Ritz-Carlton', 'Sphyre - Gateway Hotel', 'Slounge - Lemon Tree Premier', 'Strikers Sports Bar And Music', 'Polo Club - The Oberoi', 'Atomic Lab', 'Bar Uno - Jw Marriott Bengaluru', 'Szechwan Court - The Oberoi', 'Chaithanya Delicacy', 'Liquid Lounge - Hyatt Centric Mg Road', 'The Rooftop', 'Mighty Small', 'White Plate', 'Jaisalmer', 'Page 3 Multicuisine Restaurant & Bar', 'Ottimo - Itc Gardenia', 'Mm Bar & Restaurant', 'Coco Grove Beer Cafe', 'The Lounge - The Chancery Pavilion', 'Alibi - Maya International Hotel', 'Unicorn Bar & Restaurant', 'Murugan Mess', \"Luscious - St. Mark'S Hotel\", 'Lifetree Cafã\\x83Â\\x83Ã\\x82Â\\x83Ã\\x83Â\\x82Ã\\x82Â\\x83Ã\\x83Â\\x83Ã\\x82Â\\x82Ã\\x83Â\\x82Ã\\x82Â©', 'The Perfect Stop', 'Taste Of Kerala', 'The Charlton Bar', 'Amnesia - The Poolside Bar', 'Engine', 'Lotus Royal Cuisine', 'Grill 99 - The Ritz-Carlton', 'Green Paprika', 'Soul City', 'Ozaa', 'Italia - The Park Bangalore', 'Siddiqu Kabab Center', 'Indian Coffee House', 'Siddappa Hotel', 'Kentacky Chicken Corner', 'Nisarga Garden', \"Amdo'S Corner Tibetan Foods\", 'Sri Saravana Bhavan', 'Vishnu Sagar', 'Mathsya Darshini', 'Shivajinagar Gardi Ustad Pehlwan Kale Bhai Biryani', 'Hotel Ajantha', 'Hotel Metropole', 'Ram Prasad Veg', 'North Indian Hotel', 'Bettaiah Military Hotel', 'Maaheshwari Chaat Wala', 'Lemon Rice', 'K V Canteen', 'Vyshali Food Corner', 'Sangam Kabab Corner', \"Hotel Kanchan'S Fish & Chicken\", 'Kavya Sagar', \"Mr. Anbu'G Ambur Biryani\", 'R S Lunch Home', 'Sona Chicken Kabab', 'Sri Udupi Grand', 'New Select Hotel', 'Hotel Ashoka', 'Bombay Food Express', 'Sagar Chats', 'Hotel Vinitha', \"Sultan Shah'S Restaurant\", 'Sattuani', 'New A1 Chicken Biryani Point', 'Sweet Chariot Cafe', 'Mdp Coffee House', 'Bharathi Dosa Camp', 'Galaxy 2 Restaurant', 'Tijouri', 'Maratha Darshan', 'Chikkanna Tiffin Room', 'Sln Lunch Home', 'Fish Factory-Citrus Hotel', 'Sanman Veg', 'Samrudh Veg', 'The Whiskey Bar', 'Nostradamus Bar & Lounge', 'Mallige', 'Srinidhi Real Food', 'Queens Food Corner', 'Ambur Star Dum Biriyani', 'M9 - Citrus Hotels', 'Aqua - The Park Bangalore', 'Haagen Dazs', 'Frolic', 'Maxpresso', 'Juicy', \"Iyengar'S Bakery\", 'Bansuri Sweets', 'Imperio Restaurant', 'Zaica Dine & Wine', 'Flechazo', 'Ji Hazoor', 'Hq', 'The Terrace At Windmills Craftworks', 'Bufferia', 'Kava Kitchen & Bar - Fairfield By Marriott', 'M Cafe - Bengaluru Marriott Hotel Whitefield', 'The Square Table', 'Marigold Fine Dine Restaurant', 'Tiffin Room - Miraya Hotel & Residences', 'Flavours Radha Hometel', 'The Podium Sports Bar', 'Zodiac', 'M Bar - Bengaluru Marriott Hotel Whitefield', 'Citrus Cafe - Lemon Tree Hotel', 'Afoozoo - Ginger Hotel', 'Keys Cafe - Keys Hotel', 'The Restaurant', 'High Sky', 'Southern Spice', 'Paprica', 'Elements - Mapple Express', 'Mega Bite', 'Breads And Banter', 'Chai Galli', 'Mugs N Burgers', 'Refresh', 'Madouk Cafe', 'An Egg Story', \"Bloomsbury'S Global Kitchen & Bakehouse\", 'Enchanted Garden', 'Cafe Palmyra', 'Cultch Resto Cafe', 'Oregano Soul Food', 'The Chocolate Heaven', 'Chai Mania', 'Black Rock Cafe', 'Whitefield Baking Company - Bengaluru Marriott Hotel...', 'Tim Cafe', 'Spice Boulevard', 'Fashion Knack Cafe', 'Teashot', 'Fifa Cafe', 'Cafã\\x83Â\\x83Ã\\x82Â\\x83Ã\\x83Â\\x82Ã\\x82Â\\x83Ã\\x83Â\\x83Ã\\x82Â\\x82Ã\\x83Â\\x82Ã\\x82Â© Delight', 'Refuel', 'Buddha Treats', 'Kitchens@Whitefield', 'Bowl N Biryani', 'Ooh La La', 'Rishitha Restaurant', 'Night Food Joint', 'Ka53', 'Roti Ghar Ki', 'Techies Kitchen', \"S'Mack\", 'Bitebox', 'Tandoor Box', 'Hot Cross Bun', 'Rayalseema Kitchens', 'Eatzgreen', 'Biryani Day', 'Indian Aroma Cafe', 'The Hyderabad Chefs', 'Dehati Murgee', 'Mealstree', 'Treatley', 'Food Mingo', 'Game Of Tandoors', 'Yo! Chow', \"Pizza Baker'S\", 'Food Zone', 'Jhanhavi Restaurant', 'Banana Leaf', 'Udupi Grand Veg', 'Village Restaurant', 'Take It!', 'Biryani Factory', 'Chinese Chaska', 'The Bahubali', 'Alpha - House Of Biryani & Tandoor', 'Tanuja Home Food', 'Combo Biriyani', 'Dilli Darbar', 'Lila Kitchen', 'Hyderabad Dawat', 'Handi Biryani', 'Happy Eat', 'Food Mood', \"Dock Frost'D\", 'Tandoori Junction', 'Dil Punjabi', 'Kerala Tiffin', 'Mahek Of Punjab', 'Punjabi Phulka', 'The Bawarchi', 'Eat Eroo - Bombay Vada Pav', 'Damodar Seth', 'Kitchen Rabbit', 'Satakarni', 'Orbis Restaurant', 'Vijayawada Heights', 'The Combo House', 'The Waffcake Legacy', 'Kesar Sweet Shop And Fast Food', 'Imperia Restaurant', 'Kaka Da Dhaba', 'Chatora', 'Foodism', 'Homms', 'Chakh Le India', 'Salem Kitchen', 'Artinci Artisanal Ice Cream', 'Amanthrana Gardenia', \"M.M.A. Kabab'S & Biriyani Center\", 'The Early Bell', 'Maria Taste Circle', 'Hotel Salala', 'Punjabi Tasty Khana', 'Palos', 'Dodda Mane Donne Biryani', 'Chatpatlal Sweets & Snacks', 'Shan-E-Punjabi Express', 'Mou Tushi Family Restaurant', 'Aditya Sweets', 'Karma Foods', 'Stonelicious', 'Udupi Delux', 'Rekha Restaurant', 'Desi Foodizzz', 'Foodies Delight', 'Midas Touch', 'Mandya Gowdru Hotel', 'Venice Kerala Restaurant', 'Tbc - The Breakfast Company', 'Office Lunch Box', 'Desi Khana', 'Skandas Veg Restaurant', 'Orchard Fresh', 'Waffle Square', 'Red Chilli', 'Om Sweets & Fast Food', 'Chatpata', 'Andhra Spices', 'Cocofresh', 'U.P. Dhaba', 'Windy- Taste Of Home', 'Expresso Restaurant', 'Brew And Barbeque - A Microbrewery Pub', 'Ganesh Bhavan', 'Abhiruchi Andhra Mess', 'Punjabi Twist', 'Sidewalk - The Garden Bar', 'Shreeji Restaurant', 'Chaat Street', 'North Wale Restaurant', 'Radha Rani', 'Nandini Deluxe', 'Sorse', \"Nizam'S Biryani House\", 'Cake Menu', 'Le Charcoal', 'Delhi Walle', 'Delhi Kitchen', 'Nandighosha', 'Coastal Hub', \"Shyam'S Lunch Box\", 'Andhra Biryanis', 'Raj Donne Biriyani', '9D Foods', 'Estaa Sweets', 'The Fat Chef', 'New Paratha Corner', 'Daily Sushi', 'Aks Family Dhaba And Restaurant', 'Punjabi Kitchen', 'Boondock Bistro', 'Omleterian', 'Cakesta', \"Kshatriya'S Kitchen\", 'Litti House', \"Kalla'S Restaurant\", \"Sherlock'S Pub\", 'Koylas', 'Green Hyderabad Biryani House', 'Cafesta', 'Taste Of India Family Restaurant', 'Chefactory Gold By Flechazo', 'R R Noodles Express', 'Biryani Feast', 'Roadhouse Grill', 'You Mee', 'Akshara', 'Spellbound', 'Sri Rajalakshmi Sweets', 'Namma Madurai', 'Bib-Breakfast In The Box', 'Dil Se Dilli', 'Barkaas', 'Simhapuri Kitchen', 'Bobacha', 'Punjab Grill', 'Palak Ande Ka Funda', 'Chaat Bazaar', 'The Farm House Bar N Grill', 'Odisha Platter', '@ Biryani Central', 'Masala Chai', 'Chatpata India', \"Oliver'S Pub & Diner\", 'New Punjabi Tasty Khana', 'Chin Chin By The Biere Club', 'Cafe Xtasi', 'Nh8', 'Kerala Restaurant', 'Real Fresh Dosa Corner', 'Tall Blonde French', 'Lashiwalla', 'Momo Mania', 'Gowri Gajanand Sweets', 'Sri Sai Bhavan', \"Madhu'S Tandoori Kitchen\", 'East Delicious', 'Rolls Plaza', 'Habib Shaheb Kolkatta Katti Rolls', 'The Belgian Waffle Company', 'Suchithra Biryani House', 'Andhra Mess', 'Sea Pot', 'Vegtaurant', 'Ramdev Sagar', 'The Dhaba', 'Bhagini Iris', 'Bhagini Kitchen And Bar', 'Whats Ap', 'Pulla Reddy Sweets', 'Ashirvad Veg', 'Sai Foods', 'Kabab Mirchi', 'Kitchen Online', 'Annapurna Bengali Restaurant', 'Facebake', 'Odia By Nature', 'Lassi Xpress', 'Palar Restaurant', 'Wok With Chung', 'Hyderabad Cuisine Multicuisine Restaurant', 'Biryani Lakhnawi', 'Bengaluru Square', 'Hyderabad Cuisine', 'Prajwal The Restaurant', \"Rayan'S Biryani\", 'Oak Tavern', 'Corprate Biriyani Adda', 'Saha Cabin Bengali Hotel', 'Karavalli Food Court', 'Cafe Of Joy', 'Nawabi Handi', 'Baba Fattoosh', 'Andhra Box', 'Nawab-E-Khana', 'Kerala Mess', 'Wish Pot', 'Delhiciouss', 'Swad E Punjab', 'Sweet Alley', 'Indian Highway Restaurant', 'Delicious Desserts', 'Chashni Sweets', 'Bbxr', 'Spoon Me', 'Bbq King', 'Vishwaas Take Away', 'Chattorey - The Family Restaurant', 'Happy Kitchen', 'Noibidya', 'New Udupi Delicacy', 'Dakshin Spice', 'New Food Magic', 'Uma Bhai Restaurant', 'Cafe Petu', 'Kolkata Famous Katti Rolls', 'Flavors Restaurant', 'Kreme Delight', 'Delicious Cakes', 'Rafoo Chakkar', \"Zeee'S\", 'Amaravati Authentic Andhra Restaurant', 'Yumlane', 'Master Chifoo', 'O2 Juice Bar', 'Dhaba Social', 'Cream And Fudge', 'Sudhir Vada Pav & Paratha Center', '99 Caffe', 'Mangalore Lunch Home', 'Homelydelight', 'Ginger & Garlic', 'Slv Grand', 'Puchkas', 'Sankranti', 'Desi Doze', 'Hunger Stop', 'Kakaji', 'South House', 'Oakleaf', 'Tandooriwala', 'Friends Diner', 'Sanjha Chulha', 'Cake 24X7', 'Raapchick', 'Chinese Street', 'Dawat', 'Andhra Kafe', 'Chikpet Donne Biriyani House', 'Treat Restaurant', 'Freshkhilao', 'Hot Brixx', 'Apna Hotel', 'Dawat Midnight Express', 'Haveli', 'Celebrations 365', 'Jlt Food', 'The It Crowd', 'Little Nature', 'Sindhuri Restaurant', 'Nys Kitchen', 'Konaseema Grand', 'Luscious Folks', \"Nandi Mess - Feel Like Mom'S\", 'Golden Rice', 'Butterly Cafe', 'Orzuv', 'Kudil Kerala Kitchen', 'Paakam', 'Mithai Time', 'Visantoe', 'We Foodie', 'Izakaya Gastro Pub', 'Hottey Smokey', 'Vaigai Express', 'South Treat', 'Rolls Mania', 'Yumatos', 'Parasme', 'The Grilled & Fried', 'New Rajalakshmi Sweets', 'Autoexpress - Hot Dogs', 'Friendz Zone', 'Cheers Life', 'Lassi', 'Kaka Food Corner', 'Hoodi Baba A Str-Eat Caff', 'Aaha', 'The Big Grill', 'Ganga Foods', 'The Difference', 'Swad-Deshi Restaurant', 'Bufferia Express', 'Konark Restaurant', 'Erivum Puliyum', 'Mum?S Kitchen', 'Treat', 'Rayalaseema Spices', 'The Big Spoon', 'Andhra Central', 'Risalo Pizzeria', 'Mad About China', 'Dragon Box', 'Best In Klass', 'All Shook Up', 'Ginger Mint', 'Hashtag Kitchen', 'Meghana Grand', 'Nawabi Zaica', 'Bageecha', 'Kaayal', 'Jade', 'Regale Restaurant', 'Five Spice Dining', 'Shaan-E-Punjab', 'The Wok', 'Amoeba Sports Bar', 'Mughal Restaurant', 'Momo Bites', 'Kolkata Famous Kathi Rolls', 'Happy Singh', \"Decker'S Lane\", 'Indian Tadka', \"Jaffa'S Biryani\", 'Biryani Park', 'Sbarro', 'The Diner', 'Master Brothers', 'A Southern Fair', \"Nashta Pani -The Gujarat'S Special\", 'Bhr Foods', 'Imli', 'Dilli Dil Se', 'Samosa Express', 'Waffle House', 'Bismillah Bawarchi', 'Food Factory', 'Kamakshi Kitchen', 'Andhra Star Biryani', 'Khane Ka Khazana', \"D'Brooks\", 'Andhra Vindu Multi Cuisine Restaurant', 'The Red Tandoor', \"Mother'S Food\", 'Aahar Vihar', 'The Andhra Bhojanam', 'Lassi Magic', 'Mealbox Inc.', 'Hasee-E-Shan Makers Of Biryani', 'Rajwada Food', 'Kingley Grand', 'Spicy Onion', 'Fusion Panda', 'Potpourri Kitchen', 'Rps Food Corner', 'Kalinga Delicacies Restaurant', 'Maa Durga Restaurant', 'Amaravati Food Court', 'Maashpacheez', 'The Spice Pavillion', 'Tastybites.Com', 'Apoorva Multi Cuisine Restaurant', 'Kaafi Desi', \"Gaura'S Secret Recipe\", 'Spicy House', 'Crunchie Corner', 'Namak Swad Anusaar', 'The Pallavas ( Authentic Taste Of Southern Cuisine )', 'Pita Pocket Factory', 'The London Shakes', 'Food Square', 'Aashirvaad Restaurant', 'Beyond Elements', 'Mr Manchurian', 'Golkonda Chimney', 'Crazy Crush - Juices & Desserts Cafe', 'Odisha Kitchen', 'Rolls & Bowls', 'Not Just Waffles', 'Swadist Restaurant', 'Sri Lakshmi Vaibhav', 'King Of Spices', 'Sri Jayadurga Biryani', 'Brooks 37', \"Meena'S Kitchen\", 'The Deli - The Den Bengaluru', 'The North And South Restaurant', 'Biryani@Bangalore', 'Biryani Pot', 'Utopia', 'Wok Steam & Grills', 'Nitehunger', 'Creamy Zone', 'Chez Mariannick', 'Little Black Choux', 'Mojo Bites', 'The 3 Musketeers', 'Kc Das - Sweet Sensation', 'Kitchen Aroma', \"Gilly'S Restobar\", 'Chef In', 'The Crunch', 'Mayura Sagar', 'Just Parathas', 'Mayura Grand', 'Shreya Ranna Ghar', 'Sri Fast Food', 'Biergarten', 'Windmills Craftworks', 'Oota Bangalore', 'Uno Chicago Bar & Grill', 'Amber Rush By The Pool', \"Pablo'S Gastrobar\", 'Alto Vino - Bengaluru Marriott Hotel Whitefield', 'Miro Bar - Miraya Hotel & Residences', 'Slounge - Lemon Tree Hotel', 'Checkered Bar - Mgm Mark', 'Whitefield Bar And Grill - Bengaluru Marriott Hotel...', 'Mayura Vybhava', 'Nellore Mess & Tiffens', 'Chill', 'Unlock - The Restobar - Keys Hotel', 'Bharatkhana', 'S.M.S.Evening Fast Food', 'Starnese', 'Basaveshwara Kanawali', 'Covai Cafe', 'Trinity Club Lounge', 'Red Chillies Restaurant', 'Breakfast House', 'Kolkata Roll House', 'Biryani & Kabab', 'Pani Puri', 'The Globe Grub', \"3B'S - Buddies, Bar & Barbecues\", 'Tangerine - Davanam Sarovar Portico Suites', 'Xoox Brewmill', 'Buff Buffet Buff', 'Boho', 'Sultans Of Spice', 'Asia Kitchen By Mainland China', 'Bonsouth', 'Punjab Bistro', 'By The Blue - Grand Mercure', 'Salt - Indian Restaurant Bar & Grill', 'Hunan', 'Over The Top Terrace Lounge', \"Saara'S Cafe - Ss Lumina Hotel\", \"Saara'S Grill N Spice - Ss Lumina Hotel\", 'Nouvelle Garden', '12Th Main - Grand Mercure', 'Embers - Nandhana Grand Hotel', 'Shri Madhuram', 'Urban Spoon Buffet Restaurant', 'China Down Town', 'Cafe Fattoush', 'Hang10 Resto N Cafe', 'Cafe Orio', 'De Street Cafe', 'Cafe Hush', 'Granos De Cafe', 'The 90S Hash House', 'Fabindia Cafe', 'The Yogisthaan Cafe', 'Dyu Art Cafe', 'Om Made Cafe', 'Sixth Avenue Cafe And Patisserie', 'A Hole Lotta Love Cafe', 'Hungry Hippie', 'Dice N Dine', 'Nuts Over Salads Cafe', 'York St.', 'Roundup Cafe', 'Lot Like Crepes', 'Market Table', 'Cafe Graffiters', 'Mr. Beans - Home Cafe', '154 Breakfast Club', \"Cafe D'Hide\", 'Cafe Medley', \"The Vacationer'S Cafe\", 'Bistro Oui', 'The Yellow Tuk-Tuk Cafe', 'Vitamin Palace', 'Breaktime Brew', 'Wtf', 'Billionaires Cafe', 'Tella Tales', 'Burger Garden', 'Dhuaan', 'Foodiesthan', '5Th Main Cafe', \"Om'S Cafe Prana\", 'Sardarji Londonwaley', 'Kannur Food Point', 'Hotel Manu', 'Chettayees', 'Delhi Food Point', 'Khatta Meetha Teekha', \"Gogula'S Sweets & Chats\", \"La Pino'Z Pizza\", 'Shiv Shakthi', 'Truly Punjab', 'Wok Paper Scissors', \"Muthashy'S\", 'Nandhanam Restaurant', 'Royal Biryani Kitchen', 'Sagar Fast Food', 'Kitchens@Btm', 'Kota Kachori', 'Hakka Chinese Restaurant', 'Shree Muthahalli Veg', 'Dum Biryani Hub', 'Gangothri Veg Restaurant', 'Sri Vishnu Park', 'Ghee Biryanis', 'Priya Juice & Snacks', 'Mumbai Tiffin', 'Savitha Family Restaurant', 'Nutri Rich', 'Ashirvaad Grand', 'Biryani Junction', 'Aasife & Brothers Biriyani Centre', 'Podi Idly', 'Hotel Salam', 'Dosa Plaza', 'Sardarji Ka Dhaba', \"Kf'S Biryani'S And Kababs\", 'Mustard Cafe', 'One In A Melon', 'Chaiwala', 'Arya Hungry?', 'Khai Khai', 'Shahi Darbar', 'Paisa Vasool', 'Rajveena Kitchen', 'Mamatha Restaurant', \"Sharma'S Malai & Masala\", 'Howlin Wolf', 'Bubble Bee', 'Kannoor Restaurant', 'Hotel Junior Kuppanna', 'Cafe Madhura', 'Hsr Agarval Bhavan', 'The Pancake Story', 'The Village Hotel', 'Vegan Heat', 'Rb Food Point', 'Keto Kitchen', 'Zee5 Loft', 'Dwaraka Krishna', 'Desi Chopstick', 'Adyar Ananda Bhavan - Sweets', 'Poha House', 'Refresh Juice Junction', 'Daba Delights', 'Dindigul Time Pass Restaurant', 'Boston Barista - Kappayum Curriyum', 'Occasions', 'Tibetan Kitchen', 'Kairali', 'Tapri By The Corner', 'Awesome Foods', 'The Mylapore Cafe', 'Tetto', 'Bite Me Cupcakes', 'Taaza Mithai', 'New Punjabi Pure Veg Restaurant', 'Mirch', 'Public Khana', 'El Salver', 'Gkt Biryani World', 'Beer Adda', \"Am'S Cafe Recreate\", 'Chowpatty', 'Koramangala Social', '1000 B.C', 'Min Mini Punjabi Dhaba', 'Bearfoot Cafe', '1722 Urban Bistro', 'South Tiffins', 'The House Of Paratha', 'Davanagere Benne Dose', 'Taste Of Malabar', \"Friend'S Cafe\", 'Bangalore Cafe', 'Nandanam Family Restaurant', 'Kuttanadu', 'Waffle Magic', 'Desipun', 'Dilli In A Box', 'Indore Eat Restaurant', 'Cafe Alchemist', 'Lucknowiz', 'Barbeque Station', 'Hsr Slv Fast Food', 'The Waffles Hut', \"Gam'S Delicacy\", 'Indian Paratha Factory', 'Aligarh House', 'Go Italia', 'Ghee Biryani House', 'Eggfactor - Street House', 'Smoke De Burger', 'Flavours Hut', 'Sri Gurudev Darshini', 'Purnabramha Maharashtrian Restaurant', 'Taste Of Assam', 'Nadan Thattukada', 'Rajesh Restaurant', 'Hotel Parampare', 'Koshe Kosha', 'Body Temple', 'Golden China', 'Chai Makhani', 'Maa Di Hatti', 'Bakingo', 'Sri Sapana Dhaba', 'Patiala Highway', 'Mynutrikitchen', 'Chapati House', 'Shree Durgamba Juice Centre', 'Parika Multicuisine & Coastal Fine Dine', 'The Rendezvous', 'Speedbreaker', 'Grapevine', 'New Tasty Cafeteria', 'Shudh Desi Khana', 'Sulemani Chichas', 'Namma Biriyani', 'Ice Cafe & Lassi Shop', 'The Cake Lair', 'Maa Durga Fast Food', 'Spicy Kitchen', 'Oliver Wraps', '30 Square', 'Fillers', 'Little Kitchen', 'Knight Ryders', 'Hotel Dine City', 'Pulp Juice Bar', 'Paratha Darbar', 'Village Donne Biryani', 'C Kosila Kitchen', 'Coffee Tea & More', 'House Stark Cafe', 'Dosalicious', 'Bawarchi Biryani', 'Terra Bites', 'White Elefan Coffee And Snack Bar', 'The Tandoori Chai', 'Grand Gowdru Hotel', 'High N Hungry', 'Yummy Biryani', 'Bonum Cibum', 'Zero Mile Punjab', 'Tandoor Merchant', 'Sri Ganesh Fruit Juice Centre', \"Anika'S India Kitchen\", 'Gulp The Pulp', 'Golden Restaurant', 'Kwality Cakes N Bakes', 'Night Biryani', 'Kaaram', \"Jose'S Mess\", 'Juice 99', 'Ammus Hot N Cool', 'Cakes & Candles', 'New Gongura Grand', 'Kadal Da Meen', 'Smoothie Hub', '99 Variety Dosa And Pav Bhaji', 'Popsies', 'Shree Saraswathi Sweets Centre', 'Malabar Mandra', 'Raj Rasoi', 'Omg Biriyani', 'Mayur', 'Begin With Us....Tea Time Cafe', 'Third Wave Coffee Roasters', 'Chaska Bun', 'Dreams Cafe - All Day English Food St.', 'Royal Calcutta Restaurant', 'Asha Tiffins', 'Pingara', 'Calicut Durbar', 'Kor Cafe', 'Lord Of Combos', 'Gyani Da Punjabi Dhaba', 'North Indian Tadka', 'Refills Eatery And Beverages', 'King Punjabi Restaurant', 'Hotel Godavari', 'Tharavadu', 'Afghani Tandoori Hub', 'Noodle Panda', 'Biryani Palace', 'Thottathil Restaurant', 'Kulfisthan', 'Brownie Points', 'Ustaad Biryani', 'Biryani Mandra', 'Lucknowi Dabba', 'Call A Cake', 'Qube Cafe', 'Rang De Basanthi', 'The Burger Place', 'Little Lucknow', 'Odissi Restaurant', 'Grannyzhut', 'The Beer Cafe', 'Attic Lounge', 'Eagles Pizza', 'Bistro Claytopia', 'Flavour Of Himalaya', 'Chilld Monk', 'Hum Biryani', 'Ganesh Restaurant', 'Paratha Singh Pakora King', 'Eshmeet Da Dhaba', 'Moolehatti Donne Biryani Mane', 'Howrah Bridge', 'Ghee Positive', 'Sarvam', 'The Monalisa Restaurant', \"Tibetan Mother'S Kitchen\", 'Pecos Hideout', 'Hanoi - Vietnamese Cuisine', 'Royal Paris', \"What'Sinapita\", 'Desi Flavours', 'Swaadam Veg', 'Mustard Food Court', 'Once Upon A Flame', 'Karahi Kitchen', 'Nilu Ki Rasoi', 'Chicken Corner', 'Rolla Rappa', 'Tawa Ghar Ka', 'Uday Sweets', 'D Fusion', 'Mitran Da Junction', 'Gramin', 'Tenzin Kitchen', 'Raichur Biryani House', 'Laziz Pizza', 'Al Hayath', 'Kumarakom', 'Wafl Co', 'Oh My Biryani', 'Kinpeetos', 'Pipabu', 'Nutri Fit', 'The Rasoiya Street', 'Sector 7 Cafã\\x83Â\\x83Ã\\x82Â\\x83Ã\\x83Â\\x82Ã\\x82Â\\x83Ã\\x83Â\\x83Ã\\x82Â\\x82Ã\\x83Â\\x82Ã\\x82Â©', 'Smise', 'Ilyazsab The House Of Chicken', 'The Paramount Hotel', 'Rafees Biryani', 'Habibi Falafel', 'Btm Ghar Ka Khana', 'Nasi And Mee', 'Nutberry', 'Aami Bangali', 'Dalma', 'Mid-Night Crunch', 'Roticurry', 'Make It Roll', 'Roots', \"Bamey'S Restro Cafe\", 'Shaap', 'Potato Bae', 'Meal & Biryani', 'Fitnest', 'Sonar Bangala', 'Cochin Connection', 'Krem', 'Samaikya', 'Zangos Grill', 'Helloo Delhi', 'Sufra Restaurant', 'Chai Street', 'Appana Restaurant', 'Bisimillah Biriyani', 'Feastaurant', 'The Smoke Co.', 'Rashtrakutas', 'Hunger Hitman', \"Snow'Ora\", 'New Friends', 'Aalishan Restaurant & Caterer', 'Hotel Food Lands', 'Black Kitchen', 'Avon Bar & Kitchen', 'China Pearl', 'Cheesy Juicy Burgers', 'Yum Kitchen', 'Pazzo', \"What'S In A Name\", \"Dragon'S Kitchen\", 'Tunday Kababi', 'Biryani Foodies', 'Azimmo Treat', \"Maria'S Goan Kitchen\", 'Dhaba Bytes', \"Noon'S\", 'The Waffle Street', 'Pizza Cart', 'China Bowl', 'Grills And Tandoor', 'Smokey Tribe Restaurant', \"Harry'S Bar + Cafe\", 'Hotel Reddy Bhavan', 'Indus Family Restaurant', 'Tasty Noodle', 'Brooks And Bonds Brewery', \"Narmadha'S Hyderabad Biriyani\", 'The Marash', 'Gods Own Cafe', 'Tim Tai', 'Garage Food Company', 'Eat N Drink', 'Malabar Treat', 'Fill N Chill Resto Bar & Pub', 'The Arabian Nights', 'Shift', 'Prawn Crunch', \"Mini Adiga'S\", 'Snakk That', 'Swathi Maharaja', 'Sai Mango Tree', 'Via Milano', 'Mimansa @ Foxtrot', 'Biriyaniz', 'Oldtown Dilli', 'Taj Darbar', 'Fava Bistro', 'Midnight Restro', 'Kings Kitchen', 'New Andhra Spice', 'Amaravati', 'More Than Chocolates', 'Om Sai Baba Mess', 'Crunchy Nights', 'Elmas Restaurant', 'The Sandwich Club', 'Crawl Street', 'Vintage Shack', 'Zingron', 'Magnolia', 'The Kitchen', 'Bharat Kitchen', 'Kargeens', 'Tomago Roast', 'Champaran Spice', 'French Bakery', 'Drunkling - Sizzlers And Pub', 'Bengali Fun Foods', 'Goodness! Beverages', 'Khan Saab Hotel', 'A.M New Punjab Food Corner', \"Bisimillah Biriyani'S & Kebab'S\", 'Samosa King', 'The Cheesecake Corner', 'Mid Night Hunting', 'Carrots', \"Swad 'E' Punjab\", 'Rolls & Co', 'Sunny Cafe & Kitchen', 'A Today Thick Shakes', 'Sober Turtle', 'Classic Biryani Hut', \"Khan'S Biryani\", 'Abhiruchi Moonlight', 'Dhaba Express', 'Toki Taco House', 'Sip N Bite', 'Candy Cake', 'Whooppeezz', 'Hungry Lee', 'South Side Grill', 'Cinnamon', 'The Lassi Bar', 'Singh Punjabi Dhaba', \"Pabrai'S Fresh And Naturelle Icecreams\", 'Al-Madina', 'Homely Curries & Pickles', 'Kopper Kadai', 'Punjabi Daawat', \"Borah'S Kitchen\", 'Kevins Kitchen', 'Yeti', 'The Biryani Story', 'Tasty Magic', 'Marahaba', 'Invitation Bar & Restaurant', 'Chettinad Food House', 'Kaaka T Cafe', 'Melt', 'Food Junction', 'Chefie', 'New Grand Restaurant', 'Durbar Greens Family Restaurant', 'Neer Dosa Fish Land', 'Shaahi Mezbaan Restaurant', 'Dash In', 'Bruncherz', 'Snaxup Restaurant', 'Hunger Buds', 'Tandoor-De-Naal', 'Tummy Delight', 'Amaravati Grand', 'New Farm Fresh', 'Pothichor', 'Hyderabadi Biryani Corner', 'Amrutha Mess', 'Entropy Cafe', 'Momo Hut', 'Bewiched', 'Daawat Restaurant Bar & Pub', 'Belgyum', 'Dine In Restaurant', 'Top Foam Parantha Roll & Juice Centre', 'Ambur Azad Darbar', 'Amravathi Restaurants & Caterers', 'Shawarma Bae', 'Brew Cafe', 'Coal Grill & Cafe', 'Desi Urbane', 'Svadu Sweets', 'The Fresh Wok', 'Trigereato', 'Night Cafe', 'Foodies Club', 'Combo Box', 'What The Food', 'Around The Corner', 'Tandoor Hub & Golmaal Paratha', \"So-Fat'S Dosas\", 'Singh Da Dhaba', 'Two States', 'Sooperolls', 'Bonghomie', 'Adithya Family Restaurant', 'Ambur Biriyani Point', 'Gobi Gate', 'Parivaar', 'Hungry Nights', 'Shater Grill House', 'Pizza D Italy', 'Amara Food Point', 'Night Bell', 'Eaternet', 'Ny8Life', 'Shangai Sun', 'My Dabeli & My Pizza', 'Mongolian Kitchen', 'Lassi Top', 'The Hidden Cafe', 'The Shawarma Inc', 'Cashmere Nites', 'Appam & Curry', 'Nutrition On Wheels', 'Hungry Queen', 'Grill N Chill', 'Hotel Archana Grand', '2Nd Home Restaurant', 'Hello Brother Hotel', 'Wakeup Cafe', 'Chill-Um Cafe', 'Abhiruchi', 'Cafemoto', \"Kapoor'S Biriyani\", 'Kokomo', 'Keep It Straight Cafe', 'Rollin', 'Habitts', 'Al Habibi Restaurant', 'Btm Bawarchi Biryani', 'Punjabi Chulha', 'Under The Hood', \"Berry'D Alive\", 'Ghar Ka Khana', 'Burger Lounge', 'The Kream Story', 'Banana Beach Bar', 'Taza Khaana', 'Hunger Night King', 'Double Blend', 'Hasini Foods', \"Kataria'S Home Food\", 'Night Spoon', 'The Night Watch Express', 'Pensiri Cafe', 'Marunadan Kada', 'The Kitchen Bandit', 'Fresh Bites', 'Lassi Pot', 'Royal View Restaurant', 'Ober Cafe', 'Mealsbaba', 'Tawa', 'The Kitchen Story', 'Egg Star', \"Lucky'S Biriyani Point\", 'Khichadiwala', 'Nile Garden Restaurant', 'Kullukki', 'Big Wong Xl', 'Khawa Karpo', 'The Himalayan', 'Crave Bite', 'Biryani Knights', 'Dum & Oven', 'Now Momos', 'Midnight Express', 'Hungry Bowl', 'Owly', 'Kebarbiq', 'Red Bawarchi', 'Pakiza Dilli Darbar Restaurant', 'Intriicake', 'Queen Pearls', \"Sunny'S Kitchen\", 'Halo Chef', 'Natuna Seafood House', 'Tangylicious', 'The Duke Of Juices', 'Gourmet Food Truck', 'Delicious Demons', 'Hungerloft', 'Zero Kelvin', 'Ocean', 'Subham Pal Kitchen', 'The Retro', 'Raj Darbar', 'Akshaya Grand', 'House Of Commons', 'Happy Brew', 'Krishna Grand', 'Namms Cafe', 'M World Cafe', 'Namaste Kitchen', 'India On Wheels', 'Naati Biriyani', 'Royal Treat', 'Moghul Durbar Restaurant', 'Anjappar', 'Indian Coffee House & Restaurant', 'Samosa Party', 'Johnny Fox', 'Navya Andhra Style Restaurant', 'Taj Durbar', 'Hyderabad Bawarchi', 'Shree Thali', 'Ambur Biryani', 'Panjabi Dhaba', 'Star Kitchen', 'North Indian And Bengali Mess', 'Food Theory', 'Momos Corner', 'Meal In A Box', \"Pai'S Kitchen\", 'Good Bread', 'Unik Food', \"Adi'S Cake N Cafe\", 'Kyakhanahai', 'Le Rosa Restaurant', 'Mysore Carnival Restaurant', 'Svr Foods - Night Ka Khana', \"Ronnie'S Kitchen\", 'The Tower Of Pizza', 'Indian Dhaba', 'S.W.A.T Food Truck', 'The Night King', 'Niice Cream', 'Prakruthi Restaurant', 'Desi Breakk', 'Tgs Retails', 'Grand Chillies', \"Kanha'S Kafe\", 'Frostbite', 'Jodhpur Jaika', 'Lets Cafe', 'Homfrez.Com', 'Malabar Mint', \"The Denny'S\", 'Hotel Palace', 'Tasty Khaana Khazana', 'House Of Lassi', 'Aaranya Restaurant', 'Hot & Cold Hut', 'Cilantro', 'The Open Cafe', 'Rimo', 'Bullet Biryani', 'Bajji House', 'Biryani Spot', 'Desserts Tree', 'Om Sweets & Snacks', 'Healthy Yummy Food Restaurant', 'Shabari Kitchen', '#L-81 Cafe', 'House Of Wholewheat', 'Dabba Karkhana', 'Hotel Tadaka House', 'Eat Sleep Eat Repeat', 'Aroma Fine Dine', 'Choco Cheese', 'Coco Barista', 'Shri Ram Sweet Centre', 'New Surya Sweets & Snacks', \"Sri Devi Baker'S\", 'Kc Das - The Delite Foods', 'Jodhpur Sweets & Corner', 'Svadu Sweets & Savouries', 'Bangali Babu Restaurant', 'Jigarthanda', 'Gelato Pazzo', 'Kurtoskalacs', 'Banchharam', 'Smooth', 'Sri Annapoorna Bajji Center', 'Bunny Bakers', 'Gruhalakshmi Home Foods', 'Bake The Cake', 'Arafa Juice Center', 'Shree Mithai', 'Meraki Patisserie', 'Mother Nature Kulfi', 'Cream N Desserts', 'Brother?S Bar & Kitchen', 'Zam Zam Darbar', 'Golden Grill Restaurant', 'Zanzibar - Davanam Sarovar Portico Suites', 'Seekers Cafe', '100Ã\\x83Â\\x83Ã\\x82Â\\x83Ã\\x83Â\\x82Ã\\x82Â\\x82Ã\\x83Â\\x83Ã\\x82Â\\x82Ã\\x83Â\\x82Ã\\x82Â°C', 'Sri Durga Cane Fresh', 'Benzys', 'Nanna Munna', 'Bamboo Heights', 'New Limra Hotel', 'Bangalore Star Biriyani', 'Udupi Gokul Cafe', 'Namma Kadai', 'Nellore Dosa Camp', 'Gangothri Kabab Corner', 'Thalassery Cafe', 'Cafe 58', 'Sri Vishnupriya', 'Aarya Pork Hotel', 'Pout', 'Hotel Meed Cafe', 'Sri Udupi Sagar', 'Desi Adda', 'Basawa Hotel', \"Friend'S Kitchen\", 'South Side', 'Barkat', 'C K Bake & Juice', 'Hotel Mirchi Red', 'Gallop Bar - Davanam Sarovar Portico Suites', 'Bombay Adda', 'The Reservoire', 'Indigo Xp', \"Fenny'S Lounge And Kitchen\", 'Sharief Bhai', 'Echoes Koramangala', 'Drava', \"The Terrace At Gilly'S Redefined\", 'The Boozy Griffin', 'Simon Says Brew Works', \"Myu Bar At Gilly'S Redefined\", 'Public - The Rooftop Bar And Kitchen', 'Chinita Real Mexican Food', \"Sathya'S\", 'Tilt Gastro Lounge', '52 Wall Street', 'Bulls N Bears - Bar Trade Xchange', 'Sutra Spice-The Resto Bar', 'Jukebox', 'Lounge 189', 'Axomi - Taste Of Assam', 'Uttar Karnataka Meals Restaurant', 'Idc Kitchen', 'The Underground Gastropub', \"Fandom At Gilly'S Redefined\", 'Atta Galata', 'Mizo Kitchen', 'Barcode', 'Amaravathi Bar & Restaurant', 'Taruni Andhra Mess', 'Flavor Of Tibet', 'New Ambur Biryani', 'Nammura Upahara', 'Raghavendra Upahara', 'Selfie Cafe', 'The Golden Spoon Restaurant Meat & Wine', 'Amrit', 'A Bar', 'Coconadu', 'Slv Restaurant', 'Chaai Bee', 'Cool Lassi Burger', 'Malnad Military Hotel', 'Sri Vinayaka Andhra Mess', 'Bakimo', 'Malabar Coastal Cuisine', 'Chai Chowk', 'Hotel Paradise', 'Waikiki', 'H3O', 'Ambur Biryani Hotel', 'Shree Nandini Andhra Mess', 'Juice Buzz', \"Falafel'S - The Lebanese Haus\", \"Dadaba'S\", 'Cafe Bollywood', 'Cool Point', 'Fahad Hotel', 'Combo King Paramount', 'Krupa Sagar', 'Egg House', 'Dry Dock Cafe', 'Rolls On Wheel', 'Chowk Tea Stall', 'Jayanthi Sagar', 'Biryani Point', 'Sulaimani Chai', 'Sri Ganesh Juice Corner', 'Mynt - The Taj West End', 'Coastal Creek', 'Cafe Coffee Day The Square', 'Banbay', 'Caferia', 'Fullyfilled', 'Millers 46', 'Samrat Restaurant', 'Camp Tandoor', 'Raidan Restaurant', 'Aroma Of Asia', 'Grand Spicy Restaurant', 'Lickity Garden', 'China Hut', 'Shanthi Sagar Deluxe', 'Spicy Restaurant', 'Kinara Tiffany', 'Painted Platters', 'Little Paramount Restaurants', 'Goli Vada Pav No.1', 'Sunny Side Bistro', 'Ganesh Food Joint', 'Tasty King', 'Lazeez Xpress', 'Chowmein', 'Curries And Pickles', \"Arina'S\", \"Debby'S Kitchen\", 'Sri Rama Vilas Sweets', 'Kc Das - Sweet Bite', \"Shilpa Gulati'S Desserts\", 'Blue Ginger - The Taj West End', 'Masala Klub - The Taj West End', 'Blue Bar - The Taj West End', 'Gangotree', 'Shahi Kabab', 'Calcutta Chats', 'Halli Mane Food Court', 'Kerala Foods', 'Lobby Cafe - Radha Regent', 'The Big Barbeque', 'Fire Station', 'Time Traveller - Sai Vishram', '24@43 - The Oterra', 'Bazaar - Zone By The Park', 'Fishing Boat - Hotel Goyal Residency', 'Soul Indian Specialty - Svenska Design Hotel', 'Melange - Hotel Ekaa', 'Spotlight - The Golden Tulip', 'Ritz', \"It'S Mirchi - Ramee Guestline Hotels\", 'The Dining Table - Sahar Pavillion', 'Seven Spices - Manipal County', 'Bamboo Shades', 'Brunch & Munch - Hotel Millennium Plaza', 'Cafe Happytizing', 'This Cafe Has No Name Cafe', 'She Brews', 'Rags On Fire', \"Cafe Crumb'Z\", 'Manasa Cool Cafe', 'Entree Cafe', 'Magic Oven', 'The Hungry Shark Cafe', 'Ka 51 Restocafe', 'Cafe Highrangers', '24 Hours Coffee Drop - La Classic', 'Lassi Adda', 'Sitaar', 'Lassi Resto Cafe', 'Delhi Base Sri Food Court', 'Wakhra Swaad', 'Indian Food Court', \"Maa Reddy'S Hyderabadi Biryani House\", \"Fresh 'N' Grills\", 'New Punjabi Food Corner', 'Popular Burger', 'Amaravathi Mess', 'Godavari Delights', 'Dine Garden Family Restaurant', \"Insomniac'S Delight\", 'Biryani Darbar', 'Sri Pillaiyar Bhavan', 'King', 'New Udupi Palace', 'Hyderabadi Spice', 'Pallavi Restaurant', 'Foodies Family Restaurant', 'Kolkata Kitchen', '4Foodiez', 'Salted Chilli', 'Curries & Pickles', 'Hot Attack', 'China Garden', 'Hyderabad Magic', 'Sri Manjunatha Foods', 'Hyderabadi Biryaani Hub', 'Ruposhi Bangla', 'Foodies Express', 'Pizza Republic', 'Nainital North Indian Restaurant', 'Pure Punjabi', '7 Days Restaurant', 'Eat N Meet', 'Lakshmi Rayalaseema Ruchilu', 'Lassi Mania', 'Doof', 'Pimento', 'Ruchi Sagar', 'New Andhra House', 'Andhra Food Cafe (Afc)', 'India Garden', 'Royal Bengal Corner', 'Tikka Kebab', 'The Pastry House', 'Food Ras', 'Notebook Food Court', '11 To 11 Express Biriyanis', 'Magic Bowl', 'Maa Tara Hotel', 'Ny Pizza & Waffles', 'Just Fresh Point', 'Mad Belgian Waffles', \"Pan'S Aroma\", 'Bawarchi Restaurant', 'Volga Restaurant', 'The Elaichi Restaurant', 'Nandanam Restaurant', 'Chai Cafe', 'Sila Restaurant', 'Vms Star Biriyani', 'Parampara - The Veg Kitchen', 'Kettle On', 'Cafe Palnad', 'Andhra Spicy Food Court', 'Esfahan Restaurant', 'Kathi Junction', 'Satkar Restaurant', 'Yeruva Biriyani', 'Ambur Biriyani Classic', \"Marley'S Bistro\", 'Hyderabad Darbar', 'Hotel Sakti Saravana', 'Z Cafe', 'Swathi Restaurant - The Vintage Inn', 'Paratha House', 'The Mirchi', \"Prem'S Biriyani\", 'Mast Punjabi Spice', 'Thanima Garden Restaurant', 'Bhukkads', 'Karaikudi Restaurant', \"Mamaji'S\", 'Tuba Rolls & Snacks', \"Kittu'S\", 'Ec Dine Restaurant', 'Udupi Food Junction', 'Maa Biryani Hyderabadi', \"Curries 'N' Phulkas\", 'Donut Cafe', 'Halli Kitchen', 'Hotel Uma Bhai', 'Vov Shawarma', '7 Shanghai', 'Annapurna Andhra Hotel', 'Hotel Avakay', \"Chivi'S Meilleurs Boulangers\", \"King'S Appetite\", 'Organicfeast', 'Manasa Andhra Style Multi Cuisine Restaurant', 'Akkad Bakkad', 'Hotel Shruthi', 'Crumbz Crunches', 'Sky Lounge Bar - Svenska Design Hotel', 'Foodie Nation', 'Spicy Tandoor', \"Messy'S\", 'Rayalaseema Ruchulu Sr', 'Andhra Biryani & Curries', \"Reddy'S Hyderabadi Biryani\", 'Royal Iceberry', 'Just Cakes', 'Andhra Amigos', 'Uma Ki Rasoi', 'Chick Blast', 'Sankalp Reddy Restaurant', 'Millennium Plaza', 'Sitara Veg Restaurant', 'Cedar Bar & Dive - Hotel Presidency', 'Vinaya Royal Inn', 'Tap House Resto Bar', 'French Bake House', 'Mesa Deli - Svenska Design Hotel', 'Indian Kitchen - Hotel Presidency', 'Salt N Pepper', 'Punjab Calling', 'Hanchi Thinnuva', 'Venadu Restaurant', 'Chill Out Cafe', \"Trisha'S Kitchen\", 'Food Point Family Restauarant', 'Soul Curry Restaurant', 'Ragi Nadu', 'Mesa Lounge Bar - Svenska Design Hotel', 'Food 4 U', 'The Hungry', 'Green Family Bar & Restaurant', \"Chinmayee'S\", 'Tellimagic Restaurant', 'Sfc Kabab Corner', 'Royal Chowpatty', 'New Aastha', 'Food Club Restaurant', 'Bhojanam Restaurant', 'Ruchie Rich', 'Rk Garden Family Restaurant', 'Vijayawadawari Sandhya Andhra Mess', 'Eden Huts Dhaba', 'Samrudhi', 'Hotel Food Zone', 'Nmr Multicuisine Restaurant', 'Oasis Restaurant', 'Swad', 'Salt And Spice', 'Bawarchi', 'Kinara Family Restaurant', 'Food Planet', \"Bachelor'S Special Biriyani\", 'E Foods Regalia', 'Malabar Restaurant', 'Andhra Chettinad Cuisine', 'Varenyam', 'Mbr Dum Biryani County', 'Bengaluru Restaurant', 'S R Andhra Mess', 'Shiv Shankar Hotel', 'Gourmet', 'Nightowl', 'Big Apple Restaurant', 'Hotel The Nalanda', 'Pepper Pillar', 'Hotel A-1', 'Vasu Biriyani Paradise', 'Dilli 6', 'The Magic Chef', 'Satkar', 'Sandesh Sweets & Chats', 'Nh7 Resto Pub', 'Hamara Kozhikode', 'New Green Leaf Restaurant', 'Eatsy', 'Xpress Kitchen', 'Chikeys', \"Momm'S The Kitchen\", 'The Three Dragons', 'Zaffron Express', 'Hungry Kya?', \"Hunter'S Lounge\", 'Polo Scoops', 'Green Tree Garden Restaurant', 'Till The Last Bite', 'Sattvic', 'Old Stories', 'Ham Khim Chinese Fast Food', 'The Breakfast Club', 'Hot Box', '4Foodiez - The Restaurant', 'Biriyani Paradise', 'Marwa Family Restaurant', 'Tasty Funda', 'Pugals Biriyani', 'Enroute', 'Lancy Sweets', 'Sv Crispy Chicken', 'Choconut Cafe', 'Desi Tadka', 'Fab Cafe', 'Spicy Tadka', 'Adya Hotel', 'The Us Burger', 'Pehla Niwala', 'The Lemon Grass Kitchen', 'Bite Sip Repeat', 'Flavour A Azam', 'Vijayawadavari Sandya Andhra Mess', 'E - City Combos', 'Hide Out - The Golden Tulip', 'Teamdelish', 'Shoiab Family Restaurant', 'Pandit Ji Sweets & Namkeen', 'Ramdev Bhojnalaya', 'Bangalore Cakes', 'Village Palace', 'Hotel Masti', 'Milkshake Kulture', 'Krutunga Restaurant', 'Choco Nut Cafe', 'The Hyderbadi Chefs', 'Adarsh Bakery', 'Silver Leaf - Ramee Guestline Hotels', 'Jodhpur Sweets', \"Sriji'S Mithai\", 'Sweet Revenge', 'Kulfi House', 'Cool Break', 'Hotel Ivy Dew Drops', 'Queens', 'Republic Of Noodles - Lemon Tree Hotel', 'Tayo Restaurant', 'The Chameleon', 'The Terminus - The Oterra', 'East- The Oterra', 'Guntur Royal Dine', 'Aura - Radha Regent', 'Unlock - The Restobar', 'Alloro - The Oterra', 'Santhrupthi', 'Z-Bar', 'Urban Udupi Veg Restaurant', 'Strada Kitchen & Bar', 'Prestige Estate Club And Resorts', 'Sree Krishna Sagar Greens', 'Karavali Fishland', 'Reddy Restaurant', 'Hotel Jade Empire', 'Joshitha Andra Mess', \"90'S Beer Cafe - Hotel Millennium Plaza\", 'Nirvana Bar - Manipal County', 'Narayana Veg Treat', '3Rd Innings', 'Shree Ranga Vilas', 'The Elachi', 'Ruchir', 'Bollywood Grill', 'Envy', 'S.K Green Gardens', 'Pink Pepper', 'Kotae Garden', 'Spice', 'Flavors', 'Mahadwani Restaurant', 'Rajasthani Charbhuja Restaurant', 'The Daily', \"Mcdonald'S Play Place\", 'Sanjeevini Veg', 'Marmaris', 'Jigani Dum Biryani Centre', 'Naadan Bhakshanasaala', 'My Cafe', 'Sri Matha Sagar', 'Grand Taj Durbar', 'New Hotel Prashanth', 'Basveshwara Khaanavali', 'Cafe Shawamek', 'Goli Vada Pav No 1', 'Pathumma`S Kitchen', 'Star Ambur Dum Biryani', 'Hotel Thalassery', 'The Foodware Veg', 'I Siri Restaurant And Caterers', 'Daafoodies', \"Hot 'N' Fresh\", 'Lion City Restaurant And Cafe', 'Delhi Pizza House', \"Delhi'S Essence\", 'Hotel Manarama', 'Mambos Cafe', 'Loca Moca', 'Cafe Nibras', 'The Sanctuary', \"Mother'S Kitchen\", 'Al Amanah Cafe', 'Ahaan Restaurant', 'Punjabi Restaurant', 'Biryani Khazana', 'Biriyani Nights', 'Shawarma King Restaurant', 'Hotel Zam Zam', \"Sanky'S Burger House\", 'Asha Sweets Center', 'Al-Baik Tandoori Restaurant', 'Food Box', \"Altaf'S Chillies Restaurant\", 'New Kairali Restaurant', 'Arabian Shawarma', 'The Mangalorean', 'Chickpet Donne Biriyani Mane', \"Connie'S Restaurant & Steakhouse\", 'Seafood Place', 'Sri Sagar', 'New Biriyani Darbar', 'Annabell', 'Samovar', 'Home Food', 'Js Food Court', 'Wild Range Restaurant', 'Ss Bucket Biryani', 'Fanoos', 'Purplebasil.In', \"Afrina'S Kitchen\", 'Jingo Bbq & Burgers', 'Zabi', 'Upahara Mandira', 'Calicut Restaurant', 'Chubalas Curry And Rice', 'Sannidhi Grand', 'Navarang Fast Food', 'New Peking', \"Manju'S Kitchen\", 'Asaivam Restaurant', 'Cafã\\x83Â\\x83Ã\\x82Â\\x83Ã\\x83Â\\x82Ã\\x82Â\\x83Ã\\x83Â\\x83Ã\\x82Â\\x82Ã\\x83Â\\x82Ã\\x82Â© Secret Alley', \"Mahadii'S\", 'Yuan Restaurant', 'Vijaya Gardenia', 'Pulimunchi', 'Paaramparya Restaurant', 'Sidra Eatery', 'Retreat Restaurant', 'Giselle Resto Cafe', 'Jai Mataji Farshan & Sweets', 'Aadvik Nightfood', 'Chai Central', 'Food Town', 'Luqma Restaurant', \"Mummy'S Kitchen\", 'Pizbur Trap', 'King Kong', 'Chocs Cafe', 'Ntr Cafe', 'North Se South Veg & Non-Veg Restaurants', 'The Deagh', 'Patels Inn', 'Elements Eatery', 'Arabian Mataam', 'Aqni', '7 To 11 Food Court', 'Vanas', 'New Leaf Restaurant', \"Viceroy'S Sarathi\", 'Misal Darbar', 'Sweet Moments Express', \"Naidoo'S Donne Biryani\", 'Dolphin Bar', 'Patisserie Nitash', 'The Sugar Fairy', 'Chote Miya', 'Royal Savera', 'Lychees Restaurant', 'New Taj Biryani Centre', 'Mom Made Food', 'Mothers Recipe Restaurant', 'Mini Fast Food', 'New Prashanthi Donne Biryani', 'Just Baked', 'Simu?S Kitchen', \"Sadi'S Biriyani\", 'Konfection Konnection', 'Leia Soul Food', 'Baker Ree', \"Maddy'S Cafe\", 'The Teal Door Cafe', 'Hunger Twist', 'The Gluten Free Baking Co.', 'Raidan Oven', 'Bake And Fry', 'Sartaj Ambur Dum Biryani', 'Bada Bing Burgers', 'Byblos', 'Rich Bowl', 'Food Corner', 'Bearys Restaurant', \"The Lovin' Oven Cakery\", 'Upsouth', 'Belly Deli', \"Sotang'S\", \"The Rennan'S Cafe\", \"Bhajanka'S Restaurant\", \"Ck'S Bakery\", 'Eatapita', 'Cream Factory', 'Albert Bakery', 'Komala Refreshments', \"Sultan'S Creams & Faloodas\", 'Luna Sweets', \"Thomson'S Bakery\", 'Bombay Chowpaty Kulfi', \"Cafe D'Costa\", 'Gallops', 'Zayan Kabab Korner', 'Shiv Shankar Chaats', 'Cafe Iftar', 'Karnataka Biriyani Paradise', 'M.M.A. Kabab & Rolls', \"Sapthagiri'S Naidu Eating Point\", 'Sri Devi Cafe', 'Just One More', 'Knowhere', 'New Kadai', 'Cafe Mingo?S', 'Udupas Veg Restaurant', 'Atithi', 'Foxtrot - House Of Subculture', 'Spice It - Ibis Hotel', 'Here & Now', 'Amour Fine Patisserie', 'Blk Plus Wht', 'La Estranger Cafe', 'Tea Addict', 'Grilliez', 'Jfd Cafe', 'Canopy Flavours', 'The Wicked Cup', 'Gold Bean', 'Kairos', 'Big Mama', 'Ubcr Cafe & Resto', 'Talk Over Table Cafe', 'M.M Restaurant', 'Night Fox', 'Happy Days', 'Masala Secret Eat Wow', 'Cafe Coffee Day The Lounge', 'Vijayawada Style', 'Mark', 'Kitchens@Hsr', '4K Biryani', 'Silbatti', 'Nellore Abhiruchi', 'Hsr High Street', 'Fish & Fries Restaurant', \"Ziyan'S Cafe 27Th\", 'De Ranthal', 'Ny Pizza And Waffles', 'Shankar Maanes Kitchen', 'Krutunga', 'Kaka-T-Cafe', 'Udupi Bhavan', 'Udupi Palace', \"Curries'N' Fries\", 'Cha-Cha Cha-Chi', 'Popular Bakery', 'Idli & Dosa Cafe', 'Shawarma Hunt', 'Ur Cutlet Factory', 'Paanwadi', 'Sree Abhiruchi', 'Kolkata Roll & Fast Food', '56 Bhoga Sweets', 'Kolkata Rolls & Fast Food', 'Hunger Meals', 'Cutlet Shop', 'Spice Of Andhra', \"The Baker'S\", 'Thalassery Mess', \"Ithaa'S Biriyani\", 'Chopserve', 'Cheesecake Alley', 'Sandwich Truffles', 'Muziris', '7 Degrees North', 'The Thali Company', 'Saahib', 'Andhra Vantillu', 'Rolex Food Palace Restaurant', 'World Of Kebabs', 'Purani Dilli', \"The Bigman'S Cafe\", 'Om Nom Thai', 'The Breakfeast', 'Kaati Roll Delights', 'Sajuso', \"Amma'S Cafe\", 'The Little Chef', 'Foxtail Rodeo', 'Dhaba Central', 'Chattar Mattar', 'Biryani Affair', \"Kia'S Kitchen\", 'Ds Juice Cafã\\x83Â\\x83Ã\\x82Â\\x83Ã\\x83Â\\x82Ã\\x82Â\\x83Ã\\x83Â\\x83Ã\\x82Â\\x82Ã\\x83Â\\x82Ã\\x82Â© & Grill', 'Cakebox', 'Juiced Burger', 'Kachori Kafe', 'Pepperwood 2', 'Dakshin Flavors', 'Rock View Family Restaurant', 'Omy Grill', \"Dinemaster Gogo'S\", 'Kalpanar Rannaghar', 'Delhi Home Food', 'Big Bowl Theory', 'Foodandsnack.Com', 'Hotel Thazooq', \"Naani'Z Biryani\", 'Foodys Adda', 'Chillax', 'New Ambur Dum Biryani', 'Spice Resto', 'Aaharam', 'The Alphaa', 'Chaat Express', 'True Bleu Resto Cafe', \"Meeraa'S Beegara Oota\", \"Northam'S Pizza.Pita\", 'Poorvika Restro Cafe', 'Cake Cafe', 'Bindu Garden Bar & Restaurant', 'Dakshin Sagar', 'Punjabi Home Made Food', 'Sr Andhra Spicy House', 'Chaat Trail By Moti Mahal', 'Freshphulka', 'New Delicacy', 'Cane Crussh', 'Punjabi Handi', 'Feaster', \"What'S Cooking\", 'Zaikedar Kitchen', 'The Biryani Palace', 'Shahi Rasoi', 'Bengaluru House', 'Wheat House', 'Sree Bangalore Bhavan', 'The Twenty Handmade Chocolates', 'Fine Dine Restaurant', 'Manshi Paratha & Pav Bhaji', 'Lazeez Corner', 'The Humble Pie', 'The Food Factory', 'Swathi Spice N Ice', 'Families Food Court', 'Tasty Treat', 'Stark Bistro', 'Kafekombos', 'Pavan Tiffin Center', 'Yo! Thali', 'Zodiac Grills', 'Aao G Khao G', 'Lost In Pizza', 'Dilli6 Paratha', 'Kadavu Shappu Currys', 'The Spice Factory', 'Balle-Licious Kitchen', 'Sumai Foods', 'Shubh Sweets', 'Amrutha Sweets', 'Kc Das - Sweet Corner', 'Havmor - Hav Funn', 'Patville', 'Ice Cream Buggy', 'Igloo Shakez & Bytez', 'Tbc Sky Lounge', 'Hangover', 'Vanilla Sky', 'Baar Union', 'Cirkus', 'Safe House', 'The Colony Gastropub', 'Luo Han', \"Nature'S Nectar\", 'Mahek E Punjab', \"Begum'S Biriyani\", 'Raghavendra Tiffin', 'Dr. Shawarma', 'Arogya', 'Chandu Dhaba', 'Just Dosa', 'Bangarpet Chats', 'Moradabadi Special Biryani', 'Panchamuki Fastfood', \"Rayaan'S Restaurant\", 'Ambur Chicken Biryani', 'House Of Mandarin', 'Ambur Tasty Biriyani', 'Swadisht North Indian Restaurant', 'Skywalk Restobar', 'Chackochi Mess', 'Nila Cafe', 'Udupi Upahara', 'Geetha Cafe', 'The Kebab Room - Restaurant & Brewery', 'Peacock', 'Big Pitcher', 'Loft38', 'Urban Tamaasha', 'Dhaba - Estd 1986 Delhi', 'Southindies', 'Cafe Max', 'China Bistro & Lounge', 'The Restaurant - Coorg', 'Copper Chimney', 'Annapoorani', 'Sidewalk Cafe & Bar - The Paul Bangalore', 'The Hub & The Bar - Hotel Ramada Encore', 'Avanti Indian Barbeque & Grill', 'Citrus - The Leela Palace', 'Limelight - Royal Orchid Hotel', '20 Char - Sterlings Mac Hotel', 'Shebestan - Sterlings Mac Hotel', 'Java', 'Cup Chronicles Cafe', 'Lazy Suzy', 'Lavonne', \"Monet'S Bistro\", 'Chai Days', 'Dhyaana', 'The Ants Cafe & Store', 'Spoonful Of Sugar', 'Tea Brew', 'Django', 'The Mad Teapot', 'Grubhouse', 'Lahe Lahe Santhe', \"Eddy'S Cafe\", 'Ispice Resto Cafe', 'Give Me 5 Cafe', \"J'S Cafe\", 'Crisp Cafe', 'Cup Shup', 'Raenss Cafe', 'Breadworks', 'Melting Spot', 'C-Harge By Chefkraft', 'Cross Roads Cafe', 'Loveshack', 'Talk Over Table', \"D'Cafe\", 'Cafe Oleiva', 'Cafe Velvette', 'Hot Spot Cafe', '9Th Cross Cafe', 'Brown Crust Cafe', 'Tripura Express', 'Sree Spicy Hub', 'Chandni Chowk 2 Bangalore', 'Gurukrupa Paratha House', 'Dal Roti Sabji', 'Red Kitchen', 'Fresh Aahar', 'Bharpur Aahar', 'New Krishna Sagar', 'Motis Kitchen', 'Kunda Biryani', 'Green Pepper', 'Tiffun', 'Chakh Le Foods', 'Andal Mess', 'Plantain Leaf', 'S P Dum Biryani', 'A 1 Pizza And Food', 'Rannaghar', 'Delhi Highway', 'Khushi Kitchen', \"Punjabi'S Food Corner\", 'Bhookha Sher', 'Swaadpurna', 'The Biryanis', 'Desi Chinese Kitchen', 'Foodishq', 'Aathurar', \"Chef'S Cap Chinese Cuisine Restaurant\", 'Bharanis', 'Snacks Joint', 'The Fatty Bao - Asian Gastro Bar', 'Food Lover', 'Srinidhi Sagar', \"Prerit'S Food Factory\", 'Night Food Delivery', 'Savoury Express', 'Coast', 'Under The Tree', 'Burma Burma', 'Le Casse Croã\\x83Â\\x83Ã\\x82Â\\x83Ã\\x83Â\\x82Ã\\x82Â\\x83Ã\\x83Â\\x83Ã\\x82Â\\x82Ã\\x83Â\\x82Ã\\x82Â»Te', 'Little Kolkata', 'Assi Tussi Lassi', 'Bhartiya Jalpan', 'Sabari Juice Junction', 'Wow Paratha', 'Monkey Bar', 'Paratha Corner', 'Mota Bawarchi', 'Hotel Devanand Kerala Restaurant', 'Cafe Grill', 'Bun Maska Chai', 'Hotel Karavali', 'No More Hungry', 'Malabar', 'Thunder Fried Chicken', 'Tango Bango', \"Vimmi'S Cafe\", 'Pizza Joint Food Junction', \"Jonah'S\", 'Sethji Home Made Food', 'Chai Masthi', 'Kolkata Rolls & Hot Dum Biriyani On Dial', 'Red Chilliez', 'Lono', 'One Chu Restaurant', 'Mood For Food', 'Slv Andhra Mess', 'Cake Palace', 'Chillikum', 'All Shook Up!', 'Suvaai Restaurant', 'Crispy Fried Chicken', 'Budget Food', \"Nizaam'S Kaati Rolls & Kebabs\", 'The Kitchen Chef', 'The Cake Mart', 'The Ganache Factory', 'Bekal', 'Panda Foods', 'Gooey & Fluffy', 'Kulcha Kulture', 'Woodfire Pizza', 'Just Kulfi', 'Swaad', 'Spicy Corner', 'Bites 2 Binge', 'Tandoori Taal', 'Singh Saab', 'Sri Ganesha Fruit Juice Centre', 'Umami & Beyond', 'Big Mummy', 'Kisna Cafe', 'Bangalore Durbar Fast Food', 'The Table', 'Kalavara', 'Dvg Benne Dosa', 'Spices', 'Cake Genie', \"Namdhari'S Salad Bar\", 'Tuffreys', 'Galli Belly', 'Green G Juice Bar', 'Fai Dang', 'The Rolling Pin', 'Ahimsaamrit Green Cafe', 'Cafe Soy', 'Chefkraft', \"Snack'Ups\", 'Sai Donne Biryani', 'Bottle & Glass', 'Desi Bytes', 'Bat Chef', 'Lepcha Foods & Refreshment', 'Shreedevi', 'Just Khao Suey', 'Raw Pressery', 'Loyal Food', 'Kim Lee Restaurant', 'Hotel Hyperdine', 'Little Orissa Restaurant', \"Bob'S Restaurant\", \"Mother'S Meal\", 'Premium Bombay Kulfi', 'Liveat', 'Forage', 'Saka Eatery Outlet', 'Stuffd', 'A3 Nuwang Kitchen', 'Abc Grand', 'Wats Ur Scoop?', \"Nami'S Global Kitchen\", 'Taza Tawa', \"Jerry Mama'S\", 'The Pizza Bakery', 'Book My Cakes', 'Chef Fast Food', 'The Spicy Kitchen', 'La Madeleine Patisserie', 'Frootality', 'Venus Bake Point', 'Dine @ 9 Paratha Corner', 'Punjabi Khazana', 'Kund Indian Barbeque', 'Origami', 'Rayalaseema Spice', 'Himalyan Inn Tibet Kitchen', \"Chitu'S Kitchen\", \"Johny'S Kitchen\", \"Neffy'S - Cakes & More\", 'Ice Cubes', 'Choco Allure', 'Five Star Cafe', 'Chaavadi', 'Tenco Infusions', 'Hotel Green Land', 'Tosco', 'La Mirch', 'Bismillah Ambur Biryani', 'Biryani Bazar', 'New Roll Centre', \"Habib'S Biryani\", 'The Bite Club', 'Taantraa - Organic Handbaking', 'Momscurry', 'Moonlight Kitchens', 'Vrs Food Zone', \"Rajan'S Cafe\", 'Waah Chef', 'Dillibite', 'Raat Ki Rani', \"Achayyan'S\", 'Knight Riders', 'Peppers', 'Oyster Bay', 'Ginseng - Royal Orchid Hotel', \"L'Inoui - The Leela Palace\", 'Rudra Tiffin Service', 'Momo Corner', 'Fudgy Love Designer Cakes', 'Mac Fast Food', \"Celeste'S Kitchen\", 'Angel Mutton Leg Soup', 'Urban Treat', 'Smoodies', 'Chungs Pavilion', 'Picante', 'Dal Chawal Roti', 'Mukati Kitchen', 'Chinese Fire Dragon', 'Guns N Roses', 'Tandoori Club', 'Jaishree Pavilion', 'Banarasi Tadka', 'Calcutta Victoria Chat House', 'New Royal Paris Restaurant', 'Simhapuri Mess', 'Walnut Kitchen', 'Nandini Andhra Style Mess', 'Fazzito Kitchen', 'Sky Fog', 'Palki Restaurant', 'Allahabadi Tadaka', 'Krumbkraft', 'Ambur Hot Dum Biriyani', 'Biryani Club', \"Kanti'S\", 'Bhikaram Chandmal Bhujiawala', \"Taste Of Nawaab'S\", '24 Hours Cake Delivery', 'Bake A Smile', 'Tandoorinn', 'Cream And Bakes', 'Amar Kolkata', 'Eggzotic', 'Ambur Biriyani', 'Kerala Vibes', \"Tfc - Tony'S Food Corner\", 'Crispy Crust Pizza', 'Jumping Beans', 'The Parotta Master', 'Mayo N Burger', 'Bowlful', \"Cinnamon'S Kitchen\", 'Cakewalk', 'Kc Das - Sweet Paradise', 'Madhu Iyengars Bakery', 'Shanthi Sweets & Bakery', 'Delicious Ice Cream Parlour', 'Chill Out', 'The Leela Cake Shop - The Leela Palace', '4 Mangoes', 'New Udupi Fresh Juice Centre', 'Sly Granny - The Community House', 'Toit', \"Bob'S Bar\", 'Arena - Artisanal Brewkitchen', 'Vapour Pub & Brewery', 'The Black Rabbit', '1131 Bar + Kitchen', 'Btdt? Been There Done That', 'Tippler', 'Bricklane', 'Phobidden Fruit', 'Bologna', 'The Marina', 'Barebones - The Balcony Bar', 'Esplanade', 'Haute', 'Swing', 'Sanchez Taqueria & Cantina', 'Wall Street 657', \"Agent Jack'S Bar\", 'Pecos Stones', 'Soo Ra Sang', \"Elongo'S\", 'Wanley', 'Pot-O-Noodles', \"Jimi'S Beer Cafe\", 'Bflat Bar', 'Uthra', 'Doff Pub And Lounge', 'Regulars Pub & Grub', 'Nakkshatra', 'The Beer Joint', 'Blistering Barnacles', 'Cafe Ritzz', 'Take 5', 'Shree Annapoorneshwari Mess', 'Amexicano', 'Head O State', 'Sendhoor Coffee', 'Cafe Srinidhi', 'The Chennai Express', \"Kylie'S\", 'Shivaji Military Hotel', 'Halli Mane Rotti', 'Chakum Chukum Calcutta On A Roll', 'Chai & Kadi', 'Chaithanya Veg', 'Lazer Castle', 'Om Sai Skanda Dosa Camp', 'Vani Hindu Military Hotel', 'Chaithanya Xpress', 'Smoodys', 'Br Military Hotel', 'King Burger Cafeteria', 'Sri Vasavi Super Sandwich', \"Murphy'S Brewhouse - The Paul Bangalore\", 'Vembanad - The Paul', \"The Velu'S\", 'Chef Inn Regency', 'Masala Dani - The Paul', 'Quench Bar', 'Night Booze', 'Sandras Bar & Restaurant', 'Serenitea4U', 'Shri Krishna Bhavan', 'Neer Dose Fish Land', 'Mary Cafe', 'Home Touch Hotel', 'Krish Punjabi Kitchen', 'Donne Biryani Angadi Mane', 'Sri Lakshmi Darshini', 'Jamavar - The Leela Palace', 'Cloudnyn - Sterling Mac Hotel', 'Zen - The Leela Palace', 'Tiger Trail - Royal Orchid Hotel', 'Xu', 'Le Cirque Signature - The Leela Palace', 'Odia Dine', 'New Udupi Garden', 'Library Bar - The Leela Palace', 'The Punjabi Bites', 'Wat Bar - Sterlings Mac Hotel', 'The Spice Box', '7 Hills Andhra Mess', 'Food Of Punjab', 'Rj Food Plaza', 'S R Kabab Corner', 'Kolkatta Famous Kati Rolls', \"Jeff'S - Royal Orchid Hotel\", \"Goofy'S\", 'Sea Lions Bbq & Grills', 'The Maori - Aurick Boutique Hotel', 'Dr. Sheesha', 'Skyline Pizzeria', 'Malnad Blossom, Coffee & Cream', 'Bathinda Tandoor', 'Darshan Paradise Restaurant', 'City Cafe', 'Black Deer', 'Fiero! Pizzeria', 'Butter Cup', 'Gundu Pulav', 'Halli Rotti Manne', 'Keshava Kabab Centre', 'New Sunrise Restaurants', 'Nati Biriyani Mane', 'North Indian Meals', 'Chilli N Chicken', 'Uttara Karanataka Mess', 'Juice Fresco', 'Arun Icecreams', 'Cariocake', 'Beach Hut', 'Durbari Restaurant', 'Oggarne', 'Ghee Rice Family Restaurant', 'South Indian Kitchen', 'Kc Das - Klassic Foods', 'M. R. G Sweets Angadi', 'The Cake Shop Mayura', 'Lambsters', 'Ilyazsab Shawarma Cafe', 'Slv Ragigudda', 'All Aromas', 'The Pump House', 'Le Arabia', 'Nourich', 'The Underpass Pub & Grub', 'Beir', 'Crave Bit Cafe', 'Wudfyr', 'Desi Aahar', 'Peat & Fire', 'Sri Raghavendra Davanagere Benne Dose Hotel', 'Pushpa Darshini', 'Delhi Ke Bawarchi', 'The Brew - Aurick Boutique Hotel', 'Sri Brahmi Kuteera', 'Famous Dum Biriyani', 'Essential Kitchen', 'Sb Foods', 'Anamika Roll Centre', 'Thindi Mane', 'Chilly N Chicken', 'Levitate Brewery And Kitchen', 'Ludo Cafã\\x83Â\\x83Ã\\x82Â\\x83Ã\\x83Â\\x82Ã\\x82Â\\x83Ã\\x83Â\\x83Ã\\x82Â\\x82Ã\\x83Â\\x82Ã\\x82Â©', 'Malenadu Kitchen', 'Kaapi Kuteera', 'Adyar Ananda Bhavan Sweets', 'Tandoor Chai House', \"Mother'S Rasoi Family Restaurant\", 'Bake Delite', 'The Fiery Indian Kitchen', 'Chaatter Box', 'Zaitoon Lassi Cafe', 'Food Republic Resto', 'Athithi Grand Restaurant', \"Jethro'S\", 'Impala Biryani', 'Mypotli', 'Happiness Bars', 'The Hot Cafe', 'Shree Manjunatha Bar And Restaurant', \"Shri Lakshami Venkateshwara Iyengar'S Bakery\", 'Shree Maruthi Sweets', 'Kolkata Kati Rolls', 'Kc Das - Sai Sweets', 'Sv Juice Corner', 'Aditya Uphar', 'Bramhin Tiffins', 'Hotel Coorg Style', 'Slv Upahara', 'The Yellow Submarine', 'Stop N Joy', 'S Square Family Restaurant & Bar', 'New Students Corner', 'Campus Juice Corner', 'Sigree Global Grill', 'Zamindar', 'The Coorg Food Co.', \"The Chef'S Kitchen\", '4 Seasons Restaurant', 'Churrascaria Brazil', 'Cafe Pink Pajamas', 'The Roastery', 'The Pipe Rack', 'Artville Cafe', 'Eunoia', 'Rawstraw', 'Draggers Cafã\\x83Â\\x83Ã\\x82Â\\x83Ã\\x83Â\\x82Ã\\x82Â\\x83Ã\\x83Â\\x83Ã\\x82Â\\x82Ã\\x83Â\\x82Ã\\x82Â©', 'Fragrant Kitchen', 'Brew Bakes Cafe', \"Alter Ego D'Deli\", 'Rasa Cafe', 'Jamaycafe', 'Cafe Qissa', 'Coffee Mechanics', 'Based On A True Story- Bistro', 'Hangout Cafe', 'Al Amal Cafe', '18+ Ice Cafe', 'White Oak Cafe', 'Avista Cafe Pizzeria', 'The Bridge Walk Cafe', 'Teapoy Mutiny', 'Patio - The Resto Cafe', 'Mayonaise', 'Srinathjis', 'Cafe Get Hooked', 'Coffee@Arens', 'T4U Cafe', 'Lava Kaffe', 'Urban Bakes & Cafe', 'Cafe 99 Kerala Mess', 'Hyderabad Biryani', 'Chikpet Donne Biriyani Corner', \"Paul'S Dum Biryani\", 'Berakah', 'Sikori', \"Leon'S Take Away\", 'Nandhini', 'Donne Biryani Kuteera', 'Adukkala Restaurant', 'Al Madina Roll House', 'New Punjabi Veg Restaurant', 'Rejoice The Taste Of Indore', \"Brahmins' Thatte Idli\", 'Kijiji - Chal Yaha Khate Hai', 'North Indian Bhukkads', 'Chaitra Restaurant', 'Srinidhi Veg Food Court', 'Kuttanad Restaurant', 'Matsya Loka', 'Jai Bhavani Dhaba', 'De Grand Restaurant', 'Roll N Roll', 'Balle Balle Dhaba', 'Kabab Palace', 'The Blue Bawarchi', 'Taste Of Nawaabs', 'Panda Boy', 'Janatha Cafe', 'Currylicious', \"Nadeem'S Kitchen\", 'Pasta Factory', 'Biryani Hub', 'Big Chicken', 'Foodies Choice', 'Akshaya Family Restaurant', 'Dreamland Food Corner', 'Cafe Zamorin', 'Doctor Juice', 'Shandong', 'The Chinese Table', 'Food Magic Restaurant', 'One For The Road', 'Tamarind - Tamarind Hospitality', 'Dilli Dil Se..', \"Despiwich Dragon'S Kitchen\", 'Casa De Goa', \"La' Meze\", 'Shahi Hyderabadi Dum Biryani', 'Purvanchal Tokri', 'Brindavan Veg', 'Anu Momos Chinese Kitchen', 'Cafe Bangalore', 'Hotel Little Imperial', 'Kloudish Kitchen', 'Paratha Singh', 'Hi Seoul', 'My Little China', 'S K Ruchi', 'Amigos Kitchen', \"Sarah'S\", 'Sizzling Szechuan', 'Twilight Global Restaurant', 'Ginger Greens', 'The Chocolate Heaven - Cakes', 'The Local', 'Cafe Nukkad', 'Nihas Hyderabadi Biryani', 'Cream & Fudge', 'Breezy Cow Bar', 'Fine Food Restaurant', 'Food Time Now', 'Meghana Biriyanis', 'Countryside - The Taste Of Chettinad', 'Hungry Vihaari', 'Regency Park', 'Curries & Chillies', 'Oye Hoye', \"Ambujam'S Chettinad Mess\", \"Chinnu'S Mane Biryani\", 'K.G.N Kabbab Corner', 'Desi Grill', 'Zyara', 'Aroma Spice', 'Le Spice Restaurant', 'Kadai Restaurant', 'Jambudweepa Juice Bar', 'Sri Banashankari Donne Biriyani', 'Sri Durga Nellore Mess', 'Mystery House', 'Serranos Mexican Grill', 'Global Flavors', 'Kitchen King', \"Ranga'S Paradise\", 'M.M.A Kabab Rolls & Biriyani Center', 'Hotel Kakatiya', \"Momma'S Pastries Fine Bakery And Cafe\", '2 Statez', 'Hongkong Noodles', 'Cafezone', '29 Degrees North', \"Dr. Harry'S Chick Blast\", \"Aroma'S Hyderabad House\", 'American Desserts', 'Sufi Restaurant & Cafe', 'Dhadoom', 'T-Hut Cafe', 'Khyma Biryani', 'Kolkata Rolls & Chowmein', 'Sri Ruchi Restuarant', 'Olive Garden', 'Spice Corner', 'Tamarind', 'Spice Kitchen', 'The Juice Shop - Juicery And Kitchen', 'Sv Indian Restaurant', 'Brewklyn Microbrewery', 'Teburu', 'Oki', 'Float Brewery', 'Swagatham Delux - Rayalaseema Spices', 'Coorg Lunch Home', 'Thalassery Plaza', 'Naina Nand Food Express', 'Huko Mukho Hangla', 'Kanthari', 'Madurai Canteen', 'Saffron Vegetarian Cuisine', 'Cafe P Square', 'Indie Fusion Multi Cuisine Restaurant', 'Manasa Fishland', 'Wokanaka - The Casual Chinese Pitstop', 'Maraheb Restaurant', 'Paradox Rest-O-Cafe', 'The French Corner', 'Hotel The Shack', 'Art Of Biryani & Curries', 'Vera Italiano', 'Rasapoorna', 'Aioli', 'The Urban Roof', 'Kiko', 'Udupi Gardenia', 'S L V Food Joint', 'Cake House - Story Cafe', \"Venky'S Xprs\", 'Marakachi', 'Firehouse - Bar & Kitchen', 'Samprith Gowdru Mudde Hotel', \"Foodie'S Affair\", \"Sanju'S Super Kitchen\", 'Delicious Momos', 'My China', \"Reddy'S Naati Mane\", 'Wok N Roll', 'Bangalore Vibes', 'Cakes, Crumbs & Magic', 'The Flavours', 'Biryani Treats', 'Chai Kada', 'Paper Cup Cafe', 'Oventreats - Patisserie.Bistro', 'Parantha Singh', 'Crunchees Cafeteria', 'Nalukettu', 'Urban Kitchen', 'Kabsa House', 'Cafe China', 'De3 - The Eatery', 'Al Karim', 'The Second Wife', 'Silver Spoon Restaurant', 'Sri Banasankri Donne Biriyani', 'Al Madhina Roll House', 'Meat Up Barbecue & More', 'Skanda Cafe', 'Gundappa Donne Biryani Mane', \"Didi'S Kitchen\", 'New York Burrito', 'Le Roll Cafe', 'Angaar Indian Grill & Restaurant', 'Wolga Restaurant', 'Fatty Chang', 'Whistling Tandoor', \"Shaik'S Dynasty\", 'Hotel Hyderabadi', 'Raees Restaurant', 'Doner Bel', 'Cuteporkie', \"Papanna'S Biriyani\", \"Moghul'S Restaurant\", 'Kings Court', 'Midnight Food Point', 'Delhiz Taste', '7Biryanis', 'Namak', 'Twins', 'Davis Bar And Restaurant', 'Cottage Loaf', 'The Pakoda Shop', 'Farha Real Taste Of Kerala', 'Sangam Mess', 'Kannur Restaurant', 'Al Ameen Rolls Corner', 'Have More', 'Gold Line Breadz', 'Bucket Biriyani', \"Shiva'S Naram Garam\", 'Ila Kitchen', 'Cafe Beirut', 'Creamyum', 'Malabar Food Court', 'Cluxi', 'Orchid Wine And Dine', 'Sandesh', 'Kartik', \"Leela'S Kitchen\", 'Dilli Highway', 'Kenriy The Restro', 'Mazedaar', \"Shammah'S\", 'Sprinkled', 'Hayaat', 'Pig Out', 'Delish Chinese Fast Food', 'Creme Bliss', 'Zam Zam Restaurant', \"Ahmad'S Chicken Hut\", \"Ocean'S Delight\", 'Sidekicks', 'Opt For Fitness', '7 Spice', 'Flayvours4U', 'Panchamukhi Sagar', 'Shanghai Xpress', 'Biriyummy', 'Cafeteria Al - Falah', 'Sri Datta Biryani House', 'Bottoms Up Resto Bar', 'Sk Tiffins Corner', 'Jiffy Cafe', 'Victoria Terminus', 'Tawa Fresh', 'Best B Restaurant', 'Sai Bhavan Veg & Non Veg', 'Mugful Of Stories', 'The Original Bistro', 'Thran Bakery', 'Kc Das - Elite Sweets', 'Dream Scoopers', 'Bake N Joy', 'Sri Venkateshwara Sweets Chats Juice Centre', 'A Little For Love', 'Cad (M) Cad (B)', 'Byli - Bet You Love It!', 'Wanderers', 'Thran', \"Fiddler'S Green\", 'Tang Of Jamaica', 'Irie', 'Specialist Restaurant', 'Sugar N Spice', 'Sgs Nonveg- Gundu Palav', 'New Udupi Upahara', 'Bismilla Kabab & Biryani Centre', 'Sri Krishna Bhavan', 'Juba Cafe', 'Paranthas And Dosas', 'Arirang Korean Restaurant', 'Al-Badia Restaurant', 'Food Star', 'Bite And Pipes', 'Biryani Joint', 'Banarasi Chat Centre', 'Ice Berg', 'Sree Gajanana Fruit Juice Centre', 'Pecos Mojo', 'The Story Wall Bistro', 'Lil Asia', 'Pooja Dosa Camp', 'Al Barack Cafetaria', 'De Grand', 'Sultan - Palace Darbar Restaurant', 'Srinidhi Upachar', 'New Salem Spices', 'Coffee Thindi', 'Chintu Chit Chat Centre', 'The Sky Lounge - Tamarind Hospitality', 'Degchi Restaurant', 'New Udupi Park', 'Just Protein', 'Sri Devi Sagar', 'Raghavendra Bhavan', 'Madurai Idly Dosai Centre', 'Leung Fast Food', 'New Udupi Park Deluxe', 'Mubarak Hotel', 'D-Zaprino', 'Grub Bucket', 'Shanti Sweets', 'Us Pizza', 'Soham Bombay Masti Magic', 'Zamindars Biryani Durbar', 'The Red Lantern', 'Taste Of Bihar', 'The Filter Coffee', 'Hyderbadi Irani Tea', 'S-Aachies Hotel', 'Sumac Resto Cafe', 'Kaapikada', 'Ambur Biriyani Zone', 'Al Ghani Resetaurant', 'Suvarna Sree Food Paradise', 'Draggers Cafã\\x83Â\\x83Ã\\x82Â\\x83Ã\\x83Â\\x82Ã\\x82Â\\x83Ã\\x83Â\\x83Ã\\x82Â\\x82Ã\\x83Â\\x82Ã\\x82Â\\x83Ã\\x83Â\\x83Ã\\x82Â\\x83Ã\\x83Â\\x82Ã\\x82Â\\x82Ã\\x83Â\\x83Ã\\x82Â\\x82Ã\\x83Â\\x82Ã\\x82Â©', 'Navami Kitchen', 'The Feast Fries', 'Yi Moi Chinese Fast Food', 'Wood Fire Pizza', 'Sandesh Restaurant', 'Barleyz', 'Ministry Of Food - Hilton Bangalore Embassy Golflinks', 'The Hole In The Wall Cafe', 'Stoked!', 'Hungry Travellers Cafe', 'G Resto Cafe', 'Cafã\\x83Â\\x83Ã\\x82Â\\x83Ã\\x83Â\\x82Ã\\x82Â\\x83Ã\\x83Â\\x83Ã\\x82Â\\x82Ã\\x83Â\\x82Ã\\x82Â© S', 'Blue Tokai Coffee Roasters', 'Bundar', 'Gudguda Prime Cafe', 'Cafe On The Way', 'Tattva Cafe', 'Fetchpod Cafe', 'World Of Asia', 'Srinidhi Sagar Deluxe', '1522 - The Pub', 'Aubree Le Chocolatier', 'Snacksjoint', 'Pagalkhana', 'Nutripress', 'Chocolat Boulangerie Patisserie', 'Mistaan Sweets And Chaat', 'Game Of Pizzas', 'Maven Foods', 'Rã\\x83Â\\x83Ã\\x82Â\\x83Ã\\x83Â\\x82Ã\\x82Â\\x83Ã\\x83Â\\x83Ã\\x82Â\\x82Ã\\x83Â\\x82Ã\\x82Âªveur Chocolates', 'Creme & Cheese', 'Midnight Pizza Slurpp', 'Crown Gold', 'Mars Chicken Delight', 'Sub Spot', 'Yum Tum', 'Urban Spice', 'Hotel Oottupura', \"Pooja'S Kitchen\", 'Eat Street', 'Wild Thyme Restaurant', 'Porkeats', 'Falahaar', 'Jai Jinendra', 'V.S. Garden Restaurant', 'Jeevika Donne Biryani', 'Hungry Paunch', 'Ngv Fast Food', 'Happy Plate', 'Kebab Ganj', 'The Choux Box', 'Nightfork', 'The Breakfast Truck', 'Straight From The Heart', 'Delightz', \"Martino'S\", 'The Fresh Factor', 'Nv Patisserie', 'Box Of Biryani', 'Big Box Theory', 'The Sweet Spot', \"Big Foody'S\", 'Cakes And Moulds', 'Jadoo Ka Dabba', 'Pockets And Bowls', \"Kitchen'S Sea Food Restaurant\", 'Delly Belly', \"Mr. Meow'S Hotdogs\", 'Blu Dale Fast Food', 'Rice And Rolls', 'Holiday Fast Food', 'Hotel Marina', 'Hotel Feast Ambur Biriyani', 'Hello Resto-Pub', 'The Midnight Kitchen', \"Nature'S Restaurant\", 'The Bier Library', 'Ifruit Live Ice Creams', 'Gowri Sweets', 'The Fixx', 'Prost Brew Pub', 'The Arabesque Cafe', 'Silsila', 'Sri Vishnu Upahar', 'The Tiffin Express', 'Ulavacharu', 'The Old Fashioned Bar', 'B-Hive', 'The Local - Terrace Drinkery', 'Gorilla Barfare', 'Oil Pump', 'Samavar', 'Primal', 'Samrat Regency Bar And Restaurant', 'Juice Point', 'The Local - Burger Bar', 'Ambur Biryani Mess', 'Shiva Sai Andhra Hotel', 'Black Pepper Lounge - Case De Bengaluru', 'Mooch Marod', 'One Stop Maratha', 'Falafel Bistro', 'Shahi Dasterkhwan', 'Delitoons', 'Fnc Seafood', 'Al Hayath Ambur Biryani', 'Cauvery Fast Food', 'Dhang Ka Khana', 'Indigo X Ii P', 'Klinx - Hilton Bangalore Embassy Golflinks', 'The Salt Grill - Hilton Bangalore Embassy Golflinks', 'Re:Cess - Hilton Bangalore Embassy Golflinks', 'Sizzling Tandoor', '99 Variety Dosa & Pav Bhaji', 'Big Fat Brownie', 'Kitchen24', 'Perch', 'Totus', 'Smoke Oil Salt', 'Midnight Special', 'B2D Indori Dhaba', 'Hotel Darshan Paradise', 'Y Not Shawarma', 'Navaneetha', 'Bharathi Refreshments', 'Biryani Trip', 'Clean Bowled', 'Foreign Cafã\\x83Â\\x83Ã\\x82Â\\x83Ã\\x83Â\\x82Ã\\x82Â\\x83Ã\\x83Â\\x83Ã\\x82Â\\x82Ã\\x83Â\\x82Ã\\x82Â\\x83Ã\\x83Â\\x83Ã\\x82Â\\x83Ã\\x83Â\\x82Ã\\x82Â\\x82Ã\\x83Â\\x83Ã\\x82Â\\x82Ã\\x83Â\\x82Ã\\x82Â©', 'Sector 7 Cafã\\x83Â\\x83Ã\\x82Â\\x83Ã\\x83Â\\x82Ã\\x82Â\\x83Ã\\x83Â\\x83Ã\\x82Â\\x82Ã\\x83Â\\x82Ã\\x82Â\\x83Ã\\x83Â\\x83Ã\\x82Â\\x83Ã\\x83Â\\x82Ã\\x82Â\\x82Ã\\x83Â\\x83Ã\\x82Â\\x82Ã\\x83Â\\x82Ã\\x82Â©', 'Malabar Xpress', 'Rã\\x83Â\\x83Ã\\x82Â\\x83Ã\\x83Â\\x82Ã\\x82Â\\x83Ã\\x83Â\\x83Ã\\x82Â\\x82Ã\\x83Â\\x82Ã\\x82Â\\x83Ã\\x83Â\\x83Ã\\x82Â\\x83Ã\\x83Â\\x82Ã\\x82Â\\x82Ã\\x83Â\\x83Ã\\x82Â\\x82Ã\\x83Â\\x82Ã\\x82Âªveur Chocolates', 'Smack Cafe', 'Kshera Sagar', 'Star Bowl', \"Aata'S Kitchen\", 'Cafã\\x83Â\\x83Ã\\x82Â\\x83Ã\\x83Â\\x82Ã\\x82Â\\x83Ã\\x83Â\\x83Ã\\x82Â\\x82Ã\\x83Â\\x82Ã\\x82Â\\x83Ã\\x83Â\\x83Ã\\x82Â\\x83Ã\\x83Â\\x82Ã\\x82Â\\x82Ã\\x83Â\\x83Ã\\x82Â\\x82Ã\\x83Â\\x82Ã\\x82Â© S', 'Brotherã\\x83Â\\x83Ã\\x82Â\\x83Ã\\x83Â\\x82Ã\\x82Â\\x83Ã\\x83Â\\x83Ã\\x82Â\\x82Ã\\x83Â\\x82Ã\\x82Â\\x82Ã\\x83Â\\x83Ã\\x82Â\\x83Ã\\x83Â\\x82Ã\\x82Â\\x82Ã\\x83Â\\x83Ã\\x82Â\\x82Ã\\x83Â\\x82Ã\\x82Â\\x92S Bar & Kitchen', 'Momo Blues', 'Falooda Cafe', \"Cafã\\x83Â\\x83Ã\\x82Â\\x83Ã\\x83Â\\x82Ã\\x82Â\\x83Ã\\x83Â\\x83Ã\\x82Â\\x82Ã\\x83Â\\x82Ã\\x82Â\\x83Ã\\x83Â\\x83Ã\\x82Â\\x83Ã\\x83Â\\x82Ã\\x82Â\\x82Ã\\x83Â\\x83Ã\\x82Â\\x82Ã\\x83Â\\x82Ã\\x82Â© Mor'Ish\", 'Eat N Pack', 'Srinivasa Mess', 'Bake Land', 'Bakewalk', 'Senthur Cafe', \"Head'S Or Tail'S\", \"Kshatriya'S Biriyani House\", 'Royal India Kabab Corner', 'Santrupti Uttara Karnataka Food Store', 'Cheers Pub Bar & Restro', 'La Brasserie - Le Meridien', 'B Cafã\\x83Â\\x83Ã\\x82Â\\x83Ã\\x83Â\\x82Ã\\x82Â\\x83Ã\\x83Â\\x83Ã\\x82Â\\x82Ã\\x83Â\\x82Ã\\x82Â\\x83Ã\\x83Â\\x83Ã\\x82Â\\x83Ã\\x83Â\\x82Ã\\x82Â\\x82Ã\\x83Â\\x83Ã\\x82Â\\x82Ã\\x83Â\\x82Ã\\x82Â© - Shangri-La Hotel', \"Pepper'S - The Palladium\", 'La Boulangerie - Le Meridien', 'Spice Cove - I.V Sanctum', 'Cafã\\x83Â\\x83Ã\\x82Â\\x83Ã\\x83Â\\x82Ã\\x82Â\\x83Ã\\x83Â\\x83Ã\\x82Â\\x82Ã\\x83Â\\x82Ã\\x82Â\\x83Ã\\x83Â\\x83Ã\\x82Â\\x83Ã\\x83Â\\x82Ã\\x82Â\\x82Ã\\x83Â\\x83Ã\\x82Â\\x82Ã\\x83Â\\x82Ã\\x82Â© Felix', 'Cafã\\x83Â\\x83Ã\\x82Â\\x83Ã\\x83Â\\x82Ã\\x82Â\\x83Ã\\x83Â\\x83Ã\\x82Â\\x82Ã\\x83Â\\x82Ã\\x82Â\\x83Ã\\x83Â\\x83Ã\\x82Â\\x83Ã\\x83Â\\x82Ã\\x82Â\\x82Ã\\x83Â\\x83Ã\\x82Â\\x82Ã\\x83Â\\x82Ã\\x82Â© Mh-28', 'Wafl Cafã\\x83Â\\x83Ã\\x82Â\\x83Ã\\x83Â\\x82Ã\\x82Â\\x83Ã\\x83Â\\x83Ã\\x82Â\\x82Ã\\x83Â\\x82Ã\\x82Â\\x83Ã\\x83Â\\x83Ã\\x82Â\\x83Ã\\x83Â\\x82Ã\\x82Â\\x82Ã\\x83Â\\x83Ã\\x82Â\\x82Ã\\x83Â\\x82Ã\\x82Â©', 'The Cafã\\x83Â\\x83Ã\\x82Â\\x83Ã\\x83Â\\x82Ã\\x82Â\\x83Ã\\x83Â\\x83Ã\\x82Â\\x82Ã\\x83Â\\x82Ã\\x82Â\\x83Ã\\x83Â\\x83Ã\\x82Â\\x83Ã\\x83Â\\x82Ã\\x82Â\\x82Ã\\x83Â\\x83Ã\\x82Â\\x82Ã\\x83Â\\x82Ã\\x82Â© @ Saanchi', 'Aubree', 'The Lobby Lounge - Shangri-La Hotel', \"Gullu'S Chat\", 'Moto Store & Cafã\\x83Â\\x83Ã\\x82Â\\x83Ã\\x83Â\\x82Ã\\x82Â\\x83Ã\\x83Â\\x83Ã\\x82Â\\x82Ã\\x83Â\\x82Ã\\x82Â\\x83Ã\\x83Â\\x83Ã\\x82Â\\x83Ã\\x83Â\\x82Ã\\x82Â\\x82Ã\\x83Â\\x83Ã\\x82Â\\x82Ã\\x83Â\\x82Ã\\x82Â\\x83Ã\\x83Â\\x83Ã\\x82Â\\x83Ã\\x83Â\\x82Ã\\x82Â\\x83Ã\\x83Â\\x83Ã\\x82Â\\x82Ã\\x83Â\\x82Ã\\x82Â\\x82Ã\\x83Â\\x83Ã\\x82Â\\x83Ã\\x83Â\\x82Ã\\x82Â\\x82Ã\\x83Â\\x83Ã\\x82Â\\x82Ã\\x83Â\\x82Ã\\x82Â©', 'Sagar', 'Bombay Vada Pav Corner', 'Wafl Cafã\\x83Â\\x83Ã\\x82Â\\x83Ã\\x83Â\\x82Ã\\x82Â\\x83Ã\\x83Â\\x83Ã\\x82Â\\x82Ã\\x83Â\\x82Ã\\x82Â\\x83Ã\\x83Â\\x83Ã\\x82Â\\x83Ã\\x83Â\\x82Ã\\x82Â\\x82Ã\\x83Â\\x83Ã\\x82Â\\x82Ã\\x83Â\\x82Ã\\x82Â\\x83Ã\\x83Â\\x83Ã\\x82Â\\x83Ã\\x83Â\\x82Ã\\x82Â\\x83Ã\\x83Â\\x83Ã\\x82Â\\x82Ã\\x83Â\\x82Ã\\x82Â\\x82Ã\\x83Â\\x83Ã\\x82Â\\x83Ã\\x83Â\\x82Ã\\x82Â\\x82Ã\\x83Â\\x83Ã\\x82Â\\x82Ã\\x83Â\\x82Ã\\x82Â©', \"Quickie'S\", 'Royanna Military Canteen', 'Container Coffee', 'Tasty Paradise', 'Patiala Lassi', \"Cafã\\x83Â\\x83Ã\\x82Â\\x83Ã\\x83Â\\x82Ã\\x82Â\\x83Ã\\x83Â\\x83Ã\\x82Â\\x82Ã\\x83Â\\x82Ã\\x82Â\\x83Ã\\x83Â\\x83Ã\\x82Â\\x83Ã\\x83Â\\x82Ã\\x82Â\\x82Ã\\x83Â\\x83Ã\\x82Â\\x82Ã\\x83Â\\x82Ã\\x82Â\\x83Ã\\x83Â\\x83Ã\\x82Â\\x83Ã\\x83Â\\x82Ã\\x82Â\\x83Ã\\x83Â\\x83Ã\\x82Â\\x82Ã\\x83Â\\x82Ã\\x82Â\\x82Ã\\x83Â\\x83Ã\\x82Â\\x83Ã\\x83Â\\x82Ã\\x82Â\\x82Ã\\x83Â\\x83Ã\\x82Â\\x82Ã\\x83Â\\x82Ã\\x82Â© Mor'Ish\", 'Yauatcha Pã\\x83Â\\x83Ã\\x82Â\\x83Ã\\x83Â\\x82Ã\\x82Â\\x83Ã\\x83Â\\x83Ã\\x82Â\\x82Ã\\x83Â\\x82Ã\\x82Â\\x83Ã\\x83Â\\x83Ã\\x82Â\\x83Ã\\x83Â\\x82Ã\\x82Â\\x82Ã\\x83Â\\x83Ã\\x82Â\\x82Ã\\x83Â\\x82Ã\\x82Â\\x83Ã\\x83Â\\x83Ã\\x82Â\\x83Ã\\x83Â\\x82Ã\\x82Â\\x83Ã\\x83Â\\x83Ã\\x82Â\\x82Ã\\x83Â\\x82Ã\\x82Â\\x82Ã\\x83Â\\x83Ã\\x82Â\\x83Ã\\x83Â\\x82Ã\\x82Â\\x82Ã\\x83Â\\x83Ã\\x82Â\\x82Ã\\x83Â\\x82Ã\\x82Â¢Tisserie', 'China South', 'Cafã\\x83Â\\x83Ã\\x82Â\\x83Ã\\x83Â\\x82Ã\\x82Â\\x83Ã\\x83Â\\x83Ã\\x82Â\\x82Ã\\x83Â\\x82Ã\\x82Â\\x83Ã\\x83Â\\x83Ã\\x82Â\\x83Ã\\x83Â\\x82Ã\\x82Â\\x82Ã\\x83Â\\x83Ã\\x82Â\\x82Ã\\x83Â\\x82Ã\\x82Â\\x83Ã\\x83Â\\x83Ã\\x82Â\\x83Ã\\x83Â\\x82Ã\\x82Â\\x83Ã\\x83Â\\x83Ã\\x82Â\\x82Ã\\x83Â\\x82Ã\\x82Â\\x82Ã\\x83Â\\x83Ã\\x82Â\\x83Ã\\x83Â\\x82Ã\\x82Â\\x82Ã\\x83Â\\x83Ã\\x82Â\\x82Ã\\x83Â\\x82Ã\\x82Â© Mh-28', 'Urban Solace - Cafã\\x83Â\\x83Ã\\x82Â\\x83Ã\\x83Â\\x82Ã\\x82Â\\x83Ã\\x83Â\\x83Ã\\x82Â\\x82Ã\\x83Â\\x82Ã\\x82Â\\x83Ã\\x83Â\\x83Ã\\x82Â\\x83Ã\\x83Â\\x82Ã\\x82Â\\x82Ã\\x83Â\\x83Ã\\x82Â\\x82Ã\\x83Â\\x82Ã\\x82Â\\x83Ã\\x83Â\\x83Ã\\x82Â\\x83Ã\\x83Â\\x82Ã\\x82Â\\x83Ã\\x83Â\\x83Ã\\x82Â\\x82Ã\\x83Â\\x82Ã\\x82Â\\x82Ã\\x83Â\\x83Ã\\x82Â\\x83Ã\\x83Â\\x82Ã\\x82Â\\x82Ã\\x83Â\\x83Ã\\x82Â\\x82Ã\\x83Â\\x82Ã\\x82Â© For The Soul', 'B Bhagat Tarachand', 'The Golden Metro', '37 China Town', 'Dakshin', 'Cafã\\x83Â\\x83Ã\\x82Â\\x83Ã\\x83Â\\x82Ã\\x82Â\\x83Ã\\x83Â\\x83Ã\\x82Â\\x82Ã\\x83Â\\x82Ã\\x82Â\\x83Ã\\x83Â\\x83Ã\\x82Â\\x83Ã\\x83Â\\x82Ã\\x82Â\\x82Ã\\x83Â\\x83Ã\\x82Â\\x82Ã\\x83Â\\x82Ã\\x82Â\\x83Ã\\x83Â\\x83Ã\\x82Â\\x83Ã\\x83Â\\x82Ã\\x82Â\\x83Ã\\x83Â\\x83Ã\\x82Â\\x82Ã\\x83Â\\x82Ã\\x82Â\\x82Ã\\x83Â\\x83Ã\\x82Â\\x83Ã\\x83Â\\x82Ã\\x82Â\\x82Ã\\x83Â\\x83Ã\\x82Â\\x82Ã\\x83Â\\x82Ã\\x82Â© Felix', 'Chicken County', 'Annapoorni Grand', 'Mantap Ice Cream', 'Le Chã\\x83Â\\x83Ã\\x82Â\\x83Ã\\x83Â\\x82Ã\\x82Â\\x83Ã\\x83Â\\x83Ã\\x82Â\\x82Ã\\x83Â\\x82Ã\\x82Â\\x83Ã\\x83Â\\x83Ã\\x82Â\\x83Ã\\x83Â\\x82Ã\\x82Â\\x82Ã\\x83Â\\x83Ã\\x82Â\\x82Ã\\x83Â\\x82Ã\\x82Â\\x83Ã\\x83Â\\x83Ã\\x82Â\\x83Ã\\x83Â\\x82Ã\\x82Â\\x83Ã\\x83Â\\x83Ã\\x82Â\\x82Ã\\x83Â\\x82Ã\\x82Â\\x82Ã\\x83Â\\x83Ã\\x82Â\\x83Ã\\x83Â\\x82Ã\\x82Â\\x82Ã\\x83Â\\x83Ã\\x82Â\\x82Ã\\x83Â\\x82Ã\\x82Â©Ri', 'Yauatcha Pã\\x83Â\\x83Ã\\x82Â\\x83Ã\\x83Â\\x82Ã\\x82Â\\x83Ã\\x83Â\\x83Ã\\x82Â\\x82Ã\\x83Â\\x82Ã\\x82Â\\x83Ã\\x83Â\\x83Ã\\x82Â\\x83Ã\\x83Â\\x82Ã\\x82Â\\x82Ã\\x83Â\\x83Ã\\x82Â\\x82Ã\\x83Â\\x82Ã\\x82Â¢Tisserie', 'Le Chã\\x83Â\\x83Ã\\x82Â\\x83Ã\\x83Â\\x82Ã\\x82Â\\x83Ã\\x83Â\\x83Ã\\x82Â\\x82Ã\\x83Â\\x82Ã\\x82Â\\x83Ã\\x83Â\\x83Ã\\x82Â\\x83Ã\\x83Â\\x82Ã\\x82Â\\x82Ã\\x83Â\\x83Ã\\x82Â\\x82Ã\\x83Â\\x82Ã\\x82Â©Ri', 'Banaras Sweet House', 'Kazã\\x83Â\\x83Ã\\x82Â\\x83Ã\\x83Â\\x82Ã\\x82Â\\x83Ã\\x83Â\\x83Ã\\x82Â\\x82Ã\\x83Â\\x82Ã\\x82Â\\x83Ã\\x83Â\\x83Ã\\x82Â\\x83Ã\\x83Â\\x82Ã\\x82Â\\x82Ã\\x83Â\\x83Ã\\x82Â\\x82Ã\\x83Â\\x82Ã\\x82Â©', 'Masala Kitchen', 'Daivik', 'Lifetree Cafã\\x83Â\\x83Ã\\x82Â\\x83Ã\\x83Â\\x82Ã\\x82Â\\x83Ã\\x83Â\\x83Ã\\x82Â\\x82Ã\\x83Â\\x82Ã\\x82Â\\x83Ã\\x83Â\\x83Ã\\x82Â\\x83Ã\\x83Â\\x82Ã\\x82Â\\x82Ã\\x83Â\\x83Ã\\x82Â\\x82Ã\\x83Â\\x82Ã\\x82Â©', 'Strawberry Moon', 'Ssaffron - Shangri-La Hotel', 'Hype - Shangri-La Hotel', 'The Sugar Factory - Le Meridien', 'Shang Palace - Shangri-La Hotel', 'Yataii - Shangri-La Hotel', 'Fishland', 'Caprese - Shangri-La Hotel', 'Status Bar& Restaurant', 'Amruta', 'Lakshmi Natraja Refreshments', 'Mudde Madappa Mess', 'The Green House Family Restaurant', 'Swasthaa', 'Jashn - Le Meridien', 'Food Court', 'Silver Spoon', 'Curry Pot', 'Blue Heaven Bar And Restaurant', 'Shivaji Maratha Hotel', 'Sports Bar - Le Meridien', 'Slv Delite', 'Pavilion', 'Sri Raghavendra Prasanna Coffee Club', 'Fishland 15', 'Talk To The Hand', 'New Mathura Grand', 'Jai Bhawani', 'Imperial Room', 'Vijay Vihar', 'Silver Star', 'Hotel Raj', 'Nimma Mane', 'Nisarga Restaurant', 'Atithi Satkaar', 'Hotel Madhuvan', 'Praja Thindi', 'Coffee House', 'Sukh Sagar Food Court', 'The Green Path - Forgotten Food', 'Barbecued - By The Orchard', 'Feast - Sheraton Grand Bangalore Hotel At Brigade...', 'The Raj Pavilion - Itc Windsor', 'The Kabab Studio - Goldfinch Hotel', '24/7 - The Lalit Ashok Bangalore', 'Lush - Renaissance Hotel, Bengaluru', 'The Higher Taste', 'Sangam Restaurant', 'Coastal Spice', \"Chef'S Bank\", \"Stevie'S\", 'Clean Slate Cafe', 'The World Cafe', 'Mumbai Bistro', 'Tea Samskruthi', 'The Timber Times Cafe', 'Shrusti Coffee', 'Tlp Cafe', 'Highteaparty Cafe', 'Art Cafe', 'Dream Coffee House', 'Justbe Cafe', \"Nature'S Caff\", 'Happy Hours', 'Kwatlay Rest-O-Cafe', 'Troll Cafe', 'Malleshwaram Dosa Corner', 'Deccan House', 'New Agarwal Bhavan', 'Ganesh Darshini', 'New Oottupura Restaurant', 'Prakriti Delux', \"Auntie Fung'S\", 'Frozenheit?', 'Absolute Chinese', 'Bhairaveshwara Military Hotel', 'Create Cafe', 'Amrut', 'Fishing Boat', 'Zam Zam Kabab House', 'Slanz Cafe', 'Flavors Of North', 'Dhanalakshmi Grand', 'Tasty Box', 'Eat & Drink', 'Casino Hotel', 'South Idlis', 'Snack Magic', 'Vishnu Garden', 'Shuchi Ruchi', 'Ctr', 'Four Seasons Fast Food Center', 'Grubbery', 'Messy Eats', 'Halli Donne Biryani Nati Style', 'Chick Inn', 'Sri Maruthi Miltry Hotel', 'The Pastry Inn', 'Gowdara Hatti', 'Roy Hotel & Restaurant', 'New Golden Emperor', 'Shri Family Restaurant', 'Hotel Elite', 'Lazeez Biryani', 'Hotel Kadamba Veg', \"Rishi'S Paratha Plaza\", 'Nesara Mullti - Cuisine Family Dining & Garden...', 'Eggstacy', \"Maddy'S Katti Cafe\", 'Food & Friends', 'Nammura Upachara', 'Sagar Kabab Corner', 'The Fast Food', 'Bhavani Vada Pav', 'Hotel Malgudi', 'Kaifu', 'Grill Biryanis', 'Shree Guru Sagar', \"Annappa'S Naati Mane\", 'Cake Gallery', 'Hotel Halli Nenapu', 'Kool Joint', 'Hotel Gowdru Mane', 'Scoops N Smiles', 'Antarastriya', 'Basaveshwarnagar Dosa Corner', \"Totaram'S Paranthas\", 'Sardarji Ka Kitchen', 'Prateeksha Natural Ice Cream', \"Dambal'S Veg\", 'Ginger', 'Tasty Munch', '1992 Chats - Space', \"Santo'S\", 'The Asian Curry House', 'Hotel Taj Delight', 'Burp', 'The Banana Kick', 'Casamia', 'Ali Snacks Point', 'Freskka', 'Break Hour', 'Fresh Veg', 'The Higher Taste Stores', 'Zeees', 'Kc Das - Sweet Sadan', 'Oyalo', 'Sagar Samrat', 'Salaam Sigri Rolls & Kebabs', 'Green Chilly', 'Symas', 'Cafe Centralis', 'Sree Ganesh Fruit Juice Centre', 'The Street Kitchen', 'Coastal Express', \"3G'S - Gulp & Groove\", 'Shree Guru Sagar Fast Food', 'Kadai', 'Peppermill Bistro', 'Ambur Darbar Biriyani Point', 'The Biryani Culture', 'Fish Corner', 'Plated', 'Saladtimes', 'Crazy Pizza', 'Halli Mane Donne Biriyani', 'The Big Bellyz', 'Ootada Mane', \"Tastie'S\", 'Cold Station', \"Ragoo'S Kitchen\", 'Cafe Rossini', 'Namakh Store And Cafe', 'Ujwal Bar & Restaurant', 'Cafe Poetry', 'Sha-E-Darbar', 'Ember The Calabash', 'Jay Bhavani Vadapav', 'Singh Saab Dhaba', 'Surya Refreshments', 'Karavali Deluxe', 'La Heaven', 'Carbon Cup', 'Spices The Food Joint', 'Sunaina Sapice', 'Will Way Burgers', 'Cafe Mandala', 'The Crust Factory', 'Rayalaseema Ruchulu', 'Mehfil Family Restaurant', 'Mumbai Spice', 'New Karavali Restaurant', 'Race Course Restaurant', 'Noc Cafe & Catering', 'Churn', 'Sizzling China', \"Nikki'S\", 'Chaat Lounge', 'B52 - Sports Bar', 'Sai Cafe Veg', 'Srushti Coffee', 'Puff Cafe', \"Kitty'S Cafe\", 'Kudla Beach', 'Donne Biriyani Angadi Mane', 'Bademiyan Kebabs', 'Absolute Waffles', 'Veena Stores', 'Hotel Durga Shree Grand', 'Garden Kabab Corner', 'Paris Restaurant', 'Shakthi Bar And Restaurant', 'Sindh Kitchen', 'Hatch', \"Hotel Gowda'S\", 'Samrat Family Restaurant & Bar', 'Dil Se Punjabi', 'Momo Shop', 'Coastal Biryani Paradise', 'Prana', 'Andhra Vantakam', 'Jashn Hyderabadi Bawarchi', 'Bon Appetit Resto', \"Eater'S Cart\", 'Swathi', 'Vande Matharam', 'Oottupura', 'The Purple Pan', 'Malleshwaram Holige Mane', 'Masti Masala', 'Toast And Salad', 'Biriyani Fest', 'L J Fast Food', 'Punjab Mail', \"Malgudi'S Donne Biriyani\", 'Hotel Fish Land', 'Kusum Restaurant', 'Spicy Fingers', 'Al-Baik Kabab Corner', 'Grand Sweets & Snacks', 'Swasthi Spice Restaurant', 'Matsya Lunch Home', 'Iyer Mess', 'Chandus Delux', 'Pavilion Restaurant', 'Navrang Kabab Korner', 'Lv Venkateshwara Jolada Rotti Oota', 'Chandrappa Hotel', 'Dharwad Line Bazar Mishra Pedha', 'South Spicy Bites', 'Chickz N Cheez', 'Hotel Prashanth', 'A1 Spice Inn', 'Viking', 'Cravingz', 'Sunny Spice Chinese Restaurant', 'Kudla - Coraltree', \"Grub By 3G'S\", 'Nebula', 'Lakshmi Mess', \"Mom'S Rasoi\", \"Taiyvan'S\", 'Hotel Emirates', 'Kitchen King Naati Style', 'Nammura Baduta', 'Four Seasons Fast Food', 'Hotel Girija Sagar', 'The Orchard', 'Chikpet Donne Biryani House', 'Basil Joint', 'New Fishland', 'Sea Route', 'Seafood Dot Grill', 'Satrangi', 'New Shetty Lunch Home', 'Prashanth Naati Corner', 'Sea Rock', 'Fish Palace', 'Fit Dish Fetish', 'Swaadishta Restaurant', \"Hotel Savaji'S\", 'Swadisht Inn', 'The Park East 01', \"Indian'S Biriyani Point\", 'Pakwan', 'Kitchen Katta', 'Nomadic Tandoor', 'Udupi Garden', 'Daryaganj Chowk', 'Hotel Karavali Beach', 'Cafe Lassi Lab', \"Zu'S Doner Kebaps\", 'Al-Taj Restaurant', 'Northwind', \"Roast 'N' Frost\", 'The Rasoi', 'The Chocolate Mansion', 'Altaj Restaurant', 'Udupa Fast Food', 'Sri Durga Grand', 'Buttercup Bakes', 'Tuckinto', \"Wow Sikkim Momo'S\", 'Food N Joyy', 'New Bombay Vada Pav', 'Mexican Taste', 'Frozen Coast', 'Bun World', 'Sri Venkateshwara Sweetmeat Stall', 'Mr. Gola', 'Froststicks', 'Amrith Ice Cream', 'Hoai Ice Cafe', 'Oh So Stoned!', 'Fabelle Chocolate Boutique - Itc Windsor', 'Sattvam Bakes', 'The Lalit Boulangerie - The Lalit Ashok Bangalore', 'O.G. Variar & Sons', 'Cinnamon - Renaissance Hotel, Bengaluru', 'Jay Mataji Farsan And Sweets', 'Peppermint', 'Sri Venkateshwara Sweet House', 'Karigiri Refreshments', 'Cream House', 'Sri Shakti Sweets', 'Holige Mane', 'The Cupcake Story', 'Aishwarya Sweets', 'High Ultra Lounge', 'District 6 Pub Brewery & Kitchen', 'Barbecue By Punjab Grill', 'The Persian Terrace - Sheraton Grand Bangalore Hotel...', 'Hyderabad Biryani House', 'The Studio Bar', 'Indian Kitchen', 'Hotel Moonlight', 'Bene - Sheraton Grand Bangalore Hotel At Brigade...', 'Bluo', 'Alfresco By Bene -Sheraton Grand Bangalore Hotel At...', 'Temple Meals', 'New Krishna Bhavan', 'Asha Food Camp', 'Sai Shakti', \"Sri Sai Ram'S\", 'Sukh Sagar Express', 'Rr Biriyani', \"Sri Sairam'S Chats And Juice\", 'Chick Inn 24X7', 'Aahara Vihar', 'Sri Venkateshwar Bhavan', 'Hotel Vaishali', 'G. P. S. Kaapi Thindi', 'Empire Juice Shop', 'Stiksnax', 'Royal Afghan - Itc Windsor', 'Kittyko', 'Pebble', 'Dakshin - Itc Windsor', 'Sutra - The Lalit Ashok Bangalore', 'Akss - India Reimagined', 'Latitude - Tulip Inn', 'Dum Pukht Jolly Nabobs - Itc Windsor', 'Sanadige - Goldfinch Hotel', 'Sanman', 'Oko - The Lalit Ashok Bangalore', 'Dublin - Itc Windsor', 'New Samrat Restaurant', 'Baluchi - The Lalit Ashok Bangalore', 'Uttarkhand', 'Samudra Bar & Restaurant', 'Amazing Blue Pub', 'Prashanth Grand', 'Glacier - Citrine Hotel', 'Sangeetha Bar & Restaurant', 'Hvr Veg', 'Hotel Ayodhya Upahar', 'Hotel Rajesh', 'A1 Biriyani Point', 'Jetlag', 'The London Curry House - The Royale Senate Hotel', 'Mysore Hanumanthu Palav', 'Hotel Nalapaka', 'Sagar Hotel', 'R Bar - Renaissance Hotel, Bengaluru', 'South Ruchis Square', 'Priyadarshini Veg', 'Aastha Bengali Mess', 'Hotel Janardhan', 'Great Moments - Hotel Bangalore International', 'Nandini Swadista Loka', 'Mr Savji', 'Bangarpet Chats Corner', 'Opel Lounge', 'Davanagere Benne Dosa', 'Madhura', 'Ambika Vegetarian Hotel', 'Ottetumba Veg & Non Veg Restaurant', 'Aramane Brundavan', 'Indira Canteen', 'Makaranda', 'Soundarya Military Hotel', \"Vishwa Brahmin'S Cafe\", 'Bhairava Deluxe Hindu Military Hotel', 'Davanagere Bene Dosa Hotel', 'Mahalakshmi Refreshments', 'Karnataka Biryani Point', 'Antigravity', 'Melange - Radisson Blu', 'Bold', 'Brunchilly', 'Seapot', 'Spice Darbar', 'The Mint Resto Bar', 'Earthen Bowl', 'Lassi Bistro', 'Coffee Mug Cafe', 'Pizza Home', 'Cafã\\x83Â\\x83Ã\\x82Â\\x83Ã\\x83Â\\x82Ã\\x82Â\\x83Ã\\x83Â\\x83Ã\\x82Â\\x82Ã\\x83Â\\x82Ã\\x82Â\\x83Ã\\x83Â\\x83Ã\\x82Â\\x83Ã\\x83Â\\x82Ã\\x82Â\\x82Ã\\x83Â\\x83Ã\\x82Â\\x82Ã\\x83Â\\x82Ã\\x82Â© Delight', \"Nakkala'S Food Hunt\", 'Hodge Podge', 'Biryani Bar', 'Punjab Di Rasoi', 'Punjabi Food Joint', 'Sizzling Pasto', 'Anjappaar', \"Off D' Hook\", 'The Yummy Box', 'Burger Bite House', 'Kolkata Biriyani', 'Biryani & Kabab Corner', 'Frozen Bite', 'Indian Paratha Company', 'Royal Biriyani House', 'Hotel Crossroads', 'Shahi Grill', '1To3 Kitchen', 'Punjab Da Zaika', 'The Eatery Cafe & Restaurant', 'Indulge Cupcakes', 'Malabar Tasty Restaurant', 'Mast Biryani - Night Express', 'Vishal Sweets, Snacks & Breakfast', 'Mayuri Multicuisine Restaurant', 'New Madhuram', 'Indian Chaps House', 'Amchoor', 'Mandya Umesh Nati Style Hotel', 'Sree Saravana Bhavan', 'Flavours24', 'Chatpata Chaat Station', 'Apple Cafe', \"Uma'S Home Food\", 'Kichukkhon', 'Home Food Punjabi Dhabha', 'Laziz', 'New Aroma', 'Tintin Da Dhaba', 'Balaji Abhiruchi Multicuisine Restaurant', 'Patiala Zone', 'Rajwadi', 'Baba Bhature', 'Spice Affair', 'Rawalpindi Express', 'Mandya Naati Style Hotel', 'Pakwan Family Restaurant', 'Sri Krishnar Sweets', 'Godhavari', 'Hongkong Garden', 'Biryani Mane', 'Basmati Bar & Restaurant', 'Davanagere Benne Dosa Hotel', 'Amaravati - Pure Veg Restaurant', 'Grill Hut', 'Lion King', \"Tiffin Inn'S\", 'Longlive Pizza', 'Angel Mess', 'Chai Darbaar', 'Treat Kitchen', 'Hotel Malabar', 'Agraharam Meal', 'Sugarlove', 'Bon Baker', 'The Bengal Rasoi', 'Sardar Ka Chullah', 'Coorg Diaries', '3 Leafs', \"Chellappa'S\", 'Grand Hotel', 'Desi Zaika', 'House Of Torte', 'Venad Kitchen', 'Not Just Parathas', 'Desi Chinese', 'Punjabi Tandoor', 'Central Cafe', \"Thanco'S Naturals Ice Cream\", 'Fire And Ice', 'Jiyan Swadista', 'Mumã\\x83Â\\x83Ã\\x82Â\\x83Ã\\x83Â\\x82Ã\\x82Â\\x83Ã\\x83Â\\x83Ã\\x82Â\\x82Ã\\x83Â\\x82Ã\\x82Â\\x82Ã\\x83Â\\x83Ã\\x82Â\\x83Ã\\x83Â\\x82Ã\\x82Â\\x82Ã\\x83Â\\x83Ã\\x82Â\\x82Ã\\x83Â\\x82Ã\\x82Â\\x92S Kitchen', 'Ice Creamist', 'Delhi Delight Food Cafe', 'Bfc Family Restaurant', 'Infinity Family Restaurant', 'Strawbees', 'Tandoori Chowk', 'Hungree Belly', 'Chopstick Kitchen', 'Swad Punjabi Dhaba', 'New Tandoor Fusion', 'Pait Full', 'Big Chick Fried Chicken', \"Romy'S Kitchen\", 'Sri Udupi Deluxe', 'New Milestone Restaurant', 'Food Box -The Taste Of Odisha', 'Speedy Chow', 'North Indies', 'Sri Vinayaka 99 Variety Dosa', 'Hungrill Barbeque', 'Keerthi Restaurant Andhra Style', 'The Grains', 'Matka House', \"Nikhil'S Food Court\", 'Vsv Chettinad', 'Foodmazic', 'Andhra Express', 'Kolkata Spicy Restaurant', 'Sunshadow.In', 'Ackley Kitchen', 'Vishal Sweets & Restaurant', \"Kwality Wall'S Swirl'S\", 'Lassi House', 'Bierekraft', 'Tbc- Sky Lounge', 'Output Bengaluru', 'Saffron - Radisson Blu', 'Dive', 'Malties - Radisson Blu', 'Le Jardin By Bhagini', 'The Kick-Ass Company Pub & Diner', 'Udupi Vaibhav', \"Chiller'S Nation - Iris Inn\", 'Pelican', 'Curry Chutney', 'Lemon - The Lounge Bar', 'Kofabell', 'Suvai Factory', 'Eat Eroo - South China', 'Ashirvad Resturant', 'Madurai Idli Dosa Shop', '99Foods', 'Hotel Jai Jaganath', 'Om Sai Dham Bombay Hotel', \"Sukhi'S Restaurant\", 'Nukkad Box', 'Deepak Fast Food', 'Iyer Idly', 'Udupi Deluxe', 'Sankranthi Veg', 'Kerala Cafe', 'Urban Solace - Cafã\\x83Â\\x83Ã\\x82Â\\x83Ã\\x83Â\\x82Ã\\x82Â\\x83Ã\\x83Â\\x83Ã\\x82Â\\x82Ã\\x83Â\\x82Ã\\x82Â\\x83Ã\\x83Â\\x83Ã\\x82Â\\x83Ã\\x83Â\\x82Ã\\x82Â\\x82Ã\\x83Â\\x83Ã\\x82Â\\x82Ã\\x83Â\\x82Ã\\x82Â© For The Soul', 'Moto Store & Cafã\\x83Â\\x83Ã\\x82Â\\x83Ã\\x83Â\\x82Ã\\x82Â\\x83Ã\\x83Â\\x83Ã\\x82Â\\x82Ã\\x83Â\\x82Ã\\x82Â\\x83Ã\\x83Â\\x83Ã\\x82Â\\x83Ã\\x83Â\\x82Ã\\x82Â\\x82Ã\\x83Â\\x83Ã\\x82Â\\x82Ã\\x83Â\\x82Ã\\x82Â©', 'Cafã\\x83Â\\x83Ã\\x82Â\\x83Ã\\x83Â\\x82Ã\\x82Â\\x83Ã\\x83Â\\x83Ã\\x82Â\\x82Ã\\x83Â\\x82Ã\\x82Â\\x83Ã\\x83Â\\x83Ã\\x82Â\\x83Ã\\x83Â\\x82Ã\\x82Â\\x82Ã\\x83Â\\x83Ã\\x82Â\\x82Ã\\x83Â\\x82Ã\\x82Â© Secret Alley', 'House Of Seitan', 'Lagom Patisserie', 'Chapter One Bar | Maiin', 'My Place - Gokulam Grand Hotel & Spa', \"Andy'S Cafã\\x83Â\\x83Ã\\x82Â\\x83Ã\\x83Â\\x82Ã\\x82Â\\x83Ã\\x83Â\\x83Ã\\x82Â\\x82Ã\\x83Â\\x82Ã\\x82Â\\x83Ã\\x83Â\\x83Ã\\x82Â\\x83Ã\\x83Â\\x82Ã\\x82Â\\x82Ã\\x83Â\\x83Ã\\x82Â\\x82Ã\\x83Â\\x82Ã\\x82Â©\", 'The Bel St.', 'Chaiywaala Da Dhaba', 'Swiss Bakery Cafe - Gokulam Grand Hotel & Spa', 'Brewbakes', 'Delhi Mess', 'Sumadhura Foods', 'Mughlai Azam', 'Cafe Nosh', 'Udupi South Saviruchi', 'Natural Veg', \"Hunan King'S\", 'Food Lounge', 'Wok Chow', 'Samskruthi Grand', 'Parijatha Fish Land', 'Akshaya Deluxe', 'Chinese Corner And Bengali Mess', 'Prs Indian Food Restaurant', 'Biriyani Hub', 'The Momo Farm', 'Shri Udupi Cafe', 'The Druid Garden', 'Khopcha', 'Aditya Delights', 'The Hundred Food Journey', 'Malgudi Natti Style Hotel', 'New Curries & Spice Restaurant', 'Royal Garden Restaurant', 'Mad Over Fries', 'Burger Man', 'Bharath Restaurant', 'Saha Chowmein', 'Sks Veg Corner', 'South Spicy Bites Express', 'Tawa Tandoor', 'Ka 12 - Flavour Of Coorg', 'Flavours Inn', 'Andhra Spice Mess', \"Havelli - Chairman'S Resort\", 'Kolkata Kati Roll', 'Yumjar', 'Tandoori Delight', 'Rabbit Paradise', 'B1', 'Chef Kitchen', 'Big Straw Blast', 'The Rich Crust', 'Sholay - The Barbeque', 'Cubbonpete Donne Biryani', 'Rigan Hyderabadi Bawarchi', 'Sangeeta Restaurant', 'Delight Fast Food & Restaurant', 'Anda Special-Pav Bhaji', 'Just@99', 'Snow Lion Tibet Kitchen', 'Brahmins Food Corner', 'Prashant Naati Corner', 'Biryani Empire', 'Bikaner Sweets', 'Lincoln Bistro', \"Cheta'S Kitchen\", '7Th Heaven', 'Black Jack', 'Mexican Burrito', 'Gowdru Mane', 'Subhash Mess', 'Cinnamon - Grills And Gourmet', 'Deepak Paratha Plaza', 'Jeet Punjabi Tadka', 'Wow! Sikkim Momo', 'S L N Paratha Center', 'Shivas Family Restaurant', 'Nalamaharaja', 'Sindhu Family Restaurant', 'Lan Thai', 'Bihar Bhojanalaya', 'Ambarsaria', 'Udupi Tazza Thindi', 'Aarti Paratha & Rolls Corner', 'Durga Mess', \"Ketty'S Corner\", \"D'7 Feast Resto Cafe\", 'Koithio Kitchen', 'Bengal Biriyani', 'Tasty Corner', 'Hyderabadi Bawarchi Multi Cuisine Restaurant', 'Eatsaa', 'Qooked Restaurant', 'Get Ur Fix @ Chote Miya', 'Ice Magic', 'Midnight Hunger Project', 'Shawarma & Kolkata Rolls', 'Om Sai Ram Food Junction', 'Tasty Fast Food', 'Belly Doze', 'Tripti Hotel & Restaurant', 'Food Feed Restaurant', 'Frosted Memories', 'Royal Beans', 'Bonbonbite', 'Mr. Chef', 'Mabra Family Restaurant', 'Kuttanadu Family Restaurant', 'Kadamba Gardenia', 'Atithi Satkar', 'Kolkata Refreshments', 'Samba Shake N Juice', 'Sea Salt', 'Hattke', 'Star Food County', 'Sketches', 'Abzain Paradise', 'Kusum Rolls', 'Kalkata Kati Roll', 'Amrita Nadia Sweets', 'The Waffle Yard', 'Kc Das - Sweet House', 'Sri Krishna Bhavan Sweets', 'Bengal Sweets', 'The Light House Restaurant', 'Chin Lung Resto-Bar', 'Sangria Wine Lounge', 'Obsidian Sports And Music Bar -Gokulam Grand Hotel &...', 'Hotel Panchami Grand', 'Shahi Darbar Roll Centre', 'G8 Punjabi Tadka', 'Kl-58 Thalassery Cafe', 'Banashankari Restaurant', 'Sultan Rolls & Sandwiches', 'Majaa Thindi', 'Paratha Club', 'Gupshap', 'Donne Biryani & Egg Rice Adda', 'Kolkata Hot Roll', 'Sun Cafe', \"Kishi'S Cafe\", 'South Saviruchi', 'Kamat Upahaar', 'Kurrywheels', 'Zawaa Foods', 'Le Casse Croã\\x83Â\\x83Ã\\x82Â\\x83Ã\\x83Â\\x82Ã\\x82Â\\x83Ã\\x83Â\\x83Ã\\x82Â\\x82Ã\\x83Â\\x82Ã\\x82Â\\x83Ã\\x83Â\\x83Ã\\x82Â\\x83Ã\\x83Â\\x82Ã\\x82Â\\x82Ã\\x83Â\\x83Ã\\x82Â\\x82Ã\\x83Â\\x82Ã\\x82Â»Te', 'Just Eat', 'Taiki', 'New Tandoor', 'Dashabhuja Kitchen & Catering', 'Cakeberries', 'Chatora Singh', 'Fresh Bowl', 'Shree Durga', 'Nandanavanam', 'Ftb Restaurant', 'Santrupthi Khanavalli', 'Kasol Cafe', 'Bangalore Grill House', 'Indian Spicy Food', \"New Khaayaal'S Restaurant\", 'White Olives', 'Southease', 'The Cake Post', 'Breezes - Hotel Pigeon International', 'Meat And Eat (Me)', 'Nevermind - Bar & Social', 'Santã\\x83Â\\x83Ã\\x82Â\\x83Ã\\x83Â\\x82Ã\\x82Â\\x83Ã\\x83Â\\x83Ã\\x82Â\\x82Ã\\x83Â\\x82Ã\\x82Â\\x83Ã\\x83Â\\x83Ã\\x82Â\\x83Ã\\x83Â\\x82Ã\\x82Â\\x82Ã\\x83Â\\x83Ã\\x82Â\\x82Ã\\x83Â\\x82Ã\\x82Â© Spa Cuisine', 'The Tiny Taproom', 'Happenwell Cafe Lounge', 'Lakshmi Bhog Sweets And Snacks', 'Mini Wok', 'West Wood', 'The Orchid', 'Cafe Mamma Mia', 'By Two Coffee', 'Hotel Karavali Food Point', 'Al-Sidique', 'South Ruchis', 'Al Sadique', 'Mangalore Kitchen', 'Hotel Prakruthi', 'Sagar Restaurant & Chats', 'Sri Durga Chats And Juice', 'Nisarga', 'Big Bite', 'Wat-A-Biryani', 'Ayodhya Sagara', 'Kushi Meals', 'Flodeis', 'Hotel New Panchavati', 'Al Taj Fast Food', 'Frosty Bite', 'Tango Sandwich King', 'Coastal Curry', 'Mallige Ootada Mane', 'Mouthful', \"Sultan'S Restaurant\", 'Ayodhya Food Line', 'Jai Bhavani Savaji Hotel', 'Raj Bhog', 'Rolling Waffles', 'Cafe Udupi Ruchi', 'Robin Brown Ice Creams', 'Vayam Veg Fine Dine', 'Cafe Bengaluru', 'New Savi Sagar', 'Cave N Dine', 'Bhanu Hindi Military Hotel', 'Samudra Restaurant', 'Trofi N Treats', 'Kubera Veg And Non-Veg', \"Savji'S Roll 'N' Biryani\", \"Gowda'S Biriyani Corner\", 'Bdbd Banashri Davangere Benne Dose Hotel', 'Mayura 1989', 'Hotel Karavali Fish Palace', 'Lassi & Cream', 'Dhanya Nati Style Restaurant', 'Biriyani Adda', 'The Cake Factory', 'Gowdru Mane Bhaduta', 'Mallnad Hotel', 'Shradhi Lunch Home', 'Star Biryani & Kebab Centre', 'Ambika Biryani Corner', 'New Prashantha Naati Corner', 'Mouthfull Of Cake', 'Parinitha Biryani Corner', 'Benaka Sweets', 'Park View Restaurant', 'Kentaky Fast Food', 'Namana Restaurant', 'Chopstick World', 'Grits Cafe', 'Srushti Veg', 'Swathi Delux', 'Cauvery Punjabi Khana', 'Ma~Ga~Di', 'Shanthala Icecreams', 'Bakers Paradise', 'Ice Fort', 'Pavitra Paradise', 'Kulfi Story', 'Kava Bar - Fairfield By Marriott', 'Chord Road Resto-Bar', 'Westin - Vyasa Paradise', 'White Smoke Barbeque- Fairfield By Marriott', 'Hotel Aditya', 'Gulbarga Refreshment', 'Charlie Fast Food & Restaurant', 'Gobi Corner', 'Sloshed', 'Planet I Bar', 'Thindi Palace', 'Priyadarshini Grand', 'Sri Maruthi Hotel', 'Davanagere Butter Dosa Hotel', 'Srinidhi Donne Biryani', 'Tango', 'Chandus Hotel', 'A1 Ambur Dum Biryani And Parota Centre', 'Hamsa Sagar', 'Hydrabad Biryani House', 'Jay Bhavani', 'Olive Tree', 'Chillies Restaurant', 'Neethus Kitchen & Restaurant', 'Amantrana', 'New Udupi Grand Hotel', 'Akshatha Nati Style', 'Utsava Grand', 'Wood Rose', 'Hare Krishna', 'Pavana Veg Restaurant', 'Dosa Cafe', 'Hotel Shri Raghavendra', 'Karnataka Briyani Point', 'Jameela Hotel', 'Swathi Greenland', 'Sai Super Sandwich', 'Rs Shiv Sagar Express', 'Creamvilla', \"Ella'S Petscape Cafe\", 'Hyderabadi Bawarchi Biriyani', 'Homelicious Food', \"Husband'S Kitchen\", 'Fill A Belly Restaurant', 'Frosty Fills', 'Chatori Tongue', 'Priyadarshini', \"Roti'S Ghar\", 'Swadist Pakhal Restaurant', 'Sasu Maa Ki Rasoi', '@ The Bbq', 'Coastal Fish Land', 'Bearful', 'Wow Kitchen Punjabi Taste', 'Venkataramana Nellore Mess', 'Rajasthan Sweets', 'Just Yum', 'Wimpie Cafe & Restaurant', 'Pepper Grand.Com', 'Yunchi', 'Rural Blues', 'Theeram Restaurant', 'Birbal Darbar', \"Mira'S Ranna-Ghor\", 'Hotel Narmada', 'Yummy', 'Kabab World', 'Amruth Parkland', 'Hashery Family Restaurant', 'Bunker Restaurant', \"Home Tiff-Inn'S\", 'Wood Castle', 'The Chef Couple', 'Ivy Park', 'The Lakefront Kitchen', 'Atithi Aharadhama', 'Chaska Box', 'Halli Mane Biriyani', \"Grandma'S Recipe\", 'Hash Caff Restaurant', 'The Dreamy Oven', 'Neema Restaurant', 'Cranganore House', 'Happy House Restaurant', \"Sanyogita'S\", 'Peek A Brew', 'Biryani Rooh-E-Khaas', 'Mint Spice Cafã\\x83Â\\x83Ã\\x82Â\\x83Ã\\x83Â\\x82Ã\\x82Â\\x83Ã\\x83Â\\x83Ã\\x82Â\\x82Ã\\x83Â\\x82Ã\\x82Â\\x83Ã\\x83Â\\x83Ã\\x82Â\\x83Ã\\x83Â\\x82Ã\\x82Â\\x82Ã\\x83Â\\x83Ã\\x82Â\\x82Ã\\x83Â\\x82Ã\\x82Â© & Restaurant', \"Sana'S Restaurant\", 'Freshkicho', \"I-Scream'D\", 'Mandara - Imera Spa & Resort', 'Cafe Repeat', 'Hotel Narmada Andhra Style', 'Lee Momoz', 'Green Hotel', 'Reddy Hotel', 'Sri Ganesh Upahar', 'Tumbites', '4 States', 'Therpup - A Dog Cafe', 'Barley & Grapes Cafe', 'Lot Like Crepes & Cafe', 'The Waverly Express', 'Kitchens@Mahadevpura', \"Friend'S Own\", 'Sri Sai Palace', 'Rivayat', 'Woodfire Biryani', 'Vijayas Biryani Palace', \"Basmati'S Briyani Nation\", \"Andhra Ruchi'S Restaurant\", 'Udupi Cafe', \"The Delhiwala'S Kitchen-Pure Veg\", 'Chandrika Tiffins', 'Kbc - Kebab Biryani Curry', \"Lenny'S- Burgers And More\", 'Arogya Thaana', 'Red Rhino', 'Biriyani Section', 'Kolkata Biryani Center', 'Biryani Express', 'Petuk', 'Little Onnion', 'Rayalaseema Foods', 'Hotel Uttam Sagar', 'Urban Grills Restaurant', 'Online Cake And Flower.Com', \"Aryan'S Kitchen\", 'Shizusan Shophouse & Bar', 'Whitefield Social', 'Hotel Sai Renaissance', 'Maziga', 'Niso Chinese Restaurant', 'Starter House', 'Milkyway Ice Creams & Fast Food', 'The Whitefield Arms Pub & Microbrewery', 'Grill Point', 'Hotel Manu Residency', 'Hotel Triloka', 'Asia Seven', 'Anushka Restaurant', 'Angaar Biriyani', 'Purani Dehli', 'Lemon Krust', 'Dilli Galli', 'The Punjabi Park', \"Brilram'S Balaji Bhavan\", \"Lulu'S Bakery & Fast Food\", 'The Kim Chi Chef', 'Taishty', 'Biting Junction', 'Burgundy - Royal Orchid Suites', 'The Taste Players', 'Prathika Annapurna Grand', \"Arusuvai D' Kitchen\", 'Kamat Yatrinivas', 'Dande Hyderabad Biryani', 'Lucky Singh & Co', 'Sv Restaurant', 'Delhi Mahal', 'Metrolicious', 'Noodle Bar', 'Sizzles', 'Punjab Junction', 'Pizzmo', 'Jubli Biryani', 'Swadishta', 'Wang Fu Kitchen', 'Real Ambur Dum Biryani', 'Sri Lakshmi Hotel', 'Punjabi Park', 'Fresheats', 'Nieghbourhood Cafe', 'Captain Egg', 'Manbhavan Premium Thali Restaurant', 'Hotel Greens', 'The Lighthouse Cafe', 'Mubeena Shariff Chocolatier', 'Tadka Punjabi Restaurant', 'F5', 'New Andhra Chimney', 'Sri Guru Nalapaka Restaurant', 'Foodie', 'The Village Restaurant', 'Biryani Bowl', 'Hotel Nisarga Restaurant', 'Golden Food Palace', 'Pmr Restaurant', 'Siddharth Restaurant', 'Delhi Belli', 'Hangout Junction', 'Swad Rajasthani Bhojanalaya', 'Food Xpress', 'Best', 'Lg Park Restaurant', 'Tarama Bengali Food', '@99', 'Hunger Genie', 'Sweet Tooth - Do You Have One?', 'Sweet Nothings Couture Cupcakes', 'Golden Paradise', \"Win'S Restaurant\", 'New Taj Darbar', 'La Mensa', 'Maa Bargabhima Restaurant', 'Gali Parathae Wali', 'Foody Baba', 'Loafers', 'Food Paradise', 'Tummy Singh', 'Food And Biryani (Fab)', 'Punjabi Family Dhaba', 'The South', 'Curry Point', 'Dinepost 9', 'Cupcake Couture', 'Andhra Ghumaghumalu', 'Thalaserry Food Court', 'Punjabi Charchay', 'Vihar Family Restaurant', 'Herbs & Spices', '4700Bc Popcorn', 'Thai & Chinese Fast Food', \"Auntie Anne'S\", 'Caramel Whitefield', 'Frosting Flavours', 'The Creek - The Den Bengaluru', 'Feast - Sheraton Grand Bengaluru Whitefield Hotel &...', 'The Pallet', 'Salt - Indian Restaurant - Bar & Grill', 'Alt', 'Biere Societee', 'Layla - The Den Bengaluru', 'Toscano - Mojito Bar', 'Uppercut - Sheraton Grand Bengaluru Whitefield Hotel...', 'Bar Bar', 'The Eatery - Four Points By Sheraton Bengaluru', 'Karibu - The Zuri', 'Latitude Whitefield', 'Inazia - Sheraton Grand Bengaluru Whitefield Hotel &...', 'Incanto - The Zuri', 'Bling - The Zuri', 'Terracotta Whitefield', 'W Xyz - Aloft Hotel', 'Red Glow', 'Dot.Yum - Aloft Hotel', 'Infinity - The Zuri', 'Tease Whitefield', 'Soup N Grill', 'Best Brews - Four Points By Sheraton Bengaluru...', 'The Hungry Yeti', 'The Kimchi Chef', 'Sri Shankar Andhra Mess', 'Adupadi', 'Majlish', 'Om Sai Punjabi Dhabha', 'Aishwarya', 'Bbcue Whitefield', 'Blend - Royal Orchid Suites', 'Fresh Berriz', 'Calicut Mess House', 'Grab N Go - Aloft Hotel', 'Estia - Aloft Hotel', \"Mc Donald'S\", 'Desi Chats', 'Squeez Juice Bar', 'Jalsa Adda', 'Nalaas Aapakadai', 'Mothi Restaurant', 'Hunan Express', 'Bao & Grills', \"Angel'S Kitchen\", 'Hyderabadi Dum Biryani', 'Gongura', 'Only Parathas', 'Tuk-Tuk', 'Hotel Royal Darbar', 'A1 Hot Dum Biryani', 'Black Pagoda', 'Food Dig', 'Ishwaryam', 'Hungry Wok', 'Mad Kitchen', \"Polly'S Kitchen\", 'Calcutta North Indian Meals', 'Chime - Sheraton Grand Bengaluru Whitefield Hotel &...', 'The Nest - The Den Bengaluru', 'Nawabs Empire', 'Seeya Restaurant']\n"
     ]
    }
   ],
   "source": [
    "# RESTAURANT NAMES:\n",
    "restaurant_names = list(zomato['name'].unique())\n",
    "print(restaurant_names)"
   ]
  },
  {
   "cell_type": "code",
   "execution_count": 18,
   "id": "afe14488",
   "metadata": {},
   "outputs": [],
   "source": [
    "def get_top_words(column, top_nu_of_words, nu_of_word):\n",
    "    vec = CountVectorizer(ngram_range= nu_of_word, stop_words='english')\n",
    "    bag_of_words = vec.fit_transform(column)\n",
    "    sum_words = bag_of_words.sum(axis=0)\n",
    "    words_freq = [(word, sum_words[0, idx]) for word, idx in vec.vocabulary_.items()]\n",
    "    words_freq =sorted(words_freq, key = lambda x: x[1], reverse=True)\n",
    "    return words_freq[:top_nu_of_words]"
   ]
  },
  {
   "cell_type": "code",
   "execution_count": 19,
   "id": "826113e2",
   "metadata": {},
   "outputs": [],
   "source": [
    "zomato=zomato.drop(['address','rest_type', 'type', 'menu_item', 'votes'],axis=1)\n",
    "import pandas"
   ]
  },
  {
   "cell_type": "code",
   "execution_count": 20,
   "id": "38e8884e",
   "metadata": {},
   "outputs": [
    {
     "data": {
      "text/plain": [
       "Index(['name', 'online_order', 'book_table', 'rate', 'location', 'cuisines',\n",
       "       'cost', 'reviews_list', 'city', 'Mean Rating'],\n",
       "      dtype='object')"
      ]
     },
     "execution_count": 20,
     "metadata": {},
     "output_type": "execute_result"
    }
   ],
   "source": [
    "zomato.columns"
   ]
  },
  {
   "cell_type": "code",
   "execution_count": 21,
   "id": "d2066165",
   "metadata": {},
   "outputs": [],
   "source": [
    "# Randomly sample 60% of your dataframe\n",
    "df_percent = zomato.sample(frac=0.5)"
   ]
  },
  {
   "cell_type": "code",
   "execution_count": 22,
   "id": "177c9742",
   "metadata": {},
   "outputs": [
    {
     "data": {
      "text/plain": [
       "Index(['name', 'online_order', 'book_table', 'rate', 'location', 'cuisines',\n",
       "       'cost', 'reviews_list', 'city', 'Mean Rating'],\n",
       "      dtype='object')"
      ]
     },
     "execution_count": 22,
     "metadata": {},
     "output_type": "execute_result"
    }
   ],
   "source": [
    "df_percent.columns"
   ]
  },
  {
   "cell_type": "code",
   "execution_count": 23,
   "id": "3a2825eb",
   "metadata": {},
   "outputs": [
    {
     "data": {
      "text/plain": [
       "(20618, 10)"
      ]
     },
     "execution_count": 23,
     "metadata": {},
     "output_type": "execute_result"
    }
   ],
   "source": [
    "df_percent.shape"
   ]
  },
  {
   "cell_type": "markdown",
   "id": "1ddd77d5",
   "metadata": {},
   "source": [
    "TF-IDF Vectorization\n",
    "TF-IDF (Term Frequency-Inverse Document Frequency) vectors for each document. This will give you a matrix where each column represents a word in the general vocabulary (all words that appear in at least one document) and each column represents a restaurant, as before.\n",
    "\n",
    "TF-IDF is the statistical method of assessing the meaning of a word in a given document. Now, I will use the TF-IDF vectorization on the dataset:"
   ]
  },
  {
   "cell_type": "code",
   "execution_count": 24,
   "id": "a3dc4a8c",
   "metadata": {},
   "outputs": [],
   "source": [
    "df_percent.set_index('name', inplace=True)\n",
    "indices = pd.Series(df_percent.index)\n",
    "\n",
    "# Creating tf-idf matrix\n",
    "tfidf = TfidfVectorizer(analyzer='word', ngram_range=(1, 2), min_df=0.0, stop_words='english')\n",
    "tfidf_matrix = tfidf.fit_transform(df_percent['reviews_list'])\n",
    "\n",
    "cosine_similarities = linear_kernel(tfidf_matrix, tfidf_matrix)"
   ]
  },
  {
   "cell_type": "code",
   "execution_count": 25,
   "id": "82672f08",
   "metadata": {},
   "outputs": [],
   "source": [
    "# Now the last step for creating a Restaurant Recommendation System is to write a function that will recommend restaurants:"
   ]
  },
  {
   "cell_type": "code",
   "execution_count": 26,
   "id": "8f98116a",
   "metadata": {},
   "outputs": [
    {
     "name": "stdout",
     "output_type": "stream",
     "text": [
      "TOP 7 RESTAURANTS LIKE Pai Vihar WITH SIMILAR REVIEWS: \n"
     ]
    },
    {
     "data": {
      "text/html": [
       "<div>\n",
       "<style scoped>\n",
       "    .dataframe tbody tr th:only-of-type {\n",
       "        vertical-align: middle;\n",
       "    }\n",
       "\n",
       "    .dataframe tbody tr th {\n",
       "        vertical-align: top;\n",
       "    }\n",
       "\n",
       "    .dataframe thead th {\n",
       "        text-align: right;\n",
       "    }\n",
       "</style>\n",
       "<table border=\"1\" class=\"dataframe\">\n",
       "  <thead>\n",
       "    <tr style=\"text-align: right;\">\n",
       "      <th></th>\n",
       "      <th>cuisines</th>\n",
       "      <th>Mean Rating</th>\n",
       "      <th>cost</th>\n",
       "    </tr>\n",
       "  </thead>\n",
       "  <tbody>\n",
       "    <tr>\n",
       "      <th>Fazzito Kitchen</th>\n",
       "      <td>North Indian</td>\n",
       "      <td>3.58</td>\n",
       "      <td>700.0</td>\n",
       "    </tr>\n",
       "    <tr>\n",
       "      <th>Agarwal Food Service</th>\n",
       "      <td>North Indian, Chinese, Biryani</td>\n",
       "      <td>3.39</td>\n",
       "      <td>400.0</td>\n",
       "    </tr>\n",
       "    <tr>\n",
       "      <th>Sri Krishna Kitchen</th>\n",
       "      <td>North Indian, Chinese</td>\n",
       "      <td>3.34</td>\n",
       "      <td>350.0</td>\n",
       "    </tr>\n",
       "    <tr>\n",
       "      <th>Mayura Sagar</th>\n",
       "      <td>Chinese, North Indian, South Indian</td>\n",
       "      <td>3.32</td>\n",
       "      <td>250.0</td>\n",
       "    </tr>\n",
       "    <tr>\n",
       "      <th>A2B - Adyar Ananda Bhavan</th>\n",
       "      <td>South Indian, North Indian, Street Food</td>\n",
       "      <td>3.05</td>\n",
       "      <td>200.0</td>\n",
       "    </tr>\n",
       "    <tr>\n",
       "      <th>A2B - Adyar Ananda Bhavan</th>\n",
       "      <td>South Indian, North Indian, Chinese, Street Fo...</td>\n",
       "      <td>3.05</td>\n",
       "      <td>400.0</td>\n",
       "    </tr>\n",
       "    <tr>\n",
       "      <th>Sri Lakshmi Dhaba</th>\n",
       "      <td>North Indian</td>\n",
       "      <td>2.50</td>\n",
       "      <td>250.0</td>\n",
       "    </tr>\n",
       "  </tbody>\n",
       "</table>\n",
       "</div>"
      ],
      "text/plain": [
       "                                                                    cuisines  \\\n",
       "Fazzito Kitchen                                                 North Indian   \n",
       "Agarwal Food Service                          North Indian, Chinese, Biryani   \n",
       "Sri Krishna Kitchen                                    North Indian, Chinese   \n",
       "Mayura Sagar                             Chinese, North Indian, South Indian   \n",
       "A2B - Adyar Ananda Bhavan            South Indian, North Indian, Street Food   \n",
       "A2B - Adyar Ananda Bhavan  South Indian, North Indian, Chinese, Street Fo...   \n",
       "Sri Lakshmi Dhaba                                               North Indian   \n",
       "\n",
       "                           Mean Rating   cost  \n",
       "Fazzito Kitchen                   3.58  700.0  \n",
       "Agarwal Food Service              3.39  400.0  \n",
       "Sri Krishna Kitchen               3.34  350.0  \n",
       "Mayura Sagar                      3.32  250.0  \n",
       "A2B - Adyar Ananda Bhavan         3.05  200.0  \n",
       "A2B - Adyar Ananda Bhavan         3.05  400.0  \n",
       "Sri Lakshmi Dhaba                 2.50  250.0  "
      ]
     },
     "execution_count": 26,
     "metadata": {},
     "output_type": "execute_result"
    }
   ],
   "source": [
    "def recommend(name, cosine_similarities = cosine_similarities):\n",
    "    \n",
    "    # Create a list to put top restaurants\n",
    "    recommend_restaurant = []\n",
    "    \n",
    "    # Find the index of the hotel entered\n",
    "    idx = indices[indices == name].index[0]\n",
    "    \n",
    "    # Find the restaurants with a similar cosine-sim value and order them from bigges number\n",
    "    score_series = pd.Series(cosine_similarities[idx]).sort_values(ascending=False)\n",
    "    \n",
    "    # Extract top 30 restaurant indexes with a similar cosine-sim value\n",
    "    top30_indexes = list(score_series.iloc[0:31].index)\n",
    "    \n",
    "    # Names of the top 30 restaurants\n",
    "    for each in top30_indexes:\n",
    "        recommend_restaurant.append(list(df_percent.index)[each])\n",
    "    \n",
    "    # Creating the new data set to show similar restaurants\n",
    "    df_new = pd.DataFrame(columns=['cuisines', 'Mean Rating', 'cost'])\n",
    "    \n",
    "    # Create the top 30 similar restaurants with some of their columns\n",
    "    for each in recommend_restaurant:\n",
    "        df_new = df_new.append(pd.DataFrame(df_percent[['cuisines','Mean Rating', 'cost']][df_percent.index == each].sample()))\n",
    "    \n",
    "    # Drop the same named restaurants and sort only the top 10 by the highest rating\n",
    "    df_new = df_new.drop_duplicates(subset=['cuisines','Mean Rating', 'cost'], keep=False)\n",
    "    df_new = df_new.sort_values(by='Mean Rating', ascending=False).head(10)\n",
    "    \n",
    "    print('TOP %s RESTAURANTS LIKE %s WITH SIMILAR REVIEWS: ' % (str(len(df_new)), name))\n",
    "    \n",
    "    return df_new\n",
    "recommend('Pai Vihar')\n"
   ]
  },
  {
   "cell_type": "code",
   "execution_count": null,
   "id": "188c9a92",
   "metadata": {},
   "outputs": [],
   "source": [
    "# As as you can see that we got a fairly good output."
   ]
  }
 ],
 "metadata": {
  "kernelspec": {
   "display_name": "Python 3 (ipykernel)",
   "language": "python",
   "name": "python3"
  },
  "language_info": {
   "codemirror_mode": {
    "name": "ipython",
    "version": 3
   },
   "file_extension": ".py",
   "mimetype": "text/x-python",
   "name": "python",
   "nbconvert_exporter": "python",
   "pygments_lexer": "ipython3",
   "version": "3.10.9"
  }
 },
 "nbformat": 4,
 "nbformat_minor": 5
}
