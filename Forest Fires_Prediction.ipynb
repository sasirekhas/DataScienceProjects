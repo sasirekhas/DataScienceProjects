{
 "cells": [
  {
   "cell_type": "code",
   "execution_count": 48,
   "id": "ebf80ef7",
   "metadata": {},
   "outputs": [],
   "source": [
    "# FOREST FIRE PREDICTION"
   ]
  },
  {
   "cell_type": "code",
   "execution_count": 49,
   "id": "1e003526",
   "metadata": {},
   "outputs": [],
   "source": [
    "# https://builtin.com/data-science/data-science-projects"
   ]
  },
  {
   "cell_type": "code",
   "execution_count": 50,
   "id": "2965c480",
   "metadata": {},
   "outputs": [],
   "source": [
    "# https://builtin.com/machine-learning/nearest-neighbor-algorithm"
   ]
  },
  {
   "cell_type": "code",
   "execution_count": 51,
   "id": "d110d41f",
   "metadata": {},
   "outputs": [],
   "source": [
    "# https://www.analyticsvidhya.com/blog/2021/10/forest-fire-prediction-using-machine-learning/"
   ]
  },
  {
   "cell_type": "code",
   "execution_count": 52,
   "id": "210bc3c9",
   "metadata": {},
   "outputs": [],
   "source": [
    "import datetime as dt\n",
    "\n",
    "import pandas as pd\n",
    "import numpy as np\n",
    "import seaborn as sns\n",
    "import matplotlib.pyplot as plt\n",
    "%matplotlib inline \n",
    "\n",
    "from sklearn.model_selection import train_test_split\n",
    "from sklearn.metrics import accuracy_score, classification_report\n",
    "from sklearn.ensemble import RandomForestRegressor"
   ]
  },
  {
   "cell_type": "code",
   "execution_count": 53,
   "id": "7033475e",
   "metadata": {},
   "outputs": [],
   "source": [
    "#forest = pd.read_csv('forestfires.csv')"
   ]
  },
  {
   "cell_type": "code",
   "execution_count": 54,
   "id": "aa25dc61",
   "metadata": {},
   "outputs": [],
   "source": [
    "forest = pd.read_csv('fire_archives.csv')"
   ]
  },
  {
   "cell_type": "code",
   "execution_count": 55,
   "id": "29530d5b",
   "metadata": {},
   "outputs": [
    {
     "data": {
      "text/plain": [
       "(1674, 14)"
      ]
     },
     "execution_count": 55,
     "metadata": {},
     "output_type": "execute_result"
    }
   ],
   "source": [
    "forest.shape"
   ]
  },
  {
   "cell_type": "code",
   "execution_count": 56,
   "id": "0d23e6f5",
   "metadata": {},
   "outputs": [
    {
     "data": {
      "text/plain": [
       "Index(['latitude', 'longitude', 'brightness', 'scan', 'track', 'acq_date',\n",
       "       'acq_time', 'satellite', 'instrument', 'confidence', 'version',\n",
       "       'bright_t31', 'frp', 'daynight'],\n",
       "      dtype='object')"
      ]
     },
     "execution_count": 56,
     "metadata": {},
     "output_type": "execute_result"
    }
   ],
   "source": [
    "forest.columns"
   ]
  },
  {
   "cell_type": "code",
   "execution_count": 57,
   "id": "c81850ce",
   "metadata": {},
   "outputs": [
    {
     "data": {
      "text/plain": [
       "latitude      float64\n",
       "longitude     float64\n",
       "brightness    float64\n",
       "scan          float64\n",
       "track         float64\n",
       "acq_date       object\n",
       "acq_time        int64\n",
       "satellite      object\n",
       "instrument     object\n",
       "confidence      int64\n",
       "version        object\n",
       "bright_t31    float64\n",
       "frp           float64\n",
       "daynight       object\n",
       "dtype: object"
      ]
     },
     "execution_count": 57,
     "metadata": {},
     "output_type": "execute_result"
    }
   ],
   "source": [
    "forest.dtypes"
   ]
  },
  {
   "cell_type": "code",
   "execution_count": 58,
   "id": "4731009a",
   "metadata": {},
   "outputs": [
    {
     "name": "stdout",
     "output_type": "stream",
     "text": [
      "<class 'pandas.core.frame.DataFrame'>\n",
      "RangeIndex: 1674 entries, 0 to 1673\n",
      "Data columns (total 14 columns):\n",
      " #   Column      Non-Null Count  Dtype  \n",
      "---  ------      --------------  -----  \n",
      " 0   latitude    1674 non-null   float64\n",
      " 1   longitude   1674 non-null   float64\n",
      " 2   brightness  1674 non-null   float64\n",
      " 3   scan        1674 non-null   float64\n",
      " 4   track       1674 non-null   float64\n",
      " 5   acq_date    1674 non-null   object \n",
      " 6   acq_time    1674 non-null   int64  \n",
      " 7   satellite   1674 non-null   object \n",
      " 8   instrument  1674 non-null   object \n",
      " 9   confidence  1674 non-null   int64  \n",
      " 10  version     1674 non-null   object \n",
      " 11  bright_t31  1674 non-null   float64\n",
      " 12  frp         1674 non-null   float64\n",
      " 13  daynight    1674 non-null   object \n",
      "dtypes: float64(7), int64(2), object(5)\n",
      "memory usage: 183.2+ KB\n"
     ]
    }
   ],
   "source": [
    "forest.info()"
   ]
  },
  {
   "cell_type": "code",
   "execution_count": 59,
   "id": "aee9688f",
   "metadata": {},
   "outputs": [
    {
     "data": {
      "text/html": [
       "<div>\n",
       "<style scoped>\n",
       "    .dataframe tbody tr th:only-of-type {\n",
       "        vertical-align: middle;\n",
       "    }\n",
       "\n",
       "    .dataframe tbody tr th {\n",
       "        vertical-align: top;\n",
       "    }\n",
       "\n",
       "    .dataframe thead th {\n",
       "        text-align: right;\n",
       "    }\n",
       "</style>\n",
       "<table border=\"1\" class=\"dataframe\">\n",
       "  <thead>\n",
       "    <tr style=\"text-align: right;\">\n",
       "      <th></th>\n",
       "      <th>latitude</th>\n",
       "      <th>longitude</th>\n",
       "      <th>brightness</th>\n",
       "      <th>scan</th>\n",
       "      <th>track</th>\n",
       "      <th>acq_time</th>\n",
       "      <th>confidence</th>\n",
       "      <th>bright_t31</th>\n",
       "      <th>frp</th>\n",
       "    </tr>\n",
       "  </thead>\n",
       "  <tbody>\n",
       "    <tr>\n",
       "      <th>count</th>\n",
       "      <td>1674.000000</td>\n",
       "      <td>1674.000000</td>\n",
       "      <td>1674.000000</td>\n",
       "      <td>1674.000000</td>\n",
       "      <td>1674.000000</td>\n",
       "      <td>1674.000000</td>\n",
       "      <td>1674.000000</td>\n",
       "      <td>1674.000000</td>\n",
       "      <td>1674.000000</td>\n",
       "    </tr>\n",
       "    <tr>\n",
       "      <th>mean</th>\n",
       "      <td>43.105213</td>\n",
       "      <td>21.094351</td>\n",
       "      <td>326.180508</td>\n",
       "      <td>1.579462</td>\n",
       "      <td>1.201703</td>\n",
       "      <td>1166.387097</td>\n",
       "      <td>70.261051</td>\n",
       "      <td>303.249707</td>\n",
       "      <td>34.330030</td>\n",
       "    </tr>\n",
       "    <tr>\n",
       "      <th>std</th>\n",
       "      <td>2.700031</td>\n",
       "      <td>5.607944</td>\n",
       "      <td>15.241894</td>\n",
       "      <td>0.806218</td>\n",
       "      <td>0.242866</td>\n",
       "      <td>490.173782</td>\n",
       "      <td>19.350341</td>\n",
       "      <td>8.087580</td>\n",
       "      <td>59.999198</td>\n",
       "    </tr>\n",
       "    <tr>\n",
       "      <th>min</th>\n",
       "      <td>37.389660</td>\n",
       "      <td>9.934190</td>\n",
       "      <td>300.090000</td>\n",
       "      <td>1.000000</td>\n",
       "      <td>1.000000</td>\n",
       "      <td>9.000000</td>\n",
       "      <td>0.000000</td>\n",
       "      <td>276.280000</td>\n",
       "      <td>3.440000</td>\n",
       "    </tr>\n",
       "    <tr>\n",
       "      <th>25%</th>\n",
       "      <td>41.091797</td>\n",
       "      <td>16.186093</td>\n",
       "      <td>317.350000</td>\n",
       "      <td>1.040000</td>\n",
       "      <td>1.020000</td>\n",
       "      <td>935.000000</td>\n",
       "      <td>58.000000</td>\n",
       "      <td>297.225000</td>\n",
       "      <td>11.107500</td>\n",
       "    </tr>\n",
       "    <tr>\n",
       "      <th>50%</th>\n",
       "      <td>43.907765</td>\n",
       "      <td>21.660310</td>\n",
       "      <td>325.465000</td>\n",
       "      <td>1.230000</td>\n",
       "      <td>1.100000</td>\n",
       "      <td>1115.000000</td>\n",
       "      <td>73.000000</td>\n",
       "      <td>304.095000</td>\n",
       "      <td>18.540000</td>\n",
       "    </tr>\n",
       "    <tr>\n",
       "      <th>75%</th>\n",
       "      <td>44.859403</td>\n",
       "      <td>24.400770</td>\n",
       "      <td>333.362500</td>\n",
       "      <td>1.720000</td>\n",
       "      <td>1.300000</td>\n",
       "      <td>1210.000000</td>\n",
       "      <td>84.000000</td>\n",
       "      <td>309.107500</td>\n",
       "      <td>36.485000</td>\n",
       "    </tr>\n",
       "    <tr>\n",
       "      <th>max</th>\n",
       "      <td>48.802190</td>\n",
       "      <td>33.056700</td>\n",
       "      <td>431.760000</td>\n",
       "      <td>4.610000</td>\n",
       "      <td>2.000000</td>\n",
       "      <td>2356.000000</td>\n",
       "      <td>100.000000</td>\n",
       "      <td>321.120000</td>\n",
       "      <td>1598.070000</td>\n",
       "    </tr>\n",
       "  </tbody>\n",
       "</table>\n",
       "</div>"
      ],
      "text/plain": [
       "          latitude    longitude   brightness         scan        track  \\\n",
       "count  1674.000000  1674.000000  1674.000000  1674.000000  1674.000000   \n",
       "mean     43.105213    21.094351   326.180508     1.579462     1.201703   \n",
       "std       2.700031     5.607944    15.241894     0.806218     0.242866   \n",
       "min      37.389660     9.934190   300.090000     1.000000     1.000000   \n",
       "25%      41.091797    16.186093   317.350000     1.040000     1.020000   \n",
       "50%      43.907765    21.660310   325.465000     1.230000     1.100000   \n",
       "75%      44.859403    24.400770   333.362500     1.720000     1.300000   \n",
       "max      48.802190    33.056700   431.760000     4.610000     2.000000   \n",
       "\n",
       "          acq_time   confidence   bright_t31          frp  \n",
       "count  1674.000000  1674.000000  1674.000000  1674.000000  \n",
       "mean   1166.387097    70.261051   303.249707    34.330030  \n",
       "std     490.173782    19.350341     8.087580    59.999198  \n",
       "min       9.000000     0.000000   276.280000     3.440000  \n",
       "25%     935.000000    58.000000   297.225000    11.107500  \n",
       "50%    1115.000000    73.000000   304.095000    18.540000  \n",
       "75%    1210.000000    84.000000   309.107500    36.485000  \n",
       "max    2356.000000   100.000000   321.120000  1598.070000  "
      ]
     },
     "execution_count": 59,
     "metadata": {},
     "output_type": "execute_result"
    }
   ],
   "source": [
    "forest.describe()"
   ]
  },
  {
   "cell_type": "code",
   "execution_count": 60,
   "id": "369b7b5a",
   "metadata": {},
   "outputs": [
    {
     "data": {
      "text/html": [
       "<div>\n",
       "<style scoped>\n",
       "    .dataframe tbody tr th:only-of-type {\n",
       "        vertical-align: middle;\n",
       "    }\n",
       "\n",
       "    .dataframe tbody tr th {\n",
       "        vertical-align: top;\n",
       "    }\n",
       "\n",
       "    .dataframe thead th {\n",
       "        text-align: right;\n",
       "    }\n",
       "</style>\n",
       "<table border=\"1\" class=\"dataframe\">\n",
       "  <thead>\n",
       "    <tr style=\"text-align: right;\">\n",
       "      <th></th>\n",
       "      <th>latitude</th>\n",
       "      <th>longitude</th>\n",
       "      <th>brightness</th>\n",
       "      <th>scan</th>\n",
       "      <th>track</th>\n",
       "      <th>acq_date</th>\n",
       "      <th>acq_time</th>\n",
       "      <th>satellite</th>\n",
       "      <th>instrument</th>\n",
       "      <th>confidence</th>\n",
       "      <th>version</th>\n",
       "      <th>bright_t31</th>\n",
       "      <th>frp</th>\n",
       "      <th>daynight</th>\n",
       "    </tr>\n",
       "  </thead>\n",
       "  <tbody>\n",
       "    <tr>\n",
       "      <th>0</th>\n",
       "      <td>44.276</td>\n",
       "      <td>23.107</td>\n",
       "      <td>302.7</td>\n",
       "      <td>2.1</td>\n",
       "      <td>1.4</td>\n",
       "      <td>2021-07-21</td>\n",
       "      <td>105</td>\n",
       "      <td>Aqua</td>\n",
       "      <td>MODIS</td>\n",
       "      <td>51</td>\n",
       "      <td>6.1NRT</td>\n",
       "      <td>289.0</td>\n",
       "      <td>17.8</td>\n",
       "      <td>N</td>\n",
       "    </tr>\n",
       "    <tr>\n",
       "      <th>1</th>\n",
       "      <td>44.373</td>\n",
       "      <td>22.968</td>\n",
       "      <td>340.5</td>\n",
       "      <td>2.1</td>\n",
       "      <td>1.4</td>\n",
       "      <td>2021-07-21</td>\n",
       "      <td>850</td>\n",
       "      <td>Terra</td>\n",
       "      <td>MODIS</td>\n",
       "      <td>91</td>\n",
       "      <td>6.1NRT</td>\n",
       "      <td>299.1</td>\n",
       "      <td>112.9</td>\n",
       "      <td>D</td>\n",
       "    </tr>\n",
       "    <tr>\n",
       "      <th>2</th>\n",
       "      <td>44.371</td>\n",
       "      <td>22.995</td>\n",
       "      <td>342.5</td>\n",
       "      <td>2.1</td>\n",
       "      <td>1.4</td>\n",
       "      <td>2021-07-21</td>\n",
       "      <td>850</td>\n",
       "      <td>Terra</td>\n",
       "      <td>MODIS</td>\n",
       "      <td>92</td>\n",
       "      <td>6.1NRT</td>\n",
       "      <td>299.3</td>\n",
       "      <td>120.8</td>\n",
       "      <td>D</td>\n",
       "    </tr>\n",
       "    <tr>\n",
       "      <th>3</th>\n",
       "      <td>44.360</td>\n",
       "      <td>22.966</td>\n",
       "      <td>316.2</td>\n",
       "      <td>2.1</td>\n",
       "      <td>1.4</td>\n",
       "      <td>2021-07-21</td>\n",
       "      <td>850</td>\n",
       "      <td>Terra</td>\n",
       "      <td>MODIS</td>\n",
       "      <td>29</td>\n",
       "      <td>6.1NRT</td>\n",
       "      <td>299.4</td>\n",
       "      <td>20.6</td>\n",
       "      <td>D</td>\n",
       "    </tr>\n",
       "    <tr>\n",
       "      <th>4</th>\n",
       "      <td>44.370</td>\n",
       "      <td>23.001</td>\n",
       "      <td>335.9</td>\n",
       "      <td>2.1</td>\n",
       "      <td>1.4</td>\n",
       "      <td>2021-07-21</td>\n",
       "      <td>850</td>\n",
       "      <td>Terra</td>\n",
       "      <td>MODIS</td>\n",
       "      <td>88</td>\n",
       "      <td>6.1NRT</td>\n",
       "      <td>297.9</td>\n",
       "      <td>90.1</td>\n",
       "      <td>D</td>\n",
       "    </tr>\n",
       "  </tbody>\n",
       "</table>\n",
       "</div>"
      ],
      "text/plain": [
       "   latitude  longitude  brightness  scan  track    acq_date  acq_time  \\\n",
       "0    44.276     23.107       302.7   2.1    1.4  2021-07-21       105   \n",
       "1    44.373     22.968       340.5   2.1    1.4  2021-07-21       850   \n",
       "2    44.371     22.995       342.5   2.1    1.4  2021-07-21       850   \n",
       "3    44.360     22.966       316.2   2.1    1.4  2021-07-21       850   \n",
       "4    44.370     23.001       335.9   2.1    1.4  2021-07-21       850   \n",
       "\n",
       "  satellite instrument  confidence version  bright_t31    frp daynight  \n",
       "0      Aqua      MODIS          51  6.1NRT       289.0   17.8        N  \n",
       "1     Terra      MODIS          91  6.1NRT       299.1  112.9        D  \n",
       "2     Terra      MODIS          92  6.1NRT       299.3  120.8        D  \n",
       "3     Terra      MODIS          29  6.1NRT       299.4   20.6        D  \n",
       "4     Terra      MODIS          88  6.1NRT       297.9   90.1        D  "
      ]
     },
     "execution_count": 60,
     "metadata": {},
     "output_type": "execute_result"
    }
   ],
   "source": [
    "forest.head()"
   ]
  },
  {
   "cell_type": "code",
   "execution_count": 61,
   "id": "6a8430c8",
   "metadata": {},
   "outputs": [
    {
     "data": {
      "text/plain": [
       "latitude      0\n",
       "longitude     0\n",
       "brightness    0\n",
       "scan          0\n",
       "track         0\n",
       "acq_date      0\n",
       "acq_time      0\n",
       "satellite     0\n",
       "instrument    0\n",
       "confidence    0\n",
       "version       0\n",
       "bright_t31    0\n",
       "frp           0\n",
       "daynight      0\n",
       "dtype: int64"
      ]
     },
     "execution_count": 61,
     "metadata": {},
     "output_type": "execute_result"
    }
   ],
   "source": [
    "forest.isnull().sum()"
   ]
  },
  {
   "cell_type": "code",
   "execution_count": 62,
   "id": "1b4ea8df",
   "metadata": {},
   "outputs": [
    {
     "name": "stderr",
     "output_type": "stream",
     "text": [
      "C:\\Users\\DELL\\AppData\\Local\\Temp\\ipykernel_12032\\2987088346.py:2: FutureWarning: The default value of numeric_only in DataFrame.corr is deprecated. In a future version, it will default to False. Select only valid columns or specify the value of numeric_only to silence this warning.\n",
      "  sns.heatmap(forest.corr(),annot=True,cmap='viridis',linewidths=.5)\n"
     ]
    },
    {
     "data": {
      "text/plain": [
       "<Axes: >"
      ]
     },
     "execution_count": 62,
     "metadata": {},
     "output_type": "execute_result"
    },
    {
     "data": {
      "image/png": "[encoded data removed]",
      "text/plain": [
       "<Figure size 1000x1000 with 2 Axes>"
      ]
     },
     "metadata": {},
     "output_type": "display_data"
    }
   ],
   "source": [
    "plt.figure(figsize=(10, 10))\n",
    "sns.heatmap(forest.corr(),annot=True,cmap='viridis',linewidths=.5)"
   ]
  },
  {
   "cell_type": "code",
   "execution_count": 63,
   "id": "348b4db5",
   "metadata": {},
   "outputs": [],
   "source": [
    "# Data cleaning\n",
    "forest = forest.drop(['track'], axis = 1)\n",
    "# Here we are dropping the track column\n",
    "\n",
    "#Note: By the way from the dataset we are not finding if the forest fire happens or not, \n",
    "#we are trying to find the confidence of the forest fire happening.\n",
    "#They may seem to be the same thing but there is a very small difference between them, try to find that 🙂"
   ]
  },
  {
   "cell_type": "code",
   "execution_count": 64,
   "id": "f225fc96",
   "metadata": {},
   "outputs": [
    {
     "name": "stdout",
     "output_type": "stream",
     "text": [
      "The scan column\n",
      "1.00    125\n",
      "1.02     98\n",
      "1.01     94\n",
      "1.04     69\n",
      "1.10     68\n",
      "       ... \n",
      "1.52      1\n",
      "1.94      1\n",
      "2.17      1\n",
      "2.52      1\n",
      "2.40      1\n",
      "Name: scan, Length: 209, dtype: int64\n",
      "\n",
      "The aqc_time column\n",
      "1157    105\n",
      "1128     62\n",
      "1208     62\n",
      "1115     58\n",
      "941      55\n",
      "       ... \n",
      "126       1\n",
      "1253      1\n",
      "1036      1\n",
      "102       1\n",
      "1843      1\n",
      "Name: acq_time, Length: 116, dtype: int64\n",
      "\n",
      "The satellite column\n",
      "Terra    883\n",
      "Aqua     791\n",
      "Name: satellite, dtype: int64\n",
      "\n",
      "The instrument column\n",
      "MODIS    1674\n",
      "Name: instrument, dtype: int64\n",
      "\n",
      "The version column\n",
      "6.1NRT    1674\n",
      "Name: version, dtype: int64\n",
      "\n",
      "The daynight column\n",
      "D    1259\n",
      "N     415\n",
      "Name: daynight, dtype: int64\n",
      "\n"
     ]
    }
   ],
   "source": [
    "# Finding categorical data\n",
    "print(\"The scan column\")\n",
    "print(forest['scan'].value_counts())\n",
    "print()\n",
    "print(\"The aqc_time column\")\n",
    "print(forest['acq_time'].value_counts())\n",
    "print()\n",
    "print(\"The satellite column\")\n",
    "print(forest['satellite'].value_counts())\n",
    "print()\n",
    "print(\"The instrument column\")\n",
    "print(forest['instrument'].value_counts())\n",
    "print()\n",
    "print(\"The version column\")\n",
    "print(forest['version'].value_counts())\n",
    "print()\n",
    "print(\"The daynight column\")\n",
    "print(forest['daynight'].value_counts())\n",
    "print()"
   ]
  },
  {
   "cell_type": "code",
   "execution_count": 65,
   "id": "77aabeeb",
   "metadata": {},
   "outputs": [],
   "source": [
    "# From the above data, we can see that some columns have just one value recurring in them,\n",
    "# meaning they are not valuable to us\n",
    "# So we will drop them altogether.\n",
    "# Thus only satellite and day-night columns are the only categorical type.\n",
    "\n",
    "# Having said that, we can even use the scan column to restructure it into a categorical data type column. \n",
    "# Which we will be doing in just a while."
   ]
  },
  {
   "cell_type": "code",
   "execution_count": 66,
   "id": "4694d5f3",
   "metadata": {},
   "outputs": [
    {
     "data": {
      "text/html": [
       "<div>\n",
       "<style scoped>\n",
       "    .dataframe tbody tr th:only-of-type {\n",
       "        vertical-align: middle;\n",
       "    }\n",
       "\n",
       "    .dataframe tbody tr th {\n",
       "        vertical-align: top;\n",
       "    }\n",
       "\n",
       "    .dataframe thead th {\n",
       "        text-align: right;\n",
       "    }\n",
       "</style>\n",
       "<table border=\"1\" class=\"dataframe\">\n",
       "  <thead>\n",
       "    <tr style=\"text-align: right;\">\n",
       "      <th></th>\n",
       "      <th>latitude</th>\n",
       "      <th>longitude</th>\n",
       "      <th>brightness</th>\n",
       "      <th>scan</th>\n",
       "      <th>acq_date</th>\n",
       "      <th>acq_time</th>\n",
       "      <th>satellite</th>\n",
       "      <th>confidence</th>\n",
       "      <th>bright_t31</th>\n",
       "      <th>frp</th>\n",
       "      <th>daynight</th>\n",
       "    </tr>\n",
       "  </thead>\n",
       "  <tbody>\n",
       "    <tr>\n",
       "      <th>0</th>\n",
       "      <td>44.276</td>\n",
       "      <td>23.107</td>\n",
       "      <td>302.7</td>\n",
       "      <td>2.1</td>\n",
       "      <td>2021-07-21</td>\n",
       "      <td>105</td>\n",
       "      <td>Aqua</td>\n",
       "      <td>51</td>\n",
       "      <td>289.0</td>\n",
       "      <td>17.8</td>\n",
       "      <td>N</td>\n",
       "    </tr>\n",
       "    <tr>\n",
       "      <th>1</th>\n",
       "      <td>44.373</td>\n",
       "      <td>22.968</td>\n",
       "      <td>340.5</td>\n",
       "      <td>2.1</td>\n",
       "      <td>2021-07-21</td>\n",
       "      <td>850</td>\n",
       "      <td>Terra</td>\n",
       "      <td>91</td>\n",
       "      <td>299.1</td>\n",
       "      <td>112.9</td>\n",
       "      <td>D</td>\n",
       "    </tr>\n",
       "    <tr>\n",
       "      <th>2</th>\n",
       "      <td>44.371</td>\n",
       "      <td>22.995</td>\n",
       "      <td>342.5</td>\n",
       "      <td>2.1</td>\n",
       "      <td>2021-07-21</td>\n",
       "      <td>850</td>\n",
       "      <td>Terra</td>\n",
       "      <td>92</td>\n",
       "      <td>299.3</td>\n",
       "      <td>120.8</td>\n",
       "      <td>D</td>\n",
       "    </tr>\n",
       "    <tr>\n",
       "      <th>3</th>\n",
       "      <td>44.360</td>\n",
       "      <td>22.966</td>\n",
       "      <td>316.2</td>\n",
       "      <td>2.1</td>\n",
       "      <td>2021-07-21</td>\n",
       "      <td>850</td>\n",
       "      <td>Terra</td>\n",
       "      <td>29</td>\n",
       "      <td>299.4</td>\n",
       "      <td>20.6</td>\n",
       "      <td>D</td>\n",
       "    </tr>\n",
       "    <tr>\n",
       "      <th>4</th>\n",
       "      <td>44.370</td>\n",
       "      <td>23.001</td>\n",
       "      <td>335.9</td>\n",
       "      <td>2.1</td>\n",
       "      <td>2021-07-21</td>\n",
       "      <td>850</td>\n",
       "      <td>Terra</td>\n",
       "      <td>88</td>\n",
       "      <td>297.9</td>\n",
       "      <td>90.1</td>\n",
       "      <td>D</td>\n",
       "    </tr>\n",
       "  </tbody>\n",
       "</table>\n",
       "</div>"
      ],
      "text/plain": [
       "   latitude  longitude  brightness  scan    acq_date  acq_time satellite  \\\n",
       "0    44.276     23.107       302.7   2.1  2021-07-21       105      Aqua   \n",
       "1    44.373     22.968       340.5   2.1  2021-07-21       850     Terra   \n",
       "2    44.371     22.995       342.5   2.1  2021-07-21       850     Terra   \n",
       "3    44.360     22.966       316.2   2.1  2021-07-21       850     Terra   \n",
       "4    44.370     23.001       335.9   2.1  2021-07-21       850     Terra   \n",
       "\n",
       "   confidence  bright_t31    frp daynight  \n",
       "0          51       289.0   17.8        N  \n",
       "1          91       299.1  112.9        D  \n",
       "2          92       299.3  120.8        D  \n",
       "3          29       299.4   20.6        D  \n",
       "4          88       297.9   90.1        D  "
      ]
     },
     "execution_count": 66,
     "metadata": {},
     "output_type": "execute_result"
    }
   ],
   "source": [
    "forest = forest.drop(['instrument', 'version'], axis = 1)\n",
    "forest.head()"
   ]
  },
  {
   "cell_type": "code",
   "execution_count": 67,
   "id": "88bd83bb",
   "metadata": {},
   "outputs": [
    {
     "data": {
      "text/html": [
       "<div>\n",
       "<style scoped>\n",
       "    .dataframe tbody tr th:only-of-type {\n",
       "        vertical-align: middle;\n",
       "    }\n",
       "\n",
       "    .dataframe tbody tr th {\n",
       "        vertical-align: top;\n",
       "    }\n",
       "\n",
       "    .dataframe thead th {\n",
       "        text-align: right;\n",
       "    }\n",
       "</style>\n",
       "<table border=\"1\" class=\"dataframe\">\n",
       "  <thead>\n",
       "    <tr style=\"text-align: right;\">\n",
       "      <th></th>\n",
       "      <th>latitude</th>\n",
       "      <th>longitude</th>\n",
       "      <th>brightness</th>\n",
       "      <th>scan</th>\n",
       "      <th>acq_date</th>\n",
       "      <th>acq_time</th>\n",
       "      <th>satellite</th>\n",
       "      <th>confidence</th>\n",
       "      <th>bright_t31</th>\n",
       "      <th>frp</th>\n",
       "      <th>daynight</th>\n",
       "    </tr>\n",
       "  </thead>\n",
       "  <tbody>\n",
       "    <tr>\n",
       "      <th>0</th>\n",
       "      <td>44.276</td>\n",
       "      <td>23.107</td>\n",
       "      <td>302.7</td>\n",
       "      <td>2.1</td>\n",
       "      <td>2021-07-21</td>\n",
       "      <td>105</td>\n",
       "      <td>0</td>\n",
       "      <td>51</td>\n",
       "      <td>289.0</td>\n",
       "      <td>17.8</td>\n",
       "      <td>0</td>\n",
       "    </tr>\n",
       "    <tr>\n",
       "      <th>1</th>\n",
       "      <td>44.373</td>\n",
       "      <td>22.968</td>\n",
       "      <td>340.5</td>\n",
       "      <td>2.1</td>\n",
       "      <td>2021-07-21</td>\n",
       "      <td>850</td>\n",
       "      <td>1</td>\n",
       "      <td>91</td>\n",
       "      <td>299.1</td>\n",
       "      <td>112.9</td>\n",
       "      <td>1</td>\n",
       "    </tr>\n",
       "    <tr>\n",
       "      <th>2</th>\n",
       "      <td>44.371</td>\n",
       "      <td>22.995</td>\n",
       "      <td>342.5</td>\n",
       "      <td>2.1</td>\n",
       "      <td>2021-07-21</td>\n",
       "      <td>850</td>\n",
       "      <td>1</td>\n",
       "      <td>92</td>\n",
       "      <td>299.3</td>\n",
       "      <td>120.8</td>\n",
       "      <td>1</td>\n",
       "    </tr>\n",
       "    <tr>\n",
       "      <th>3</th>\n",
       "      <td>44.360</td>\n",
       "      <td>22.966</td>\n",
       "      <td>316.2</td>\n",
       "      <td>2.1</td>\n",
       "      <td>2021-07-21</td>\n",
       "      <td>850</td>\n",
       "      <td>1</td>\n",
       "      <td>29</td>\n",
       "      <td>299.4</td>\n",
       "      <td>20.6</td>\n",
       "      <td>1</td>\n",
       "    </tr>\n",
       "    <tr>\n",
       "      <th>4</th>\n",
       "      <td>44.370</td>\n",
       "      <td>23.001</td>\n",
       "      <td>335.9</td>\n",
       "      <td>2.1</td>\n",
       "      <td>2021-07-21</td>\n",
       "      <td>850</td>\n",
       "      <td>1</td>\n",
       "      <td>88</td>\n",
       "      <td>297.9</td>\n",
       "      <td>90.1</td>\n",
       "      <td>1</td>\n",
       "    </tr>\n",
       "  </tbody>\n",
       "</table>\n",
       "</div>"
      ],
      "text/plain": [
       "   latitude  longitude  brightness  scan    acq_date  acq_time  satellite  \\\n",
       "0    44.276     23.107       302.7   2.1  2021-07-21       105          0   \n",
       "1    44.373     22.968       340.5   2.1  2021-07-21       850          1   \n",
       "2    44.371     22.995       342.5   2.1  2021-07-21       850          1   \n",
       "3    44.360     22.966       316.2   2.1  2021-07-21       850          1   \n",
       "4    44.370     23.001       335.9   2.1  2021-07-21       850          1   \n",
       "\n",
       "   confidence  bright_t31    frp  daynight  \n",
       "0          51       289.0   17.8         0  \n",
       "1          91       299.1  112.9         1  \n",
       "2          92       299.3  120.8         1  \n",
       "3          29       299.4   20.6         1  \n",
       "4          88       297.9   90.1         1  "
      ]
     },
     "execution_count": 67,
     "metadata": {},
     "output_type": "execute_result"
    }
   ],
   "source": [
    "daynight_map = {\"D\": 1, \"N\": 0}\n",
    "satellite_map = {\"Terra\": 1, \"Aqua\": 0}\n",
    "\n",
    "forest['daynight'] = forest['daynight'].map(daynight_map)\n",
    "forest['satellite'] = forest['satellite'].map(satellite_map)\n",
    "forest.head()"
   ]
  },
  {
   "cell_type": "code",
   "execution_count": 68,
   "id": "0834448f",
   "metadata": {},
   "outputs": [
    {
     "data": {
      "text/html": [
       "<div>\n",
       "<style scoped>\n",
       "    .dataframe tbody tr th:only-of-type {\n",
       "        vertical-align: middle;\n",
       "    }\n",
       "\n",
       "    .dataframe tbody tr th {\n",
       "        vertical-align: top;\n",
       "    }\n",
       "\n",
       "    .dataframe thead th {\n",
       "        text-align: right;\n",
       "    }\n",
       "</style>\n",
       "<table border=\"1\" class=\"dataframe\">\n",
       "  <thead>\n",
       "    <tr style=\"text-align: right;\">\n",
       "      <th></th>\n",
       "      <th>latitude</th>\n",
       "      <th>longitude</th>\n",
       "      <th>brightness</th>\n",
       "      <th>scan</th>\n",
       "      <th>acq_date</th>\n",
       "      <th>acq_time</th>\n",
       "      <th>satellite</th>\n",
       "      <th>confidence</th>\n",
       "      <th>bright_t31</th>\n",
       "      <th>frp</th>\n",
       "      <th>daynight</th>\n",
       "      <th>scan_binned</th>\n",
       "    </tr>\n",
       "  </thead>\n",
       "  <tbody>\n",
       "    <tr>\n",
       "      <th>0</th>\n",
       "      <td>44.276</td>\n",
       "      <td>23.107</td>\n",
       "      <td>302.7</td>\n",
       "      <td>2.1</td>\n",
       "      <td>2021-07-21</td>\n",
       "      <td>105</td>\n",
       "      <td>0</td>\n",
       "      <td>51</td>\n",
       "      <td>289.0</td>\n",
       "      <td>17.8</td>\n",
       "      <td>0</td>\n",
       "      <td>3</td>\n",
       "    </tr>\n",
       "    <tr>\n",
       "      <th>1</th>\n",
       "      <td>44.373</td>\n",
       "      <td>22.968</td>\n",
       "      <td>340.5</td>\n",
       "      <td>2.1</td>\n",
       "      <td>2021-07-21</td>\n",
       "      <td>850</td>\n",
       "      <td>1</td>\n",
       "      <td>91</td>\n",
       "      <td>299.1</td>\n",
       "      <td>112.9</td>\n",
       "      <td>1</td>\n",
       "      <td>3</td>\n",
       "    </tr>\n",
       "    <tr>\n",
       "      <th>2</th>\n",
       "      <td>44.371</td>\n",
       "      <td>22.995</td>\n",
       "      <td>342.5</td>\n",
       "      <td>2.1</td>\n",
       "      <td>2021-07-21</td>\n",
       "      <td>850</td>\n",
       "      <td>1</td>\n",
       "      <td>92</td>\n",
       "      <td>299.3</td>\n",
       "      <td>120.8</td>\n",
       "      <td>1</td>\n",
       "      <td>3</td>\n",
       "    </tr>\n",
       "    <tr>\n",
       "      <th>3</th>\n",
       "      <td>44.360</td>\n",
       "      <td>22.966</td>\n",
       "      <td>316.2</td>\n",
       "      <td>2.1</td>\n",
       "      <td>2021-07-21</td>\n",
       "      <td>850</td>\n",
       "      <td>1</td>\n",
       "      <td>29</td>\n",
       "      <td>299.4</td>\n",
       "      <td>20.6</td>\n",
       "      <td>1</td>\n",
       "      <td>3</td>\n",
       "    </tr>\n",
       "    <tr>\n",
       "      <th>4</th>\n",
       "      <td>44.370</td>\n",
       "      <td>23.001</td>\n",
       "      <td>335.9</td>\n",
       "      <td>2.1</td>\n",
       "      <td>2021-07-21</td>\n",
       "      <td>850</td>\n",
       "      <td>1</td>\n",
       "      <td>88</td>\n",
       "      <td>297.9</td>\n",
       "      <td>90.1</td>\n",
       "      <td>1</td>\n",
       "      <td>3</td>\n",
       "    </tr>\n",
       "  </tbody>\n",
       "</table>\n",
       "</div>"
      ],
      "text/plain": [
       "   latitude  longitude  brightness  scan    acq_date  acq_time  satellite  \\\n",
       "0    44.276     23.107       302.7   2.1  2021-07-21       105          0   \n",
       "1    44.373     22.968       340.5   2.1  2021-07-21       850          1   \n",
       "2    44.371     22.995       342.5   2.1  2021-07-21       850          1   \n",
       "3    44.360     22.966       316.2   2.1  2021-07-21       850          1   \n",
       "4    44.370     23.001       335.9   2.1  2021-07-21       850          1   \n",
       "\n",
       "   confidence  bright_t31    frp  daynight scan_binned  \n",
       "0          51       289.0   17.8         0           3  \n",
       "1          91       299.1  112.9         1           3  \n",
       "2          92       299.3  120.8         1           3  \n",
       "3          29       299.4   20.6         1           3  \n",
       "4          88       297.9   90.1         1           3  "
      ]
     },
     "execution_count": 68,
     "metadata": {},
     "output_type": "execute_result"
    }
   ],
   "source": [
    "#Binning Method\n",
    "#Now I mentioned we will be converting scan column to categorical type, we will be doing this using the binning method.\n",
    "#The range for these columns was 1 to 4.8\n",
    "bins = [0, 1, 2, 3, 4, 5]\n",
    "labels = [1,2,3,4,5]\n",
    "forest['scan_binned'] = pd.cut(forest['scan'], bins=bins, labels=labels)\n",
    "forest.head()"
   ]
  },
  {
   "cell_type": "code",
   "execution_count": 69,
   "id": "dda0c95e",
   "metadata": {},
   "outputs": [],
   "source": [
    "# Converting the datatype to datetype from string or NumPy."
   ]
  },
  {
   "cell_type": "code",
   "execution_count": 70,
   "id": "86029058",
   "metadata": {},
   "outputs": [],
   "source": [
    "# Order_Details['Time'] = pd.to_datetime(Order_Details['Transaction Date'])"
   ]
  },
  {
   "cell_type": "code",
   "execution_count": 71,
   "id": "30ea53a3",
   "metadata": {},
   "outputs": [],
   "source": [
    "forest['acq_date']=pd.to_datetime(forest['acq_date'])"
   ]
  },
  {
   "cell_type": "code",
   "execution_count": 72,
   "id": "549222c6",
   "metadata": {},
   "outputs": [
    {
     "name": "stdout",
     "output_type": "stream",
     "text": [
      "<class 'pandas.core.frame.DataFrame'>\n",
      "RangeIndex: 1674 entries, 0 to 1673\n",
      "Data columns (total 12 columns):\n",
      " #   Column       Non-Null Count  Dtype         \n",
      "---  ------       --------------  -----         \n",
      " 0   latitude     1674 non-null   float64       \n",
      " 1   longitude    1674 non-null   float64       \n",
      " 2   brightness   1674 non-null   float64       \n",
      " 3   scan         1674 non-null   float64       \n",
      " 4   acq_date     1674 non-null   datetime64[ns]\n",
      " 5   acq_time     1674 non-null   int64         \n",
      " 6   satellite    1674 non-null   int64         \n",
      " 7   confidence   1674 non-null   int64         \n",
      " 8   bright_t31   1674 non-null   float64       \n",
      " 9   frp          1674 non-null   float64       \n",
      " 10  daynight     1674 non-null   int64         \n",
      " 11  scan_binned  1674 non-null   category      \n",
      "dtypes: category(1), datetime64[ns](1), float64(6), int64(4)\n",
      "memory usage: 145.8 KB\n"
     ]
    }
   ],
   "source": [
    "forest.info()"
   ]
  },
  {
   "cell_type": "code",
   "execution_count": 73,
   "id": "03a45891",
   "metadata": {},
   "outputs": [],
   "source": [
    "# Order_Details['Hour'] = (Order_Details['Time']).dt.hour"
   ]
  },
  {
   "cell_type": "code",
   "execution_count": 74,
   "id": "2fec3059",
   "metadata": {},
   "outputs": [
    {
     "data": {
      "text/html": [
       "<div>\n",
       "<style scoped>\n",
       "    .dataframe tbody tr th:only-of-type {\n",
       "        vertical-align: middle;\n",
       "    }\n",
       "\n",
       "    .dataframe tbody tr th {\n",
       "        vertical-align: top;\n",
       "    }\n",
       "\n",
       "    .dataframe thead th {\n",
       "        text-align: right;\n",
       "    }\n",
       "</style>\n",
       "<table border=\"1\" class=\"dataframe\">\n",
       "  <thead>\n",
       "    <tr style=\"text-align: right;\">\n",
       "      <th></th>\n",
       "      <th>latitude</th>\n",
       "      <th>longitude</th>\n",
       "      <th>brightness</th>\n",
       "      <th>acq_date</th>\n",
       "      <th>acq_time</th>\n",
       "      <th>satellite</th>\n",
       "      <th>confidence</th>\n",
       "      <th>bright_t31</th>\n",
       "      <th>frp</th>\n",
       "      <th>daynight</th>\n",
       "      <th>scan_binned</th>\n",
       "      <th>year</th>\n",
       "    </tr>\n",
       "  </thead>\n",
       "  <tbody>\n",
       "    <tr>\n",
       "      <th>0</th>\n",
       "      <td>44.276</td>\n",
       "      <td>23.107</td>\n",
       "      <td>302.7</td>\n",
       "      <td>2021-07-21</td>\n",
       "      <td>105</td>\n",
       "      <td>0</td>\n",
       "      <td>51</td>\n",
       "      <td>289.0</td>\n",
       "      <td>17.8</td>\n",
       "      <td>0</td>\n",
       "      <td>3</td>\n",
       "      <td>2021</td>\n",
       "    </tr>\n",
       "    <tr>\n",
       "      <th>1</th>\n",
       "      <td>44.373</td>\n",
       "      <td>22.968</td>\n",
       "      <td>340.5</td>\n",
       "      <td>2021-07-21</td>\n",
       "      <td>850</td>\n",
       "      <td>1</td>\n",
       "      <td>91</td>\n",
       "      <td>299.1</td>\n",
       "      <td>112.9</td>\n",
       "      <td>1</td>\n",
       "      <td>3</td>\n",
       "      <td>2021</td>\n",
       "    </tr>\n",
       "    <tr>\n",
       "      <th>2</th>\n",
       "      <td>44.371</td>\n",
       "      <td>22.995</td>\n",
       "      <td>342.5</td>\n",
       "      <td>2021-07-21</td>\n",
       "      <td>850</td>\n",
       "      <td>1</td>\n",
       "      <td>92</td>\n",
       "      <td>299.3</td>\n",
       "      <td>120.8</td>\n",
       "      <td>1</td>\n",
       "      <td>3</td>\n",
       "      <td>2021</td>\n",
       "    </tr>\n",
       "    <tr>\n",
       "      <th>3</th>\n",
       "      <td>44.360</td>\n",
       "      <td>22.966</td>\n",
       "      <td>316.2</td>\n",
       "      <td>2021-07-21</td>\n",
       "      <td>850</td>\n",
       "      <td>1</td>\n",
       "      <td>29</td>\n",
       "      <td>299.4</td>\n",
       "      <td>20.6</td>\n",
       "      <td>1</td>\n",
       "      <td>3</td>\n",
       "      <td>2021</td>\n",
       "    </tr>\n",
       "    <tr>\n",
       "      <th>4</th>\n",
       "      <td>44.370</td>\n",
       "      <td>23.001</td>\n",
       "      <td>335.9</td>\n",
       "      <td>2021-07-21</td>\n",
       "      <td>850</td>\n",
       "      <td>1</td>\n",
       "      <td>88</td>\n",
       "      <td>297.9</td>\n",
       "      <td>90.1</td>\n",
       "      <td>1</td>\n",
       "      <td>3</td>\n",
       "      <td>2021</td>\n",
       "    </tr>\n",
       "  </tbody>\n",
       "</table>\n",
       "</div>"
      ],
      "text/plain": [
       "   latitude  longitude  brightness   acq_date  acq_time  satellite  \\\n",
       "0    44.276     23.107       302.7 2021-07-21       105          0   \n",
       "1    44.373     22.968       340.5 2021-07-21       850          1   \n",
       "2    44.371     22.995       342.5 2021-07-21       850          1   \n",
       "3    44.360     22.966       316.2 2021-07-21       850          1   \n",
       "4    44.370     23.001       335.9 2021-07-21       850          1   \n",
       "\n",
       "   confidence  bright_t31    frp  daynight scan_binned  year  \n",
       "0          51       289.0   17.8         0           3  2021  \n",
       "1          91       299.1  112.9         1           3  2021  \n",
       "2          92       299.3  120.8         1           3  2021  \n",
       "3          29       299.4   20.6         1           3  2021  \n",
       "4          88       297.9   90.1         1           3  2021  "
      ]
     },
     "execution_count": 74,
     "metadata": {},
     "output_type": "execute_result"
    }
   ],
   "source": [
    "# Now we will be dropping the scan column and handle datetype data – we can extract useful information from these\n",
    "# datatypes just like we do with categorical data.\n",
    "\n",
    "forest = forest.drop(['scan'], axis = 1)\n",
    "# Creating a new column year with the help of acq_date column\n",
    "forest['year'] = forest['acq_date'].dt.year\n",
    "forest.head()"
   ]
  },
  {
   "cell_type": "code",
   "execution_count": 75,
   "id": "af29629a",
   "metadata": {},
   "outputs": [],
   "source": [
    "forest['month'] = forest['acq_date'].dt.month\n",
    "forest['day'] = forest['acq_date'].dt.day"
   ]
  },
  {
   "cell_type": "code",
   "execution_count": 76,
   "id": "230bd1de",
   "metadata": {},
   "outputs": [
    {
     "data": {
      "text/html": [
       "<div>\n",
       "<style scoped>\n",
       "    .dataframe tbody tr th:only-of-type {\n",
       "        vertical-align: middle;\n",
       "    }\n",
       "\n",
       "    .dataframe tbody tr th {\n",
       "        vertical-align: top;\n",
       "    }\n",
       "\n",
       "    .dataframe thead th {\n",
       "        text-align: right;\n",
       "    }\n",
       "</style>\n",
       "<table border=\"1\" class=\"dataframe\">\n",
       "  <thead>\n",
       "    <tr style=\"text-align: right;\">\n",
       "      <th></th>\n",
       "      <th>latitude</th>\n",
       "      <th>longitude</th>\n",
       "      <th>brightness</th>\n",
       "      <th>acq_date</th>\n",
       "      <th>acq_time</th>\n",
       "      <th>satellite</th>\n",
       "      <th>confidence</th>\n",
       "      <th>bright_t31</th>\n",
       "      <th>frp</th>\n",
       "      <th>daynight</th>\n",
       "      <th>scan_binned</th>\n",
       "      <th>year</th>\n",
       "      <th>month</th>\n",
       "      <th>day</th>\n",
       "    </tr>\n",
       "  </thead>\n",
       "  <tbody>\n",
       "    <tr>\n",
       "      <th>0</th>\n",
       "      <td>44.276</td>\n",
       "      <td>23.107</td>\n",
       "      <td>302.7</td>\n",
       "      <td>2021-07-21</td>\n",
       "      <td>105</td>\n",
       "      <td>0</td>\n",
       "      <td>51</td>\n",
       "      <td>289.0</td>\n",
       "      <td>17.8</td>\n",
       "      <td>0</td>\n",
       "      <td>3</td>\n",
       "      <td>2021</td>\n",
       "      <td>7</td>\n",
       "      <td>21</td>\n",
       "    </tr>\n",
       "    <tr>\n",
       "      <th>1</th>\n",
       "      <td>44.373</td>\n",
       "      <td>22.968</td>\n",
       "      <td>340.5</td>\n",
       "      <td>2021-07-21</td>\n",
       "      <td>850</td>\n",
       "      <td>1</td>\n",
       "      <td>91</td>\n",
       "      <td>299.1</td>\n",
       "      <td>112.9</td>\n",
       "      <td>1</td>\n",
       "      <td>3</td>\n",
       "      <td>2021</td>\n",
       "      <td>7</td>\n",
       "      <td>21</td>\n",
       "    </tr>\n",
       "    <tr>\n",
       "      <th>2</th>\n",
       "      <td>44.371</td>\n",
       "      <td>22.995</td>\n",
       "      <td>342.5</td>\n",
       "      <td>2021-07-21</td>\n",
       "      <td>850</td>\n",
       "      <td>1</td>\n",
       "      <td>92</td>\n",
       "      <td>299.3</td>\n",
       "      <td>120.8</td>\n",
       "      <td>1</td>\n",
       "      <td>3</td>\n",
       "      <td>2021</td>\n",
       "      <td>7</td>\n",
       "      <td>21</td>\n",
       "    </tr>\n",
       "    <tr>\n",
       "      <th>3</th>\n",
       "      <td>44.360</td>\n",
       "      <td>22.966</td>\n",
       "      <td>316.2</td>\n",
       "      <td>2021-07-21</td>\n",
       "      <td>850</td>\n",
       "      <td>1</td>\n",
       "      <td>29</td>\n",
       "      <td>299.4</td>\n",
       "      <td>20.6</td>\n",
       "      <td>1</td>\n",
       "      <td>3</td>\n",
       "      <td>2021</td>\n",
       "      <td>7</td>\n",
       "      <td>21</td>\n",
       "    </tr>\n",
       "    <tr>\n",
       "      <th>4</th>\n",
       "      <td>44.370</td>\n",
       "      <td>23.001</td>\n",
       "      <td>335.9</td>\n",
       "      <td>2021-07-21</td>\n",
       "      <td>850</td>\n",
       "      <td>1</td>\n",
       "      <td>88</td>\n",
       "      <td>297.9</td>\n",
       "      <td>90.1</td>\n",
       "      <td>1</td>\n",
       "      <td>3</td>\n",
       "      <td>2021</td>\n",
       "      <td>7</td>\n",
       "      <td>21</td>\n",
       "    </tr>\n",
       "  </tbody>\n",
       "</table>\n",
       "</div>"
      ],
      "text/plain": [
       "   latitude  longitude  brightness   acq_date  acq_time  satellite  \\\n",
       "0    44.276     23.107       302.7 2021-07-21       105          0   \n",
       "1    44.373     22.968       340.5 2021-07-21       850          1   \n",
       "2    44.371     22.995       342.5 2021-07-21       850          1   \n",
       "3    44.360     22.966       316.2 2021-07-21       850          1   \n",
       "4    44.370     23.001       335.9 2021-07-21       850          1   \n",
       "\n",
       "   confidence  bright_t31    frp  daynight scan_binned  year  month  day  \n",
       "0          51       289.0   17.8         0           3  2021      7   21  \n",
       "1          91       299.1  112.9         1           3  2021      7   21  \n",
       "2          92       299.3  120.8         1           3  2021      7   21  \n",
       "3          29       299.4   20.6         1           3  2021      7   21  \n",
       "4          88       297.9   90.1         1           3  2021      7   21  "
      ]
     },
     "execution_count": 76,
     "metadata": {},
     "output_type": "execute_result"
    }
   ],
   "source": [
    "forest.head()"
   ]
  },
  {
   "cell_type": "code",
   "execution_count": 78,
   "id": "a133c0b7",
   "metadata": {},
   "outputs": [
    {
     "data": {
      "text/plain": [
       "(1674, 14)"
      ]
     },
     "execution_count": 78,
     "metadata": {},
     "output_type": "execute_result"
    }
   ],
   "source": [
    "forest.shape"
   ]
  },
  {
   "cell_type": "code",
   "execution_count": 80,
   "id": "58074a35",
   "metadata": {},
   "outputs": [],
   "source": [
    "# Separating our target variable\n",
    "y = forest['confidence']\n",
    "fin = forest.drop(['confidence', 'acq_date', 'acq_time', 'bright_t31'], axis = 1)"
   ]
  },
  {
   "cell_type": "code",
   "execution_count": 81,
   "id": "b84bb682",
   "metadata": {},
   "outputs": [
    {
     "data": {
      "text/plain": [
       "Index(['latitude', 'longitude', 'brightness', 'satellite', 'frp', 'daynight',\n",
       "       'scan_binned', 'year', 'month', 'day'],\n",
       "      dtype='object')"
      ]
     },
     "execution_count": 81,
     "metadata": {},
     "output_type": "execute_result"
    }
   ],
   "source": [
    "fin.columns"
   ]
  },
  {
   "cell_type": "code",
   "execution_count": 82,
   "id": "5cadfc5a",
   "metadata": {},
   "outputs": [
    {
     "name": "stderr",
     "output_type": "stream",
     "text": [
      "C:\\Users\\DELL\\AppData\\Local\\Temp\\ipykernel_12032\\1030454431.py:3: FutureWarning: The default value of numeric_only in DataFrame.corr is deprecated. In a future version, it will default to False. Select only valid columns or specify the value of numeric_only to silence this warning.\n",
      "  sns.heatmap(fin.corr(),annot=True,cmap='viridis',linewidths=.5)\n"
     ]
    },
    {
     "data": {
      "text/plain": [
       "<Axes: >"
      ]
     },
     "execution_count": 82,
     "metadata": {},
     "output_type": "execute_result"
    },
    {
     "data": {
      "image/png": "[encoded data removed]",
      "text/plain": [
       "<Figure size 1000x1000 with 2 Axes>"
      ]
     },
     "metadata": {},
     "output_type": "display_data"
    }
   ],
   "source": [
    "# Checking for correlation once again\n",
    "plt.figure(figsize=(10, 10))\n",
    "sns.heatmap(fin.corr(),annot=True,cmap='viridis',linewidths=.5)"
   ]
  },
  {
   "cell_type": "code",
   "execution_count": 83,
   "id": "47673214",
   "metadata": {},
   "outputs": [
    {
     "data": {
      "text/html": [
       "<div>\n",
       "<style scoped>\n",
       "    .dataframe tbody tr th:only-of-type {\n",
       "        vertical-align: middle;\n",
       "    }\n",
       "\n",
       "    .dataframe tbody tr th {\n",
       "        vertical-align: top;\n",
       "    }\n",
       "\n",
       "    .dataframe thead th {\n",
       "        text-align: right;\n",
       "    }\n",
       "</style>\n",
       "<table border=\"1\" class=\"dataframe\">\n",
       "  <thead>\n",
       "    <tr style=\"text-align: right;\">\n",
       "      <th></th>\n",
       "      <th>latitude</th>\n",
       "      <th>longitude</th>\n",
       "      <th>brightness</th>\n",
       "      <th>satellite</th>\n",
       "      <th>frp</th>\n",
       "      <th>daynight</th>\n",
       "      <th>scan_binned</th>\n",
       "      <th>year</th>\n",
       "      <th>month</th>\n",
       "      <th>day</th>\n",
       "    </tr>\n",
       "  </thead>\n",
       "  <tbody>\n",
       "    <tr>\n",
       "      <th>0</th>\n",
       "      <td>44.276</td>\n",
       "      <td>23.107</td>\n",
       "      <td>302.7</td>\n",
       "      <td>0</td>\n",
       "      <td>17.8</td>\n",
       "      <td>0</td>\n",
       "      <td>3</td>\n",
       "      <td>2021</td>\n",
       "      <td>7</td>\n",
       "      <td>21</td>\n",
       "    </tr>\n",
       "    <tr>\n",
       "      <th>1</th>\n",
       "      <td>44.373</td>\n",
       "      <td>22.968</td>\n",
       "      <td>340.5</td>\n",
       "      <td>1</td>\n",
       "      <td>112.9</td>\n",
       "      <td>1</td>\n",
       "      <td>3</td>\n",
       "      <td>2021</td>\n",
       "      <td>7</td>\n",
       "      <td>21</td>\n",
       "    </tr>\n",
       "    <tr>\n",
       "      <th>2</th>\n",
       "      <td>44.371</td>\n",
       "      <td>22.995</td>\n",
       "      <td>342.5</td>\n",
       "      <td>1</td>\n",
       "      <td>120.8</td>\n",
       "      <td>1</td>\n",
       "      <td>3</td>\n",
       "      <td>2021</td>\n",
       "      <td>7</td>\n",
       "      <td>21</td>\n",
       "    </tr>\n",
       "    <tr>\n",
       "      <th>3</th>\n",
       "      <td>44.360</td>\n",
       "      <td>22.966</td>\n",
       "      <td>316.2</td>\n",
       "      <td>1</td>\n",
       "      <td>20.6</td>\n",
       "      <td>1</td>\n",
       "      <td>3</td>\n",
       "      <td>2021</td>\n",
       "      <td>7</td>\n",
       "      <td>21</td>\n",
       "    </tr>\n",
       "    <tr>\n",
       "      <th>4</th>\n",
       "      <td>44.370</td>\n",
       "      <td>23.001</td>\n",
       "      <td>335.9</td>\n",
       "      <td>1</td>\n",
       "      <td>90.1</td>\n",
       "      <td>1</td>\n",
       "      <td>3</td>\n",
       "      <td>2021</td>\n",
       "      <td>7</td>\n",
       "      <td>21</td>\n",
       "    </tr>\n",
       "  </tbody>\n",
       "</table>\n",
       "</div>"
      ],
      "text/plain": [
       "   latitude  longitude  brightness  satellite    frp  daynight scan_binned  \\\n",
       "0    44.276     23.107       302.7          0   17.8         0           3   \n",
       "1    44.373     22.968       340.5          1  112.9         1           3   \n",
       "2    44.371     22.995       342.5          1  120.8         1           3   \n",
       "3    44.360     22.966       316.2          1   20.6         1           3   \n",
       "4    44.370     23.001       335.9          1   90.1         1           3   \n",
       "\n",
       "   year  month  day  \n",
       "0  2021      7   21  \n",
       "1  2021      7   21  \n",
       "2  2021      7   21  \n",
       "3  2021      7   21  \n",
       "4  2021      7   21  "
      ]
     },
     "execution_count": 83,
     "metadata": {},
     "output_type": "execute_result"
    }
   ],
   "source": [
    "# Let’s see our cleaned and sorted dataset now\n",
    "\n",
    "fin.head()"
   ]
  },
  {
   "cell_type": "code",
   "execution_count": 84,
   "id": "0a17b1af",
   "metadata": {},
   "outputs": [],
   "source": [
    "# Splitting the clean data into training and testing dataset\n",
    "Xtrain, Xtest, ytrain, ytest = train_test_split(fin.iloc[:, :500], y, test_size=0.2)"
   ]
  },
  {
   "cell_type": "code",
   "execution_count": 85,
   "id": "40bdb0de",
   "metadata": {},
   "outputs": [
    {
     "data": {
      "text/plain": [
       "(1339, 10)"
      ]
     },
     "execution_count": 85,
     "metadata": {},
     "output_type": "execute_result"
    }
   ],
   "source": [
    "Xtrain.shape"
   ]
  },
  {
   "cell_type": "code",
   "execution_count": 86,
   "id": "a6df6407",
   "metadata": {},
   "outputs": [
    {
     "data": {
      "text/plain": [
       "(335, 10)"
      ]
     },
     "execution_count": 86,
     "metadata": {},
     "output_type": "execute_result"
    }
   ],
   "source": [
    "Xtest.shape"
   ]
  },
  {
   "cell_type": "code",
   "execution_count": 87,
   "id": "0ddbb2e5",
   "metadata": {},
   "outputs": [
    {
     "data": {
      "text/plain": [
       "(1339,)"
      ]
     },
     "execution_count": 87,
     "metadata": {},
     "output_type": "execute_result"
    }
   ],
   "source": [
    "ytrain.shape"
   ]
  },
  {
   "cell_type": "code",
   "execution_count": 88,
   "id": "55fb03e5",
   "metadata": {},
   "outputs": [
    {
     "data": {
      "text/plain": [
       "(335,)"
      ]
     },
     "execution_count": 88,
     "metadata": {},
     "output_type": "execute_result"
    }
   ],
   "source": [
    "ytest.shape"
   ]
  },
  {
   "cell_type": "code",
   "execution_count": 89,
   "id": "e78284aa",
   "metadata": {},
   "outputs": [
    {
     "name": "stdout",
     "output_type": "stream",
     "text": [
      "96.24 %\n"
     ]
    }
   ],
   "source": [
    "#Model building\n",
    "# Using RandomForestRegressor for model building\n",
    "random_model = RandomForestRegressor(n_estimators=300, random_state = 42, n_jobs = -1)\n",
    "#Fit\n",
    "random_model.fit(Xtrain, ytrain)\n",
    "\n",
    "y_pred = random_model.predict(Xtest)\n",
    "\n",
    "#Checking the accuracy\n",
    "random_model_accuracy = round(random_model.score(Xtrain, ytrain)*100,2)\n",
    "print(round(random_model_accuracy, 2), '%')"
   ]
  },
  {
   "cell_type": "code",
   "execution_count": 90,
   "id": "3ae10bb8",
   "metadata": {},
   "outputs": [
    {
     "name": "stdout",
     "output_type": "stream",
     "text": [
      "75.71 %\n"
     ]
    }
   ],
   "source": [
    "# Checking the accuracy\n",
    "random_model_accuracy1 = round(random_model.score(Xtest, ytest)*100,2)\n",
    "print(round(random_model_accuracy1, 2), '%')"
   ]
  },
  {
   "cell_type": "code",
   "execution_count": 91,
   "id": "377e5bf0",
   "metadata": {},
   "outputs": [],
   "source": [
    "# Saving the model by pickle module using the serialized format\n",
    "import pickle \n",
    "saved_model = pickle.dump(random_model, open('ForestModelOld.pickle','wb'))"
   ]
  },
  {
   "cell_type": "code",
   "execution_count": 92,
   "id": "95b3e180",
   "metadata": {},
   "outputs": [
    {
     "data": {
      "text/plain": [
       "{'bootstrap': True,\n",
       " 'ccp_alpha': 0.0,\n",
       " 'criterion': 'squared_error',\n",
       " 'max_depth': None,\n",
       " 'max_features': 1.0,\n",
       " 'max_leaf_nodes': None,\n",
       " 'max_samples': None,\n",
       " 'min_impurity_decrease': 0.0,\n",
       " 'min_samples_leaf': 1,\n",
       " 'min_samples_split': 2,\n",
       " 'min_weight_fraction_leaf': 0.0,\n",
       " 'n_estimators': 300,\n",
       " 'n_jobs': -1,\n",
       " 'oob_score': False,\n",
       " 'random_state': 42,\n",
       " 'verbose': 0,\n",
       " 'warm_start': False}"
      ]
     },
     "execution_count": 92,
     "metadata": {},
     "output_type": "execute_result"
    }
   ],
   "source": [
    "# Model Tuning\n",
    "# The accuracy is not so great, plus the model is overfitting\n",
    "# So we use RandomCV\n",
    "# Getting all the parameters from the model\n",
    "\n",
    "random_model.get_params()"
   ]
  },
  {
   "cell_type": "code",
   "execution_count": 93,
   "id": "cce8a8dd",
   "metadata": {},
   "outputs": [],
   "source": [
    "#Putting RadomizedSearchCV in action!"
   ]
  },
  {
   "cell_type": "markdown",
   "id": "2ba50bbd",
   "metadata": {},
   "source": [
    "\"\"\"\n",
    "n_estimators = number of trees in the forest\n",
    "max_features = max number of features considered for splitting a node\n",
    "max_depth = max number of levels in each decision tree\n",
    "min_samples_split = min number of data points placed in a node before the node is split\n",
    "min_samples_leaf = min number of data points allowed in a leaf node\n",
    "bootstrap = method for sampling data points (with or without replacement)\n",
    "\"\"\""
   ]
  },
  {
   "cell_type": "code",
   "execution_count": 97,
   "id": "288877ae",
   "metadata": {},
   "outputs": [
    {
     "name": "stdout",
     "output_type": "stream",
     "text": [
      "{'n_estimators': [300, 310, 321, 331, 342, 352, 363, 373, 384, 394, 405, 415, 426, 436, 447, 457, 468, 478, 489, 500], 'max_features': ['auto', 'sqrt'], 'max_depth': [15, 18, 21, 25, 28, 31, 35, None], 'min_samples_split': [2, 3, 5], 'min_samples_leaf': [1, 2, 4]}\n"
     ]
    }
   ],
   "source": [
    "from sklearn.model_selection import RandomizedSearchCV\n",
    "#Number of trees in random forest\n",
    "n_estimators = [int(x) for x in np.linspace(start = 300, stop = 500, num = 20)]\n",
    "# Number of features to consider at every split\n",
    "max_features = ['auto', 'sqrt']\n",
    "# Maximum number of levels in tree\n",
    "max_depth = [int(x) for x in np.linspace(15, 35, num = 7)]\n",
    "max_depth.append(None)\n",
    "# Minimum number of samples required to split a node\n",
    "min_samples_split = [2, 3, 5]\n",
    "# Minimum number of samples required at each leaf node\n",
    "min_samples_leaf = [1, 2, 4]\n",
    "# Create the random grid\n",
    "random_grid = {'n_estimators': n_estimators,\n",
    "               'max_features': max_features,\n",
    "               'max_depth': max_depth,\n",
    "               'min_samples_split': min_samples_split,\n",
    "               'min_samples_leaf': min_samples_leaf,\n",
    "                }\n",
    "print(random_grid)"
   ]
  },
  {
   "cell_type": "code",
   "execution_count": 98,
   "id": "6c5b5e7c",
   "metadata": {},
   "outputs": [
    {
     "name": "stdout",
     "output_type": "stream",
     "text": [
      "Fitting 3 folds for each of 50 candidates, totalling 150 fits\n",
      "[CV] END max_depth=18, max_features=auto, min_samples_leaf=2, min_samples_split=5, n_estimators=415; total time=   0.9s\n",
      "[CV] END max_depth=18, max_features=auto, min_samples_leaf=2, min_samples_split=5, n_estimators=415; total time=   0.0s\n",
      "[CV] END max_depth=18, max_features=auto, min_samples_leaf=2, min_samples_split=5, n_estimators=415; total time=   0.0s\n",
      "[CV] END max_depth=28, max_features=auto, min_samples_leaf=1, min_samples_split=2, n_estimators=436; total time=   0.0s\n",
      "[CV] END max_depth=28, max_features=auto, min_samples_leaf=1, min_samples_split=2, n_estimators=436; total time=   0.0s\n",
      "[CV] END max_depth=28, max_features=auto, min_samples_leaf=1, min_samples_split=2, n_estimators=436; total time=   0.0s\n",
      "[CV] END max_depth=35, max_features=sqrt, min_samples_leaf=1, min_samples_split=3, n_estimators=478; total time=  38.2s\n",
      "[CV] END max_depth=35, max_features=sqrt, min_samples_leaf=1, min_samples_split=3, n_estimators=478; total time=   2.4s\n",
      "[CV] END max_depth=35, max_features=sqrt, min_samples_leaf=1, min_samples_split=3, n_estimators=478; total time=   2.4s\n",
      "[CV] END max_depth=28, max_features=auto, min_samples_leaf=4, min_samples_split=5, n_estimators=310; total time=   0.0s\n",
      "[CV] END max_depth=28, max_features=auto, min_samples_leaf=4, min_samples_split=5, n_estimators=310; total time=   0.0s\n",
      "[CV] END max_depth=28, max_features=auto, min_samples_leaf=4, min_samples_split=5, n_estimators=310; total time=   0.0s\n",
      "[CV] END max_depth=25, max_features=auto, min_samples_leaf=1, min_samples_split=2, n_estimators=447; total time=   0.0s\n",
      "[CV] END max_depth=25, max_features=auto, min_samples_leaf=1, min_samples_split=2, n_estimators=447; total time=   0.0s\n",
      "[CV] END max_depth=25, max_features=auto, min_samples_leaf=1, min_samples_split=2, n_estimators=447; total time=   0.0s\n",
      "[CV] END max_depth=25, max_features=auto, min_samples_leaf=4, min_samples_split=5, n_estimators=457; total time=   0.0s\n",
      "[CV] END max_depth=25, max_features=auto, min_samples_leaf=4, min_samples_split=5, n_estimators=457; total time=   0.0s\n",
      "[CV] END max_depth=25, max_features=auto, min_samples_leaf=4, min_samples_split=5, n_estimators=457; total time=   0.0s\n",
      "[CV] END max_depth=25, max_features=auto, min_samples_leaf=1, min_samples_split=5, n_estimators=384; total time=   0.0s\n",
      "[CV] END max_depth=25, max_features=auto, min_samples_leaf=1, min_samples_split=5, n_estimators=384; total time=   0.0s\n",
      "[CV] END max_depth=25, max_features=auto, min_samples_leaf=1, min_samples_split=5, n_estimators=384; total time=   0.0s\n",
      "[CV] END max_depth=35, max_features=auto, min_samples_leaf=2, min_samples_split=3, n_estimators=426; total time=   0.0s\n",
      "[CV] END max_depth=35, max_features=auto, min_samples_leaf=2, min_samples_split=3, n_estimators=426; total time=   0.0s\n",
      "[CV] END max_depth=35, max_features=auto, min_samples_leaf=2, min_samples_split=3, n_estimators=426; total time=   0.0s\n",
      "[CV] END max_depth=21, max_features=sqrt, min_samples_leaf=1, min_samples_split=5, n_estimators=352; total time=   1.5s\n",
      "[CV] END max_depth=21, max_features=sqrt, min_samples_leaf=1, min_samples_split=5, n_estimators=352; total time=   1.5s\n",
      "[CV] END max_depth=21, max_features=sqrt, min_samples_leaf=1, min_samples_split=5, n_estimators=352; total time=   1.7s\n",
      "[CV] END max_depth=31, max_features=auto, min_samples_leaf=1, min_samples_split=2, n_estimators=300; total time=   0.0s\n",
      "[CV] END max_depth=31, max_features=auto, min_samples_leaf=1, min_samples_split=2, n_estimators=300; total time=   0.0s\n",
      "[CV] END max_depth=31, max_features=auto, min_samples_leaf=1, min_samples_split=2, n_estimators=300; total time=   0.0s\n",
      "[CV] END max_depth=None, max_features=sqrt, min_samples_leaf=2, min_samples_split=2, n_estimators=447; total time=   1.7s\n",
      "[CV] END max_depth=None, max_features=sqrt, min_samples_leaf=2, min_samples_split=2, n_estimators=447; total time=   1.6s\n",
      "[CV] END max_depth=None, max_features=sqrt, min_samples_leaf=2, min_samples_split=2, n_estimators=447; total time=   1.6s\n",
      "[CV] END max_depth=None, max_features=sqrt, min_samples_leaf=1, min_samples_split=3, n_estimators=373; total time=   1.6s\n",
      "[CV] END max_depth=None, max_features=sqrt, min_samples_leaf=1, min_samples_split=3, n_estimators=373; total time=   1.5s\n",
      "[CV] END max_depth=None, max_features=sqrt, min_samples_leaf=1, min_samples_split=3, n_estimators=373; total time=   1.5s\n",
      "[CV] END max_depth=18, max_features=auto, min_samples_leaf=1, min_samples_split=2, n_estimators=384; total time=   0.0s\n",
      "[CV] END max_depth=18, max_features=auto, min_samples_leaf=1, min_samples_split=2, n_estimators=384; total time=   0.0s\n",
      "[CV] END max_depth=18, max_features=auto, min_samples_leaf=1, min_samples_split=2, n_estimators=384; total time=   0.0s\n",
      "[CV] END max_depth=28, max_features=sqrt, min_samples_leaf=4, min_samples_split=3, n_estimators=300; total time=   1.0s\n",
      "[CV] END max_depth=28, max_features=sqrt, min_samples_leaf=4, min_samples_split=3, n_estimators=300; total time=   0.9s\n",
      "[CV] END max_depth=28, max_features=sqrt, min_samples_leaf=4, min_samples_split=3, n_estimators=300; total time=   0.9s\n",
      "[CV] END max_depth=21, max_features=auto, min_samples_leaf=2, min_samples_split=3, n_estimators=478; total time=   0.0s\n",
      "[CV] END max_depth=21, max_features=auto, min_samples_leaf=2, min_samples_split=3, n_estimators=478; total time=   0.0s\n",
      "[CV] END max_depth=21, max_features=auto, min_samples_leaf=2, min_samples_split=3, n_estimators=478; total time=   0.0s\n",
      "[CV] END max_depth=21, max_features=auto, min_samples_leaf=2, min_samples_split=2, n_estimators=310; total time=   0.0s\n",
      "[CV] END max_depth=21, max_features=auto, min_samples_leaf=2, min_samples_split=2, n_estimators=310; total time=   0.0s\n",
      "[CV] END max_depth=21, max_features=auto, min_samples_leaf=2, min_samples_split=2, n_estimators=310; total time=   0.0s\n",
      "[CV] END max_depth=18, max_features=auto, min_samples_leaf=4, min_samples_split=2, n_estimators=489; total time=   0.0s\n",
      "[CV] END max_depth=18, max_features=auto, min_samples_leaf=4, min_samples_split=2, n_estimators=489; total time=   0.0s\n",
      "[CV] END max_depth=18, max_features=auto, min_samples_leaf=4, min_samples_split=2, n_estimators=489; total time=   0.0s\n",
      "[CV] END max_depth=15, max_features=sqrt, min_samples_leaf=1, min_samples_split=5, n_estimators=500; total time=   2.1s\n",
      "[CV] END max_depth=15, max_features=sqrt, min_samples_leaf=1, min_samples_split=5, n_estimators=500; total time=   1.9s\n",
      "[CV] END max_depth=15, max_features=sqrt, min_samples_leaf=1, min_samples_split=5, n_estimators=500; total time=   2.5s\n",
      "[CV] END max_depth=15, max_features=sqrt, min_samples_leaf=4, min_samples_split=3, n_estimators=415; total time=   1.8s\n",
      "[CV] END max_depth=15, max_features=sqrt, min_samples_leaf=4, min_samples_split=3, n_estimators=415; total time=   1.3s\n",
      "[CV] END max_depth=15, max_features=sqrt, min_samples_leaf=4, min_samples_split=3, n_estimators=415; total time=   1.5s\n",
      "[CV] END max_depth=21, max_features=auto, min_samples_leaf=2, min_samples_split=5, n_estimators=489; total time=   0.0s\n",
      "[CV] END max_depth=21, max_features=auto, min_samples_leaf=2, min_samples_split=5, n_estimators=489; total time=   0.0s\n",
      "[CV] END max_depth=21, max_features=auto, min_samples_leaf=2, min_samples_split=5, n_estimators=489; total time=   0.0s\n",
      "[CV] END max_depth=21, max_features=sqrt, min_samples_leaf=1, min_samples_split=5, n_estimators=426; total time=   1.6s\n",
      "[CV] END max_depth=21, max_features=sqrt, min_samples_leaf=1, min_samples_split=5, n_estimators=426; total time=   1.6s\n",
      "[CV] END max_depth=21, max_features=sqrt, min_samples_leaf=1, min_samples_split=5, n_estimators=426; total time=   1.8s\n",
      "[CV] END max_depth=25, max_features=auto, min_samples_leaf=4, min_samples_split=3, n_estimators=310; total time=   0.0s\n",
      "[CV] END max_depth=25, max_features=auto, min_samples_leaf=4, min_samples_split=3, n_estimators=310; total time=   0.0s\n",
      "[CV] END max_depth=25, max_features=auto, min_samples_leaf=4, min_samples_split=3, n_estimators=310; total time=   0.0s\n",
      "[CV] END max_depth=25, max_features=sqrt, min_samples_leaf=1, min_samples_split=2, n_estimators=394; total time=   2.3s\n",
      "[CV] END max_depth=25, max_features=sqrt, min_samples_leaf=1, min_samples_split=2, n_estimators=394; total time=   1.9s\n"
     ]
    },
    {
     "name": "stdout",
     "output_type": "stream",
     "text": [
      "[CV] END max_depth=25, max_features=sqrt, min_samples_leaf=1, min_samples_split=2, n_estimators=394; total time=   2.0s\n",
      "[CV] END max_depth=35, max_features=sqrt, min_samples_leaf=1, min_samples_split=3, n_estimators=457; total time=   2.0s\n",
      "[CV] END max_depth=35, max_features=sqrt, min_samples_leaf=1, min_samples_split=3, n_estimators=457; total time=   2.0s\n",
      "[CV] END max_depth=35, max_features=sqrt, min_samples_leaf=1, min_samples_split=3, n_estimators=457; total time=   2.5s\n",
      "[CV] END max_depth=28, max_features=sqrt, min_samples_leaf=4, min_samples_split=3, n_estimators=489; total time=   1.6s\n",
      "[CV] END max_depth=28, max_features=sqrt, min_samples_leaf=4, min_samples_split=3, n_estimators=489; total time=   1.5s\n",
      "[CV] END max_depth=28, max_features=sqrt, min_samples_leaf=4, min_samples_split=3, n_estimators=489; total time=   1.7s\n",
      "[CV] END max_depth=28, max_features=auto, min_samples_leaf=2, min_samples_split=2, n_estimators=478; total time=   0.0s\n",
      "[CV] END max_depth=28, max_features=auto, min_samples_leaf=2, min_samples_split=2, n_estimators=478; total time=   0.0s\n",
      "[CV] END max_depth=28, max_features=auto, min_samples_leaf=2, min_samples_split=2, n_estimators=478; total time=   0.0s\n",
      "[CV] END max_depth=31, max_features=sqrt, min_samples_leaf=1, min_samples_split=3, n_estimators=321; total time=   1.5s\n",
      "[CV] END max_depth=31, max_features=sqrt, min_samples_leaf=1, min_samples_split=3, n_estimators=321; total time=   1.2s\n",
      "[CV] END max_depth=31, max_features=sqrt, min_samples_leaf=1, min_samples_split=3, n_estimators=321; total time=   1.5s\n",
      "[CV] END max_depth=21, max_features=sqrt, min_samples_leaf=2, min_samples_split=5, n_estimators=405; total time=   1.8s\n",
      "[CV] END max_depth=21, max_features=sqrt, min_samples_leaf=2, min_samples_split=5, n_estimators=405; total time=   1.8s\n",
      "[CV] END max_depth=21, max_features=sqrt, min_samples_leaf=2, min_samples_split=5, n_estimators=405; total time=   1.5s\n",
      "[CV] END max_depth=28, max_features=sqrt, min_samples_leaf=4, min_samples_split=2, n_estimators=426; total time=   1.6s\n",
      "[CV] END max_depth=28, max_features=sqrt, min_samples_leaf=4, min_samples_split=2, n_estimators=426; total time=   1.5s\n",
      "[CV] END max_depth=28, max_features=sqrt, min_samples_leaf=4, min_samples_split=2, n_estimators=426; total time=   1.6s\n",
      "[CV] END max_depth=31, max_features=auto, min_samples_leaf=2, min_samples_split=5, n_estimators=447; total time=   0.0s\n",
      "[CV] END max_depth=31, max_features=auto, min_samples_leaf=2, min_samples_split=5, n_estimators=447; total time=   0.0s\n",
      "[CV] END max_depth=31, max_features=auto, min_samples_leaf=2, min_samples_split=5, n_estimators=447; total time=   0.0s\n",
      "[CV] END max_depth=25, max_features=sqrt, min_samples_leaf=4, min_samples_split=5, n_estimators=394; total time=   1.3s\n",
      "[CV] END max_depth=25, max_features=sqrt, min_samples_leaf=4, min_samples_split=5, n_estimators=394; total time=   1.4s\n",
      "[CV] END max_depth=25, max_features=sqrt, min_samples_leaf=4, min_samples_split=5, n_estimators=394; total time=   1.2s\n",
      "[CV] END max_depth=28, max_features=auto, min_samples_leaf=4, min_samples_split=2, n_estimators=342; total time=   0.0s\n",
      "[CV] END max_depth=28, max_features=auto, min_samples_leaf=4, min_samples_split=2, n_estimators=342; total time=   0.0s\n",
      "[CV] END max_depth=28, max_features=auto, min_samples_leaf=4, min_samples_split=2, n_estimators=342; total time=   0.0s\n",
      "[CV] END max_depth=35, max_features=sqrt, min_samples_leaf=1, min_samples_split=3, n_estimators=426; total time=   2.0s\n",
      "[CV] END max_depth=35, max_features=sqrt, min_samples_leaf=1, min_samples_split=3, n_estimators=426; total time=   2.2s\n",
      "[CV] END max_depth=35, max_features=sqrt, min_samples_leaf=1, min_samples_split=3, n_estimators=426; total time=   2.3s\n",
      "[CV] END max_depth=None, max_features=auto, min_samples_leaf=1, min_samples_split=5, n_estimators=373; total time=   0.0s\n",
      "[CV] END max_depth=None, max_features=auto, min_samples_leaf=1, min_samples_split=5, n_estimators=373; total time=   0.0s\n",
      "[CV] END max_depth=None, max_features=auto, min_samples_leaf=1, min_samples_split=5, n_estimators=373; total time=   0.0s\n",
      "[CV] END max_depth=31, max_features=auto, min_samples_leaf=4, min_samples_split=3, n_estimators=426; total time=   0.0s\n",
      "[CV] END max_depth=31, max_features=auto, min_samples_leaf=4, min_samples_split=3, n_estimators=426; total time=   0.0s\n",
      "[CV] END max_depth=31, max_features=auto, min_samples_leaf=4, min_samples_split=3, n_estimators=426; total time=   0.0s\n",
      "[CV] END max_depth=21, max_features=auto, min_samples_leaf=4, min_samples_split=2, n_estimators=478; total time=   0.0s\n",
      "[CV] END max_depth=21, max_features=auto, min_samples_leaf=4, min_samples_split=2, n_estimators=478; total time=   0.0s\n",
      "[CV] END max_depth=21, max_features=auto, min_samples_leaf=4, min_samples_split=2, n_estimators=478; total time=   0.0s\n",
      "[CV] END max_depth=35, max_features=auto, min_samples_leaf=4, min_samples_split=2, n_estimators=500; total time=   0.0s\n",
      "[CV] END max_depth=35, max_features=auto, min_samples_leaf=4, min_samples_split=2, n_estimators=500; total time=   0.0s\n",
      "[CV] END max_depth=35, max_features=auto, min_samples_leaf=4, min_samples_split=2, n_estimators=500; total time=   0.0s\n",
      "[CV] END max_depth=15, max_features=auto, min_samples_leaf=4, min_samples_split=2, n_estimators=342; total time=   0.0s\n",
      "[CV] END max_depth=15, max_features=auto, min_samples_leaf=4, min_samples_split=2, n_estimators=342; total time=   0.0s\n",
      "[CV] END max_depth=15, max_features=auto, min_samples_leaf=4, min_samples_split=2, n_estimators=342; total time=   0.0s\n",
      "[CV] END max_depth=35, max_features=auto, min_samples_leaf=2, min_samples_split=5, n_estimators=457; total time=   0.0s\n",
      "[CV] END max_depth=35, max_features=auto, min_samples_leaf=2, min_samples_split=5, n_estimators=457; total time=   0.0s\n",
      "[CV] END max_depth=35, max_features=auto, min_samples_leaf=2, min_samples_split=5, n_estimators=457; total time=   0.0s\n",
      "[CV] END max_depth=None, max_features=sqrt, min_samples_leaf=2, min_samples_split=2, n_estimators=415; total time=   1.7s\n",
      "[CV] END max_depth=None, max_features=sqrt, min_samples_leaf=2, min_samples_split=2, n_estimators=415; total time=   1.7s\n",
      "[CV] END max_depth=None, max_features=sqrt, min_samples_leaf=2, min_samples_split=2, n_estimators=415; total time=   1.8s\n",
      "[CV] END max_depth=None, max_features=auto, min_samples_leaf=4, min_samples_split=3, n_estimators=394; total time=   0.0s\n",
      "[CV] END max_depth=None, max_features=auto, min_samples_leaf=4, min_samples_split=3, n_estimators=394; total time=   0.0s\n",
      "[CV] END max_depth=None, max_features=auto, min_samples_leaf=4, min_samples_split=3, n_estimators=394; total time=   0.0s\n",
      "[CV] END max_depth=28, max_features=auto, min_samples_leaf=1, min_samples_split=3, n_estimators=426; total time=   0.0s\n",
      "[CV] END max_depth=28, max_features=auto, min_samples_leaf=1, min_samples_split=3, n_estimators=426; total time=   0.0s\n",
      "[CV] END max_depth=28, max_features=auto, min_samples_leaf=1, min_samples_split=3, n_estimators=426; total time=   0.0s\n",
      "[CV] END max_depth=25, max_features=sqrt, min_samples_leaf=2, min_samples_split=2, n_estimators=310; total time=   1.2s\n",
      "[CV] END max_depth=25, max_features=sqrt, min_samples_leaf=2, min_samples_split=2, n_estimators=310; total time=   1.3s\n",
      "[CV] END max_depth=25, max_features=sqrt, min_samples_leaf=2, min_samples_split=2, n_estimators=310; total time=   1.3s\n",
      "[CV] END max_depth=35, max_features=sqrt, min_samples_leaf=1, min_samples_split=3, n_estimators=405; total time=   1.9s\n",
      "[CV] END max_depth=35, max_features=sqrt, min_samples_leaf=1, min_samples_split=3, n_estimators=405; total time=   1.8s\n",
      "[CV] END max_depth=35, max_features=sqrt, min_samples_leaf=1, min_samples_split=3, n_estimators=405; total time=   1.8s\n",
      "[CV] END max_depth=25, max_features=sqrt, min_samples_leaf=4, min_samples_split=3, n_estimators=352; total time=   1.6s\n",
      "[CV] END max_depth=25, max_features=sqrt, min_samples_leaf=4, min_samples_split=3, n_estimators=352; total time=   1.3s\n",
      "[CV] END max_depth=25, max_features=sqrt, min_samples_leaf=4, min_samples_split=3, n_estimators=352; total time=   1.2s\n",
      "[CV] END max_depth=31, max_features=sqrt, min_samples_leaf=1, min_samples_split=5, n_estimators=394; total time=   1.9s\n",
      "[CV] END max_depth=31, max_features=sqrt, min_samples_leaf=1, min_samples_split=5, n_estimators=394; total time=   1.8s\n"
     ]
    },
    {
     "name": "stdout",
     "output_type": "stream",
     "text": [
      "[CV] END max_depth=31, max_features=sqrt, min_samples_leaf=1, min_samples_split=5, n_estimators=394; total time=   1.8s\n",
      "[CV] END max_depth=31, max_features=auto, min_samples_leaf=1, min_samples_split=2, n_estimators=331; total time=   0.0s\n",
      "[CV] END max_depth=31, max_features=auto, min_samples_leaf=1, min_samples_split=2, n_estimators=331; total time=   0.0s\n",
      "[CV] END max_depth=31, max_features=auto, min_samples_leaf=1, min_samples_split=2, n_estimators=331; total time=   0.0s\n",
      "[CV] END max_depth=15, max_features=sqrt, min_samples_leaf=2, min_samples_split=5, n_estimators=468; total time=   3.0s\n",
      "[CV] END max_depth=15, max_features=sqrt, min_samples_leaf=2, min_samples_split=5, n_estimators=468; total time=   2.0s\n",
      "[CV] END max_depth=15, max_features=sqrt, min_samples_leaf=2, min_samples_split=5, n_estimators=468; total time=   1.9s\n",
      "[CV] END max_depth=None, max_features=auto, min_samples_leaf=4, min_samples_split=5, n_estimators=468; total time=   0.0s\n",
      "[CV] END max_depth=None, max_features=auto, min_samples_leaf=4, min_samples_split=5, n_estimators=468; total time=   0.0s\n",
      "[CV] END max_depth=None, max_features=auto, min_samples_leaf=4, min_samples_split=5, n_estimators=468; total time=   0.0s\n",
      "[CV] END max_depth=25, max_features=auto, min_samples_leaf=4, min_samples_split=2, n_estimators=436; total time=   0.0s\n",
      "[CV] END max_depth=25, max_features=auto, min_samples_leaf=4, min_samples_split=2, n_estimators=436; total time=   0.0s\n",
      "[CV] END max_depth=25, max_features=auto, min_samples_leaf=4, min_samples_split=2, n_estimators=436; total time=   0.0s\n"
     ]
    },
    {
     "name": "stderr",
     "output_type": "stream",
     "text": [
      "C:\\Users\\DELL\\anaconda3\\lib\\site-packages\\sklearn\\model_selection\\_validation.py:425: FitFailedWarning: \n",
      "84 fits failed out of a total of 150.\n",
      "The score on these train-test partitions for these parameters will be set to nan.\n",
      "If these failures are not expected, you can try to debug them by setting error_score='raise'.\n",
      "\n",
      "Below are more details about the failures:\n",
      "--------------------------------------------------------------------------------\n",
      "84 fits failed with the following error:\n",
      "Traceback (most recent call last):\n",
      "  File \"C:\\Users\\DELL\\anaconda3\\lib\\site-packages\\sklearn\\model_selection\\_validation.py\", line 732, in _fit_and_score\n",
      "    estimator.fit(X_train, y_train, **fit_params)\n",
      "  File \"C:\\Users\\DELL\\anaconda3\\lib\\site-packages\\sklearn\\base.py\", line 1144, in wrapper\n",
      "    estimator._validate_params()\n",
      "  File \"C:\\Users\\DELL\\anaconda3\\lib\\site-packages\\sklearn\\base.py\", line 637, in _validate_params\n",
      "    validate_parameter_constraints(\n",
      "  File \"C:\\Users\\DELL\\anaconda3\\lib\\site-packages\\sklearn\\utils\\_param_validation.py\", line 95, in validate_parameter_constraints\n",
      "    raise InvalidParameterError(\n",
      "sklearn.utils._param_validation.InvalidParameterError: The 'max_features' parameter of RandomForestRegressor must be an int in the range [1, inf), a float in the range (0.0, 1.0], a str among {'log2', 'sqrt'} or None. Got 'auto' instead.\n",
      "\n",
      "  warnings.warn(some_fits_failed_message, FitFailedWarning)\n",
      "C:\\Users\\DELL\\anaconda3\\lib\\site-packages\\sklearn\\model_selection\\_search.py:976: UserWarning: One or more of the test scores are non-finite: [       nan        nan 0.6901415         nan        nan        nan\n",
      "        nan        nan 0.68734661        nan 0.68293126 0.68845458\n",
      "        nan 0.66062826        nan        nan        nan 0.68830579\n",
      " 0.66232738        nan 0.68869615        nan 0.69070664 0.69005976\n",
      " 0.6619273         nan 0.68774042 0.68245055 0.66298904        nan\n",
      " 0.66186597        nan 0.68986851        nan        nan        nan\n",
      "        nan        nan        nan 0.68244297        nan        nan\n",
      " 0.68160513 0.68948472 0.66033065 0.68721627        nan 0.6827663\n",
      "        nan        nan]\n",
      "  warnings.warn(\n"
     ]
    },
    {
     "data": {
      "text/html": [
       "<style>#sk-container-id-1 {color: black;}#sk-container-id-1 pre{padding: 0;}#sk-container-id-1 div.sk-toggleable {background-color: white;}#sk-container-id-1 label.sk-toggleable__label {cursor: pointer;display: block;width: 100%;margin-bottom: 0;padding: 0.3em;box-sizing: border-box;text-align: center;}#sk-container-id-1 label.sk-toggleable__label-arrow:before {content: \"▸\";float: left;margin-right: 0.25em;color: #696969;}#sk-container-id-1 label.sk-toggleable__label-arrow:hover:before {color: black;}#sk-container-id-1 div.sk-estimator:hover label.sk-toggleable__label-arrow:before {color: black;}#sk-container-id-1 div.sk-toggleable__content {max-height: 0;max-width: 0;overflow: hidden;text-align: left;background-color: #f0f8ff;}#sk-container-id-1 div.sk-toggleable__content pre {margin: 0.2em;color: black;border-radius: 0.25em;background-color: #f0f8ff;}#sk-container-id-1 input.sk-toggleable__control:checked~div.sk-toggleable__content {max-height: 200px;max-width: 100%;overflow: auto;}#sk-container-id-1 input.sk-toggleable__control:checked~label.sk-toggleable__label-arrow:before {content: \"▾\";}#sk-container-id-1 div.sk-estimator input.sk-toggleable__control:checked~label.sk-toggleable__label {background-color: #d4ebff;}#sk-container-id-1 div.sk-label input.sk-toggleable__control:checked~label.sk-toggleable__label {background-color: #d4ebff;}#sk-container-id-1 input.sk-hidden--visually {border: 0;clip: rect(1px 1px 1px 1px);clip: rect(1px, 1px, 1px, 1px);height: 1px;margin: -1px;overflow: hidden;padding: 0;position: absolute;width: 1px;}#sk-container-id-1 div.sk-estimator {font-family: monospace;background-color: #f0f8ff;border: 1px dotted black;border-radius: 0.25em;box-sizing: border-box;margin-bottom: 0.5em;}#sk-container-id-1 div.sk-estimator:hover {background-color: #d4ebff;}#sk-container-id-1 div.sk-parallel-item::after {content: \"\";width: 100%;border-bottom: 1px solid gray;flex-grow: 1;}#sk-container-id-1 div.sk-label:hover label.sk-toggleable__label {background-color: #d4ebff;}#sk-container-id-1 div.sk-serial::before {content: \"\";position: absolute;border-left: 1px solid gray;box-sizing: border-box;top: 0;bottom: 0;left: 50%;z-index: 0;}#sk-container-id-1 div.sk-serial {display: flex;flex-direction: column;align-items: center;background-color: white;padding-right: 0.2em;padding-left: 0.2em;position: relative;}#sk-container-id-1 div.sk-item {position: relative;z-index: 1;}#sk-container-id-1 div.sk-parallel {display: flex;align-items: stretch;justify-content: center;background-color: white;position: relative;}#sk-container-id-1 div.sk-item::before, #sk-container-id-1 div.sk-parallel-item::before {content: \"\";position: absolute;border-left: 1px solid gray;box-sizing: border-box;top: 0;bottom: 0;left: 50%;z-index: -1;}#sk-container-id-1 div.sk-parallel-item {display: flex;flex-direction: column;z-index: 1;position: relative;background-color: white;}#sk-container-id-1 div.sk-parallel-item:first-child::after {align-self: flex-end;width: 50%;}#sk-container-id-1 div.sk-parallel-item:last-child::after {align-self: flex-start;width: 50%;}#sk-container-id-1 div.sk-parallel-item:only-child::after {width: 0;}#sk-container-id-1 div.sk-dashed-wrapped {border: 1px dashed gray;margin: 0 0.4em 0.5em 0.4em;box-sizing: border-box;padding-bottom: 0.4em;background-color: white;}#sk-container-id-1 div.sk-label label {font-family: monospace;font-weight: bold;display: inline-block;line-height: 1.2em;}#sk-container-id-1 div.sk-label-container {text-align: center;}#sk-container-id-1 div.sk-container {/* jupyter's `normalize.less` sets `[hidden] { display: none; }` but bootstrap.min.css set `[hidden] { display: none !important; }` so we also need the `!important` here to be able to override the default hidden behavior on the sphinx rendered scikit-learn.org. See: https://github.com/scikit-learn/scikit-learn/issues/21755 */display: inline-block !important;position: relative;}#sk-container-id-1 div.sk-text-repr-fallback {display: none;}</style><div id=\"sk-container-id-1\" class=\"sk-top-container\"><div class=\"sk-text-repr-fallback\"><pre>RandomizedSearchCV(cv=3,\n",
       "                   estimator=RandomForestRegressor(n_estimators=300, n_jobs=-1,\n",
       "                                                   random_state=42),\n",
       "                   n_iter=50,\n",
       "                   param_distributions={&#x27;max_depth&#x27;: [15, 18, 21, 25, 28, 31,\n",
       "                                                      35, None],\n",
       "                                        &#x27;max_features&#x27;: [&#x27;auto&#x27;, &#x27;sqrt&#x27;],\n",
       "                                        &#x27;min_samples_leaf&#x27;: [1, 2, 4],\n",
       "                                        &#x27;min_samples_split&#x27;: [2, 3, 5],\n",
       "                                        &#x27;n_estimators&#x27;: [300, 310, 321, 331,\n",
       "                                                         342, 352, 363, 373,\n",
       "                                                         384, 394, 405, 415,\n",
       "                                                         426, 436, 447, 457,\n",
       "                                                         468, 478, 489, 500]},\n",
       "                   random_state=42, verbose=2)</pre><b>In a Jupyter environment, please rerun this cell to show the HTML representation or trust the notebook. <br />On GitHub, the HTML representation is unable to render, please try loading this page with nbviewer.org.</b></div><div class=\"sk-container\" hidden><div class=\"sk-item sk-dashed-wrapped\"><div class=\"sk-label-container\"><div class=\"sk-label sk-toggleable\"><input class=\"sk-toggleable__control sk-hidden--visually\" id=\"sk-estimator-id-1\" type=\"checkbox\" ><label for=\"sk-estimator-id-1\" class=\"sk-toggleable__label sk-toggleable__label-arrow\">RandomizedSearchCV</label><div class=\"sk-toggleable__content\"><pre>RandomizedSearchCV(cv=3,\n",
       "                   estimator=RandomForestRegressor(n_estimators=300, n_jobs=-1,\n",
       "                                                   random_state=42),\n",
       "                   n_iter=50,\n",
       "                   param_distributions={&#x27;max_depth&#x27;: [15, 18, 21, 25, 28, 31,\n",
       "                                                      35, None],\n",
       "                                        &#x27;max_features&#x27;: [&#x27;auto&#x27;, &#x27;sqrt&#x27;],\n",
       "                                        &#x27;min_samples_leaf&#x27;: [1, 2, 4],\n",
       "                                        &#x27;min_samples_split&#x27;: [2, 3, 5],\n",
       "                                        &#x27;n_estimators&#x27;: [300, 310, 321, 331,\n",
       "                                                         342, 352, 363, 373,\n",
       "                                                         384, 394, 405, 415,\n",
       "                                                         426, 436, 447, 457,\n",
       "                                                         468, 478, 489, 500]},\n",
       "                   random_state=42, verbose=2)</pre></div></div></div><div class=\"sk-parallel\"><div class=\"sk-parallel-item\"><div class=\"sk-item\"><div class=\"sk-label-container\"><div class=\"sk-label sk-toggleable\"><input class=\"sk-toggleable__control sk-hidden--visually\" id=\"sk-estimator-id-2\" type=\"checkbox\" ><label for=\"sk-estimator-id-2\" class=\"sk-toggleable__label sk-toggleable__label-arrow\">estimator: RandomForestRegressor</label><div class=\"sk-toggleable__content\"><pre>RandomForestRegressor(n_estimators=300, n_jobs=-1, random_state=42)</pre></div></div></div><div class=\"sk-serial\"><div class=\"sk-item\"><div class=\"sk-estimator sk-toggleable\"><input class=\"sk-toggleable__control sk-hidden--visually\" id=\"sk-estimator-id-3\" type=\"checkbox\" ><label for=\"sk-estimator-id-3\" class=\"sk-toggleable__label sk-toggleable__label-arrow\">RandomForestRegressor</label><div class=\"sk-toggleable__content\"><pre>RandomForestRegressor(n_estimators=300, n_jobs=-1, random_state=42)</pre></div></div></div></div></div></div></div></div></div></div>"
      ],
      "text/plain": [
       "RandomizedSearchCV(cv=3,\n",
       "                   estimator=RandomForestRegressor(n_estimators=300, n_jobs=-1,\n",
       "                                                   random_state=42),\n",
       "                   n_iter=50,\n",
       "                   param_distributions={'max_depth': [15, 18, 21, 25, 28, 31,\n",
       "                                                      35, None],\n",
       "                                        'max_features': ['auto', 'sqrt'],\n",
       "                                        'min_samples_leaf': [1, 2, 4],\n",
       "                                        'min_samples_split': [2, 3, 5],\n",
       "                                        'n_estimators': [300, 310, 321, 331,\n",
       "                                                         342, 352, 363, 373,\n",
       "                                                         384, 394, 405, 415,\n",
       "                                                         426, 436, 447, 457,\n",
       "                                                         468, 478, 489, 500]},\n",
       "                   random_state=42, verbose=2)"
      ]
     },
     "execution_count": 98,
     "metadata": {},
     "output_type": "execute_result"
    }
   ],
   "source": [
    "# A random search of parameters, using 3 fold cross-validation, \n",
    "# search across 100 different combinations and use all available cores\n",
    "# n_iter, which controls the number of different combinations to try, \n",
    "# and cv which is the number of folds to use for cross-validation\n",
    "rf_random = RandomizedSearchCV(estimator = random_model, param_distributions = random_grid, \n",
    "                                n_iter = 50, cv = 3, verbose=2, random_state=42)\n",
    "# Fit the random search model\n",
    "rf_random.fit(Xtrain, ytrain)"
   ]
  },
  {
   "cell_type": "code",
   "execution_count": 99,
   "id": "90ee319a",
   "metadata": {},
   "outputs": [
    {
     "data": {
      "text/plain": [
       "{'n_estimators': 394,\n",
       " 'min_samples_split': 2,\n",
       " 'min_samples_leaf': 1,\n",
       " 'max_features': 'sqrt',\n",
       " 'max_depth': 25}"
      ]
     },
     "execution_count": 99,
     "metadata": {},
     "output_type": "execute_result"
    }
   ],
   "source": [
    "# Just like this snippet, there will be numerous folds in this RandomizedSearchCV\n",
    "\n",
    "# Getting the best parameter out of it\n",
    "\n",
    "rf_random.best_params_"
   ]
  },
  {
   "cell_type": "code",
   "execution_count": 100,
   "id": "dc86d50f",
   "metadata": {},
   "outputs": [],
   "source": [
    "# Creating a new model with tuned parameters\n",
    "\n",
    "random_new = RandomForestRegressor(n_estimators = 394, min_samples_split = 2, min_samples_leaf = 1, max_features = 'sqrt',\n",
    "                                      max_depth = 25, bootstrap = True)"
   ]
  },
  {
   "cell_type": "code",
   "execution_count": 101,
   "id": "9e5647cd",
   "metadata": {},
   "outputs": [
    {
     "name": "stdout",
     "output_type": "stream",
     "text": [
      "96.16 %\n"
     ]
    }
   ],
   "source": [
    "#Fit\n",
    "random_new.fit(Xtrain, ytrain)\n",
    "y_pred1 = random_new.predict(Xtest)\n",
    "#Checking the accuracy\n",
    "random_model_accuracy1 = round(random_new.score(Xtrain, ytrain)*100,2)\n",
    "print(round(random_model_accuracy1, 2), '%')\n"
   ]
  },
  {
   "cell_type": "code",
   "execution_count": 102,
   "id": "366ba173",
   "metadata": {},
   "outputs": [
    {
     "name": "stdout",
     "output_type": "stream",
     "text": [
      "73.6 %\n"
     ]
    }
   ],
   "source": [
    "# Checking the accuracy\n",
    "\n",
    "random_model_accuracy2 = round(random_new.score(Xtest, ytest)*100,2)\n",
    "print(round(random_model_accuracy2, 2), '%')"
   ]
  },
  {
   "cell_type": "markdown",
   "id": "4d5ba972",
   "metadata": {},
   "source": [
    "#Saving the tuned model by pickle module using the serialized format\n",
    "\n",
    "saved_model = pickle.dump(random_new, open('ForestModel.pickle','wb'))\n",
    "#Loading the tuned pickled model\n",
    "\n",
    "reg_from_pickle = pickle.load(saved_model)"
   ]
  },
  {
   "cell_type": "code",
   "execution_count": null,
   "id": "c13d2e01",
   "metadata": {},
   "outputs": [],
   "source": []
  }
 ],
 "metadata": {
  "kernelspec": {
   "display_name": "Python 3 (ipykernel)",
   "language": "python",
   "name": "python3"
  },
  "language_info": {
   "codemirror_mode": {
    "name": "ipython",
    "version": 3
   },
   "file_extension": ".py",
   "mimetype": "text/x-python",
   "name": "python",
   "nbconvert_exporter": "python",
   "pygments_lexer": "ipython3",
   "version": "3.10.9"
  }
 },
 "nbformat": 4,
 "nbformat_minor": 5
}
