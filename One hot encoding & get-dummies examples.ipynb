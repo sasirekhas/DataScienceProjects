{
 "cells": [
  {
   "cell_type": "code",
   "execution_count": 1,
   "id": "576d923f",
   "metadata": {},
   "outputs": [],
   "source": [
    "#Examples for One hot encoding.\n",
    "# Both One hot encoding and get_dummies do the same job\n",
    "#The get_dummies method in Pandas provides a convenient way to perform One-Hot Encoding on data. \n",
    "#It can handle both nominal and ordinal categorical variables and provides\n",
    "# several options for handling missing values and controlling the prefix and suffixes of the new columns."
   ]
  },
  {
   "cell_type": "code",
   "execution_count": 2,
   "id": "50fa50d4",
   "metadata": {},
   "outputs": [],
   "source": [
    "#Both OneHotEncoder and get_dummies give the same results. "
   ]
  },
  {
   "cell_type": "code",
   "execution_count": 3,
   "id": "10dd56fb",
   "metadata": {},
   "outputs": [
    {
     "name": "stdout",
     "output_type": "stream",
     "text": [
      "  team  points\n",
      "0    A      25\n",
      "1    A      12\n",
      "2    B      15\n",
      "3    B      14\n",
      "4    B      19\n",
      "5    B      23\n",
      "6    C      25\n",
      "7    C      29\n"
     ]
    }
   ],
   "source": [
    "import pandas as pd\n",
    "\n",
    "#create DataFrame\n",
    "df = pd.DataFrame({'team': ['A', 'A', 'B', 'B', 'B', 'B', 'C', 'C'],\n",
    "                   'points': [25, 12, 15, 14, 19, 23, 25, 29]})\n",
    "\n",
    "#view DataFrame\n",
    "print(df)"
   ]
  },
  {
   "cell_type": "code",
   "execution_count": 4,
   "id": "d29210bd",
   "metadata": {},
   "outputs": [],
   "source": [
    "# Perform One-Hot Encoding"
   ]
  },
  {
   "cell_type": "code",
   "execution_count": 5,
   "id": "f719953a",
   "metadata": {},
   "outputs": [
    {
     "name": "stdout",
     "output_type": "stream",
     "text": [
      "  team  points    0    1    2\n",
      "0    A      25  1.0  0.0  0.0\n",
      "1    A      12  1.0  0.0  0.0\n",
      "2    B      15  0.0  1.0  0.0\n",
      "3    B      14  0.0  1.0  0.0\n",
      "4    B      19  0.0  1.0  0.0\n",
      "5    B      23  0.0  1.0  0.0\n",
      "6    C      25  0.0  0.0  1.0\n",
      "7    C      29  0.0  0.0  1.0\n"
     ]
    }
   ],
   "source": [
    "from sklearn.preprocessing import OneHotEncoder\n",
    "\n",
    "#creating instance of one-hot-encoder\n",
    "encoder = OneHotEncoder(handle_unknown='ignore')\n",
    "\n",
    "#perform one-hot encoding on 'team' column \n",
    "encoder_df = pd.DataFrame(encoder.fit_transform(df[['team']]).toarray())\n",
    "\n",
    "#merge one-hot encoded columns back with original DataFrame\n",
    "final_df = df.join(encoder_df)\n",
    "\n",
    "#view final df\n",
    "print(final_df)"
   ]
  },
  {
   "cell_type": "code",
   "execution_count": 6,
   "id": "5cd5f20b",
   "metadata": {},
   "outputs": [],
   "source": [
    "# Drop the original Categorical Variable"
   ]
  },
  {
   "cell_type": "code",
   "execution_count": 7,
   "id": "2b94d8b8",
   "metadata": {},
   "outputs": [
    {
     "name": "stdout",
     "output_type": "stream",
     "text": [
      "   points    0    1    2\n",
      "0      25  1.0  0.0  0.0\n",
      "1      12  1.0  0.0  0.0\n",
      "2      15  0.0  1.0  0.0\n",
      "3      14  0.0  1.0  0.0\n",
      "4      19  0.0  1.0  0.0\n",
      "5      23  0.0  1.0  0.0\n",
      "6      25  0.0  0.0  1.0\n",
      "7      29  0.0  0.0  1.0\n"
     ]
    }
   ],
   "source": [
    "#drop 'team' column\n",
    "final_df.drop('team', axis=1, inplace=True)\n",
    "\n",
    "#view final df\n",
    "print(final_df)\n"
   ]
  },
  {
   "cell_type": "code",
   "execution_count": 8,
   "id": "d2472d8a",
   "metadata": {},
   "outputs": [
    {
     "name": "stdout",
     "output_type": "stream",
     "text": [
      "   points  teamA  teamB  teamC\n",
      "0      25    1.0    0.0    0.0\n",
      "1      12    1.0    0.0    0.0\n",
      "2      15    0.0    1.0    0.0\n",
      "3      14    0.0    1.0    0.0\n",
      "4      19    0.0    1.0    0.0\n",
      "5      23    0.0    1.0    0.0\n",
      "6      25    0.0    0.0    1.0\n",
      "7      29    0.0    0.0    1.0\n"
     ]
    }
   ],
   "source": [
    "#rename columns\n",
    "final_df.columns = ['points', 'teamA', 'teamB', 'teamC']\n",
    "\n",
    "#view final df\n",
    "print(final_df)\n"
   ]
  },
  {
   "cell_type": "code",
   "execution_count": 9,
   "id": "86731219",
   "metadata": {},
   "outputs": [],
   "source": [
    "# One Hot Encode using Scikit-learn"
   ]
  },
  {
   "cell_type": "code",
   "execution_count": 10,
   "id": "07aca6b6",
   "metadata": {},
   "outputs": [
    {
     "name": "stdout",
     "output_type": "stream",
     "text": [
      "['apple' 'apple' 'mango' 'apple' 'banana' 'banana' 'mango' 'apple']\n",
      "[0 0 2 0 1 1 2 0]\n",
      "[[1. 0. 0.]\n",
      " [1. 0. 0.]\n",
      " [0. 0. 1.]\n",
      " [1. 0. 0.]\n",
      " [0. 1. 0.]\n",
      " [0. 1. 0.]\n",
      " [0. 0. 1.]\n",
      " [1. 0. 0.]]\n"
     ]
    },
    {
     "name": "stderr",
     "output_type": "stream",
     "text": [
      "C:\\Users\\DELL\\anaconda3\\lib\\site-packages\\sklearn\\preprocessing\\_encoders.py:828: FutureWarning: `sparse` was renamed to `sparse_output` in version 1.2 and will be removed in 1.4. `sparse_output` is ignored unless you leave `sparse` to its default value.\n",
      "  warnings.warn(\n"
     ]
    }
   ],
   "source": [
    "from numpy import array  \n",
    "from numpy import argmax  \n",
    "from sklearn.preprocessing import LabelEncoder  \n",
    "from sklearn.preprocessing import OneHotEncoder  \n",
    "# defining sequence example  \n",
    "data_1 = ['apple', 'apple', 'mango', 'apple', 'banana', 'banana', 'mango', 'apple']  \n",
    "values_of_seq = array(data_1)  \n",
    "print(values_of_seq)  \n",
    "# first appling integer encode  \n",
    "label_encoder = LabelEncoder()  \n",
    "integer_encoded = label_encoder.fit_transform(values_of_seq)  \n",
    "print(integer_encoded)  \n",
    "# Now doing binary encode  \n",
    "onehot_encoder = OneHotEncoder(sparse=False)  \n",
    "integer_encoded = integer_encoded.reshape(len(integer_encoded), 1)  \n",
    "onehot_encoded = onehot_encoder.fit_transform(integer_encoded)  \n",
    "print(onehot_encoded)  "
   ]
  },
  {
   "cell_type": "code",
   "execution_count": 11,
   "id": "5956fb72",
   "metadata": {},
   "outputs": [],
   "source": [
    "#One Hot Encoding with Keras"
   ]
  },
  {
   "cell_type": "code",
   "execution_count": 12,
   "id": "05b87a6f",
   "metadata": {},
   "outputs": [
    {
     "name": "stdout",
     "output_type": "stream",
     "text": [
      "[1 4 3 3 0 3 2 2 4 0 1 2 1 4 3]\n",
      "[[0. 1. 0. 0. 0.]\n",
      " [0. 0. 0. 0. 1.]\n",
      " [0. 0. 0. 1. 0.]\n",
      " [0. 0. 0. 1. 0.]\n",
      " [1. 0. 0. 0. 0.]\n",
      " [0. 0. 0. 1. 0.]\n",
      " [0. 0. 1. 0. 0.]\n",
      " [0. 0. 1. 0. 0.]\n",
      " [0. 0. 0. 0. 1.]\n",
      " [1. 0. 0. 0. 0.]\n",
      " [0. 1. 0. 0. 0.]\n",
      " [0. 0. 1. 0. 0.]\n",
      " [0. 1. 0. 0. 0.]\n",
      " [0. 0. 0. 0. 1.]\n",
      " [0. 0. 0. 1. 0.]]\n",
      "1\n"
     ]
    }
   ],
   "source": [
    "from numpy import array  \n",
    "from numpy import argmax  \n",
    "from keras.utils import to_categorical  \n",
    "# define example  \n",
    "data_1 = [1, 4, 3, 3, 0, 3, 2, 2, 4, 0, 1, 2, 1, 4, 3]  \n",
    "data = array(data_1)  \n",
    "print(data)  \n",
    "# one hot encoding using the to_categorical() method  \n",
    "encoded = to_categorical(data)  \n",
    "print(encoded)  \n",
    "# invert encoding  \n",
    "inverted = argmax(encoded[0])  \n",
    "print(inverted)  "
   ]
  },
  {
   "cell_type": "code",
   "execution_count": null,
   "id": "15872421",
   "metadata": {},
   "outputs": [],
   "source": []
  },
  {
   "cell_type": "code",
   "execution_count": null,
   "id": "fa585727",
   "metadata": {},
   "outputs": [],
   "source": []
  },
  {
   "cell_type": "code",
   "execution_count": null,
   "id": "7be92c96",
   "metadata": {},
   "outputs": [],
   "source": []
  },
  {
   "cell_type": "code",
   "execution_count": null,
   "id": "7b4cbe0f",
   "metadata": {},
   "outputs": [],
   "source": []
  }
 ],
 "metadata": {
  "kernelspec": {
   "display_name": "Python 3 (ipykernel)",
   "language": "python",
   "name": "python3"
  },
  "language_info": {
   "codemirror_mode": {
    "name": "ipython",
    "version": 3
   },
   "file_extension": ".py",
   "mimetype": "text/x-python",
   "name": "python",
   "nbconvert_exporter": "python",
   "pygments_lexer": "ipython3",
   "version": "3.10.9"
  }
 },
 "nbformat": 4,
 "nbformat_minor": 5
}
